{
 "cells": [
  {
   "cell_type": "markdown",
   "metadata": {},
   "source": [
    "- 首先Withtest(\"zgl\"),如果这里出错，上下文管理器是管理不到的，始终会报错，除非再外层加try/except \n",
    "- 然后进入__enter__， 要return self 否则f接受到的是None类型\n",
    "- 然后开始执行，上下文里面的内容，对于里面的变量赋值，外层函数也可以用，比如a =1 在最外层也是可以用的\n",
    "- 如果报错，立刻进入__exit__， exc_type返回的异常类型， exc_val返回的是异常信息， exc_tb返回的是异常栈\n",
    "- 如果__exit__返回True，则不报错，进行控制，编译器不发出异常，如果不返回True，则编译器仍然报错\n",
    "- 之后不在执行后面的代码，推出上下文管理"
   ]
  },
  {
   "cell_type": "code",
   "execution_count": 1,
   "metadata": {
    "execution": {
     "iopub.execute_input": "2021-01-25T05:50:37.179000Z",
     "iopub.status.busy": "2021-01-25T05:50:37.178686Z",
     "iopub.status.idle": "2021-01-25T05:50:37.191152Z",
     "shell.execute_reply": "2021-01-25T05:50:37.190058Z",
     "shell.execute_reply.started": "2021-01-25T05:50:37.178927Z"
    }
   },
   "outputs": [],
   "source": [
    "class WithTest:\n",
    "    def __init__(self, name):\n",
    "        print(\"这里是初始化\")\n",
    "        self.name = name\n",
    "    def __enter__(self):\n",
    "        print(\"这里是%s的enter\" % self.name)\n",
    "        return self\n",
    "    def __exit__(self, exc_type, exc_val, exc_tb):\n",
    "        print(\"这里是%s的exit\" % self.name)\n",
    "        print(\"exc_type\", exc_type)\n",
    "        print(\"exc_val\", exc_val)\n",
    "        print(\"exc_tb\", exc_tb)\n",
    "        return True"
   ]
  },
  {
   "cell_type": "code",
   "execution_count": 2,
   "metadata": {
    "execution": {
     "iopub.execute_input": "2021-01-25T05:50:53.597098Z",
     "iopub.status.busy": "2021-01-25T05:50:53.596808Z",
     "iopub.status.idle": "2021-01-25T05:50:53.602822Z",
     "shell.execute_reply": "2021-01-25T05:50:53.601435Z",
     "shell.execute_reply.started": "2021-01-25T05:50:53.597065Z"
    }
   },
   "outputs": [
    {
     "name": "stdout",
     "output_type": "stream",
     "text": [
      "这里是初始化\n",
      "这里是zgl的enter\n",
      "zgl\n",
      "这里是zgl的exit\n",
      "exc_type None\n",
      "exc_val None\n",
      "exc_tb None\n"
     ]
    }
   ],
   "source": [
    "with WithTest(\"zgl\") as f:\n",
    "    print(f.name)"
   ]
  },
  {
   "cell_type": "code",
   "execution_count": null,
   "metadata": {},
   "outputs": [],
   "source": []
  }
 ],
 "metadata": {
  "kernelspec": {
   "display_name": "Python [conda env:python3.7.3_dev] *",
   "language": "python",
   "name": "conda-env-python3.7.3_dev-py"
  },
  "language_info": {
   "codemirror_mode": {
    "name": "ipython",
    "version": 3
   },
   "file_extension": ".py",
   "mimetype": "text/x-python",
   "name": "python",
   "nbconvert_exporter": "python",
   "pygments_lexer": "ipython3",
   "version": "3.7.3"
  },
  "widgets": {
   "application/vnd.jupyter.widget-state+json": {
    "state": {},
    "version_major": 2,
    "version_minor": 0
   }
  }
 },
 "nbformat": 4,
 "nbformat_minor": 4
}
