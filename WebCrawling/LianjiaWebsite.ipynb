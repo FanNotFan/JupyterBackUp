{
 "cells": [
  {
   "cell_type": "code",
   "execution_count": 27,
   "metadata": {},
   "outputs": [],
   "source": [
    "# 导入关联库\n",
    "import requests\n",
    "from bs4 import BeautifulSoup\n",
    "import xlwings as xw\n",
    "import time\n",
    "import re"
   ]
  },
  {
   "cell_type": "code",
   "execution_count": 28,
   "metadata": {},
   "outputs": [],
   "source": [
    "# 创建Excel文件，并命名标题行\n",
    "def get_wb():\n",
    "    wb = xw.Book()\n",
    "    sht = wb.sheets[0]\n",
    "    sht.range('A1').value = '房源名称'\n",
    "    sht.range('B1').value = '价格'\n",
    "    sht.range('C1').value = '租赁方式'\n",
    "    sht.range('D1').value = '房屋类型'\n",
    "    sht.range('E1').value = '房屋面积'\n",
    "    sht.range('F1').value = '房屋朝向'\n",
    "    sht.range('G1').value = '发布时间'\n",
    "    sht.range('H1').value = '入住时间'\n",
    "    sht.range('I1').value = '租期'\n",
    "    sht.range('J1').value = '看房'\n",
    "    sht.range('K1').value = '楼层'\n",
    "    sht.range('L1').value = '电梯'\n",
    "    sht.range('M1').value = '车位'\n",
    "    sht.range('N1').value = '用水'\n",
    "    sht.range('O1').value = '用电'\n",
    "    sht.range('P1').value = '燃气'\n",
    "    sht.range('Q1').value = '采暖'\n",
    "    sht.range('R1').value = '地铁'\n",
    "    sht.range('S1').value = '经纪人'\n",
    "    sht.range('T1').value = '联系电话'\n",
    "    return wb"
   ]
  },
  {
   "cell_type": "code",
   "execution_count": 29,
   "metadata": {},
   "outputs": [],
   "source": [
    "header = {\n",
    "    'User-Agent': 'Mozilla/5.0 (Windows NT 6.1; Win64; x64) AppleWebKit/537.36 (KHTML, like Gecko) Chrome/xxxxxxxxx Safari/537.36'}\n",
    "\n",
    "# 深圳域\n",
    "WEBSITE_DOMAIN = 'https://sz.lianjia.com'"
   ]
  },
  {
   "cell_type": "code",
   "execution_count": 30,
   "metadata": {},
   "outputs": [],
   "source": [
    "# 构造爬取网页链接的函数\n",
    "def get_html(url, pages):\n",
    "    res = requests.get(url, headers=header)\n",
    "    bsobj = BeautifulSoup(res.text, 'lxml')\n",
    "    urls = bsobj.select('.content__list--item > a')\n",
    "\n",
    "    location = 2\n",
    "    for url in urls:\n",
    "        url = url.get('href')\n",
    "        if 'apartment' in url:\n",
    "            continue\n",
    "        url = (WEBSITE_DOMAIN + '{}').format(url)\n",
    "        print('crawler url = ' + url)\n",
    "        get_info(url, location, page=pages)\n",
    "        location += 1"
   ]
  },
  {
   "cell_type": "code",
   "execution_count": 31,
   "metadata": {},
   "outputs": [],
   "source": [
    "# 构造爬取详细网页网页信息的函数\n",
    "def get_info(url, location, page=0):\n",
    "    res = requests.get(url, headers=header)\n",
    "    bsobj = BeautifulSoup(res.text, 'lxml')\n",
    "\n",
    "    # title\n",
    "    title = bsobj.find('p', {'class': 'content__title'}).get_text().replace(' ', '') if bsobj.find('p', {\n",
    "        'class': 'content__title'}) is not None else 0\n",
    "    # 价格\n",
    "    price = ''\n",
    "    for child in bsobj.find('p', {'class': 'content__aside--title'}).children:\n",
    "        price += child.string\n",
    "    price = re.findall(\"\\d+\", price)\n",
    "\n",
    "    # 租赁方式\n",
    "    rentalMethod = bsobj.find('p', {'class': 'content__article__table'}).find_all('span')[0].get_text() if bsobj.find(\n",
    "        'p', {'class': 'content__article__table'}) is not None else 0\n",
    "    # 房屋类型\n",
    "    house_type = bsobj.find('p', {'class': 'content__article__table'}).find_all('span')[1].get_text()\n",
    "    # 房屋面积\n",
    "    area = bsobj.find('p', {'class': 'content__article__table'}).find_all('span')[2].get_text()\n",
    "    area = re.findall(\"\\d+\", area)\n",
    "    # 房屋朝向\n",
    "    houseOrientation = bsobj.find('p', {'class': 'content__article__table'}).find_all('span')[3].get_text()\n",
    "    # 发布时间\n",
    "    publishTime = bsobj.find_all('li', {'class': 'fl oneline'})[1].get_text().split('：')[1]\n",
    "    # 入住时间\n",
    "    checkInTime = bsobj.find_all('li', {'class': 'fl oneline'})[2].get_text().split('：')[1]\n",
    "    # 租期\n",
    "    leasePeriod = bsobj.find_all('li', {'class': 'fl oneline'})[4].get_text().split('：')[1]\n",
    "    # 看房\n",
    "    lookHouse = bsobj.find_all('li', {'class': 'fl oneline'})[5].get_text().split('：')[1]\n",
    "    # 楼层\n",
    "    floorOfHouse = bsobj.find_all('li', {'class': 'fl oneline'})[7].get_text().split('：')[1]\n",
    "    # 电梯\n",
    "    elevator = bsobj.find_all('li', {'class': 'fl oneline'})[8].get_text().split('：')[1]\n",
    "    # 车位\n",
    "    parkSpace = bsobj.find_all('li', {'class': 'fl oneline'})[10].get_text().split('：')[1]\n",
    "    # 用水\n",
    "    useWater = bsobj.find_all('li', {'class': 'fl oneline'})[11].get_text().split('：')[1]\n",
    "    # 用电\n",
    "    electricity = bsobj.find_all('li', {'class': 'fl oneline'})[13].get_text().split('：')[1]\n",
    "    # 燃气\n",
    "    gas = bsobj.find_all('li', {'class': 'fl oneline'})[14].get_text().split('：')[1]\n",
    "    # 采暖\n",
    "    heating = bsobj.find_all('li', {'class': 'fl oneline'})[16].get_text().split('：')[1]\n",
    "    # 地铁\n",
    "    subwayHouse = bsobj.find('i', {'class': 'content__item__tag--is_subway_house'}).get_text().strip()\n",
    "    # 经纪人\n",
    "#     broker = bsobj.find('p', {'class': 'content__aside__list--subtitle oneline'}).get_text().strip().replace(' ', '')\n",
    "    # 联系电话\n",
    "#     phone = bsobj.find_all('p', {'class': 'content__aside__list--bottom oneline'})[0].get_text()\n",
    "\n",
    "    rowNumber = page * 30 + location\n",
    "   # 存储数据到Excel中\n",
    "    xw = get_wb()\n",
    "    xw.Range((rowNumber, 1)).value = title\n",
    "    xw.Range((rowNumber, 2)).value = price\n",
    "    xw.Range((rowNumber, 3)).value = rentalMethod\n",
    "    xw.Range((rowNumber, 4)).value = house_type\n",
    "    xw.Range((rowNumber, 5)).value = area\n",
    "    xw.Range((rowNumber, 6)).value = houseOrientation\n",
    "    xw.Range((rowNumber, 7)).value = publishTime\n",
    "    xw.Range((rowNumber, 8)).value = checkInTime\n",
    "    xw.Range((rowNumber, 9)).value = leasePeriod\n",
    "    xw.Range((rowNumber, 10)).value = lookHouse\n",
    "    xw.Range((rowNumber, 11)).value = floorOfHouse\n",
    "    xw.Range((rowNumber, 12)).value = elevator\n",
    "    xw.Range((rowNumber, 13)).value = parkSpace\n",
    "    xw.Range((rowNumber, 14)).value = useWater\n",
    "    xw.Range((rowNumber, 15)).value = electricity\n",
    "    xw.Range((rowNumber, 16)).value = gas\n",
    "    xw.Range((rowNumber, 17)).value = heating\n",
    "    xw.Range((rowNumber, 18)).value = subwayHouse\n",
    "#     xw.Range((rowNumber, 19)).value = broker\n",
    "#     xw.Range((rowNumber, 20)).value = phone"
   ]
  },
  {
   "cell_type": "code",
   "execution_count": 32,
   "metadata": {},
   "outputs": [
    {
     "name": "stdout",
     "output_type": "stream",
     "text": [
      "crawler url = https://sz.lianjia.com/zufang/SZ2206491237328879616.html\n"
     ]
    },
    {
     "ename": "AttributeError",
     "evalue": "'Book' object has no attribute 'Range'",
     "output_type": "error",
     "traceback": [
      "\u001b[0;31m---------------------------------------------------------------------------\u001b[0m",
      "\u001b[0;31mAttributeError\u001b[0m                            Traceback (most recent call last)",
      "\u001b[0;32m<ipython-input-32-55796ba9d50b>\u001b[0m in \u001b[0;36m<module>\u001b[0;34m\u001b[0m\n\u001b[1;32m      3\u001b[0m     \u001b[0murls\u001b[0m \u001b[0;34m=\u001b[0m \u001b[0;34m[\u001b[0m\u001b[0mWEBSITE_DOMAIN\u001b[0m \u001b[0;34m+\u001b[0m \u001b[0;34m'/zufang/pg{}'\u001b[0m\u001b[0;34m.\u001b[0m\u001b[0mformat\u001b[0m\u001b[0;34m(\u001b[0m\u001b[0mi\u001b[0m\u001b[0;34m)\u001b[0m \u001b[0;32mfor\u001b[0m \u001b[0mi\u001b[0m \u001b[0;32min\u001b[0m \u001b[0mrange\u001b[0m\u001b[0;34m(\u001b[0m\u001b[0;36m1\u001b[0m\u001b[0;34m,\u001b[0m \u001b[0;36m101\u001b[0m\u001b[0;34m)\u001b[0m\u001b[0;34m]\u001b[0m\u001b[0;34m\u001b[0m\u001b[0;34m\u001b[0m\u001b[0m\n\u001b[1;32m      4\u001b[0m     \u001b[0;32mfor\u001b[0m \u001b[0mi\u001b[0m\u001b[0;34m,\u001b[0m \u001b[0murl\u001b[0m \u001b[0;32min\u001b[0m \u001b[0menumerate\u001b[0m\u001b[0;34m(\u001b[0m\u001b[0murls\u001b[0m\u001b[0;34m)\u001b[0m\u001b[0;34m:\u001b[0m\u001b[0;34m\u001b[0m\u001b[0;34m\u001b[0m\u001b[0m\n\u001b[0;32m----> 5\u001b[0;31m         \u001b[0mget_html\u001b[0m\u001b[0;34m(\u001b[0m\u001b[0murl\u001b[0m\u001b[0;34m,\u001b[0m \u001b[0mi\u001b[0m\u001b[0;34m)\u001b[0m\u001b[0;34m\u001b[0m\u001b[0;34m\u001b[0m\u001b[0m\n\u001b[0m\u001b[1;32m      6\u001b[0m         \u001b[0mtime\u001b[0m\u001b[0;34m.\u001b[0m\u001b[0msleep\u001b[0m\u001b[0;34m(\u001b[0m\u001b[0;36m1\u001b[0m\u001b[0;34m)\u001b[0m\u001b[0;34m\u001b[0m\u001b[0;34m\u001b[0m\u001b[0m\n\u001b[1;32m      7\u001b[0m     \u001b[0mwb\u001b[0m\u001b[0;34m.\u001b[0m\u001b[0msave\u001b[0m\u001b[0;34m(\u001b[0m\u001b[0;34m'lianjia_sz_zufang.xlsx'\u001b[0m\u001b[0;34m)\u001b[0m\u001b[0;34m\u001b[0m\u001b[0;34m\u001b[0m\u001b[0m\n",
      "\u001b[0;32m<ipython-input-30-a57a10f1c2e7>\u001b[0m in \u001b[0;36mget_html\u001b[0;34m(url, pages)\u001b[0m\n\u001b[1;32m     12\u001b[0m         \u001b[0murl\u001b[0m \u001b[0;34m=\u001b[0m \u001b[0;34m(\u001b[0m\u001b[0mWEBSITE_DOMAIN\u001b[0m \u001b[0;34m+\u001b[0m \u001b[0;34m'{}'\u001b[0m\u001b[0;34m)\u001b[0m\u001b[0;34m.\u001b[0m\u001b[0mformat\u001b[0m\u001b[0;34m(\u001b[0m\u001b[0murl\u001b[0m\u001b[0;34m)\u001b[0m\u001b[0;34m\u001b[0m\u001b[0;34m\u001b[0m\u001b[0m\n\u001b[1;32m     13\u001b[0m         \u001b[0mprint\u001b[0m\u001b[0;34m(\u001b[0m\u001b[0;34m'crawler url = '\u001b[0m \u001b[0;34m+\u001b[0m \u001b[0murl\u001b[0m\u001b[0;34m)\u001b[0m\u001b[0;34m\u001b[0m\u001b[0;34m\u001b[0m\u001b[0m\n\u001b[0;32m---> 14\u001b[0;31m         \u001b[0mget_info\u001b[0m\u001b[0;34m(\u001b[0m\u001b[0murl\u001b[0m\u001b[0;34m,\u001b[0m \u001b[0mlocation\u001b[0m\u001b[0;34m,\u001b[0m \u001b[0mpage\u001b[0m\u001b[0;34m=\u001b[0m\u001b[0mpages\u001b[0m\u001b[0;34m)\u001b[0m\u001b[0;34m\u001b[0m\u001b[0;34m\u001b[0m\u001b[0m\n\u001b[0m\u001b[1;32m     15\u001b[0m         \u001b[0mlocation\u001b[0m \u001b[0;34m+=\u001b[0m \u001b[0;36m1\u001b[0m\u001b[0;34m\u001b[0m\u001b[0;34m\u001b[0m\u001b[0m\n",
      "\u001b[0;32m<ipython-input-31-91952293b105>\u001b[0m in \u001b[0;36mget_info\u001b[0;34m(url, location, page)\u001b[0m\n\u001b[1;32m     55\u001b[0m    \u001b[0;31m# 存储数据到Excel中\u001b[0m\u001b[0;34m\u001b[0m\u001b[0;34m\u001b[0m\u001b[0;34m\u001b[0m\u001b[0m\n\u001b[1;32m     56\u001b[0m     \u001b[0mxw\u001b[0m \u001b[0;34m=\u001b[0m \u001b[0mget_wb\u001b[0m\u001b[0;34m(\u001b[0m\u001b[0;34m)\u001b[0m\u001b[0;34m\u001b[0m\u001b[0;34m\u001b[0m\u001b[0m\n\u001b[0;32m---> 57\u001b[0;31m     \u001b[0mxw\u001b[0m\u001b[0;34m.\u001b[0m\u001b[0mRange\u001b[0m\u001b[0;34m(\u001b[0m\u001b[0;34m(\u001b[0m\u001b[0mrowNumber\u001b[0m\u001b[0;34m,\u001b[0m \u001b[0;36m1\u001b[0m\u001b[0;34m)\u001b[0m\u001b[0;34m)\u001b[0m\u001b[0;34m.\u001b[0m\u001b[0mvalue\u001b[0m \u001b[0;34m=\u001b[0m \u001b[0mtitle\u001b[0m\u001b[0;34m\u001b[0m\u001b[0;34m\u001b[0m\u001b[0m\n\u001b[0m\u001b[1;32m     58\u001b[0m     \u001b[0mxw\u001b[0m\u001b[0;34m.\u001b[0m\u001b[0mRange\u001b[0m\u001b[0;34m(\u001b[0m\u001b[0;34m(\u001b[0m\u001b[0mrowNumber\u001b[0m\u001b[0;34m,\u001b[0m \u001b[0;36m2\u001b[0m\u001b[0;34m)\u001b[0m\u001b[0;34m)\u001b[0m\u001b[0;34m.\u001b[0m\u001b[0mvalue\u001b[0m \u001b[0;34m=\u001b[0m \u001b[0mprice\u001b[0m\u001b[0;34m\u001b[0m\u001b[0;34m\u001b[0m\u001b[0m\n\u001b[1;32m     59\u001b[0m     \u001b[0mxw\u001b[0m\u001b[0;34m.\u001b[0m\u001b[0mRange\u001b[0m\u001b[0;34m(\u001b[0m\u001b[0;34m(\u001b[0m\u001b[0mrowNumber\u001b[0m\u001b[0;34m,\u001b[0m \u001b[0;36m3\u001b[0m\u001b[0;34m)\u001b[0m\u001b[0;34m)\u001b[0m\u001b[0;34m.\u001b[0m\u001b[0mvalue\u001b[0m \u001b[0;34m=\u001b[0m \u001b[0mrentalMethod\u001b[0m\u001b[0;34m\u001b[0m\u001b[0;34m\u001b[0m\u001b[0m\n",
      "\u001b[0;31mAttributeError\u001b[0m: 'Book' object has no attribute 'Range'"
     ]
    }
   ],
   "source": [
    "# 运行程序\n",
    "if __name__ == '__main__':\n",
    "    urls = [WEBSITE_DOMAIN + '/zufang/pg{}'.format(i) for i in range(1, 101)]\n",
    "    for i, url in enumerate(urls):\n",
    "        get_html(url, i)\n",
    "        time.sleep(1)\n",
    "    wb.save('lianjia_sz_zufang.xlsx')\n",
    "    wb.close()"
   ]
  }
 ],
 "metadata": {
  "kernelspec": {
   "display_name": "Python [conda env:python3.7.3_dev] *",
   "language": "python",
   "name": "conda-env-python3.7.3_dev-py"
  },
  "language_info": {
   "codemirror_mode": {
    "name": "ipython",
    "version": 3
   },
   "file_extension": ".py",
   "mimetype": "text/x-python",
   "name": "python",
   "nbconvert_exporter": "python",
   "pygments_lexer": "ipython3",
   "version": "3.7.3"
  }
 },
 "nbformat": 4,
 "nbformat_minor": 2
}
