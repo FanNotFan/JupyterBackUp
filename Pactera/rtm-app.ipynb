{
 "cells": [
  {
   "cell_type": "code",
   "execution_count": 2,
   "metadata": {},
   "outputs": [],
   "source": [
    "import pandas as pd\n",
    "import numpy as np\n",
    "import re\n",
    "from sklearn.preprocessing import MultiLabelBinarizer\n",
    "from sklearn.preprocessing import MinMaxScaler\n",
    "import scipy.spatial.distance as dis\n",
    "from scipy.ndimage import filters\n",
    "from sklearn.feature_extraction.text import CountVectorizer\n",
    "import gc"
   ]
  },
  {
   "cell_type": "code",
   "execution_count": 3,
   "metadata": {},
   "outputs": [],
   "source": [
    "def getDistance(abp_df,level):\n",
    "    try:\n",
    "        col_cfg = pd.DataFrame(\n",
    "                    np.array(\n",
    "                        [['BedType','Dice',1],\n",
    "                         ['RoomSize','cityblock',0.5],\n",
    "                         ['RoomView','Dice',1],\n",
    "                         ['Breakfast','Dice',1]\n",
    "                       ]),\n",
    "                    columns = ['name','algo','weight'])\n",
    "        col_cfg = col_cfg.set_index('name')\n",
    "\n",
    "        rows = abp_df.drop(['HotelID','HotelName','RoomTypeID','RoomName','Price','RatePlanID'], axis=1)\n",
    "\n",
    "        rows['RoomSize'] = rows['RoomSize'].apply(lambda x:re.search(\"([0-9])+\",str(x)).group(0))\n",
    "\n",
    "        d_list = []\n",
    "\n",
    "        for c in rows.columns:\n",
    "            algo = col_cfg.loc[c]['algo']\n",
    "            if algo == 'Dice':\n",
    "                one_hot = MultiLabelBinarizer()\n",
    "                d_list.append(pd.DataFrame(dis.pdist(one_hot.fit_transform(rows[c].apply(lambda x:tuple(str(x).split(',')))),algo)))\n",
    "            elif algo == 'cityblock':\n",
    "                ud = dis.pdist(rows[c].values.reshape(-1,1),algo).reshape(-1,1)\n",
    "                scaler = MinMaxScaler()\n",
    "                scaler.fit(ud)\n",
    "                d_list.append(pd.DataFrame(scaler.transform(ud)))\n",
    "            elif algo == 'ngram':\n",
    "                corpus = rows[c]\n",
    "                v = CountVectorizer(ngram_range=(1, 3), binary = True, lowercase = True)\n",
    "                d_list.append(pd.DataFrame(dis.pdist(v.fit_transform(corpus).toarray(),'Dice')))\n",
    "            else:\n",
    "                print('error')\n",
    "\n",
    "        dm = pd.concat(d_list, ignore_index=True, axis=1)\n",
    "        dm.columns = rows.columns\n",
    "\n",
    "        d_weight = col_cfg['weight'].values.astype(np.float)\n",
    "        test = dm.values * d_weight\n",
    "        ag1 = (dm.values * d_weight).mean(axis=1)\n",
    "        ag1_sq = dis.squareform(ag1)\n",
    "        gaussian_filter(ag1_sq)\n",
    "        np.fill_diagonal(ag1_sq,1)\n",
    "\n",
    "\n",
    "\n",
    "    #     ag1_sq[ag1_sq==0] = 1\n",
    "        distance_df = pd.DataFrame(ag1_sq)\n",
    "        print(distance_df)\n",
    "        result = []\n",
    "        for row_index, row in distance_df.iterrows():\n",
    "            for col_index,distance in row.iteritems():\n",
    "                if distance < level:\n",
    "                    result.append([str(abp_df.loc[row_index].RatePlanID),str(abp_df.loc[col_index].RatePlanID),distance])\n",
    "        return pd.DataFrame(np.array(result),columns=['root','child','distance'])\n",
    "    except ValueError as e:\n",
    "        print(e)\n",
    "        raise Exception(\"Calculate failed!\")"
   ]
  },
  {
   "cell_type": "code",
   "execution_count": null,
   "metadata": {},
   "outputs": [],
   "source": []
  }
 ],
 "metadata": {
  "kernelspec": {
   "display_name": "Python [conda env:python3.7.3_dev] *",
   "language": "python",
   "name": "conda-env-python3.7.3_dev-py"
  },
  "language_info": {
   "codemirror_mode": {
    "name": "ipython",
    "version": 3
   },
   "file_extension": ".py",
   "mimetype": "text/x-python",
   "name": "python",
   "nbconvert_exporter": "python",
   "pygments_lexer": "ipython3",
   "version": "3.7.3"
  }
 },
 "nbformat": 4,
 "nbformat_minor": 2
}
