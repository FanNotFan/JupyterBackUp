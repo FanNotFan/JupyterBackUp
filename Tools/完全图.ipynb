{
 "cells": [
  {
   "cell_type": "code",
   "execution_count": 5,
   "metadata": {
    "execution": {
     "iopub.execute_input": "2021-02-04T07:14:38.167888Z",
     "iopub.status.busy": "2021-02-04T07:14:38.167337Z",
     "iopub.status.idle": "2021-02-04T07:14:38.172710Z",
     "shell.execute_reply": "2021-02-04T07:14:38.171550Z",
     "shell.execute_reply.started": "2021-02-04T07:14:38.167849Z"
    }
   },
   "outputs": [],
   "source": [
    "import networkx as nx\n",
    "import numpy as np\n",
    "import itertools"
   ]
  },
  {
   "cell_type": "code",
   "execution_count": 3,
   "metadata": {
    "execution": {
     "iopub.execute_input": "2021-02-04T07:14:10.629138Z",
     "iopub.status.busy": "2021-02-04T07:14:10.628890Z",
     "iopub.status.idle": "2021-02-04T07:14:10.632759Z",
     "shell.execute_reply": "2021-02-04T07:14:10.631878Z",
     "shell.execute_reply.started": "2021-02-04T07:14:10.629112Z"
    }
   },
   "outputs": [],
   "source": [
    "def findsubsets(S, m):\n",
    "    return set(itertools.combinations(S, m))"
   ]
  },
  {
   "cell_type": "code",
   "execution_count": 6,
   "metadata": {
    "execution": {
     "iopub.execute_input": "2021-02-04T07:14:42.465179Z",
     "iopub.status.busy": "2021-02-04T07:14:42.464890Z",
     "iopub.status.idle": "2021-02-04T07:14:42.471351Z",
     "shell.execute_reply": "2021-02-04T07:14:42.470347Z",
     "shell.execute_reply.started": "2021-02-04T07:14:42.465151Z"
    }
   },
   "outputs": [],
   "source": [
    "A = np.array([[0, 1, 1, 0, 0],\n",
    "              [1, 0, 1, 0, 0],\n",
    "              [1, 1, 0, 1, 0],\n",
    "              [0, 0, 1, 0, 1],\n",
    "              [0, 0, 0, 1, 0]])"
   ]
  },
  {
   "cell_type": "code",
   "execution_count": 35,
   "metadata": {
    "execution": {
     "iopub.execute_input": "2021-02-04T08:27:41.314611Z",
     "iopub.status.busy": "2021-02-04T08:27:41.314207Z",
     "iopub.status.idle": "2021-02-04T08:27:41.321142Z",
     "shell.execute_reply": "2021-02-04T08:27:41.320082Z",
     "shell.execute_reply.started": "2021-02-04T08:27:41.314562Z"
    }
   },
   "outputs": [
    {
     "data": {
      "text/plain": [
       "<networkx.classes.graph.Graph at 0x7f8192283be0>"
      ]
     },
     "execution_count": 35,
     "metadata": {},
     "output_type": "execute_result"
    }
   ],
   "source": [
    "G = nx.from_numpy_matrix(A)"
   ]
  },
  {
   "cell_type": "code",
   "execution_count": 16,
   "metadata": {
    "execution": {
     "iopub.execute_input": "2021-02-04T07:21:03.848372Z",
     "iopub.status.busy": "2021-02-04T07:21:03.848129Z",
     "iopub.status.idle": "2021-02-04T07:21:03.855682Z",
     "shell.execute_reply": "2021-02-04T07:21:03.853491Z",
     "shell.execute_reply.started": "2021-02-04T07:21:03.848347Z"
    }
   },
   "outputs": [
    {
     "name": "stdout",
     "output_type": "stream",
     "text": [
      "5\n"
     ]
    }
   ],
   "source": [
    "M = int(np.sqrt(np.size(A)))\n",
    "print(M)"
   ]
  },
  {
   "cell_type": "code",
   "execution_count": 17,
   "metadata": {
    "execution": {
     "iopub.execute_input": "2021-02-04T07:21:05.498603Z",
     "iopub.status.busy": "2021-02-04T07:21:05.498318Z",
     "iopub.status.idle": "2021-02-04T07:21:05.506430Z",
     "shell.execute_reply": "2021-02-04T07:21:05.505207Z",
     "shell.execute_reply.started": "2021-02-04T07:21:05.498573Z"
    }
   },
   "outputs": [
    {
     "name": "stdout",
     "output_type": "stream",
     "text": [
      "[0, 1]\n",
      "[1, 2]\n",
      "[2, 3]\n",
      "[3, 4]\n",
      "[0, 2]\n",
      "[0, 1, 2]\n"
     ]
    }
   ],
   "source": [
    "for m in range(2, M+1):\n",
    "    for a in findsubsets(range(0, M), m):\n",
    "        if(nx.number_of_edges(G.subgraph(a)) == (m**2 - m)/2.):\n",
    "            print(nx.nodes(G.subgraph(a)))"
   ]
  },
  {
   "cell_type": "code",
   "execution_count": 18,
   "metadata": {
    "execution": {
     "iopub.execute_input": "2021-02-04T07:35:43.734769Z",
     "iopub.status.busy": "2021-02-04T07:35:43.734522Z",
     "iopub.status.idle": "2021-02-04T07:35:43.750134Z",
     "shell.execute_reply": "2021-02-04T07:35:43.749236Z",
     "shell.execute_reply.started": "2021-02-04T07:35:43.734742Z"
    }
   },
   "outputs": [
    {
     "data": {
      "text/plain": [
       "[[0, 1], [0, 2], [1, 2], [2, 3], [3, 4], [0, 1, 2]]"
      ]
     },
     "execution_count": 18,
     "metadata": {},
     "output_type": "execute_result"
    }
   ],
   "source": [
    "[s for s in nx.enumerate_all_cliques(G) if len(s) > 1]"
   ]
  },
  {
   "cell_type": "code",
   "execution_count": 28,
   "metadata": {
    "execution": {
     "iopub.execute_input": "2021-02-04T08:19:45.609868Z",
     "iopub.status.busy": "2021-02-04T08:19:45.609496Z",
     "iopub.status.idle": "2021-02-04T08:19:45.618049Z",
     "shell.execute_reply": "2021-02-04T08:19:45.616849Z",
     "shell.execute_reply.started": "2021-02-04T08:19:45.609808Z"
    }
   },
   "outputs": [
    {
     "data": {
      "text/plain": [
       "[[1, 2, 0]]"
      ]
     },
     "execution_count": 28,
     "metadata": {},
     "output_type": "execute_result"
    }
   ],
   "source": [
    "[c for c in nx.cycle_basis(G) if len(c)]"
   ]
  },
  {
   "cell_type": "code",
   "execution_count": 41,
   "metadata": {
    "execution": {
     "iopub.execute_input": "2021-02-04T08:47:59.071117Z",
     "iopub.status.busy": "2021-02-04T08:47:59.070732Z",
     "iopub.status.idle": "2021-02-04T08:47:59.078082Z",
     "shell.execute_reply": "2021-02-04T08:47:59.076886Z",
     "shell.execute_reply.started": "2021-02-04T08:47:59.071085Z"
    }
   },
   "outputs": [
    {
     "data": {
      "text/plain": [
       "[(0, 1), (1, 2), (2, 0)]"
      ]
     },
     "execution_count": 41,
     "metadata": {},
     "output_type": "execute_result"
    }
   ],
   "source": [
    "[c for c in nx.find_cycle(G) if len(c)>0]"
   ]
  },
  {
   "cell_type": "code",
   "execution_count": 36,
   "metadata": {
    "execution": {
     "iopub.execute_input": "2021-02-04T08:38:19.281161Z",
     "iopub.status.busy": "2021-02-04T08:38:19.280818Z",
     "iopub.status.idle": "2021-02-04T08:38:19.287366Z",
     "shell.execute_reply": "2021-02-04T08:38:19.286431Z",
     "shell.execute_reply.started": "2021-02-04T08:38:19.281127Z"
    }
   },
   "outputs": [
    {
     "data": {
      "text/plain": [
       "{(0, 1): 1, (0, 2): 1, (1, 2): 1, (2, 3): 1, (3, 4): 1}"
      ]
     },
     "execution_count": 36,
     "metadata": {},
     "output_type": "execute_result"
    }
   ],
   "source": [
    "nx.get_edge_attributes(G,'weight')"
   ]
  },
  {
   "cell_type": "code",
   "execution_count": 42,
   "metadata": {
    "execution": {
     "iopub.execute_input": "2021-02-04T08:52:31.192237Z",
     "iopub.status.busy": "2021-02-04T08:52:31.191977Z",
     "iopub.status.idle": "2021-02-04T08:52:31.200511Z",
     "shell.execute_reply": "2021-02-04T08:52:31.199146Z",
     "shell.execute_reply.started": "2021-02-04T08:52:31.192210Z"
    }
   },
   "outputs": [
    {
     "data": {
      "text/plain": [
       "[(0, 1), (1, 2), (2, 0)]"
      ]
     },
     "execution_count": 42,
     "metadata": {},
     "output_type": "execute_result"
    }
   ],
   "source": [
    "B = np.array([[False, True, True, False, False],\n",
    "              [True, False, True, False, False],\n",
    "              [True, True, False, True, False],\n",
    "              [False, False, True, False, True],\n",
    "              [False, False, False, True, False]])\n",
    "C = nx.from_numpy_matrix(B)\n",
    "[c for c in nx.find_cycle(C) if len(c)>0]"
   ]
  },
  {
   "cell_type": "code",
   "execution_count": null,
   "metadata": {},
   "outputs": [],
   "source": []
  }
 ],
 "metadata": {
  "kernelspec": {
   "display_name": "Python [conda env:python3.7.3_dev] *",
   "language": "python",
   "name": "conda-env-python3.7.3_dev-py"
  },
  "language_info": {
   "codemirror_mode": {
    "name": "ipython",
    "version": 3
   },
   "file_extension": ".py",
   "mimetype": "text/x-python",
   "name": "python",
   "nbconvert_exporter": "python",
   "pygments_lexer": "ipython3",
   "version": "3.7.3"
  },
  "widgets": {
   "application/vnd.jupyter.widget-state+json": {
    "state": {},
    "version_major": 2,
    "version_minor": 0
   }
  }
 },
 "nbformat": 4,
 "nbformat_minor": 4
}
