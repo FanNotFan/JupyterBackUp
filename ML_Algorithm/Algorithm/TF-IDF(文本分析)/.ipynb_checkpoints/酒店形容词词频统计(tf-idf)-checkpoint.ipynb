{
 "cells": [
  {
   "cell_type": "code",
   "execution_count": 1,
   "metadata": {
    "ExecuteTime": {
     "end_time": "2019-10-18T02:22:24.030373Z",
     "start_time": "2019-10-18T02:22:21.845213Z"
    }
   },
   "outputs": [],
   "source": [
    "SHEET_NAME = 'Sheet1'\n",
    "FILE_NAME = 'hotel_content.xlsx'\n",
    "import numpy\n",
    "import pandas as pd\n",
    "from sklearn.feature_extraction.text import CountVectorizer\n",
    "from sklearn.feature_extraction.text import TfidfTransformer"
   ]
  },
  {
   "cell_type": "code",
   "execution_count": 2,
   "metadata": {
    "ExecuteTime": {
     "end_time": "2019-10-18T02:22:25.301695Z",
     "start_time": "2019-10-18T02:22:24.673001Z"
    }
   },
   "outputs": [
    {
     "data": {
      "text/html": [
       "<div>\n",
       "<style scoped>\n",
       "    .dataframe tbody tr th:only-of-type {\n",
       "        vertical-align: middle;\n",
       "    }\n",
       "\n",
       "    .dataframe tbody tr th {\n",
       "        vertical-align: top;\n",
       "    }\n",
       "\n",
       "    .dataframe thead th {\n",
       "        text-align: right;\n",
       "    }\n",
       "</style>\n",
       "<table border=\"1\" class=\"dataframe\">\n",
       "  <thead>\n",
       "    <tr style=\"text-align: right;\">\n",
       "      <th></th>\n",
       "      <th>url</th>\n",
       "      <th>theme</th>\n",
       "      <th>content</th>\n",
       "    </tr>\n",
       "  </thead>\n",
       "  <tbody>\n",
       "    <tr>\n",
       "      <th>0</th>\n",
       "      <td>https://www.oyorooms.com/id/40374-oyo-rooms-oy...</td>\n",
       "      <td>RoomSpider - Room</td>\n",
       "      <td>Your browser javascript is disabled please ena...</td>\n",
       "    </tr>\n",
       "    <tr>\n",
       "      <th>1</th>\n",
       "      <td>http://www.hotelplatinum.co.in</td>\n",
       "      <td>RoomSpider - Room</td>\n",
       "      <td>hotelplatinuminfo gmail com 91 89610 50299 801...</td>\n",
       "    </tr>\n",
       "    <tr>\n",
       "      <th>2</th>\n",
       "      <td>http://www.novapatgartents.com</td>\n",
       "      <td>RoomSpider - Room</td>\n",
       "      <td>BOOK YOUR STAY NOW thewhitewonder 65 posts 1 6...</td>\n",
       "    </tr>\n",
       "    <tr>\n",
       "      <th>3</th>\n",
       "      <td>https://www.nordlybornholm.dk/rooms---rates</td>\n",
       "      <td>RoomSpider - Room</td>\n",
       "      <td>Home Rooms amp Rates Schools Activities About ...</td>\n",
       "    </tr>\n",
       "    <tr>\n",
       "      <th>4</th>\n",
       "      <td>https://www.salt-kisses.com/vacation-rentals-h...</td>\n",
       "      <td>RoomSpider - Room</td>\n",
       "      <td>times You do not have Javascript enabled in yo...</td>\n",
       "    </tr>\n",
       "  </tbody>\n",
       "</table>\n",
       "</div>"
      ],
      "text/plain": [
       "                                                 url               theme  \\\n",
       "0  https://www.oyorooms.com/id/40374-oyo-rooms-oy...  RoomSpider - Room    \n",
       "1                     http://www.hotelplatinum.co.in  RoomSpider - Room    \n",
       "2                     http://www.novapatgartents.com  RoomSpider - Room    \n",
       "3        https://www.nordlybornholm.dk/rooms---rates  RoomSpider - Room    \n",
       "4  https://www.salt-kisses.com/vacation-rentals-h...  RoomSpider - Room    \n",
       "\n",
       "                                             content  \n",
       "0  Your browser javascript is disabled please ena...  \n",
       "1  hotelplatinuminfo gmail com 91 89610 50299 801...  \n",
       "2  BOOK YOUR STAY NOW thewhitewonder 65 posts 1 6...  \n",
       "3  Home Rooms amp Rates Schools Activities About ...  \n",
       "4  times You do not have Javascript enabled in yo...  "
      ]
     },
     "execution_count": 2,
     "metadata": {},
     "output_type": "execute_result"
    }
   ],
   "source": [
    "import os\n",
    "path = 'data' + os.sep + FILE_NAME\n",
    "df_news = pd.read_excel(path, sheet_name=SHEET_NAME)\n",
    "df_news.head()"
   ]
  },
  {
   "cell_type": "code",
   "execution_count": 3,
   "metadata": {
    "ExecuteTime": {
     "end_time": "2019-10-18T02:22:26.626867Z",
     "start_time": "2019-10-18T02:22:26.623112Z"
    }
   },
   "outputs": [
    {
     "data": {
      "text/plain": [
       "(256, 3)"
      ]
     },
     "execution_count": 3,
     "metadata": {},
     "output_type": "execute_result"
    }
   ],
   "source": [
    "df_news.shape"
   ]
  },
  {
   "cell_type": "code",
   "execution_count": 12,
   "metadata": {
    "ExecuteTime": {
     "end_time": "2019-10-18T02:51:35.966273Z",
     "start_time": "2019-10-18T02:51:35.931776Z"
    },
    "scrolled": true
   },
   "outputs": [
    {
     "data": {
      "text/html": [
       "<div>\n",
       "<style scoped>\n",
       "    .dataframe tbody tr th:only-of-type {\n",
       "        vertical-align: middle;\n",
       "    }\n",
       "\n",
       "    .dataframe tbody tr th {\n",
       "        vertical-align: top;\n",
       "    }\n",
       "\n",
       "    .dataframe thead th {\n",
       "        text-align: right;\n",
       "    }\n",
       "</style>\n",
       "<table border=\"1\" class=\"dataframe\">\n",
       "  <thead>\n",
       "    <tr style=\"text-align: right;\">\n",
       "      <th></th>\n",
       "      <th>url</th>\n",
       "      <th>theme</th>\n",
       "      <th>content</th>\n",
       "    </tr>\n",
       "  </thead>\n",
       "  <tbody>\n",
       "    <tr>\n",
       "      <th>count</th>\n",
       "      <td>256</td>\n",
       "      <td>256</td>\n",
       "      <td>252</td>\n",
       "    </tr>\n",
       "    <tr>\n",
       "      <th>unique</th>\n",
       "      <td>256</td>\n",
       "      <td>1</td>\n",
       "      <td>251</td>\n",
       "    </tr>\n",
       "    <tr>\n",
       "      <th>top</th>\n",
       "      <td>https://www.roostglamping.com/tents/</td>\n",
       "      <td>RoomSpider - Room</td>\n",
       "      <td>ROOMS</td>\n",
       "    </tr>\n",
       "    <tr>\n",
       "      <th>freq</th>\n",
       "      <td>1</td>\n",
       "      <td>256</td>\n",
       "      <td>2</td>\n",
       "    </tr>\n",
       "  </tbody>\n",
       "</table>\n",
       "</div>"
      ],
      "text/plain": [
       "                                         url               theme content\n",
       "count                                    256                 256     252\n",
       "unique                                   256                   1     251\n",
       "top     https://www.roostglamping.com/tents/  RoomSpider - Room    ROOMS\n",
       "freq                                       1                 256       2"
      ]
     },
     "execution_count": 12,
     "metadata": {},
     "output_type": "execute_result"
    }
   ],
   "source": [
    "df_news.describe()"
   ]
  },
  {
   "cell_type": "markdown",
   "metadata": {},
   "source": [
    "##### 查看缺失值"
   ]
  },
  {
   "cell_type": "code",
   "execution_count": 14,
   "metadata": {
    "ExecuteTime": {
     "end_time": "2019-10-18T02:53:44.307893Z",
     "start_time": "2019-10-18T02:53:44.303735Z"
    }
   },
   "outputs": [
    {
     "data": {
      "text/plain": [
       "True"
      ]
     },
     "execution_count": 14,
     "metadata": {},
     "output_type": "execute_result"
    }
   ],
   "source": [
    "pd.isnull(df_news).values.any()"
   ]
  },
  {
   "cell_type": "markdown",
   "metadata": {},
   "source": [
    "#### 删除缺失值"
   ]
  },
  {
   "cell_type": "code",
   "execution_count": 19,
   "metadata": {
    "ExecuteTime": {
     "end_time": "2019-10-18T03:03:28.501562Z",
     "start_time": "2019-10-18T03:03:28.495131Z"
    }
   },
   "outputs": [
    {
     "data": {
      "text/plain": [
       "(256, 3)"
      ]
     },
     "execution_count": 19,
     "metadata": {},
     "output_type": "execute_result"
    }
   ],
   "source": [
    "df_news = df_news.dropna(axis=0,how='all')\n",
    "df_news.shape"
   ]
  },
  {
   "cell_type": "markdown",
   "metadata": {},
   "source": [
    "#### 查看数据信息"
   ]
  },
  {
   "cell_type": "code",
   "execution_count": 16,
   "metadata": {
    "ExecuteTime": {
     "end_time": "2019-10-18T02:54:38.727993Z",
     "start_time": "2019-10-18T02:54:38.721132Z"
    }
   },
   "outputs": [
    {
     "name": "stdout",
     "output_type": "stream",
     "text": [
      "<class 'pandas.core.frame.DataFrame'>\n",
      "RangeIndex: 256 entries, 0 to 255\n",
      "Data columns (total 3 columns):\n",
      "url        256 non-null object\n",
      "theme      256 non-null object\n",
      "content    252 non-null object\n",
      "dtypes: object(3)\n",
      "memory usage: 6.1+ KB\n"
     ]
    }
   ],
   "source": [
    "df_news.info()"
   ]
  },
  {
   "cell_type": "code",
   "execution_count": 4,
   "metadata": {
    "ExecuteTime": {
     "end_time": "2019-10-18T02:22:27.825621Z",
     "start_time": "2019-10-18T02:22:27.822743Z"
    }
   },
   "outputs": [],
   "source": [
    "# 将内容转换成 list\n",
    "content = df_news.content.values.tolist()\n",
    "# print(content[2])"
   ]
  },
  {
   "cell_type": "code",
   "execution_count": 5,
   "metadata": {
    "ExecuteTime": {
     "end_time": "2019-10-18T02:22:38.623723Z",
     "start_time": "2019-10-18T02:22:38.239005Z"
    }
   },
   "outputs": [],
   "source": [
    "vectorizer = CountVectorizer()\n",
    "content_S = []\n",
    "# content_all_hotel = ' '.join(content)\n",
    "# print(content_all_hotel)\n",
    "for line in content:\n",
    "    vectorizer.fit_transform([str(line)]).todense()\n",
    "    # 获取词袋模型中的所有词语\n",
    "    current_segment = vectorizer.get_feature_names()\n",
    "    # current_segment = jieba.lcut(line)\n",
    "    if len(current_segment) > 1 and current_segment != '\\r\\n': #换行符\n",
    "        content_S.append(current_segment)\n"
   ]
  },
  {
   "cell_type": "code",
   "execution_count": 6,
   "metadata": {
    "ExecuteTime": {
     "end_time": "2019-10-18T02:22:40.302352Z",
     "start_time": "2019-10-18T02:22:40.296046Z"
    },
    "code_folding": [],
    "collapsed": true
   },
   "outputs": [
    {
     "data": {
      "text/plain": [
       "['10',\n",
       " '12',\n",
       " '1213',\n",
       " '13',\n",
       " '20',\n",
       " '2019',\n",
       " '26',\n",
       " '35',\n",
       " '370510',\n",
       " '5k',\n",
       " '65',\n",
       " '6k',\n",
       " '74992',\n",
       " '74993',\n",
       " '7572975752',\n",
       " 'accommodate',\n",
       " 'activities',\n",
       " 'activity',\n",
       " 'address',\n",
       " 'adults',\n",
       " 'adventure',\n",
       " 'akshay',\n",
       " 'all',\n",
       " 'along',\n",
       " 'amp',\n",
       " 'and',\n",
       " 'are',\n",
       " 'area',\n",
       " 'as',\n",
       " 'assist',\n",
       " 'at',\n",
       " 'attached',\n",
       " 'attractive',\n",
       " 'aug',\n",
       " 'authentic',\n",
       " 'away',\n",
       " 'b2',\n",
       " 'backpacker',\n",
       " 'be',\n",
       " 'beauty',\n",
       " 'bed',\n",
       " 'bedroom',\n",
       " 'before',\n",
       " 'best',\n",
       " 'bhuj',\n",
       " 'bhujkutch',\n",
       " 'bird',\n",
       " 'birdwatching',\n",
       " 'blog',\n",
       " 'blown',\n",
       " 'bonfire',\n",
       " 'book',\n",
       " 'bring',\n",
       " 'budget',\n",
       " 'bus',\n",
       " 'by',\n",
       " 'camp',\n",
       " 'campsite',\n",
       " 'can',\n",
       " 'cemented',\n",
       " 'chhari',\n",
       " 'choose',\n",
       " 'city',\n",
       " 'closeness',\n",
       " 'closest',\n",
       " 'come',\n",
       " 'comes',\n",
       " 'comments',\n",
       " 'common',\n",
       " 'connect',\n",
       " 'contact',\n",
       " 'cuisine',\n",
       " 'darkness',\n",
       " 'deluxe',\n",
       " 'desert',\n",
       " 'designed',\n",
       " 'desktop',\n",
       " 'dhand',\n",
       " 'diaries',\n",
       " 'dining',\n",
       " 'dinner',\n",
       " 'dirty',\n",
       " 'dormitory',\n",
       " 'drive',\n",
       " 'early',\n",
       " 'enjoy',\n",
       " 'enough',\n",
       " 'etc',\n",
       " 'every',\n",
       " 'everyone',\n",
       " 'experience',\n",
       " 'experiences',\n",
       " 'facility',\n",
       " 'feb',\n",
       " 'flamingos',\n",
       " 'folk',\n",
       " 'followed',\n",
       " 'followers',\n",
       " 'following',\n",
       " 'for',\n",
       " 'from',\n",
       " 'garvigujarat',\n",
       " 'get',\n",
       " 'getting',\n",
       " 'gives',\n",
       " 'go',\n",
       " 'gorewali',\n",
       " 'guide',\n",
       " 'gujarat',\n",
       " 'gujaratdiaries',\n",
       " 'gujaratibablo',\n",
       " 'gujaratijalsa',\n",
       " 'gujarattourism',\n",
       " 'happy',\n",
       " 'have',\n",
       " 'hi',\n",
       " 'home',\n",
       " 'hours',\n",
       " 'if',\n",
       " 'igers',\n",
       " 'impressive',\n",
       " 'in',\n",
       " 'incomplete',\n",
       " 'incredible',\n",
       " 'inside',\n",
       " 'instagram',\n",
       " 'involves',\n",
       " 'is',\n",
       " 'it',\n",
       " 'just',\n",
       " 'km',\n",
       " 'kutch',\n",
       " 'kutchdiaries',\n",
       " 'kutchi',\n",
       " 'kutchnahidekhatohkuchnahidekha',\n",
       " 'kutchtourism',\n",
       " 'kutchtrip',\n",
       " 'life',\n",
       " 'lifetime',\n",
       " 'likes',\n",
       " 'littlerannofkutch',\n",
       " 'location',\n",
       " 'love',\n",
       " 'lovers',\n",
       " 'mandvi',\n",
       " 'memory',\n",
       " 'mid',\n",
       " 'mobile',\n",
       " 'more',\n",
       " 'morning',\n",
       " 'musics',\n",
       " 'n3',\n",
       " 'near',\n",
       " 'night',\n",
       " 'nirona',\n",
       " 'non',\n",
       " 'nova',\n",
       " 'novapatgartents',\n",
       " 'novapatgartents30',\n",
       " 'novapatgartents31',\n",
       " 'novapatgartents35',\n",
       " 'novapatgartents36',\n",
       " 'now',\n",
       " 'oct',\n",
       " 'of',\n",
       " 'on',\n",
       " 'one',\n",
       " 'ones',\n",
       " 'our',\n",
       " 'ourkutch',\n",
       " 'packages',\n",
       " 'pakkogujarati',\n",
       " 'parth',\n",
       " 'patgar',\n",
       " 'peace',\n",
       " 'people',\n",
       " 'perfect',\n",
       " 'ping',\n",
       " 'place',\n",
       " 'places',\n",
       " 'posts',\n",
       " 'premium',\n",
       " 'prilaga',\n",
       " 'private',\n",
       " 'pure',\n",
       " 'range',\n",
       " 'rann',\n",
       " 'rannkikahaaniya',\n",
       " 'rannofkutch',\n",
       " 'rannutsav',\n",
       " 'rannutsav2019',\n",
       " 'raports',\n",
       " 'rates',\n",
       " 'ready',\n",
       " 'repost',\n",
       " 'reservations',\n",
       " 'reserve',\n",
       " 'resort',\n",
       " 'ride',\n",
       " 'roganart',\n",
       " 'sanctuary',\n",
       " 'security',\n",
       " 'services',\n",
       " 'shreyavalecha',\n",
       " 'sighting',\n",
       " 'silence',\n",
       " 'simply',\n",
       " 'singing',\n",
       " 'sitout',\n",
       " 'spacious',\n",
       " 'spot',\n",
       " 'stay',\n",
       " 'stop',\n",
       " 'submit',\n",
       " 'tanujbhatia',\n",
       " 'taste',\n",
       " 'tea',\n",
       " 'temples',\n",
       " 'tent',\n",
       " 'tents',\n",
       " 'thaker',\n",
       " 'that',\n",
       " 'the',\n",
       " 'thewhitewonder',\n",
       " 'this',\n",
       " 'tieups',\n",
       " 'tight',\n",
       " 'tiled',\n",
       " 'to',\n",
       " 'token',\n",
       " 'total',\n",
       " 'tour',\n",
       " 'travelling',\n",
       " 'tunes',\n",
       " 'upto',\n",
       " 'us',\n",
       " 'utsahicreeparoundtheglobe',\n",
       " 'utsav',\n",
       " 'vehicle',\n",
       " 'version',\n",
       " 'view',\n",
       " 'village',\n",
       " 'villages',\n",
       " 'walk',\n",
       " 'washroom',\n",
       " 'washrooms',\n",
       " 'watchers',\n",
       " 'waterfly',\n",
       " 'we',\n",
       " 'welcome',\n",
       " 'wheel',\n",
       " 'wheels',\n",
       " 'white',\n",
       " 'whiterannofkutch',\n",
       " 'who',\n",
       " 'wildlife',\n",
       " 'will',\n",
       " 'with',\n",
       " 'without',\n",
       " 'you',\n",
       " 'your']"
      ]
     },
     "execution_count": 6,
     "metadata": {},
     "output_type": "execute_result"
    }
   ],
   "source": [
    "content_S[2]"
   ]
  },
  {
   "cell_type": "code",
   "execution_count": 7,
   "metadata": {
    "ExecuteTime": {
     "end_time": "2019-10-18T02:22:46.600390Z",
     "start_time": "2019-10-18T02:22:46.586250Z"
    }
   },
   "outputs": [
    {
     "data": {
      "text/html": [
       "<div>\n",
       "<style scoped>\n",
       "    .dataframe tbody tr th:only-of-type {\n",
       "        vertical-align: middle;\n",
       "    }\n",
       "\n",
       "    .dataframe tbody tr th {\n",
       "        vertical-align: top;\n",
       "    }\n",
       "\n",
       "    .dataframe thead th {\n",
       "        text-align: right;\n",
       "    }\n",
       "</style>\n",
       "<table border=\"1\" class=\"dataframe\">\n",
       "  <thead>\n",
       "    <tr style=\"text-align: right;\">\n",
       "      <th></th>\n",
       "      <th>content_S</th>\n",
       "    </tr>\n",
       "  </thead>\n",
       "  <tbody>\n",
       "    <tr>\n",
       "      <th>0</th>\n",
       "      <td>[00, 02, 101, 1148, 116, 119, 12, 17, 18, 180,...</td>\n",
       "    </tr>\n",
       "    <tr>\n",
       "      <th>1</th>\n",
       "      <td>[000, 123, 14, 200, 2019, 24, 26734, 50299, 80...</td>\n",
       "    </tr>\n",
       "    <tr>\n",
       "      <th>2</th>\n",
       "      <td>[10, 12, 1213, 13, 20, 2019, 26, 35, 370510, 5...</td>\n",
       "    </tr>\n",
       "    <tr>\n",
       "      <th>3</th>\n",
       "      <td>[about, activities, all, amp, and, beautiful, ...</td>\n",
       "    </tr>\n",
       "    <tr>\n",
       "      <th>4</th>\n",
       "      <td>[00, 01, 05, 06, 102, 103, 104, 109, 110, 125,...</td>\n",
       "    </tr>\n",
       "  </tbody>\n",
       "</table>\n",
       "</div>"
      ],
      "text/plain": [
       "                                           content_S\n",
       "0  [00, 02, 101, 1148, 116, 119, 12, 17, 18, 180,...\n",
       "1  [000, 123, 14, 200, 2019, 24, 26734, 50299, 80...\n",
       "2  [10, 12, 1213, 13, 20, 2019, 26, 35, 370510, 5...\n",
       "3  [about, activities, all, amp, and, beautiful, ...\n",
       "4  [00, 01, 05, 06, 102, 103, 104, 109, 110, 125,..."
      ]
     },
     "execution_count": 7,
     "metadata": {},
     "output_type": "execute_result"
    }
   ],
   "source": [
    "df_content=pd.DataFrame({'content_S':content_S})\n",
    "df_content.head()"
   ]
  },
  {
   "cell_type": "code",
   "execution_count": 8,
   "metadata": {
    "ExecuteTime": {
     "end_time": "2019-10-18T02:22:48.530480Z",
     "start_time": "2019-10-18T02:22:48.521882Z"
    }
   },
   "outputs": [],
   "source": [
    "stopwords=pd.read_csv(\"stopwords.txt\",index_col=False,sep=\"\\t\",quoting=3,names=['stopword'], encoding='utf-8')\n",
    "# stopwords.head(20)"
   ]
  },
  {
   "cell_type": "code",
   "execution_count": 9,
   "metadata": {
    "ExecuteTime": {
     "end_time": "2019-10-18T02:22:54.030320Z",
     "start_time": "2019-10-18T02:22:54.000525Z"
    },
    "collapsed": true
   },
   "outputs": [
    {
     "name": "stdout",
     "output_type": "stream",
     "text": [
      "[['00', '02', '101', '1148', '116', '119', '12', '17', '18', '180', '1854', '187', '1975', '2014', '2019', '537', '89', '919', '92', '94', 'about', 'ac', 'airport15', 'all', 'amenities', 'and', 'any', 'app', 'apple', 'applied', 'are', 'bed', 'belvena', 'besar', 'besbswy', 'blog', 'book', 'browser', 'budget', 'bundaran', 'bus', 'cabana0', 'can', 'cancellation', 'capacious', 'careers', 'category', 'check', 'choose', 'coffee', 'coffee0', 'conditions', 'continue', 'coupon', 'details', 'disabled', 'double', 'download', 'enable', 'excellent', 'exciting', 'f19', 'f20', 'f21', 'f76', 'f77', 'f78', 'fan', 'for', 'free', 'fri', 'get', 'good', 'government', 'gt', 'guest', 'guests', 'hatta', 'hi', 'hotel', 'hotels', 'hurry', 'id', 'in', 'in17', 'incl', 'indonesia', 'intercom', 'international', 'is', 'issued', 'istana', 'istiqlal', 'it', 'jakarta', 'jakarta4', 'javascript', 'juanda', 'kalisma', 'kit', 'kms', 'know', 'kota', 'left', 'limited', 'login', 'lower', 'me', 'merdeka', 'merdeka0', 'metro', 'millenium', 'mirah', 'modern', 'mokka', 'monas', 'monumen', 'more', 'museum', 'nasional', 'near', 'nearby', 'next', 'night', 'oct', 'oct1', 'of', 'off', 'offers', 'official', 'offinclusive', 'on', 'ongoogle', 'only', 'oravel', 'out', 'out18', 'oyo', 'oyos', 'padang', 'partner', 'pastiadaoyo50', 'per', 'photos', 'platinum', 'play', 'please', 'pmcheck', 'pmcouples', 'policies', 'policy', 'policy2018', 'press', 'previous', 'price', 'privacy', 'private', 'proof', 'property', 'queen', 'railway', 'ratings', 'restaurants', 'restoran', 'reviews', 'room', 'rooms', 'rp200844', 'rp206268', 'rp268142', 'rp281511', 'rp284345', 'rp293674', 'rp33000011', 'rp34197922', 'rp40059529', 'rp448009', 'rp44800955', 'rp94515', 'sanur0', 'savings', 'sawah', 'search', 'see', 'select', 'selected', 'selectedindonesia', 'share', 'show', 'signup', 'similar', 'single', 'size', 'sized', 'soekarno', 'sqft', 'standard', 'starbucks', 'stasiun', 'station', 'station0', 'station2', 'stays', 'stop0', 'stop1', 'store', 'syariah', 'taxes', 'tea0', 'team', 'terms', 'textile', 'the', 'thu', 'to', 'total', 'travel', 'trendy', 'tua', 'tv', 'twin', 'us', 'using', 'very', 'view', 'weather', 'welcome', 'what', 'wifi', 'with', 'your', 'yuzuki'], ['000', '123', '14', '200', '2019', '24', '26734', '50299', '80171', '89610', '91', 'about', 'accommodation', 'address', 'affordable', 'aim', 'air', 'ali', 'all', 'along', 'amenities', 'amir', 'amp', 'and', 'are', 'at', 'attached', 'attractions', 'avenue', 'awesome', 'bagan', 'ballygunge', 'bathroom', 'beck', 'bed', 'bedrooms', 'bengal', 'bengali', 'best', 'bests', 'book', 'bright', 'by', 'call', 'can', 'cctv', 'center', 'centrally', 'city', 'clean', 'coffee', 'com', 'come', 'comfort', 'comfortable', 'concierge', 'conditioned', 'connect', 'contact', 'costumers', 'coverage', 'cuisines', 'decorated', 'design', 'dig', 'doctor', 'dry', 'enchanting', 'enjoy', 'enjoyable', 'excellent', 'exceptional', 'executive', 'experience', 'explore', 'families', 'famous', 'fantastic', 'feel', 'find', 'food', 'fridge', 'friendly', 'friends', 'from', 'full', 'gallery', 'get', 'geyser', 'ghootmee', 'give', 'gmail', 'good', 'great', 'guests', 'here', 'home', 'hotel', 'hotelplatinuminfo', 'hotels', 'hour', 'hours', 'in', 'intercom', 'into', 'its', 'kind', 'king', 'know', 'kolkata', 'learn', 'length', 'll', 'located', 'love', 'lovely', 'lower', 'luggage', 'luxurious', 'mail', 'make', 'maker', 'makes', 'making', 'master', 'menu', 'message', 'mirror', 'moment', 'more', 'must', 'name', 'navigation', 'now', 'number', 'of', 'offer', 'offers', 'on', 'one', 'our', 'phone', 'platinum', 'precious', 'proper', 'providing', 'range', 'rates', 'reception', 'reservation', 'reserved', 'restaurant', 'rights', 'room', 'rooms', 'see', 'send', 'service', 'services', 'shower', 'size', 'sofa', 'staff', 'standard', 'star', 'stay', 'staying', 'storage', 'surroundings', 'syed', 'table', 'tax', 'tea', 'technology', 'tend', 'the', 'their', 'them', 'to', 'today', 'toggle', 'top', 'truly', 'try', 'tv', 'unique', 'us', 'vacation', 'views', 'visitors', 'want', 'we', 'welcome', 'welcoming', 'west', 'what', 'while', 'wifi', 'with', 'you', 'your'], ['10', '12', '1213', '13', '20', '2019', '26', '35', '370510', '5k', '65', '6k', '74992', '74993', '7572975752', 'accommodate', 'activities', 'activity', 'address', 'adults', 'adventure', 'akshay', 'all', 'along', 'amp', 'and', 'are', 'area', 'as', 'assist', 'at', 'attached', 'attractive', 'aug', 'authentic', 'away', 'b2', 'backpacker', 'be', 'beauty', 'bed', 'bedroom', 'before', 'best', 'bhuj', 'bhujkutch', 'bird', 'birdwatching', 'blog', 'blown', 'bonfire', 'book', 'bring', 'budget', 'bus', 'by', 'camp', 'campsite', 'can', 'cemented', 'chhari', 'choose', 'city', 'closeness', 'closest', 'come', 'comes', 'comments', 'common', 'connect', 'contact', 'cuisine', 'darkness', 'deluxe', 'desert', 'designed', 'desktop', 'dhand', 'diaries', 'dining', 'dinner', 'dirty', 'dormitory', 'drive', 'early', 'enjoy', 'enough', 'etc', 'every', 'everyone', 'experience', 'experiences', 'facility', 'feb', 'flamingos', 'folk', 'followed', 'followers', 'following', 'for', 'from', 'garvigujarat', 'get', 'getting', 'gives', 'go', 'gorewali', 'guide', 'gujarat', 'gujaratdiaries', 'gujaratibablo', 'gujaratijalsa', 'gujarattourism', 'happy', 'have', 'hi', 'home', 'hours', 'if', 'igers', 'impressive', 'in', 'incomplete', 'incredible', 'inside', 'instagram', 'involves', 'is', 'it', 'just', 'km', 'kutch', 'kutchdiaries', 'kutchi', 'kutchnahidekhatohkuchnahidekha', 'kutchtourism', 'kutchtrip', 'life', 'lifetime', 'likes', 'littlerannofkutch', 'location', 'love', 'lovers', 'mandvi', 'memory', 'mid', 'mobile', 'more', 'morning', 'musics', 'n3', 'near', 'night', 'nirona', 'non', 'nova', 'novapatgartents', 'novapatgartents30', 'novapatgartents31', 'novapatgartents35', 'novapatgartents36', 'now', 'oct', 'of', 'on', 'one', 'ones', 'our', 'ourkutch', 'packages', 'pakkogujarati', 'parth', 'patgar', 'peace', 'people', 'perfect', 'ping', 'place', 'places', 'posts', 'premium', 'prilaga', 'private', 'pure', 'range', 'rann', 'rannkikahaaniya', 'rannofkutch', 'rannutsav', 'rannutsav2019', 'raports', 'rates', 'ready', 'repost', 'reservations', 'reserve', 'resort', 'ride', 'roganart', 'sanctuary', 'security', 'services', 'shreyavalecha', 'sighting', 'silence', 'simply', 'singing', 'sitout', 'spacious', 'spot', 'stay', 'stop', 'submit', 'tanujbhatia', 'taste', 'tea', 'temples', 'tent', 'tents', 'thaker', 'that', 'the', 'thewhitewonder', 'this', 'tieups', 'tight', 'tiled', 'to', 'token', 'total', 'tour', 'travelling', 'tunes', 'upto', 'us', 'utsahicreeparoundtheglobe', 'utsav', 'vehicle', 'version', 'view', 'village', 'villages', 'walk', 'washroom', 'washrooms', 'watchers', 'waterfly', 'we', 'welcome', 'wheel', 'wheels', 'white', 'whiterannofkutch', 'who', 'wildlife', 'will', 'with', 'without', 'you', 'your'], ['about', 'activities', 'all', 'amp', 'and', 'beautiful', 'bornholm', 'can', 'contact', 'cosy', 'do', 'experience', 'feeling', 'gallery', 'has', 'have', 'home', 'homey', 'hostel', 'in', 'info', 'is', 'many', 'more', 'most', 'nordly', 'northern', 'of', 'offer', 'rates', 'read', 'rooms', 'schools', 'surroundings', 'the', 'to', 'visiting', 'we', 'what', 'when', 'with', 'years', 'you'], ['00', '01', '05', '06', '102', '103', '104', '109', '110', '125', '201', '2019', '202', '203', '204', '205', '2543', '281', '68', '724', '75', '76307', '80', '8288', '95', 'about', 'activities', 'added', 'admin', 'aldea', 'all', 'allow', 'amp', 'and', 'area', 'arriving', 'asked', 'at', 'attractions', 'availability', 'azulito', 'bathrooms', 'baths', 'be', 'bedroom', 'bedrooms', 'bikes', 'box', 'browser', 'by', 'categories', 'check', 'code', 'com', 'company', 'conditions', 'contact', 'date', 'departing', 'descriptions', 'directions', 'do', 'driving', 'enabled', 'encanto', 'ensueno', 'este', 'falls', 'floor', 'free', 'frequently', 'garden', 'ground', 'guest', 'guests', 'guide', 'have', 'high', 'highline', 'home', 'images', 'in', 'indigo', 'information', 'jacuzzi', 'javascript', 'jump', 'kisses', 'later', 'let', 'listing', 'live', 'llc', 'local', 'login', 'low', 'management', 'map', 'most', 'need', 'not', 'oeste', 'oeste102', 'of', 'on', 'owner', 'owners', 'panoramic', 'paradise', 'paramar', 'penthouse', 'please', 'policy', 'pool', 'poolside', 'powered', 'price', 'privacy', 'private', 'properties', 'property', 'questions', 'rental', 'rentals', 'reserved', 'reviews', 'rez', 'rights', 'sale', 'salt', 'search', 'see', 'select', 'services', 'settings', 'sitemap', 'socialize', 'software', 'sort', 'specials', 'splash', 'starting', 'studio', 'terms', 'the', 'this', 'times', 'to', 'toll', 'tropical', 'tulum', 'tx', 'up', 'update', 'us', 'usd', 'use', 'vacation', 'view', 'weather', 'wichita', 'will', 'with', 'you', 'your', 'zama'], ['0812', '12', '123', '12345', '1661', '17', '18', '19872335', '2018', '2019', '25', '28', '3190', '52', '5335', '59', '62', '6221', 'ac', 'access', 'accommodation', 'adult', 'air', 'akmani', 'all', 'amenities', 'amp', 'and', 'anddozens', 'arrive', 'at', 'availability', 'bar', 'bathtub', 'bed', 'book', 'box', 'broadbandinternet', 'channels', 'check', 'children', 'code', 'coffee', 'conditioning', 'contact', 'controlled', 'deluxe', 'depart', 'deposit', 'designed', 'destination', 'dining', 'displayed', 'dryer', 'duvet', 'early', 'electronic', 'emotions', 'facilities', 'facility', 'fact', 'finger', 'for', 'free', 'full', 'grand', 'hair', 'hi', 'hotel', 'idd', 'in', 'individually', 'info', 'jumat', 'kamis', 'key', 'late', 'led', 'legian', 'living', 'making', 'makingfacilities', 'meeting', 'mineral', 'mini', 'minibar', 'miniral', 'neighbourhood', 'of', 'offers', 'okt', 'on', 'other', 'our', 'out', 'pantry', 'pm', 'policy', 'privacy', 'promo', 'reservation', 'reserved', 'rights', 'room', 'safety', 'sheet', 'shower', 'space', 'special', 'specially', 'sqm', 'standing', 'stay', 'subject', 'suite', 'tea', 'tech', 'telephone', 'the', 'tips', 'to', 'tv', 'water', 'wedding', 'what', 'wifi', 'wonder', 'your'], ['"
     ]
    },
    {
     "data": {
      "text/html": [
       "<b>limit_output extension: Maximum message size of 10000 exceeded with 677522 characters</b>"
      ]
     },
     "metadata": {},
     "output_type": "display_data"
    }
   ],
   "source": [
    "def drop_stopwords(contents,stopwords):\n",
    "    contents_clean = []\n",
    "    all_words = []\n",
    "    for line in contents:\n",
    "        line_clean = []\n",
    "        for word in line:\n",
    "            if word in stopwords:\n",
    "                continue\n",
    "            line_clean.append(word)\n",
    "            all_words.append(str(word))\n",
    "        contents_clean.append(line_clean)\n",
    "    return contents_clean,all_words\n",
    "    #print (contents_clean)\n",
    "contents = df_content.content_S.values.tolist()\n",
    "print(contents)"
   ]
  },
  {
   "cell_type": "code",
   "execution_count": 10,
   "metadata": {
    "ExecuteTime": {
     "end_time": "2019-10-18T02:23:00.101086Z",
     "start_time": "2019-10-18T02:23:00.098177Z"
    }
   },
   "outputs": [],
   "source": [
    "stopwords = stopwords.stopword.values.tolist()"
   ]
  },
  {
   "cell_type": "code",
   "execution_count": 11,
   "metadata": {
    "ExecuteTime": {
     "end_time": "2019-10-18T02:23:04.286844Z",
     "start_time": "2019-10-18T02:23:02.416317Z"
    }
   },
   "outputs": [
    {
     "name": "stdout",
     "output_type": "stream",
     "text": [
      "250\n",
      "54777\n"
     ]
    }
   ],
   "source": [
    "contents_clean,all_words = drop_stopwords(contents,stopwords)\n",
    "print(len(contents_clean))\n",
    "print(len(all_words))\n",
    "# print(contents_clean,all_words)\n",
    "\n",
    "#df_content.content_S.isin(stopwords.stopword)\n",
    "#df_content=df_content[~df_content.content_S.isin(stopwords.stopword)]\n",
    "#df_content.head()\n"
   ]
  },
  {
   "cell_type": "code",
   "execution_count": 19,
   "metadata": {
    "ExecuteTime": {
     "end_time": "2019-10-18T02:14:52.802330Z",
     "start_time": "2019-10-18T02:14:52.655539Z"
    }
   },
   "outputs": [
    {
     "name": "stdout",
     "output_type": "stream",
     "text": [
      "[ ' Y o u r   b r o w s e r   j a v a s c r i p t   i s   d i s a b l e d   p l e a s e   e n a b l e   j a v a s c r i p t   N e a r   m e   T h u   1 7   O c t   F r i   1 8   O c t 1   R o o m   1   G u e s t   S e a r c h   L o g i n   S i g n u p   P r e v i o u s   N e x t   S h a r e   V i e w   a l l   p h o t o s   O Y O   1 1 6   N   H o t e l   N e a r   I s t a n a   M e r d e k a   J a k a r t a 4   3   1 9 7 5   R a t i n g s   M o d e r n   a n d   T r e n d y   P r o p e r t y   w i t h   C a p a c i o u s   R o o m s   A m e n i t i e s   F r e e   W i f i   T w i n   S i n g l e   B e d   A C   T V   I n t e r c o m   F a n   S h o w   M o r e   C h o o s e   y o u r   r o o m   S e l e c t e d   C a t e g o r y   I n d o n e s i a   S t a n d a r d   T w i n   R o o m   s i z e   1 8 7   s q f t   T V   I n t e r c o m   A C   3   m o r e   R p 2 0 0 8 4 4   R p 4 4 8 0 0 9   S E L E C T E D I n d o n e s i a   S t a n d a r d   D o u b l e   R o o m   s i z e   1 8 7   s q f t   Q u e e n   S i z e d   B e d   T V   A C   3   m o r e   R p 2 0 6 2 6 8   R p 4 4 8 0 0 9   S e l e c t   H o t e l   p o l i c i e s   C h e c k   i n   0 2   0 0   P M C h e c k   o u t   1 2   0 0   P M C o u p l e s   a r e   w e l c o m e   G u e s t s   c a n   c h e c k   i n   u s i n g   a n y   G o v e r n m e n t   i s s u e d   I D   p r o o f   V i e w   G u e s t   P o l i c y   W h a t   s   n e a r b y   O Y O   1 1 6   N   H o t e l   P r e v i o u s   R e s t a u r a n t s   Y u z u k i   T e a 0   1   k m s   R e s t o r a n   S a n u r 0   3   k m s   S t a r b u c k s   C o f f e e 0   3   k m s   P a d a n g   M e r d e k a 0   3   k m s   M o k k a   C o f f e e   C a b a n a 0   4   k m s   T r a v e l   S o e k a r n o   H a t t a   I n t e r n a t i o n a l   A i r p o r t 1 5   5   k m s   M o n a s   B u s   S t o p 0   7   k m s   S t a s i u n   J u a n d a   R a i l w a y   s t a t i o n 0   9   k m s   S a w a h   B e s a r   S t a t i o n   R a i l w a y   s t a t i o n 0   9   k m s   I s t i q l a l   B u s   S t o p 1   0   k m s   B u n d a r a n   H I   M e t r o   S t a t i o n 2   1   k m s   N e x t   W e a t h e r   d e t a i l s   P r e v i o u s   C h e c k   i n 1 7   O c t   9 2   F 7 6   F   C h e c k   o u t 1 8   O c t   8 9   F 7 8   F 1 9   O c t   9 2   F 7 7   F 2 0   O c t   9 4   F 7 7   F 2 1   O c t   9 4   F 7 7   F   N e x t   L o g i n   t o   s e e   a   l o w e r   p r i c e   L o g i n   R p 2 0 0 8 4 4   R p 4 4 8 0 0 9 5 5   o f f i n c l u s i v e   o f   a l l   t a x e s   T h u   1 7   O c t   F r i   1 8   O c t 1   R o o m   1   G u e s t   I n d o n e s i a   S t a n d a r d   T w i n   P A S T I A D A O Y O 5 0   c o u p o n   a p p l i e d   R p 9 4 5 1 5   Y o u r   s a v i n g s   R p 9 4 5 1 5   T o t a l   p r i c e   i n c l   o f   a l l   t a x e s   R p 2 0 0 8 4 4   C o n t i n u e   t o   B o o k   H u r r y   O n l y   2   r o o m s   l e f t   C a n c e l l a t i o n   P o l i c y   S i m i l a r   O Y O s   P r e v i o u s   O Y O   9 1 9   H o t e l   K a l i s m a   S y a r i a h   I n d o n e s i a   N e a r   T e x t i l e   M u s e u m   J a k a r t a 4   3   5 3 7   r e v i e w s   V e r y   G o o d   R p 2 8 1 5 1 1   p e r   r o o m   p e r   n i g h t   O Y O   1 0 1   A p p l e   P l a t i n u m   I n d o n e s i a   N e a r   M i l l e n i u m   H o t e l   J a k a r t a 4   6   1 1 4 8   r e v i e w s   E x c e l l e n t   R p 2 8 4 3 4 5   R p 4 0 0 5 9 5 2 9   o f f   p e r   r o o m   p e r   n i g h t   O Y O   1 8 0   H o t e l   M i r a h   I n d o n e s i a   N e a r   K o t a   T u a   J a k a r t a 4   1   2 0 1 4   r e v i e w s   V e r y   G o o d   R p 2 6 8 1 4 2   R p 3 4 1 9 7 9 2 2   o f f   p e r   r o o m   p e r   n i g h t   O Y O   1 1 9   B e l v e n a   H o t e l   I n d o n e s i a   N e a r   M o n u m e n   N a s i o n a l   J a k a r t a 4   5   1 8 5 4   r e v i e w s   E x c e l l e n t   R p 2 9 3 6 7 4   R p 3 3 0 0 0 0 1 1   o f f   p e r   r o o m   p e r   n i g h t   N e x t   I n d o n e s i a   g t   J a k a r t a   H o t e l s   g t   b u d g e t   g t   O Y O   1 1 6   N   H o t e l   D o w n l o a d   O Y O   a p p   f o r   e x c i t i n g   o f f e r s   K n o w   M o r e   D o w n l o a d   o n   t h e   A p p   S t o r e   G E T   I T   O N G o o g l e   P l a y   A b o u t   u s   T e a m   C a r e e r s   B l o g   O f f i c i a l   O Y O   B l o g   P r e s s   K i t   P a r t n e r   W i t h   U s   P r i v a c y   P o l i c y   T e r m s   a n d   C o n d i t i o n s   G u e s t   P o l i c y 2 0 1 8   2 0 1 9   O r a v e l   S t a y s   P r i v a t e   L i m i t e d   B E S b s w y ' ,   ' h o t e l p l a t i n u m i n f o   g m a i l   c o m   9 1   8 9 6 1 0   5 0 2 9 9   8 0 1 7 1   2 6 7 3 4   T o g g l e   n a v i g a t i o n   H o m e   A b o u t   G a l l e r y   R o o m s   C o n t a c t   U s   R e s e r v a t i o n   H o t e l   P l a t i n u m   W e   k n o w   w h a t   y o u   l o v e   W e l c o m e   t o   o u r   h o t e l s   L e a r n   M o r e   K o l k a t a   s   T o p   H o t e l   S t a y   w i t h   f r i e n d s   a m p   f a m i l i e s   C o m e   a m p   e n j o y   p r e c i o u s   m o m e n t   w i t h   u s   L e a r n   M o r e   A f f o r d a b l e   R o o m s   w a n t   l u x u r i o u s   v a c a t i o n   G e t   a c c o m m o d a t i o n   t o d a y   L e a r n   M o r e   1 2 3   H o t e l   P l a t i n u m   W e   k n o w   y o u r   c o m f o r t   P r o v i d i n g   g u e s t s   u n i q u e   a n d   e n c h a n t i n g   v i e w s   f r o m   t h e i r   r o o m s   w i t h   i t s   e x c e p t i o n a l   a m e n i t i e s   m a k e s   S t a r   H o t e l   o n e   o f   b e s t s   i n   i t s   k i n d   T r y   o u r   f o o d   m e n u   a w e s o m e   s e r v i c e s   a n d   f r i e n d l y   s t a f f   w h i l e   y o u   a r e   h e r e   E x p e r i e n c e   a   g o o d   s t a y   e n j o y   f a n t a s t i c   o f f e r s   F i n d   o u r   f r i e n d l y   w e l c o m i n g   r e c e p t i o n   M A S T E R   B E D R O O M S   H o t e l   P l a t i n u m   R E S T A U R A N T   H o t e l   P l a t i n u m   F u l l   C C T V   C o v e r a g e   H o t e l   P l a t i n u m   W I F I   C O V E R A G E   H o t e l   P l a t i n u m   A b o u t   O u r   H o t e l   P l a t i n u m   W e   a r e   c e n t r a l l y   l o c a t e d   h o t e l   w i t h   t h e   b e s t   s e r v i c e s   W e   t e n d   t o   g i v e   o u r   c o s t u m e r s   a   l o v e l y   s t a y   b y   m a k i n g   t h e m   f e e l   a t   h o m e   W e   a i m   t o   o f f e r   y o u   c o m f o r t a b l e   s u r r o u n d i n g s   g r e a t   f o o d   a n d   e x c e l l e n t   s e r v i c e   t o   m a k e   y o u r   s t a y   t r u l y   e n j o y a b l e   L u g g a g e   s t o r a g e   a l o n g   w i t h   2 4   h o u r   r e c e p t i o n   a n d   r o o m   s e r v i c e   W h i l e   s t a y i n g   a t   t h e   H o t e l   P l a t i n u m   v i s i t o r s   c a n   e x p l o r e   t h e   m u s t   s e e   a t t r a c t i o n s   o f   t h e   c i t y   a n d   d i g   i n t o   f a m o u s   B e n g a l i   c u i s i n e s   Y o u   l l   l o v e   a l l   t h e   a m e n i t i e s   w e   o f f e r   O u r   S e r v i c e s   B e s t   S e r v i c e s   D e c o r a t e d   r o o m   p r o p e r   a i r   c o n d i t i o n e d   K i n g   s i z e   B e d   F u l l   L e n g t h   M i r r o r   T e a   C o f f e e   M a k e r   C e n t e r   T a b l e   I n t e r c o m   S o f a   A t t a c h e d   B a t h r o o m   W i t h   D r y   S h o w e r   2 4   H o u r   S e r v i c e s   2 4   h o u r s   r o o m   s e r v i c e   2 4   h o u r   C o n c i e r g e   s e r v i c e   G e y s e r   F r i d g e   T V   D o c t o r   o n   c a l l   C l e a n   a m p   B r i g h t   R o o m s   O u r   G a l l e r y   H o t e l   P l a t i n u m   H o t e l   P l a t i n u m   H o t e l   P l a t i n u m   H o t e l   P l a t i n u m   H o t e l   P l a t i n u m   H o t e l   P l a t i n u m   H o t e l   P l a t i n u m   H o t e l   P l a t i n u m   H o t e l   P l a t i n u m   H o t e l   P l a t i n u m   H o t e l   P l a t i n u m   H o t e l   P l a t i n u m   H o t e l   P l a t i n u m   H o t e l   P l a t i n u m   H o t e l   P l a t i n u m   R o o m s   A n d   R a t e s   E x e c u t i v e   R o o m   2   2 0 0   T a x   B o o k   N o w   S t a n d a r d   R o o m   2   0 0 0   T a x   B o o k   N o w   E x e c u t i v e   R o o m   2   2 0 0   T a x   B o o k   N o w   S t a n d a r d   R o o m   2   0 0 0   T a x   B o o k   N o w   C o n t a c t   U s   S e n d   u s   y o u r   m e s s a g e   h e r e   F u l l   N a m e   P h o n e   N u m b e r   E   m a i l   A d d r e s s   Y o u r   M e s s a g e   S e n d   C o n n e c t   W i t h   U s   P h o n e   9 1   8 9 6 1 0   5 0 2 9 9   8 0 1 7 1   2 6 7 3 4   E   m a i l   h o t e l p l a t i n u m i n f o   g m a i l   c o m   A d d r e s s   H o t e l   P l a t i n u m   1 4   S y e d   A m i r   A l i   A v e n u e   L o w e r   R a n g e   B e c k   B a g a n   B a l l y g u n g e   K o l k a t a   W e s t   B e n g a l   2 0 1 9   H o t e l   P l a t i n u m   A l l   R i g h t s   R e s e r v e d   D e s i g n   b y   G h o o t m e e   T e c h n o l o g y   T o   T o p ' ,   ' B O O K   Y O U R   S T A Y   N O W   t h e w h i t e w o n d e r   6 5   p o s t s   1   6 k   f o l l o w e r s   2   5 k   f o l l o w i n g   3 5   l i k e s   1   c o m m e n t s   A u g   1 3   2 0 1 9   R e p o s t   a k s h a y   t h a k e r   g u j a r a t i b a b l o   k u t c h   g a r v i g u j a r a t   w h i t e r a n n o f k u t c h   r a n n k i k a h a a n i y a   k u t c h t r i p   p r i l a g a   r a n n u t s a v 2 0 1 9   g u j a r a t   i g e r s   g u j a r a t d i a r i e s   o u r k u t c h   b h u j k u t c h   g u j a r a t t o u r i "
     ]
    },
    {
     "data": {
      "text/html": [
       "<b>limit_output extension: Maximum message size of 10000 exceeded with 2518292 characters</b>"
      ]
     },
     "metadata": {},
     "output_type": "display_data"
    },
    {
     "ename": "ValueError",
     "evalue": "empty vocabulary; perhaps the documents only contain stop words",
     "output_type": "error",
     "traceback": [
      "\u001b[0;31m---------------------------------------------------------------------------\u001b[0m",
      "\u001b[0;31mValueError\u001b[0m                                Traceback (most recent call last)",
      "\u001b[0;32m<ipython-input-19-407668cc3514>\u001b[0m in \u001b[0;36m<module>\u001b[0;34m\u001b[0m\n\u001b[1;32m      1\u001b[0m \u001b[0mprint\u001b[0m\u001b[0;34m(\u001b[0m\u001b[0mcontent_all_hotel\u001b[0m\u001b[0;34m)\u001b[0m\u001b[0;34m\u001b[0m\u001b[0;34m\u001b[0m\u001b[0m\n\u001b[0;32m----> 2\u001b[0;31m \u001b[0mactual_matrix_result\u001b[0m \u001b[0;34m=\u001b[0m \u001b[0mvectorizer\u001b[0m\u001b[0;34m.\u001b[0m\u001b[0mfit_transform\u001b[0m\u001b[0;34m(\u001b[0m\u001b[0;34m[\u001b[0m\u001b[0mcontent_all_hotel\u001b[0m\u001b[0;34m]\u001b[0m\u001b[0;34m)\u001b[0m\u001b[0;34m.\u001b[0m\u001b[0mtodense\u001b[0m\u001b[0;34m(\u001b[0m\u001b[0;34m)\u001b[0m\u001b[0;34m\u001b[0m\u001b[0;34m\u001b[0m\u001b[0m\n\u001b[0m\u001b[1;32m      3\u001b[0m \u001b[0;31m# 该类会统计每个词语的tf-idf权值\u001b[0m\u001b[0;34m\u001b[0m\u001b[0;34m\u001b[0m\u001b[0;34m\u001b[0m\u001b[0m\n\u001b[1;32m      4\u001b[0m \u001b[0mtransformer\u001b[0m \u001b[0;34m=\u001b[0m \u001b[0mTfidfTransformer\u001b[0m\u001b[0;34m(\u001b[0m\u001b[0;34m)\u001b[0m\u001b[0;34m\u001b[0m\u001b[0;34m\u001b[0m\u001b[0m\n\u001b[1;32m      5\u001b[0m \u001b[0;31m# 第一个fit_transform是计算tf-idf，第二个fit_transform是将文本转为词频矩阵\u001b[0m\u001b[0;34m\u001b[0m\u001b[0;34m\u001b[0m\u001b[0;34m\u001b[0m\u001b[0m\n",
      "\u001b[0;32m~/miniconda3/envs/python3.7.3_dev/lib/python3.7/site-packages/sklearn/feature_extraction/text.py\u001b[0m in \u001b[0;36mfit_transform\u001b[0;34m(self, raw_documents, y)\u001b[0m\n\u001b[1;32m   1056\u001b[0m \u001b[0;34m\u001b[0m\u001b[0m\n\u001b[1;32m   1057\u001b[0m         vocabulary, X = self._count_vocab(raw_documents,\n\u001b[0;32m-> 1058\u001b[0;31m                                           self.fixed_vocabulary_)\n\u001b[0m\u001b[1;32m   1059\u001b[0m \u001b[0;34m\u001b[0m\u001b[0m\n\u001b[1;32m   1060\u001b[0m         \u001b[0;32mif\u001b[0m \u001b[0mself\u001b[0m\u001b[0;34m.\u001b[0m\u001b[0mbinary\u001b[0m\u001b[0;34m:\u001b[0m\u001b[0;34m\u001b[0m\u001b[0;34m\u001b[0m\u001b[0m\n",
      "\u001b[0;32m~/miniconda3/envs/python3.7.3_dev/lib/python3.7/site-packages/sklearn/feature_extraction/text.py\u001b[0m in \u001b[0;36m_count_vocab\u001b[0;34m(self, raw_documents, fixed_vocab)\u001b[0m\n\u001b[1;32m    987\u001b[0m             \u001b[0mvocabulary\u001b[0m \u001b[0;34m=\u001b[0m \u001b[0mdict\u001b[0m\u001b[0;34m(\u001b[0m\u001b[0mvocabulary\u001b[0m\u001b[0;34m)\u001b[0m\u001b[0;34m\u001b[0m\u001b[0;34m\u001b[0m\u001b[0m\n\u001b[1;32m    988\u001b[0m             \u001b[0;32mif\u001b[0m \u001b[0;32mnot\u001b[0m \u001b[0mvocabulary\u001b[0m\u001b[0;34m:\u001b[0m\u001b[0;34m\u001b[0m\u001b[0;34m\u001b[0m\u001b[0m\n\u001b[0;32m--> 989\u001b[0;31m                 raise ValueError(\"empty vocabulary; perhaps the documents only\"\n\u001b[0m\u001b[1;32m    990\u001b[0m                                  \" contain stop words\")\n\u001b[1;32m    991\u001b[0m \u001b[0;34m\u001b[0m\u001b[0m\n",
      "\u001b[0;31mValueError\u001b[0m: empty vocabulary; perhaps the documents only contain stop words"
     ]
    }
   ],
   "source": [
    "print(content_all_hotel)\n",
    "actual_matrix_result = vectorizer.fit_transform([content_all_hotel]).todense()\n",
    "# 该类会统计每个词语的tf-idf权值\n",
    "transformer = TfidfTransformer()\n",
    "# 第一个fit_transform是计算tf-idf，第二个fit_transform是将文本转为词频矩阵\n",
    "tfidf = transformer.fit_transform(actual_matrix_result)\n",
    "# 将tf-idf矩阵抽取出来，元素a[i][j]表示j词在i类文本中的tf-idf权重\n",
    "# 获取词袋模型中的所有词语\n",
    "word = vectorizer.get_feature_names()\n",
    "weight = tfidf.toarray()"
   ]
  },
  {
   "cell_type": "code",
   "execution_count": 16,
   "metadata": {
    "ExecuteTime": {
     "end_time": "2019-10-17T12:42:27.599095Z",
     "start_time": "2019-10-17T12:42:27.593523Z"
    }
   },
   "outputs": [],
   "source": [
    "map = {}\n",
    "for j in range(len(word)):\n",
    "    temp = 0\n",
    "    for i in range(len(weight)):\n",
    "        temp += weight[i][j]\n",
    "    map.setdefault(word[j], temp)\n",
    "\n",
    "list = sorted(map.items(), key=lambda item: item[1], reverse=True)\n",
    "keys = [key for key, value in list]"
   ]
  },
  {
   "cell_type": "code",
   "execution_count": 17,
   "metadata": {
    "ExecuteTime": {
     "end_time": "2019-10-17T12:42:35.781714Z",
     "start_time": "2019-10-17T12:42:35.777810Z"
    }
   },
   "outputs": [
    {
     "name": "stdout",
     "output_type": "stream",
     "text": [
      "['and', 'king', 'rooms', 'with', 'oversized', 'the', 'bunk', 'feature', 'in', 'room', 'studio', '43', 'amenities', 'artwork', 'bar', 'bathroom', 'bespoke', 'complimentary', 'custom', 'deluxe', 'fi', 'fully', 'furniture', 'light', 'mini', 'mounted', 'natural', 'palisociety', 'rain', 'refrigerator', 'shower', 'smeg', 'space', 'stocked', 'television', 'wall', 'wi', 'windows', 'accessible', 'accommodations', 'are', 'available', 'bed', 'desk', 'for', 'ft', 'lovely', 'of', 'safe', 'sofa', 'sq', '215', '260', '335', '415', 'adjoining', 'an', 'book', 'clawfoot', 'compatible', 'connecting', 'convenience', 'crew', 'delightful', 'desks', 'double', 'each', 'enjoy', 'extra', 'families', 'floors', 'friends', 'full', 'groups', 'have', 'higher', 'ideal', 'laptop', 'more', 'on', 'or', 'our', 'partial', 'reserve', 'safes', 'sinks', 'situated', 'size', 'sleep', 'small', 'some', 'span', 'to', 'tubs', 'twin', 'up', 'views', 'water', 'whole', 'work']\n"
     ]
    }
   ],
   "source": [
    "print(keys)"
   ]
  },
  {
   "cell_type": "code",
   "execution_count": null,
   "metadata": {},
   "outputs": [],
   "source": []
  }
 ],
 "metadata": {
  "kernelspec": {
   "display_name": "Python [conda env:python3.7.3_dev] *",
   "language": "python",
   "name": "conda-env-python3.7.3_dev-py"
  },
  "language_info": {
   "codemirror_mode": {
    "name": "ipython",
    "version": 3
   },
   "file_extension": ".py",
   "mimetype": "text/x-python",
   "name": "python",
   "nbconvert_exporter": "python",
   "pygments_lexer": "ipython3",
   "version": "3.7.3"
  },
  "varInspector": {
   "cols": {
    "lenName": 16,
    "lenType": 16,
    "lenVar": 40
   },
   "kernels_config": {
    "python": {
     "delete_cmd_postfix": "",
     "delete_cmd_prefix": "del ",
     "library": "var_list.py",
     "varRefreshCmd": "print(var_dic_list())"
    },
    "r": {
     "delete_cmd_postfix": ") ",
     "delete_cmd_prefix": "rm(",
     "library": "var_list.r",
     "varRefreshCmd": "cat(var_dic_list()) "
    }
   },
   "types_to_exclude": [
    "module",
    "function",
    "builtin_function_or_method",
    "instance",
    "_Feature"
   ],
   "window_display": false
  }
 },
 "nbformat": 4,
 "nbformat_minor": 2
}
