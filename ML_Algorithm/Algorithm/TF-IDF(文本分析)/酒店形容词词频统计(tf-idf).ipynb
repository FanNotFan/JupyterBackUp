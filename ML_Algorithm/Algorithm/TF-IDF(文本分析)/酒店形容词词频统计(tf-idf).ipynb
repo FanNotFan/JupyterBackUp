{
 "cells": [
  {
   "cell_type": "code",
   "execution_count": 1,
   "metadata": {
    "ExecuteTime": {
     "end_time": "2019-10-18T06:02:36.225930Z",
     "start_time": "2019-10-18T06:02:33.844085Z"
    }
   },
   "outputs": [],
   "source": [
    "SHEET_NAME = 'Sheet1'\n",
    "FILE_NAME = 'hotel_content.xlsx'\n",
    "import numpy\n",
    "import pandas as pd\n",
    "from sklearn.feature_extraction.text import CountVectorizer\n",
    "from sklearn.feature_extraction.text import TfidfTransformer"
   ]
  },
  {
   "cell_type": "code",
   "execution_count": 2,
   "metadata": {
    "ExecuteTime": {
     "end_time": "2019-10-18T06:02:38.361591Z",
     "start_time": "2019-10-18T06:02:37.681859Z"
    }
   },
   "outputs": [
    {
     "data": {
      "text/html": [
       "<div>\n",
       "<style scoped>\n",
       "    .dataframe tbody tr th:only-of-type {\n",
       "        vertical-align: middle;\n",
       "    }\n",
       "\n",
       "    .dataframe tbody tr th {\n",
       "        vertical-align: top;\n",
       "    }\n",
       "\n",
       "    .dataframe thead th {\n",
       "        text-align: right;\n",
       "    }\n",
       "</style>\n",
       "<table border=\"1\" class=\"dataframe\">\n",
       "  <thead>\n",
       "    <tr style=\"text-align: right;\">\n",
       "      <th></th>\n",
       "      <th>url</th>\n",
       "      <th>theme</th>\n",
       "      <th>content</th>\n",
       "    </tr>\n",
       "  </thead>\n",
       "  <tbody>\n",
       "    <tr>\n",
       "      <th>0</th>\n",
       "      <td>https://www.oyorooms.com/id/40374-oyo-rooms-oy...</td>\n",
       "      <td>RoomSpider - Room</td>\n",
       "      <td>Your browser javascript is disabled please ena...</td>\n",
       "    </tr>\n",
       "    <tr>\n",
       "      <th>1</th>\n",
       "      <td>http://www.hotelplatinum.co.in</td>\n",
       "      <td>RoomSpider - Room</td>\n",
       "      <td>hotelplatinuminfo gmail com 91 89610 50299 801...</td>\n",
       "    </tr>\n",
       "    <tr>\n",
       "      <th>2</th>\n",
       "      <td>http://www.novapatgartents.com</td>\n",
       "      <td>RoomSpider - Room</td>\n",
       "      <td>BOOK YOUR STAY NOW thewhitewonder 65 posts 1 6...</td>\n",
       "    </tr>\n",
       "    <tr>\n",
       "      <th>3</th>\n",
       "      <td>https://www.nordlybornholm.dk/rooms---rates</td>\n",
       "      <td>RoomSpider - Room</td>\n",
       "      <td>Home Rooms amp Rates Schools Activities About ...</td>\n",
       "    </tr>\n",
       "    <tr>\n",
       "      <th>4</th>\n",
       "      <td>https://www.salt-kisses.com/vacation-rentals-h...</td>\n",
       "      <td>RoomSpider - Room</td>\n",
       "      <td>times You do not have Javascript enabled in yo...</td>\n",
       "    </tr>\n",
       "  </tbody>\n",
       "</table>\n",
       "</div>"
      ],
      "text/plain": [
       "                                                 url               theme  \\\n",
       "0  https://www.oyorooms.com/id/40374-oyo-rooms-oy...  RoomSpider - Room    \n",
       "1                     http://www.hotelplatinum.co.in  RoomSpider - Room    \n",
       "2                     http://www.novapatgartents.com  RoomSpider - Room    \n",
       "3        https://www.nordlybornholm.dk/rooms---rates  RoomSpider - Room    \n",
       "4  https://www.salt-kisses.com/vacation-rentals-h...  RoomSpider - Room    \n",
       "\n",
       "                                             content  \n",
       "0  Your browser javascript is disabled please ena...  \n",
       "1  hotelplatinuminfo gmail com 91 89610 50299 801...  \n",
       "2  BOOK YOUR STAY NOW thewhitewonder 65 posts 1 6...  \n",
       "3  Home Rooms amp Rates Schools Activities About ...  \n",
       "4  times You do not have Javascript enabled in yo...  "
      ]
     },
     "execution_count": 2,
     "metadata": {},
     "output_type": "execute_result"
    }
   ],
   "source": [
    "import os\n",
    "path = 'data' + os.sep + FILE_NAME\n",
    "df_news = pd.read_excel(path, sheet_name=SHEET_NAME)\n",
    "df_news.head()"
   ]
  },
  {
   "cell_type": "code",
   "execution_count": 3,
   "metadata": {
    "ExecuteTime": {
     "end_time": "2019-10-18T06:02:41.942553Z",
     "start_time": "2019-10-18T06:02:41.937932Z"
    }
   },
   "outputs": [
    {
     "data": {
      "text/plain": [
       "(256, 3)"
      ]
     },
     "execution_count": 3,
     "metadata": {},
     "output_type": "execute_result"
    }
   ],
   "source": [
    "df_news.shape"
   ]
  },
  {
   "cell_type": "markdown",
   "metadata": {},
   "source": [
    "##### 查看缺失值"
   ]
  },
  {
   "cell_type": "code",
   "execution_count": 4,
   "metadata": {
    "ExecuteTime": {
     "end_time": "2019-10-18T06:04:32.291376Z",
     "start_time": "2019-10-18T06:04:32.286863Z"
    }
   },
   "outputs": [
    {
     "data": {
      "text/plain": [
       "True"
      ]
     },
     "execution_count": 4,
     "metadata": {},
     "output_type": "execute_result"
    }
   ],
   "source": [
    "pd.isnull(df_news).values.any()"
   ]
  },
  {
   "cell_type": "markdown",
   "metadata": {},
   "source": [
    "#### 删除缺失值"
   ]
  },
  {
   "cell_type": "code",
   "execution_count": 5,
   "metadata": {
    "ExecuteTime": {
     "end_time": "2019-10-18T06:04:37.808582Z",
     "start_time": "2019-10-18T06:04:37.801525Z"
    }
   },
   "outputs": [
    {
     "data": {
      "text/plain": [
       "(252, 3)"
      ]
     },
     "execution_count": 5,
     "metadata": {},
     "output_type": "execute_result"
    }
   ],
   "source": [
    "df_news = df_news.dropna(axis=0,how='any')\n",
    "df_news.shape"
   ]
  },
  {
   "cell_type": "code",
   "execution_count": 6,
   "metadata": {
    "ExecuteTime": {
     "end_time": "2019-10-18T06:04:47.104742Z",
     "start_time": "2019-10-18T06:04:47.099145Z"
    }
   },
   "outputs": [
    {
     "data": {
      "text/plain": [
       "False"
      ]
     },
     "execution_count": 6,
     "metadata": {},
     "output_type": "execute_result"
    }
   ],
   "source": [
    "pd.isnull(df_news).values.any()"
   ]
  },
  {
   "cell_type": "markdown",
   "metadata": {},
   "source": [
    "#### 查看数据统计信息"
   ]
  },
  {
   "cell_type": "code",
   "execution_count": 7,
   "metadata": {
    "ExecuteTime": {
     "end_time": "2019-10-18T06:05:07.084411Z",
     "start_time": "2019-10-18T06:05:07.065550Z"
    },
    "scrolled": true
   },
   "outputs": [
    {
     "data": {
      "text/html": [
       "<div>\n",
       "<style scoped>\n",
       "    .dataframe tbody tr th:only-of-type {\n",
       "        vertical-align: middle;\n",
       "    }\n",
       "\n",
       "    .dataframe tbody tr th {\n",
       "        vertical-align: top;\n",
       "    }\n",
       "\n",
       "    .dataframe thead th {\n",
       "        text-align: right;\n",
       "    }\n",
       "</style>\n",
       "<table border=\"1\" class=\"dataframe\">\n",
       "  <thead>\n",
       "    <tr style=\"text-align: right;\">\n",
       "      <th></th>\n",
       "      <th>url</th>\n",
       "      <th>theme</th>\n",
       "      <th>content</th>\n",
       "    </tr>\n",
       "  </thead>\n",
       "  <tbody>\n",
       "    <tr>\n",
       "      <th>count</th>\n",
       "      <td>252</td>\n",
       "      <td>252</td>\n",
       "      <td>252</td>\n",
       "    </tr>\n",
       "    <tr>\n",
       "      <th>unique</th>\n",
       "      <td>252</td>\n",
       "      <td>1</td>\n",
       "      <td>251</td>\n",
       "    </tr>\n",
       "    <tr>\n",
       "      <th>top</th>\n",
       "      <td>https://www.aohostels.com/en/hotel/</td>\n",
       "      <td>RoomSpider - Room</td>\n",
       "      <td>ROOMS</td>\n",
       "    </tr>\n",
       "    <tr>\n",
       "      <th>freq</th>\n",
       "      <td>1</td>\n",
       "      <td>252</td>\n",
       "      <td>2</td>\n",
       "    </tr>\n",
       "  </tbody>\n",
       "</table>\n",
       "</div>"
      ],
      "text/plain": [
       "                                        url               theme content\n",
       "count                                   252                 252     252\n",
       "unique                                  252                   1     251\n",
       "top     https://www.aohostels.com/en/hotel/  RoomSpider - Room    ROOMS\n",
       "freq                                      1                 252       2"
      ]
     },
     "execution_count": 7,
     "metadata": {},
     "output_type": "execute_result"
    }
   ],
   "source": [
    "df_news.describe()"
   ]
  },
  {
   "cell_type": "markdown",
   "metadata": {},
   "source": [
    "#### 查看数据占用大小信息"
   ]
  },
  {
   "cell_type": "code",
   "execution_count": 8,
   "metadata": {
    "ExecuteTime": {
     "end_time": "2019-10-18T06:06:36.175951Z",
     "start_time": "2019-10-18T06:06:36.168824Z"
    }
   },
   "outputs": [
    {
     "name": "stdout",
     "output_type": "stream",
     "text": [
      "<class 'pandas.core.frame.DataFrame'>\n",
      "Int64Index: 252 entries, 0 to 255\n",
      "Data columns (total 3 columns):\n",
      "url        252 non-null object\n",
      "theme      252 non-null object\n",
      "content    252 non-null object\n",
      "dtypes: object(3)\n",
      "memory usage: 7.9+ KB\n"
     ]
    }
   ],
   "source": [
    "df_news.info()"
   ]
  },
  {
   "cell_type": "code",
   "execution_count": 9,
   "metadata": {
    "ExecuteTime": {
     "end_time": "2019-10-18T06:06:45.539456Z",
     "start_time": "2019-10-18T06:06:45.536559Z"
    }
   },
   "outputs": [],
   "source": [
    "# 将内容转换成 list\n",
    "content = df_news.content.values.tolist()\n",
    "# print(content[2])"
   ]
  },
  {
   "cell_type": "code",
   "execution_count": 10,
   "metadata": {
    "ExecuteTime": {
     "end_time": "2019-10-18T06:06:50.946111Z",
     "start_time": "2019-10-18T06:06:50.566402Z"
    }
   },
   "outputs": [],
   "source": [
    "vectorizer = CountVectorizer()\n",
    "content_S = []\n",
    "# content_all_hotel = ' '.join(content)\n",
    "# print(content_all_hotel)\n",
    "for line in content:\n",
    "    vectorizer.fit_transform([str(line)]).todense()\n",
    "    # 获取词袋模型中的所有词语\n",
    "    current_segment = vectorizer.get_feature_names()\n",
    "    # current_segment = jieba.lcut(line)\n",
    "    if len(current_segment) > 1 and current_segment != '\\r\\n': #换行符\n",
    "        content_S.append(current_segment)\n"
   ]
  },
  {
   "cell_type": "code",
   "execution_count": 11,
   "metadata": {
    "ExecuteTime": {
     "end_time": "2019-10-18T06:07:16.144603Z",
     "start_time": "2019-10-18T06:07:16.130637Z"
    }
   },
   "outputs": [
    {
     "data": {
      "text/html": [
       "<div>\n",
       "<style scoped>\n",
       "    .dataframe tbody tr th:only-of-type {\n",
       "        vertical-align: middle;\n",
       "    }\n",
       "\n",
       "    .dataframe tbody tr th {\n",
       "        vertical-align: top;\n",
       "    }\n",
       "\n",
       "    .dataframe thead th {\n",
       "        text-align: right;\n",
       "    }\n",
       "</style>\n",
       "<table border=\"1\" class=\"dataframe\">\n",
       "  <thead>\n",
       "    <tr style=\"text-align: right;\">\n",
       "      <th></th>\n",
       "      <th>content_S</th>\n",
       "    </tr>\n",
       "  </thead>\n",
       "  <tbody>\n",
       "    <tr>\n",
       "      <th>0</th>\n",
       "      <td>[00, 02, 101, 1148, 116, 119, 12, 17, 18, 180,...</td>\n",
       "    </tr>\n",
       "    <tr>\n",
       "      <th>1</th>\n",
       "      <td>[000, 123, 14, 200, 2019, 24, 26734, 50299, 80...</td>\n",
       "    </tr>\n",
       "    <tr>\n",
       "      <th>2</th>\n",
       "      <td>[10, 12, 1213, 13, 20, 2019, 26, 35, 370510, 5...</td>\n",
       "    </tr>\n",
       "    <tr>\n",
       "      <th>3</th>\n",
       "      <td>[about, activities, all, amp, and, beautiful, ...</td>\n",
       "    </tr>\n",
       "    <tr>\n",
       "      <th>4</th>\n",
       "      <td>[00, 01, 05, 06, 102, 103, 104, 109, 110, 125,...</td>\n",
       "    </tr>\n",
       "  </tbody>\n",
       "</table>\n",
       "</div>"
      ],
      "text/plain": [
       "                                           content_S\n",
       "0  [00, 02, 101, 1148, 116, 119, 12, 17, 18, 180,...\n",
       "1  [000, 123, 14, 200, 2019, 24, 26734, 50299, 80...\n",
       "2  [10, 12, 1213, 13, 20, 2019, 26, 35, 370510, 5...\n",
       "3  [about, activities, all, amp, and, beautiful, ...\n",
       "4  [00, 01, 05, 06, 102, 103, 104, 109, 110, 125,..."
      ]
     },
     "execution_count": 11,
     "metadata": {},
     "output_type": "execute_result"
    }
   ],
   "source": [
    "# content_S[2]\n",
    "df_content=pd.DataFrame({'content_S':content_S})\n",
    "df_content.head()"
   ]
  },
  {
   "cell_type": "code",
   "execution_count": 12,
   "metadata": {
    "ExecuteTime": {
     "end_time": "2019-10-18T06:10:24.174694Z",
     "start_time": "2019-10-18T06:10:24.148535Z"
    },
    "collapsed": true
   },
   "outputs": [
    {
     "name": "stdout",
     "output_type": "stream",
     "text": [
      "[['00', '02', '101', '1148', '116', '119', '12', '17', '18', '180', '1854', '187', '1975', '2014', '2019', '537', '89', '919', '92', '94', 'about', 'ac', 'airport15', 'all', 'amenities', 'and', 'any', 'app', 'apple', 'applied', 'are', 'bed', 'belvena', 'besar', 'besbswy', 'blog', 'book', 'browser', 'budget', 'bundaran', 'bus', 'cabana0', 'can', 'cancellation', 'capacious', 'careers', 'category', 'check', 'choose', 'coffee', 'coffee0', 'conditions', 'continue', 'coupon', 'details', 'disabled', 'double', 'download', 'enable', 'excellent', 'exciting', 'f19', 'f20', 'f21', 'f76', 'f77', 'f78', 'fan', 'for', 'free', 'fri', 'get', 'good', 'government', 'gt', 'guest', 'guests', 'hatta', 'hi', 'hotel', 'hotels', 'hurry', 'id', 'in', 'in17', 'incl', 'indonesia', 'intercom', 'international', 'is', 'issued', 'istana', 'istiqlal', 'it', 'jakarta', 'jakarta4', 'javascript', 'juanda', 'kalisma', 'kit', 'kms', 'know', 'kota', 'left', 'limited', 'login', 'lower', 'me', 'merdeka', 'merdeka0', 'metro', 'millenium', 'mirah', 'modern', 'mokka', 'monas', 'monumen', 'more', 'museum', 'nasional', 'near', 'nearby', 'next', 'night', 'oct', 'oct1', 'of', 'off', 'offers', 'official', 'offinclusive', 'on', 'ongoogle', 'only', 'oravel', 'out', 'out18', 'oyo', 'oyos', 'padang', 'partner', 'pastiadaoyo50', 'per', 'photos', 'platinum', 'play', 'please', 'pmcheck', 'pmcouples', 'policies', 'policy', 'policy2018', 'press', 'previous', 'price', 'privacy', 'private', 'proof', 'property', 'queen', 'railway', 'ratings', 'restaurants', 'restoran', 'reviews', 'room', 'rooms', 'rp200844', 'rp206268', 'rp268142', 'rp281511', 'rp284345', 'rp293674', 'rp33000011', 'rp34197922', 'rp40059529', 'rp448009', 'rp44800955', 'rp94515', 'sanur0', 'savings', 'sawah', 'search', 'see', 'select', 'selected', 'selectedindonesia', 'share', 'show', 'signup', 'similar', 'single', 'size', 'sized', 'soekarno', 'sqft', 'standard', 'starbucks', 'stasiun', 'station', 'station0', 'station2', 'stays', 'stop0', 'stop1', 'store', 'syariah', 'taxes', 'tea0', 'team', 'terms', 'textile', 'the', 'thu', 'to', 'total', 'travel', 'trendy', 'tua', 'tv', 'twin', 'us', 'using', 'very', 'view', 'weather', 'welcome', 'what', 'wifi', 'with', 'your', 'yuzuki'], ['000', '123', '14', '200', '2019', '24', '26734', '50299', '80171', '89610', '91', 'about', 'accommodation', 'address', 'affordable', 'aim', 'air', 'ali', 'all', 'along', 'amenities', 'amir', 'amp', 'and', 'are', 'at', 'attached', 'attractions', 'avenue', 'awesome', 'bagan', 'ballygunge', 'bathroom', 'beck', 'bed', 'bedrooms', 'bengal', 'bengali', 'best', 'bests', 'book', 'bright', 'by', 'call', 'can', 'cctv', 'center', 'centrally', 'city', 'clean', 'coffee', 'com', 'come', 'comfort', 'comfortable', 'concierge', 'conditioned', 'connect', 'contact', 'costumers', 'coverage', 'cuisines', 'decorated', 'design', 'dig', 'doctor', 'dry', 'enchanting', 'enjoy', 'enjoyable', 'excellent', 'exceptional', 'executive', 'experience', 'explore', 'families', 'famous', 'fantastic', 'feel', 'find', 'food', 'fridge', 'friendly', 'friends', 'from', 'full', 'gallery', 'get', 'geyser', 'ghootmee', 'give', 'gmail', 'good', 'great', 'guests', 'here', 'home', 'hotel', 'hotelplatinuminfo', 'hotels', 'hour', 'hours', 'in', 'intercom', 'into', 'its', 'kind', 'king', 'know', 'kolkata', 'learn', 'length', 'll', 'located', 'love', 'lovely', 'lower', 'luggage', 'luxurious', 'mail', 'make', 'maker', 'makes', 'making', 'master', 'menu', 'message', 'mirror', 'moment', 'more', 'must', 'name', 'navigation', 'now', 'number', 'of', 'offer', 'offers', 'on', 'one', 'our', 'phone', 'platinum', 'precious', 'proper', 'providing', 'range', 'rates', 'reception', 'reservation', 'reserved', 'restaurant', 'rights', 'room', 'rooms', 'see', 'send', 'service', 'services', 'shower', 'size', 'sofa', 'staff', 'standard', 'star', 'stay', 'staying', 'storage', 'surroundings', 'syed', 'table', 'tax', 'tea', 'technology', 'tend', 'the', 'their', 'them', 'to', 'today', 'toggle', 'top', 'truly', 'try', 'tv', 'unique', 'us', 'vacation', 'views', 'visitors', 'want', 'we', 'welcome', 'welcoming', 'west', 'what', 'while', 'wifi', 'with', 'you', 'your'], ['10', '12', '1213', '13', '20', '2019', '26', '35', '370510', '5k', '65', '6k', '74992', '74993', '7572975752', 'accommodate', 'activities', 'activity', 'address', 'adults', 'adventure', 'akshay', 'all', 'along', 'amp', 'and', 'are', 'area', 'as', 'assist', 'at', 'attached', 'attractive', 'aug', 'authentic', 'away', 'b2', 'backpacker', 'be', 'beauty', 'bed', 'bedroom', 'before', 'best', 'bhuj', 'bhujkutch', 'bird', 'birdwatching', 'blog', 'blown', 'bonfire', 'book', 'bring', 'budget', 'bus', 'by', 'camp', 'campsite', 'can', 'cemented', 'chhari', 'choose', 'city', 'closeness', 'closest', 'come', 'comes', 'comments', 'common', 'connect', 'contact', 'cuisine', 'darkness', 'deluxe', 'desert', 'designed', 'desktop', 'dhand', 'diaries', 'dining', 'dinner', 'dirty', 'dormitory', 'drive', 'early', 'enjoy', 'enough', 'etc', 'every', 'everyone', 'experience', 'experiences', 'facility', 'feb', 'flamingos', 'folk', 'followed', 'followers', 'following', 'for', 'from', 'garvigujarat', 'get', 'getting', 'gives', 'go', 'gorewali', 'guide', 'gujarat', 'gujaratdiaries', 'gujaratibablo', 'gujaratijalsa', 'gujarattourism', 'happy', 'have', 'hi', 'home', 'hours', 'if', 'igers', 'impressive', 'in', 'incomplete', 'incredible', 'inside', 'instagram', 'involves', 'is', 'it', 'just', 'km', 'kutch', 'kutchdiaries', 'kutchi', 'kutchnahidekhatohkuchnahidekha', 'kutchtourism', 'kutchtrip', 'life', 'lifetime', 'likes', 'littlerannofkutch', 'location', 'love', 'lovers', 'mandvi', 'memory', 'mid', 'mobile', 'more', 'morning', 'musics', 'n3', 'near', 'night', 'nirona', 'non', 'nova', 'novapatgartents', 'novapatgartents30', 'novapatgartents31', 'novapatgartents35', 'novapatgartents36', 'now', 'oct', 'of', 'on', 'one', 'ones', 'our', 'ourkutch', 'packages', 'pakkogujarati', 'parth', 'patgar', 'peace', 'people', 'perfect', 'ping', 'place', 'places', 'posts', 'premium', 'prilaga', 'private', 'pure', 'range', 'rann', 'rannkikahaaniya', 'rannofkutch', 'rannutsav', 'rannutsav2019', 'raports', 'rates', 'ready', 'repost', 'reservations', 'reserve', 'resort', 'ride', 'roganart', 'sanctuary', 'security', 'services', 'shreyavalecha', 'sighting', 'silence', 'simply', 'singing', 'sitout', 'spacious', 'spot', 'stay', 'stop', 'submit', 'tanujbhatia', 'taste', 'tea', 'temples', 'tent', 'tents', 'thaker', 'that', 'the', 'thewhitewonder', 'this', 'tieups', 'tight', 'tiled', 'to', 'token', 'total', 'tour', 'travelling', 'tunes', 'upto', 'us', 'utsahicreeparoundtheglobe', 'utsav', 'vehicle', 'version', 'view', 'village', 'villages', 'walk', 'washroom', 'washrooms', 'watchers', 'waterfly', 'we', 'welcome', 'wheel', 'wheels', 'white', 'whiterannofkutch', 'who', 'wildlife', 'will', 'with', 'without', 'you', 'your'], ['about', 'activities', 'all', 'amp', 'and', 'beautiful', 'bornholm', 'can', 'contact', 'cosy', 'do', 'experience', 'feeling', 'gallery', 'has', 'have', 'home', 'homey', 'hostel', 'in', 'info', 'is', 'many', 'more', 'most', 'nordly', 'northern', 'of', 'offer', 'rates', 'read', 'rooms', 'schools', 'surroundings', 'the', 'to', 'visiting', 'we', 'what', 'when', 'with', 'years', 'you'], ['00', '01', '05', '06', '102', '103', '104', '109', '110', '125', '201', '2019', '202', '203', '204', '205', '2543', '281', '68', '724', '75', '76307', '80', '8288', '95', 'about', 'activities', 'added', 'admin', 'aldea', 'all', 'allow', 'amp', 'and', 'area', 'arriving', 'asked', 'at', 'attractions', 'availability', 'azulito', 'bathrooms', 'baths', 'be', 'bedroom', 'bedrooms', 'bikes', 'box', 'browser', 'by', 'categories', 'check', 'code', 'com', 'company', 'conditions', 'contact', 'date', 'departing', 'descriptions', 'directions', 'do', 'driving', 'enabled', 'encanto', 'ensueno', 'este', 'falls', 'floor', 'free', 'frequently', 'garden', 'ground', 'guest', 'guests', 'guide', 'have', 'high', 'highline', 'home', 'images', 'in', 'indigo', 'information', 'jacuzzi', 'javascript', 'jump', 'kisses', 'later', 'let', 'listing', 'live', 'llc', 'local', 'login', 'low', 'management', 'map', 'most', 'need', 'not', 'oeste', 'oeste102', 'of', 'on', 'owner', 'owners', 'panoramic', 'paradise', 'paramar', 'penthouse', 'please', 'policy', 'pool', 'poolside', 'powered', 'price', 'privacy', 'private', 'properties', 'property', 'questions', 'rental', 'rentals', 'reserved', 'reviews', 'rez', 'rights', 'sale', 'salt', 'search', 'see', 'select', 'services', 'settings', 'sitemap', 'socialize', 'software', 'sort', 'specials', 'splash', 'starting', 'studio', 'terms', 'the', 'this', 'times', 'to', 'toll', 'tropical', 'tulum', 'tx', 'up', 'update', 'us', 'usd', 'use', 'vacation', 'view', 'weather', 'wichita', 'will', 'with', 'you', 'your', 'zama'], ['0812', '12', '123', '12345', '1661', '17', '18', '19872335', '2018', '2019', '25', '28', '3190', '52', '5335', '59', '62', '6221', 'ac', 'access', 'accommodation', 'adult', 'air', 'akmani', 'all', 'amenities', 'amp', 'and', 'anddozens', 'arrive', 'at', 'availability', 'bar', 'bathtub', 'bed', 'book', 'box', 'broadbandinternet', 'channels', 'check', 'children', 'code', 'coffee', 'conditioning', 'contact', 'controlled', 'deluxe', 'depart', 'deposit', 'designed', 'destination', 'dining', 'displayed', 'dryer', 'duvet', 'early', 'electronic', 'emotions', 'facilities', 'facility', 'fact', 'finger', 'for', 'free', 'full', 'grand', 'hair', 'hi', 'hotel', 'idd', 'in', 'individually', 'info', 'jumat', 'kamis', 'key', 'late', 'led', 'legian', 'living', 'making', 'makingfacilities', 'meeting', 'mineral', 'mini', 'minibar', 'miniral', 'neighbourhood', 'of', 'offers', 'okt', 'on', 'other', 'our', 'out', 'pantry', 'pm', 'policy', 'privacy', 'promo', 'reservation', 'reserved', 'rights', 'room', 'safety', 'sheet', 'shower', 'space', 'special', 'specially', 'sqm', 'standing', 'stay', 'subject', 'suite', 'tea', 'tech', 'telephone', 'the', 'tips', 'to', 'tv', 'water', 'wedding', 'what', 'wifi', 'wonder', 'your'], ['"
     ]
    },
    {
     "data": {
      "text/html": [
       "<b>limit_output extension: Maximum message size of 10000 exceeded with 677522 characters</b>"
      ]
     },
     "metadata": {},
     "output_type": "display_data"
    }
   ],
   "source": [
    "stopwords = pd.read_csv(\"stopwords.txt\",index_col=False,sep=\"\\t\",quoting=3,names=['stopword'], encoding='utf-8')\n",
    "stopwords = stopwords.stopword.values.tolist()\n",
    "contents = df_content.content_S.values.tolist()\n",
    "print(contents)\n",
    "# stopwords.head(20)"
   ]
  },
  {
   "cell_type": "code",
   "execution_count": 13,
   "metadata": {
    "ExecuteTime": {
     "end_time": "2019-10-18T06:11:02.313085Z",
     "start_time": "2019-10-18T06:11:00.382554Z"
    }
   },
   "outputs": [
    {
     "name": "stdout",
     "output_type": "stream",
     "text": [
      "250\n",
      "54777\n"
     ]
    }
   ],
   "source": [
    "def drop_stopwords(contents,stopwords):\n",
    "    contents_clean = []\n",
    "    all_words = []\n",
    "    for line in contents:\n",
    "        line_clean = []\n",
    "        for word in line:\n",
    "            if word in stopwords:\n",
    "                continue\n",
    "            line_clean.append(word)\n",
    "            all_words.append(str(word))\n",
    "        contents_clean.append(line_clean)\n",
    "    return contents_clean,all_words\n",
    "    #print (contents_clean)\n",
    "contents_clean,all_words = drop_stopwords(contents,stopwords)\n",
    "print(len(contents_clean))\n",
    "print(len(all_words))\n",
    "# print(contents_clean,all_words)\n",
    "\n",
    "#df_content.content_S.isin(stopwords.stopword)\n",
    "#df_content=df_content[~df_content.content_S.isin(stopwords.stopword)]\n",
    "#df_content.head()\n"
   ]
  },
  {
   "cell_type": "code",
   "execution_count": 15,
   "metadata": {
    "ExecuteTime": {
     "end_time": "2019-10-18T06:13:47.434781Z",
     "start_time": "2019-10-18T06:13:47.277687Z"
    },
    "collapsed": true
   },
   "outputs": [
    {
     "name": "stdout",
     "output_type": "stream",
     "text": [
      "00 101 1148 116 119 180 1854 187 1975 2019 537 919 ac airport15 amenities app apple applied bed belvena besar besbswy blog book browser budget bundaran bus cabana0 cancellation capacious careers category check choose coffee coffee0 conditions continue coupon details disabled double download enable excellent exciting f19 f20 f21 f76 f77 f78 fan free fri good government gt guest guests hatta hotel hotels hurry id in17 incl indonesia intercom international issued istana istiqlal jakarta jakarta4 javascript juanda kalisma kit kms kota left limited login lower merdeka merdeka0 metro millenium mirah modern mokka monas monumen museum nasional nearby night oct oct1 offers official offinclusive ongoogle oravel out18 oyo oyos padang partner pastiadaoyo50 photos platinum play pmcheck pmcouples policies policy policy2018 press previous price privacy private proof property queen railway ratings restaurants restoran reviews room rooms rp200844 rp206268 rp268142 rp281511 rp284345 rp293674 rp33000011 rp34197922 rp40059529 rp448009 rp44800955 rp94515 sanur0 savings sawah search select selected selectedindonesia share show signup similar single size sized soekarno sqft standard starbucks stasiun station station0 station2 stays stop0 stop1 store syariah taxes tea0 team terms textile thu total travel trendy tua tv twin view weather wifi yuzuki 000 123 200 2019 26734 50299 80171 89610 accommodation address affordable aim air ali amenities amir amp attached attractions avenue awesome bagan ballygunge bathroom beck bed bedrooms bengal bengali bests book bright call cctv center centrally city clean coffee comfort comfortable concierge conditioned connect contact costumers coverage cuisines decorated design dig doctor dry enchanting enjoy enjoyable excellent exceptional executive experience explore families famous fantastic feel find food fridge friendly friends full gallery geyser ghootmee give gmail good great guests home hotel hotelplatinuminfo hotels hour hours intercom kind king kolkata learn length ll located love lovely lower luggage luxurious mail make maker makes making master menu message mirror moment navigation number offer offers phone platinum precious proper providing range rates reception reservation reserved restaurant rights room rooms send service services shower size sofa staff standard star stay staying storage surroundings syed table tax tea technology tend today toggle top tv unique vacation views visitors welcoming west wifi 1213 2019 370510 5k 6k 74992 74993 7572975752 accommodate activities activity address adults adventure akshay amp area assist attached attractive aug authentic b2 backpacker beauty bed bedroom bhuj bhujkutch bird birdwatching blog blown bonfire book bring budget bus camp campsite cemented chhari choose city closeness closest comments common connect contact cuisine darkness deluxe desert designed desktop dhand diaries dining dinner dirty dormitory drive early enjoy experience experiences facility feb flamingos folk followers garvigujarat gorewali guide gujarat gujaratdiaries gujaratibablo gujaratijalsa gujarattourism happy home hours igers impressive incomplete incredible inside instagram involves km kutch kutchdiaries kutchi kutchnahidekhatohkuchnahidekha kutchtourism kutchtrip life lifetime likes littlerannofkutch location love lovers mandvi memory mid mobile morning musics n3 night nirona nova novapatgartents novapatgartents30 novapatgartents31 novapatgartents35 novapatgartents36 oct ourkutch packages pakkogujarati parth patgar peace people perfect ping place places posts premium prilaga private pure range rann rannkikahaaniya rannofkutch rannutsav rannutsav2019 raports rates ready repost reservations reserve resort ride roganart sanctuary security services shreyavalecha sighting silence simply singing sitout spacious spot stay stop submit tanujbhatia taste tea temples tent tents thaker thewhitewonder tieups tight tiled token total tour travelling tunes upto utsahicreeparoundtheglobe utsav vehicle version view village villages walk washroom washrooms watchers waterfly wheel wheels white whiterannofkutch wildlife activities amp beautiful bornholm contact cosy experience feeling gallery home homey hostel info nordly northern offer rates read rooms schools surroundings visiting years 00 102 103 104 109 110 125 201 2019 202 203 204 205 2543 281 724 76307 8288 activities added admin aldea amp area arriving asked attractions availability azulito bathrooms baths bedroom bedrooms bikes box browser categories check code company conditions contact date departing descriptions directions driving enabled encanto ensueno este falls floor free frequently garden ground guest guests guide high highline home images indigo information jacuzzi javascript jump kisses listing live llc local login low management map oeste oeste102 owner owners panoramic paradise paramar penthouse policy pool poolside powered price privacy private properties property questions rental rentals reserved reviews rez rights sale salt search select services settings sitemap socialize software sort specials splash starting studio terms times toll tropical tulum tx update usd vacation view weather wichita zama 0812 123 12345 1661 19872335 2018 2019 3190 5335 6221 ac access accommodation adult air akmani amenities amp anddozens arrive availability bar bathtub bed book box broadbandinternet channels check children code coffee conditioning contact controlled deluxe depart deposit designed destination dining displayed dryer duvet early electronic emotions facilities facility fact finger free full grand hair hotel idd individually info jumat kamis key late led legian living making makingfacilities meeting mineral mini minibar miniral neighbourhood offers okt pantry pm policy privacy promo reservation reserved rights room safety sheet shower space special specially sqm standing stay subject suite tea tech telephone tips tv water wedding wifi air amenities bathroom bathtub bed beds board bottled car cctv channels city coffee conditioning daily deluxe desk double dryer fi free garden guild hair head home host hotel housekeeping iron ironing led live maker managed park phone powered private proof queen request room safe satellite security service shower single site slippers sound standard tawau tea toiletries tour triple tv twin unifi vehicle viewing water weebly wi 斗湖旅游 旅馆房间 administrator contact domain expired hosting owner renew website 00 04868 1952 296296 788 850 900 9400733296 9447823284 952 957 995 abilities ac accommodate activities activity actual additional address adequate adult adults advance adventurous age ages agriculture air altitude ambience amenities amount amp anchuruli animal animals annual antibacterial anticancer antifungal antioxidant appetite applicable april arch area areas aromatic arrange arranged arrangements art arts asia attack attraction attractions attractive august auspicious availability average ayyapan ayyappan back backwaters balcony based basis bath bathroom beautiful beautifully beauty bed bedroom belts benefits besbswy biggest bird birds bison black blessed boar board boating body booking boost boosting bounty breezy bring brings buffet build bullock calvary calvarymount camp capacity captivating card cardamom cardio cards carom caroms category center centre ceo cerebral ceremonials chair chaka chance channels charges chathurangappara check chellarkovil chembu chena chenda chess child children chili cinnamon city clad class classification clean climate climates climbing close coco cocoa code coffee cold coldest collected combination combined comfort comfortable commemorate commercial complement complimentary conditioned conference confirmation constructed contact cooking cost couch covered crops cubical cuisine cultivation cultural cured custom cycle cylinder daily dam dams dance day days december decorum deer deluxe dense designated destinations developed dinner diseases dist district door dream due dumbbells duration earlier early earth elephant elephants email embrace end engaging enjoy ep erstwhile established evergreen executive experience experiences exploration explore exquisite exterior extra extremely facilitated facilities facility facing fact falls families family famous farm farmers farming fascinating feeding feel feet fertilizers fi fields fire fires fish fishing fit fitness flat flourished food foodies forefather forefathers forest forests form forms fragrances free front ft full fun functions furnishing gallery games gamings garden gas gatherings ge geographical ghats gifted ginger give globe gmail good government green greenish grider grill grills groomed group groups guest guests hall haven heart heat heaven heritage high highest hill hills hillview history homestay honey hourly house humidity hygenic hygienic ideal idukki immune important included india individual individuals indoor indulge information inhabitants inside institute intellectual intercom interesting intimation invite jackfruit jeep joseph july june kalaripayatthu kalyanathandu kappa kathakali kattapana kattappana kerala kids king kitchen km kms koodiyattam koppen kovil ladder lake land lands landscape landscaped largest led level levels life lifestyle lighting list live lively living ll located location long love ludo lunch lush lushly luxuries luxury machines made main major majority make maker mammal man mansion march marketing martial maximizing medicinal melam memorable mend mending mesmerising mesmerizing microwave mid migrated mind miss misty mixer mobile moderate modern mohiniyattam monkeys month months mother mount mountain mountains mounts municipal municipality music nadu natural nature navigation neat njallani note november number numerous nurtured nutmeg occupation october offer offers office opportunity options organic organize organized ottamthullal outdoor oven packages packs pampadupara panchalimedu parakkadavu park parties parts parunthanpara parunthumpara people pepper percussions perfect performance peri"
     ]
    },
    {
     "data": {
      "text/html": [
       "<b>limit_output extension: Maximum message size of 10000 exceeded with 409644 characters</b>"
      ]
     },
     "metadata": {},
     "output_type": "display_data"
    }
   ],
   "source": [
    "content_all_hotel = ' '.join(all_words)\n",
    "print(content_all_hotel)\n",
    "actual_matrix_result = vectorizer.fit_transform([content_all_hotel]).todense()\n",
    "# 该类会统计每个词语的tf-idf权值\n",
    "transformer = TfidfTransformer()\n",
    "# 第一个fit_transform是计算tf-idf，第二个fit_transform是将文本转为词频矩阵\n",
    "tfidf = transformer.fit_transform(actual_matrix_result)\n",
    "# 将tf-idf矩阵抽取出来，元素a[i][j]表示j词在i类文本中的tf-idf权重\n",
    "# 获取词袋模型中的所有词语\n",
    "word = vectorizer.get_feature_names()\n",
    "weight = tfidf.toarray()"
   ]
  },
  {
   "cell_type": "code",
   "execution_count": 16,
   "metadata": {
    "ExecuteTime": {
     "end_time": "2019-10-18T06:13:58.916494Z",
     "start_time": "2019-10-18T06:13:58.876144Z"
    }
   },
   "outputs": [],
   "source": [
    "map = {}\n",
    "for j in range(len(word)):\n",
    "    temp = 0\n",
    "    for i in range(len(weight)):\n",
    "        temp += weight[i][j]\n",
    "    map.setdefault(word[j], temp)\n",
    "\n",
    "list = sorted(map.items(), key=lambda item: item[1], reverse=True)\n",
    "keys = [key for key, value in list]"
   ]
  },
  {
   "cell_type": "code",
   "execution_count": 17,
   "metadata": {
    "ExecuteTime": {
     "end_time": "2019-10-18T06:14:00.498036Z",
     "start_time": "2019-10-18T06:14:00.490404Z"
    }
   },
   "outputs": [
    {
     "name": "stdout",
     "output_type": "stream",
     "text": [
      "['room', 'rooms', 'bed', 'book', 'amp', 'hotel', 'tv', 'view', 'shower', 'double', 'suite', 'amenities', 'contact', 'king', 'check', '2019', 'bathroom', 'home', 'free', 'stay', 'beds', 'guests', 'area', 'private', 'experience', 'offers', 'guest', 'coffee', 'service', 'wi', 'close', 'fi', 'queen', 'children', 'air', 'spacious', 'details', 'night', 'policy', 'living', 'suites', 'adults', 'family', 'access', 'dining', 'bedroom', 'features', 'size', 'city', 'enjoy', 'rates', 'deluxe', 'special', 'privacy', 'website', 'floor', 'full', 'breakfast', 'cookies', 'facilities', 'information', 'bar', 'comfortable', 'internet', 'location', 'space', 'availability', 'gallery', 'bath', 'reservation', 'services', 'offer', 'time', 'day', 'make', 'previous', 'single', 'site', 'desk', 'tea', 'top', 'large', 'comfort', 'content', 'reservations', 'safe', 'located', 'parking', 'sofa', 'conditioning', 'email', 'standard', 'balcony', 'events', 'flat', 'high', 'local', 'main', 'october', 'provide', 'screen', 'twin', 'wifi', 'accessible', 'hotels', 'request', 'views', 'complimentary', 'date', 'garden', 'people', 'skip', 'back', 'select', 'separate', '00', 'number', 'open', 'read', 'style', 'accommodations', 'luxury', 'smoking', 'booking', 'equipped', 'hairdryer', 'modern', 'place', 'pool', 'board', 'kitchen', 'perfect', 'phone', 'dryer', 'arrival', 'including', 'iron', 'microwave', 'property', 'type', 'water', 'accommodation', 'ironing', 'mini', 'rate', 'travel', 'tub', 'business', 'group', 'hair', 'map', 'premium', 'cable', 'daily', 'find', 'rights', 'table', 'address', 'code', 'cookie', 'extra', 'meetings', 'refrigerator', 'relax', 'superior', 'terms', 'designed', 'fridge', 'house', 'includes', 'restaurant', 'unique', 'additional', 'center', 'fri', 'great', 'include', 'included', 'menu', 'channels', 'lounge', 'seattle', 'share', 'sun', 'telephone', 'walk', 'beautiful', 'reserved', 'reviews', 'info', 'maker', 'online', 'park', 'photos', 'satellite', 'towels', 'enter', 'hour', 'learn', 'outdoor', 'thu', 'windows', 'making', 'oct', 'price', 'search', 'work', 'friendly', 'ideal', 'set', 'small', 'box', 'call', 'choose', 'families', 'fully', 'good', 'marketing', 'required', 'square', 'studio', 'bathrooms', 'dates', 'feature', 'page', 'party', 'spa', 'street', 'bedrooms', 'hot', 'nights', 'november', 'seating', 'show', 'sitting', 'speed', 'wireless', 'beach', 'departure', 'toiletries', 'visit', 'airport', 'conditions', 'continuing', 'corporate', 'english', 'feet', 'fr', 'light', 'made', 'meeting', 'resort', 'sign', 'trip', 'activities', 'add', 'adult', 'areas', 'attractions', 'explore', 'facebook', 'ft', 'heating', 'inn', 'll', 'maximum', 'media', 'notice', 'packages', 'credit', 'days', 'exclusive', 'executive', 'feel', 'luxurious', 'plush', 'provided', 'terrace', 'weddings', 'apartment', 'chair', 'charge', 'contemporary', 'direct', 'downtown', 'fitness', 'furnished', 'mon', 'navigation', 'powered', 'products', 'quality', 'south', 'sq', 'wed', 'years', 'car', 'ceiling', 'click', 'clock', 'complete', 'cozy', 'en', 'fax', 'give', 'hours', 'pets', 'sleep', 'social', 'television', 'toilet', 'tue', 'alarm', 'based', 'change', 'cleaning', 'club', 'ensure', 'event', 'gt', 'overview', 'person', 'purposes', 'reserve', 'save', 'total', 'town', 'agree', 'art', 'calendar', 'cancellation', 'early', 'food', 'found', 'holiday', 'mo', 'personal', 'road', 'sa', 'sized', 'things', 'tu', '2018', 'aaa', 'browser', 'data', 'easy', 'front', 'groups', 'heart', 'kitchenette', 'max', 'order', 'persons', 'policies', 'restaurants', 'send', 'slippers', 'state', 'su', 'web', 'centre', 'child', 'consent', 'deposit', 'directly', 'featuring', 'furniture', 'grand', 'inch', 'linen', 'long', 'mail', 'month', 'press', 'receive', 'roll', 'romantic', 'selection', 'staff', 'staying', 'vacation', 'agreeing', 'bars', 'browse', 'copyright', 'directions', 'entertainment', 'lcd', 'natural', 'offering', 'plan', 'reception', 'security', 'situated', 'accept', 'accessibility', 'account', 'allowed', 'card', 'central', 'clean', 'corner', 'decorated', 'excellent', 'fresh', 'government', 'housekeeping', 'id', 'jan', 'list', 'marble', 'members', 'message', 'points', 'prev', 'promo', 'radio', 'san', 'sound', 'states', 'station', 'subject', 'swimming', 'team', 'types', 'year', '2020', '400', 'apply', 'bay', 'besbswy', 'closet', 'continue', 'electronic', 'end', 'floors', 'love', 'north', 'pm', 'specific', 'times', '12345678910111213141516171819202122232425262728293031', 'advance', 'analytical', 'cancel', 'chairs', 'choice', 'control', 'design', 'dinner', 'discover', 'guaranteed', 'history', 'key', 'laundry', 'led', 'life', 'links', 'minibar', 'occupancy', 'oversized', 'photo', 'promotions', 'relaxing', 'tax', 'technical', 'travelers', 'wardrobe', '250', 'avenue', 'confirmation', 'consult', 'count', 'country', 'couples', 'destination', 'don', 'forward', 'french', 'friends', 'gift', 'guarantee', 'individual', 'international', 'join', 'linens', 'live', 'machine', 'mobility', 'nearby', 'overlooking', 'pay', 'premier', 'review', 'rewards', 'shared', 'sleeper', 'smart', 'smoke', 'summer', 'system', 'today', 'usd', 'wa', '800', 'advisor', 'bathtub', 'blog', 'bookings', 'boutique', 'bright', 'concierge', 'convenience', 'elegant', 'fire', 'follow', 'form', 'furnishings', 'ground', 'kids', 'la', 'neighborhood', 'note', 'password', 'prices', 'providing', 'questions', 'sea', 'setting', 'similar', 'sleeping', 'soft', 'st', 'store', 'stunning', 'tel', 'united', 'washington', 'white', 'wide', 'wine', 'wood', 'accommodate', 'american', 'careers', 'conditioned', 'customer', 'december', 'door', 'drink', 'eat', 'electric', 'fan', 'friday', 'google', 'green', 'images', 'july', 'junior', 'kettle', 'lake', 'leisure', 'market', 'mountain', 'patio', 'rain', 'residence', 'selected', 'steps', 'tour', 'triple', 'visiting', 'warm', '200', '206', 'accepted', 'ada', 'apartments', 'april', 'august', 'beautifully', 'bedding', 'booked', 'building', 'charm', 'collection', 'connected', 'description', 'digital', 'discount', 'entrance', 'field', 'fireplace', 'flexible', 'glass', 'image', 'important', 'indonesia', 'island', 'june', 'late', 'latest', 'line', 'march', 'master', 'months', 'morning', 'music', 'original', 'part', 'pillow', 'player', 'prior', 'public', 'rating', 'rest', 'safety', 'signature', 'star', 'tab', 'toaster', 'tvs', 'twitter', 'visitors', 'wedding', 'world', '000', 'bathrobes', 'charges', 'classic', 'current', 'fun', 'function', 'getaway', 'guestrooms', 'happy', 'inside', 'm2', 'massage', 'member', 'military', 'minutes', 'nature', 'navigate', 'ocean', 'oven', 'pacific', 'pillows', 'register', 'rental', 'sat', 'senior', 'shopping', 'short', 'side', 'soaking', 'spend', 'support', 'surroundings', 'text', 'toggle', 'wake', 'walking', 'weekend', 'window', 'www', '123', '500', 'added', 'atmosphere', 'big', 'cards', 'chat', 'class', 'continental', 'currency', 'due', 'extended', 'facing', 'general', 'helpful', 'hospitality', 'improve', 'january', 'language', 'law', 'limited', 'lovely', 'lt', 'mattress', 'meet', 'minimum', 'national', 'newspaper', 'option', 'pet', 'play', 'pleasure', 'point', 'pre', 'real', 'recommend', 'september', 'simple', 'spaces', 'touch', 'travelling', 'union', 'unit', 'upgrade', 'working', '220', 'age', 'app', 'appointed', 'australia', 'built', 'bus', 'category', 'conference', 'connection', 'controlled', 'couple', 'create', 'de', 'dedicated', 'deliver', 'discounts', 'doors', 'drinks', 'dvd', 'espa', 'express', 'hd', 'historic', 'india', 'largest', 'loading', 'lobby', 'makes', 'manager', 'maps', 'mobile', 'newly', 'nice', 'options', 'package', 'panoramic', 'payment', 'pull', 'shop', 'showers', 'sites', 'start', 'stocked', 'traveling', 'turn', 'unwind', 'usa', 'vary', 've', 'websites', 'west', '225', 'applies', 'bring', 'browsing', 'bunk', 'canada', 'capacity', 'china', 'company', 'connecting', 'cooking', 'covered', 'deals', 'distance', 'dressing', 'escape', 'famous', 'fast', 'february', 'fee', 'fran', 'golf', 'head', 'hearing', 'indoor', 'instagram', 'intimate', 'kingdom', 'kit', 'left', 'length', 'link', 'locations', 'mar', 'mind', 'mountains', 'pages', 'perfectly', 'planning', 'range', 'retreat', 'sets', 'stays', 'stop', 'storage', 'thailand', 'traveler', 'true', 'tubs', 'urban', 'variety', 'viewing', 'western', 'writing', '1234', '600', 'affordable', 'attention', 'authentic', 'basic', 'beer', 'blue', 'budget', 'buffet', 'catering', 'christmas', 'codes', 'combined', 'counter', 'custom', 'dec', 'destinations', 'detail', 'devices', 'dishwasher', 'district', 'dry', 'earn', 'ensuite', 'entire', 'faq', 'fields', 'flight', 'france', 'georgia', 'grab', 'hand', 'highway', 'historical', 'interact', 'ireland', 'jacuzzi', 'japan', 'kong', 'larger', 'leave', 'level', 'lift', 'lights', 'login', 'manage', 'modify', 'net', 'news', 'newsletter', 'nightly', 'northwest', 'offered', 'outlets', 'paid', 'panel', 'preferences', 'relaxation', 'remove', 'renovated', 'reset', 'resorts', 'robes', 'saint', 'simply', 'sink', 'sleeps', 'statement', 'strictly', 'submit', 'super', 'tours', 'traffic', 'transport', 'updated', 'upscale', 'utensils', 'valet', 'village', 'weather', 'welcoming', 'wheelchair', 'wonderful', 'zealand', '350', 'africa', 'amazing', 'ample', 'applied', 'assistance', 'aug', 'award', 'beauty', 'blackout', 'cape', 'channel', 'coffeemaker', 'combination', 'condition', 'confirmed', 'convenient', 'cook', 'costa', 'courtyard', 'czech', 'del', 'disabled', 'drive', 'duvet', 'enabled', 'european', 'featured', 'foot', 'greece', 'guide', 'heritage', 'hong', 'host', 'iceland', 'independent', 'individually', 'laptop', 'library', 'longer', 'loved', 'low', 'lower', 'major', 'management', 'match', 'meals', 'mexico', 'miles', 'mirror', 'moment', 'movie', 'northern', 'nov', 'official', 'penthouse', 'program', 'requires', 'savings', 'season', 'sense', 'sep', 'shown', 'singapore', 'spectacular', 'sports', 'sri', 'sunday', 'taiwan', 'taxes', 'televisions', 'tropical', 'ultimate', 'unforgettable', 'users', 'videos', 'villa', 'v"
     ]
    },
    {
     "data": {
      "text/html": [
       "<b>limit_output extension: Maximum message size of 10000 exceeded with 144632 characters</b>"
      ]
     },
     "metadata": {},
     "output_type": "display_data"
    }
   ],
   "source": [
    "print(keys)"
   ]
  },
  {
   "cell_type": "markdown",
   "metadata": {},
   "source": [
    "### ROOMCLASS 词频提取"
   ]
  },
  {
   "cell_type": "code",
   "execution_count": null,
   "metadata": {},
   "outputs": [],
   "source": [
    "ROOMCLASS = [\n",
    "    'Club Superior'\n",
    "    , 'Signature Executive'\n",
    "    , 'Disability Access'\n",
    "    , 'Disable Friendly'\n",
    "    , 'Deluxe Executie'\n",
    "    , 'Deluxe Executive'\n",
    "    , 'The Beatles'\n",
    "    , 'Prima Donna'\n",
    "    , 'Superior Deluxe'\n",
    "    , 'Space Needle'\n",
    "    , 'ultra-Luxury'\n",
    "    , 'Snow Dove'\n",
    "    , 'Exclusive'\n",
    "    , 'Executive'\n",
    "    , 'Deluxe'\n",
    "    , 'Gallery'\n",
    "    , 'Grand'\n",
    "    , 'Junior'\n",
    "    , 'Luxury'\n",
    "    , 'Superior'\n",
    "    , 'Senior'\n",
    "    , 'Signature'\n",
    "    , 'Superia'\n",
    "    , 'Classic'\n",
    "    , 'Premium'\n",
    "    , 'Premier'\n",
    "    , 'Presidential'\n",
    "    , 'Lux'\n",
    "    , 'Economical'\n",
    "    , 'Economy'\n",
    "    , 'Adjoining'\n",
    "    , 'Bridal'\n",
    "    , 'Prima'\n",
    "    , 'Aloft'\n",
    "    , 'Maestro'\n",
    "    , 'Juliet'\n",
    "    , 'Basic'\n",
    "    , 'Cascade'\n",
    "    , 'Classico'\n",
    "    , 'Club'\n",
    "    , 'Comfort'\n",
    "    , 'Cozy'\n",
    "    , 'Cabin'\n",
    "    , 'Design'\n",
    "    , 'Denny'\n",
    "    , 'Ensemble'\n",
    "    , 'Elite'\n",
    "    , 'Family'\n",
    "    , 'Families'\n",
    "    , 'Friendly'\n",
    "    , 'Guest'\n",
    "    , 'Graduate'\n",
    "    , 'Grizzly'\n",
    "    , 'Goldfinch'\n",
    "    , 'Honeymoon'\n",
    "    , 'Harbour'\n",
    "    , 'Hospitality'\n",
    "    , 'Hummingbird'\n",
    "    , 'Mini'\n",
    "    , 'Lummi'\n",
    "    , 'Majestic'\n",
    "    , 'Maestro'\n",
    "    , 'Master'\n",
    "    , 'Meadowlark'\n",
    "    , 'Minnie'\n",
    "    , 'Monarch'\n",
    "    , 'Northwoods'\n",
    "    , 'Panoramic'\n",
    "    , 'Prince'\n",
    "    , 'Romantic'\n",
    "    , 'Royal'\n",
    "    , 'Shared'\n",
    "    , 'Sorrento'\n",
    "    , 'Starling'\n",
    "    , 'Sandpiper'\n",
    "    , 'Traditional'\n",
    "    , 'Urban'\n",
    "    , 'Business'\n",
    "    , 'Standard'\n",
    "    , 'Private'\n",
    "    , 'Entire'\n",
    "    , 'Non-view'\n",
    "    , 'Spa'\n",
    "             ]"
   ]
  }
 ],
 "metadata": {
  "kernelspec": {
   "display_name": "Python [conda env:python3.7.3_dev] *",
   "language": "python",
   "name": "conda-env-python3.7.3_dev-py"
  },
  "language_info": {
   "codemirror_mode": {
    "name": "ipython",
    "version": 3
   },
   "file_extension": ".py",
   "mimetype": "text/x-python",
   "name": "python",
   "nbconvert_exporter": "python",
   "pygments_lexer": "ipython3",
   "version": "3.7.3"
  },
  "varInspector": {
   "cols": {
    "lenName": 16,
    "lenType": 16,
    "lenVar": 40
   },
   "kernels_config": {
    "python": {
     "delete_cmd_postfix": "",
     "delete_cmd_prefix": "del ",
     "library": "var_list.py",
     "varRefreshCmd": "print(var_dic_list())"
    },
    "r": {
     "delete_cmd_postfix": ") ",
     "delete_cmd_prefix": "rm(",
     "library": "var_list.r",
     "varRefreshCmd": "cat(var_dic_list()) "
    }
   },
   "types_to_exclude": [
    "module",
    "function",
    "builtin_function_or_method",
    "instance",
    "_Feature"
   ],
   "window_display": false
  }
 },
 "nbformat": 4,
 "nbformat_minor": 2
}
