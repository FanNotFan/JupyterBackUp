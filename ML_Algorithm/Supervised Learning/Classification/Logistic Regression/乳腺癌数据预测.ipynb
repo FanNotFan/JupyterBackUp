{
 "cells": [
  {
   "cell_type": "code",
   "execution_count": 4,
   "metadata": {
    "execution": {
     "iopub.execute_input": "2021-02-03T02:07:31.110228Z",
     "iopub.status.busy": "2021-02-03T02:07:31.109882Z",
     "iopub.status.idle": "2021-02-03T02:07:31.440136Z",
     "shell.execute_reply": "2021-02-03T02:07:31.439109Z",
     "shell.execute_reply.started": "2021-02-03T02:07:31.110186Z"
    }
   },
   "outputs": [],
   "source": [
    "from sklearn.linear_model import LogisticRegression as LR \n",
    "from sklearn.datasets import load_breast_cancer \n",
    "import numpy as np \n",
    "import matplotlib.pyplot as plt \n",
    "from sklearn.model_selection import train_test_split \n",
    "from sklearn.metrics import accuracy_score"
   ]
  },
  {
   "cell_type": "code",
   "execution_count": 5,
   "metadata": {
    "execution": {
     "iopub.execute_input": "2021-02-03T02:08:02.579759Z",
     "iopub.status.busy": "2021-02-03T02:08:02.579401Z",
     "iopub.status.idle": "2021-02-03T02:08:02.598544Z",
     "shell.execute_reply": "2021-02-03T02:08:02.597598Z",
     "shell.execute_reply.started": "2021-02-03T02:08:02.579727Z"
    }
   },
   "outputs": [],
   "source": [
    "data=load_breast_cancer()\n",
    "X=data.data \n",
    "y=data.target"
   ]
  },
  {
   "cell_type": "code",
   "execution_count": 9,
   "metadata": {
    "execution": {
     "iopub.execute_input": "2021-02-03T02:08:41.329882Z",
     "iopub.status.busy": "2021-02-03T02:08:41.329634Z",
     "iopub.status.idle": "2021-02-03T02:08:41.337202Z",
     "shell.execute_reply": "2021-02-03T02:08:41.336091Z",
     "shell.execute_reply.started": "2021-02-03T02:08:41.329857Z"
    }
   },
   "outputs": [
    {
     "data": {
      "text/plain": [
       "(569, 30)"
      ]
     },
     "execution_count": 9,
     "metadata": {},
     "output_type": "execute_result"
    }
   ],
   "source": [
    "data.data.shape"
   ]
  },
  {
   "cell_type": "markdown",
   "metadata": {},
   "source": [
    "#### L1正则化会将参数压缩为0，L2正则化只会让参数尽量小，不会取到0"
   ]
  },
  {
   "cell_type": "code",
   "execution_count": 10,
   "metadata": {
    "execution": {
     "iopub.execute_input": "2021-02-03T02:09:29.385728Z",
     "iopub.status.busy": "2021-02-03T02:09:29.385436Z",
     "iopub.status.idle": "2021-02-03T02:09:29.390320Z",
     "shell.execute_reply": "2021-02-03T02:09:29.389073Z",
     "shell.execute_reply.started": "2021-02-03T02:09:29.385698Z"
    }
   },
   "outputs": [],
   "source": [
    "lrl1=LR(penalty=\"l1\",solver=\"liblinear\",C=0.5,max_iter=1000)"
   ]
  },
  {
   "cell_type": "code",
   "execution_count": 11,
   "metadata": {
    "execution": {
     "iopub.execute_input": "2021-02-03T02:09:33.868400Z",
     "iopub.status.busy": "2021-02-03T02:09:33.868131Z",
     "iopub.status.idle": "2021-02-03T02:09:34.351087Z",
     "shell.execute_reply": "2021-02-03T02:09:34.350447Z",
     "shell.execute_reply.started": "2021-02-03T02:09:33.868373Z"
    }
   },
   "outputs": [
    {
     "data": {
      "text/plain": [
       "array([[ 4.01576821,  0.03221589, -0.13919259, -0.0162425 ,  0.        ,\n",
       "         0.        ,  0.        ,  0.        ,  0.        ,  0.        ,\n",
       "         0.        ,  0.50606818,  0.        , -0.07128061,  0.        ,\n",
       "         0.        ,  0.        ,  0.        ,  0.        ,  0.        ,\n",
       "         0.        , -0.24619248, -0.12884519, -0.0143898 ,  0.        ,\n",
       "         0.        , -2.02294264,  0.        ,  0.        ,  0.        ]])"
      ]
     },
     "execution_count": 11,
     "metadata": {},
     "output_type": "execute_result"
    }
   ],
   "source": [
    "lrl2=LR(penalty=\"l2\",solver=\"liblinear\",C=0.5,max_iter=1000)#逻辑回归的重要属性coef_，查看每个特征所对应的参数\n",
    "lrl1=lrl1.fit(X,y)\n",
    "lrl1.coef_"
   ]
  },
  {
   "cell_type": "code",
   "execution_count": 12,
   "metadata": {
    "execution": {
     "iopub.execute_input": "2021-02-03T02:10:25.565719Z",
     "iopub.status.busy": "2021-02-03T02:10:25.565440Z",
     "iopub.status.idle": "2021-02-03T02:10:25.572437Z",
     "shell.execute_reply": "2021-02-03T02:10:25.570593Z",
     "shell.execute_reply.started": "2021-02-03T02:10:25.565691Z"
    }
   },
   "outputs": [
    {
     "data": {
      "text/plain": [
       "array([10])"
      ]
     },
     "execution_count": 12,
     "metadata": {},
     "output_type": "execute_result"
    }
   ],
   "source": [
    "(lrl1.coef_!=0).sum(axis=1)"
   ]
  },
  {
   "cell_type": "code",
   "execution_count": 13,
   "metadata": {
    "execution": {
     "iopub.execute_input": "2021-02-03T02:10:41.041249Z",
     "iopub.status.busy": "2021-02-03T02:10:41.040913Z",
     "iopub.status.idle": "2021-02-03T02:10:41.062964Z",
     "shell.execute_reply": "2021-02-03T02:10:41.061835Z",
     "shell.execute_reply.started": "2021-02-03T02:10:41.041219Z"
    }
   },
   "outputs": [
    {
     "data": {
      "text/plain": [
       "array([[ 1.61331113e+00,  1.00124606e-01,  4.60084835e-02,\n",
       "        -4.19839426e-03, -9.26228937e-02, -3.00484301e-01,\n",
       "        -4.53250190e-01, -2.19778015e-01, -1.33074668e-01,\n",
       "        -1.92576286e-02,  1.89635811e-02,  8.74998561e-01,\n",
       "         1.32421950e-01, -9.53784315e-02, -9.62972408e-03,\n",
       "        -2.53596204e-02, -5.83890299e-02, -2.67755115e-02,\n",
       "        -2.73846616e-02, -8.05302922e-05,  1.28529688e+00,\n",
       "        -3.00088054e-01, -1.74310770e-01, -2.23545072e-02,\n",
       "        -1.70267493e-01, -8.77272211e-01, -1.15830085e+00,\n",
       "        -4.22526360e-01, -4.12406225e-01, -8.66393364e-02]])"
      ]
     },
     "execution_count": 13,
     "metadata": {},
     "output_type": "execute_result"
    }
   ],
   "source": [
    "lrl2=lrl2.fit(X,y)\n",
    "lrl2.coef_"
   ]
  },
  {
   "cell_type": "markdown",
   "metadata": {},
   "source": [
    "当我们选择L1正则化的时候，许多特征的参数都被设置为了0，这些特征在真正建模的时候，就不会出现在我们的模型当中了，而L2正则化则是对所有的特征都给出了参数。"
   ]
  },
  {
   "cell_type": "markdown",
   "metadata": {},
   "source": [
    "#### 学习曲线"
   ]
  },
  {
   "cell_type": "markdown",
   "metadata": {},
   "source": [
    "C正则化强度的倒数，必须是一个大于0的浮点数，不填写默认1.0，即默认正则项与损失函数的比值是1：1。C越小，损失函数会越小，模型对损失函数的惩罚越重，正则化的效力越强，参数会逐渐被压缩得越来越小"
   ]
  },
  {
   "cell_type": "code",
   "execution_count": 16,
   "metadata": {
    "execution": {
     "iopub.execute_input": "2021-02-03T02:22:29.196154Z",
     "iopub.status.busy": "2021-02-03T02:22:29.195760Z",
     "iopub.status.idle": "2021-02-03T02:22:33.184457Z",
     "shell.execute_reply": "2021-02-03T02:22:33.183832Z",
     "shell.execute_reply.started": "2021-02-03T02:22:29.196110Z"
    }
   },
   "outputs": [],
   "source": [
    "l1=[]\n",
    "l2=[]\n",
    "l1test=[]\n",
    "l2test=[]\n",
    "Xtrain,Xtest,Ytrain,Ytest=train_test_split(X,y,test_size=0.3,random_state=420)\n",
    "for i in np.linspace(0.05,1,19):\n",
    "    lrl1=LR(penalty=\"l1\",solver=\"liblinear\",C=i,max_iter=1000)\n",
    "    lrl2=LR(penalty=\"l2\",solver=\"liblinear\",C=i,max_iter=1000)\n",
    "    lrl1=lrl1.fit(Xtrain,Ytrain)\n",
    "    l1.append(accuracy_score(lrl1.predict(Xtrain),Ytrain))\n",
    "    l1test.append(accuracy_score(lrl1.predict(Xtest),Ytest))\n",
    "    \n",
    "    lrl2=lrl2.fit(Xtrain,Ytrain)\n",
    "    l2.append(accuracy_score(lrl2.predict(Xtrain),Ytrain))\n",
    "    l2test.append(accuracy_score(lrl2.predict(Xtest),Ytest))"
   ]
  },
  {
   "cell_type": "code",
   "execution_count": 17,
   "metadata": {
    "execution": {
     "iopub.execute_input": "2021-02-03T02:22:38.652251Z",
     "iopub.status.busy": "2021-02-03T02:22:38.651913Z",
     "iopub.status.idle": "2021-02-03T02:22:39.053643Z",
     "shell.execute_reply": "2021-02-03T02:22:39.053130Z",
     "shell.execute_reply.started": "2021-02-03T02:22:38.652219Z"
    }
   },
   "outputs": [
    {
     "data": {
      "image/png": "[encoded data removed]",
      "text/plain": [
       "<Figure size 432x432 with 1 Axes>"
      ]
     },
     "metadata": {
      "needs_background": "light"
     },
     "output_type": "display_data"
    }
   ],
   "source": [
    "graph=[l1,l2,l1test,l2test]\n",
    "color=[\"green\",\"black\",\"lightgreen\",\"gray\"]\n",
    "label=[\"L1\",\"L2\",\"L1test\",\"L2test\"]\n",
    "plt.figure(figsize=(6,6))\n",
    "for i in range(len(graph)):\n",
    "    plt.plot(np.linspace(0.05,1,19),graph[i],color[i],label=label[i])\n",
    "    plt.legend(loc=4)#图例的位置在哪里?4表示，右下角\n",
    "plt.show()"
   ]
  },
  {
   "cell_type": "markdown",
   "metadata": {},
   "source": [
    "可见，至少在我们的乳腺癌数据集下，两种正则化的结果区别不大。但随着C的逐渐变大，正则化的强度越来越\n",
    "小，模型在训练集和测试集上的表现都呈上升趋势，直到C=0.8左右，训练集上的表现依然在走高，但模型在未知数据集上的表现开始下跌，这时候就是出现了过拟合。我们可以认为，C设定为0.8会比较好。在实际使用时，基本就默认使用l2正则化，如果感觉到模型的效果不好，那就换L1试试看。"
   ]
  },
  {
   "cell_type": "code",
   "execution_count": null,
   "metadata": {},
   "outputs": [],
   "source": []
  }
 ],
 "metadata": {
  "kernelspec": {
   "display_name": "Python [conda env:python3.7.3_dev] *",
   "language": "python",
   "name": "conda-env-python3.7.3_dev-py"
  },
  "language_info": {
   "codemirror_mode": {
    "name": "ipython",
    "version": 3
   },
   "file_extension": ".py",
   "mimetype": "text/x-python",
   "name": "python",
   "nbconvert_exporter": "python",
   "pygments_lexer": "ipython3",
   "version": "3.7.3"
  },
  "widgets": {
   "application/vnd.jupyter.widget-state+json": {
    "state": {},
    "version_major": 2,
    "version_minor": 0
   }
  }
 },
 "nbformat": 4,
 "nbformat_minor": 4
}
