{
 "cells": [
  {
   "cell_type": "markdown",
   "metadata": {},
   "source": [
    "### 对已有数据进行逻辑回归模型训练（下采样）"
   ]
  },
  {
   "cell_type": "markdown",
   "metadata": {},
   "source": [
    "#### 读取文件及数据预处理"
   ]
  },
  {
   "cell_type": "code",
   "execution_count": 1,
   "metadata": {
    "ExecuteTime": {
     "end_time": "2019-09-25T07:28:22.085178Z",
     "start_time": "2019-09-25T07:28:20.679181Z"
    }
   },
   "outputs": [],
   "source": [
    "FILE_NAME = 'result_20190921.xlsx'\n",
    "SHEET_NAME = 'Sheet1'\n",
    "import itertools\n",
    "import numpy as np\n",
    "import pandas as pd\n",
    "import matplotlib.pyplot as plt\n",
    "%matplotlib inline"
   ]
  },
  {
   "cell_type": "code",
   "execution_count": 2,
   "metadata": {
    "ExecuteTime": {
     "end_time": "2019-09-25T07:28:25.109413Z",
     "start_time": "2019-09-25T07:28:22.841183Z"
    }
   },
   "outputs": [
    {
     "data": {
      "text/html": [
       "<div>\n",
       "<style scoped>\n",
       "    .dataframe tbody tr th:only-of-type {\n",
       "        vertical-align: middle;\n",
       "    }\n",
       "\n",
       "    .dataframe tbody tr th {\n",
       "        vertical-align: top;\n",
       "    }\n",
       "\n",
       "    .dataframe thead th {\n",
       "        text-align: right;\n",
       "    }\n",
       "</style>\n",
       "<table border=\"1\" class=\"dataframe\">\n",
       "  <thead>\n",
       "    <tr style=\"text-align: right;\">\n",
       "      <th></th>\n",
       "      <th>URL</th>\n",
       "      <th>Xpath</th>\n",
       "      <th>Completeness</th>\n",
       "      <th>ActualCompleteness</th>\n",
       "      <th>Purity</th>\n",
       "      <th>CompletenessGain</th>\n",
       "      <th>NumberOfRooms</th>\n",
       "      <th>RoomClass</th>\n",
       "      <th>RoomType</th>\n",
       "      <th>RoomSize</th>\n",
       "      <th>BedType</th>\n",
       "      <th>Wheelchair</th>\n",
       "      <th>Smoking</th>\n",
       "      <th>View</th>\n",
       "      <th>ExtraAttributes</th>\n",
       "      <th>Score</th>\n",
       "      <th>Admitted</th>\n",
       "    </tr>\n",
       "  </thead>\n",
       "  <tbody>\n",
       "    <tr>\n",
       "      <th>0</th>\n",
       "      <td>https://www.oyorooms.com/id/40374-oyo-rooms-oy...</td>\n",
       "      <td>/html</td>\n",
       "      <td>5.0</td>\n",
       "      <td>0.83</td>\n",
       "      <td>0.0</td>\n",
       "      <td>0.0</td>\n",
       "      <td>0.1</td>\n",
       "      <td>Standard</td>\n",
       "      <td>Double Room</td>\n",
       "      <td>187 sqft</td>\n",
       "      <td>Double</td>\n",
       "      <td>0.0</td>\n",
       "      <td>unknown</td>\n",
       "      <td>View</td>\n",
       "      <td>ac,tv,wifi</td>\n",
       "      <td>0.93</td>\n",
       "      <td>0.0</td>\n",
       "    </tr>\n",
       "    <tr>\n",
       "      <th>1</th>\n",
       "      <td>https://www.oyorooms.com/id/40374-oyo-rooms-oy...</td>\n",
       "      <td>/html/body</td>\n",
       "      <td>5.0</td>\n",
       "      <td>0.83</td>\n",
       "      <td>0.0</td>\n",
       "      <td>0.0</td>\n",
       "      <td>0.1</td>\n",
       "      <td>Standard</td>\n",
       "      <td>Double Room</td>\n",
       "      <td>187 sqft</td>\n",
       "      <td>Double</td>\n",
       "      <td>0.0</td>\n",
       "      <td>unknown</td>\n",
       "      <td>View</td>\n",
       "      <td>ac,tv,wifi</td>\n",
       "      <td>0.93</td>\n",
       "      <td>0.0</td>\n",
       "    </tr>\n",
       "    <tr>\n",
       "      <th>2</th>\n",
       "      <td>https://www.oyorooms.com/id/40374-oyo-rooms-oy...</td>\n",
       "      <td>/html/body/div[2]</td>\n",
       "      <td>5.0</td>\n",
       "      <td>0.83</td>\n",
       "      <td>0.0</td>\n",
       "      <td>0.0</td>\n",
       "      <td>0.1</td>\n",
       "      <td>Standard</td>\n",
       "      <td>Double Room</td>\n",
       "      <td>187 sqft</td>\n",
       "      <td>Double</td>\n",
       "      <td>0.0</td>\n",
       "      <td>unknown</td>\n",
       "      <td>View</td>\n",
       "      <td>ac,tv,wifi</td>\n",
       "      <td>0.93</td>\n",
       "      <td>0.0</td>\n",
       "    </tr>\n",
       "    <tr>\n",
       "      <th>3</th>\n",
       "      <td>https://www.oyorooms.com/id/40374-oyo-rooms-oy...</td>\n",
       "      <td>/html/body/div[2]/div</td>\n",
       "      <td>5.0</td>\n",
       "      <td>0.83</td>\n",
       "      <td>0.0</td>\n",
       "      <td>0.0</td>\n",
       "      <td>0.1</td>\n",
       "      <td>Standard</td>\n",
       "      <td>Double Room</td>\n",
       "      <td>187 sqft</td>\n",
       "      <td>Double</td>\n",
       "      <td>0.0</td>\n",
       "      <td>unknown</td>\n",
       "      <td>View</td>\n",
       "      <td>ac,tv,wifi</td>\n",
       "      <td>0.93</td>\n",
       "      <td>0.0</td>\n",
       "    </tr>\n",
       "    <tr>\n",
       "      <th>4</th>\n",
       "      <td>https://www.oyorooms.com/id/40374-oyo-rooms-oy...</td>\n",
       "      <td>/html/body/div[2]/div/div[3]</td>\n",
       "      <td>5.0</td>\n",
       "      <td>0.83</td>\n",
       "      <td>0.0</td>\n",
       "      <td>0.0</td>\n",
       "      <td>0.1</td>\n",
       "      <td>Standard</td>\n",
       "      <td>Double Room</td>\n",
       "      <td>187 sqft</td>\n",
       "      <td>Double</td>\n",
       "      <td>0.0</td>\n",
       "      <td>unknown</td>\n",
       "      <td>View</td>\n",
       "      <td>ac,tv,wifi</td>\n",
       "      <td>0.93</td>\n",
       "      <td>0.0</td>\n",
       "    </tr>\n",
       "  </tbody>\n",
       "</table>\n",
       "</div>"
      ],
      "text/plain": [
       "                                                 URL  \\\n",
       "0  https://www.oyorooms.com/id/40374-oyo-rooms-oy...   \n",
       "1  https://www.oyorooms.com/id/40374-oyo-rooms-oy...   \n",
       "2  https://www.oyorooms.com/id/40374-oyo-rooms-oy...   \n",
       "3  https://www.oyorooms.com/id/40374-oyo-rooms-oy...   \n",
       "4  https://www.oyorooms.com/id/40374-oyo-rooms-oy...   \n",
       "\n",
       "                          Xpath  Completeness  ActualCompleteness  Purity  \\\n",
       "0                         /html           5.0                0.83     0.0   \n",
       "1                    /html/body           5.0                0.83     0.0   \n",
       "2             /html/body/div[2]           5.0                0.83     0.0   \n",
       "3         /html/body/div[2]/div           5.0                0.83     0.0   \n",
       "4  /html/body/div[2]/div/div[3]           5.0                0.83     0.0   \n",
       "\n",
       "   CompletenessGain  NumberOfRooms RoomClass     RoomType  RoomSize BedType  \\\n",
       "0               0.0            0.1  Standard  Double Room  187 sqft  Double   \n",
       "1               0.0            0.1  Standard  Double Room  187 sqft  Double   \n",
       "2               0.0            0.1  Standard  Double Room  187 sqft  Double   \n",
       "3               0.0            0.1  Standard  Double Room  187 sqft  Double   \n",
       "4               0.0            0.1  Standard  Double Room  187 sqft  Double   \n",
       "\n",
       "   Wheelchair  Smoking  View ExtraAttributes  Score  Admitted  \n",
       "0         0.0  unknown  View      ac,tv,wifi   0.93       0.0  \n",
       "1         0.0  unknown  View      ac,tv,wifi   0.93       0.0  \n",
       "2         0.0  unknown  View      ac,tv,wifi   0.93       0.0  \n",
       "3         0.0  unknown  View      ac,tv,wifi   0.93       0.0  \n",
       "4         0.0  unknown  View      ac,tv,wifi   0.93       0.0  "
      ]
     },
     "execution_count": 2,
     "metadata": {},
     "output_type": "execute_result"
    }
   ],
   "source": [
    "import os\n",
    "path = 'data' + os.sep + FILE_NAME\n",
    "pdData = pd.read_excel(path, sheet_name=SHEET_NAME)\n",
    "pdData.head()"
   ]
  },
  {
   "cell_type": "code",
   "execution_count": 3,
   "metadata": {
    "ExecuteTime": {
     "end_time": "2019-09-25T07:28:25.917571Z",
     "start_time": "2019-09-25T07:28:25.913376Z"
    }
   },
   "outputs": [
    {
     "data": {
      "text/plain": [
       "(10726, 17)"
      ]
     },
     "execution_count": 3,
     "metadata": {},
     "output_type": "execute_result"
    }
   ],
   "source": [
    "pdData.shape"
   ]
  },
  {
   "cell_type": "code",
   "execution_count": 4,
   "metadata": {
    "ExecuteTime": {
     "end_time": "2019-09-25T07:28:27.100206Z",
     "start_time": "2019-09-25T07:28:27.080768Z"
    }
   },
   "outputs": [
    {
     "data": {
      "text/plain": [
       "(10710, 5)"
      ]
     },
     "execution_count": 4,
     "metadata": {},
     "output_type": "execute_result"
    }
   ],
   "source": [
    "# 数据预处理\n",
    "pdData = pdData.dropna(axis = 0,how='any')\n",
    "pdData = pdData.drop(['URL', 'Xpath', 'Completeness', 'RoomClass', 'RoomType', 'RoomSize', 'BedType', 'Wheelchair', 'Smoking', 'View', 'ExtraAttributes', 'Score'], axis=1)\n",
    "pdData.shape"
   ]
  },
  {
   "cell_type": "code",
   "execution_count": 5,
   "metadata": {
    "ExecuteTime": {
     "end_time": "2019-09-25T07:28:28.454683Z",
     "start_time": "2019-09-25T07:28:28.446102Z"
    }
   },
   "outputs": [
    {
     "data": {
      "text/html": [
       "<div>\n",
       "<style scoped>\n",
       "    .dataframe tbody tr th:only-of-type {\n",
       "        vertical-align: middle;\n",
       "    }\n",
       "\n",
       "    .dataframe tbody tr th {\n",
       "        vertical-align: top;\n",
       "    }\n",
       "\n",
       "    .dataframe thead th {\n",
       "        text-align: right;\n",
       "    }\n",
       "</style>\n",
       "<table border=\"1\" class=\"dataframe\">\n",
       "  <thead>\n",
       "    <tr style=\"text-align: right;\">\n",
       "      <th></th>\n",
       "      <th>ActualCompleteness</th>\n",
       "      <th>Purity</th>\n",
       "      <th>CompletenessGain</th>\n",
       "      <th>NumberOfRooms</th>\n",
       "      <th>Admitted</th>\n",
       "    </tr>\n",
       "  </thead>\n",
       "  <tbody>\n",
       "    <tr>\n",
       "      <th>0</th>\n",
       "      <td>0.83</td>\n",
       "      <td>0.0</td>\n",
       "      <td>0.0</td>\n",
       "      <td>0.1</td>\n",
       "      <td>0.0</td>\n",
       "    </tr>\n",
       "    <tr>\n",
       "      <th>1</th>\n",
       "      <td>0.83</td>\n",
       "      <td>0.0</td>\n",
       "      <td>0.0</td>\n",
       "      <td>0.1</td>\n",
       "      <td>0.0</td>\n",
       "    </tr>\n",
       "    <tr>\n",
       "      <th>2</th>\n",
       "      <td>0.83</td>\n",
       "      <td>0.0</td>\n",
       "      <td>0.0</td>\n",
       "      <td>0.1</td>\n",
       "      <td>0.0</td>\n",
       "    </tr>\n",
       "    <tr>\n",
       "      <th>3</th>\n",
       "      <td>0.83</td>\n",
       "      <td>0.0</td>\n",
       "      <td>0.0</td>\n",
       "      <td>0.1</td>\n",
       "      <td>0.0</td>\n",
       "    </tr>\n",
       "    <tr>\n",
       "      <th>4</th>\n",
       "      <td>0.83</td>\n",
       "      <td>0.0</td>\n",
       "      <td>0.0</td>\n",
       "      <td>0.1</td>\n",
       "      <td>0.0</td>\n",
       "    </tr>\n",
       "  </tbody>\n",
       "</table>\n",
       "</div>"
      ],
      "text/plain": [
       "   ActualCompleteness  Purity  CompletenessGain  NumberOfRooms  Admitted\n",
       "0                0.83     0.0               0.0            0.1       0.0\n",
       "1                0.83     0.0               0.0            0.1       0.0\n",
       "2                0.83     0.0               0.0            0.1       0.0\n",
       "3                0.83     0.0               0.0            0.1       0.0\n",
       "4                0.83     0.0               0.0            0.1       0.0"
      ]
     },
     "execution_count": 5,
     "metadata": {},
     "output_type": "execute_result"
    }
   ],
   "source": [
    "pdData.head(5)"
   ]
  },
  {
   "cell_type": "markdown",
   "metadata": {},
   "source": [
    "#### 打印数据分布"
   ]
  },
  {
   "cell_type": "code",
   "execution_count": 6,
   "metadata": {
    "ExecuteTime": {
     "end_time": "2019-09-25T07:28:35.504377Z",
     "start_time": "2019-09-25T07:28:35.294693Z"
    },
    "scrolled": true
   },
   "outputs": [
    {
     "data": {
      "text/plain": [
       "Text(0, 0.5, 'Frequency')"
      ]
     },
     "execution_count": 6,
     "metadata": {},
     "output_type": "execute_result"
    },
    {
     "data": {
      "image/png": "[encoded data removed]",
      "text/plain": [
       "<Figure size 432x288 with 1 Axes>"
      ]
     },
     "metadata": {
      "needs_background": "light"
     },
     "output_type": "display_data"
    }
   ],
   "source": [
    "count_classes = pd.value_counts(pdData['Admitted'], sort = True).sort_index()\n",
    "count_classes.plot(kind = 'bar')\n",
    "plt.title(\"Admitted class histogram\")\n",
    "plt.xlabel(\"Admitted\")\n",
    "plt.ylabel(\"Frequency\")"
   ]
  },
  {
   "cell_type": "markdown",
   "metadata": {},
   "source": [
    "#### 数据分布不均匀（下采样）"
   ]
  },
  {
   "cell_type": "code",
   "execution_count": 8,
   "metadata": {
    "ExecuteTime": {
     "end_time": "2019-09-25T07:30:34.944365Z",
     "start_time": "2019-09-25T07:30:34.749215Z"
    }
   },
   "outputs": [
    {
     "name": "stdout",
     "output_type": "stream",
     "text": [
      "Percentage of normal transactions:  0.5\n",
      "Percentage of fraud transactions:  0.5\n",
      "Total number of transactions in resampled data:  480\n"
     ]
    },
    {
     "data": {
      "text/plain": [
       "Text(0, 0.5, 'Frequency')"
      ]
     },
     "execution_count": 8,
     "metadata": {},
     "output_type": "execute_result"
    },
    {
     "data": {
      "image/png": "[encoded data removed]",
      "text/plain": [
       "<Figure size 432x288 with 1 Axes>"
      ]
     },
     "metadata": {
      "needs_background": "light"
     },
     "output_type": "display_data"
    }
   ],
   "source": [
    "number_records_admitted = len(pdData[pdData.Admitted == 1]) # 计算类别为1的个数\n",
    "admitted_indices = np.array(pdData[pdData.Admitted == 1].index) # 拿到类别为1的index值\n",
    "not_admitted_indices = pdData[pdData.Admitted == 0].index # 拿到类别为0的index值\n",
    "# 从未被采纳的随机选择和被采纳个数一样多的索引\n",
    "random_not_admitted_indices = np.random.choice(not_admitted_indices, number_records_admitted, replace = False)\n",
    "random_not_admitted_indices = np.array(random_not_admitted_indices)\n",
    "\n",
    "# 合并两个索引\n",
    "under_sample_indices = np.concatenate([admitted_indices,random_not_admitted_indices])\n",
    "\n",
    "# 获得下采样数据\n",
    "under_sample_data = pdData.loc[under_sample_indices,:]\n",
    "\n",
    "# 对下采样数据进行分割\n",
    "X_undersample = under_sample_data.loc[:, under_sample_data.columns != 'Admitted']\n",
    "y_undersample = under_sample_data.loc[:, under_sample_data.columns == 'Admitted']\n",
    "\n",
    "# Showing ratio\n",
    "print(\"Percentage of normal transactions: \", len(under_sample_data[under_sample_data.Admitted == 0])/len(under_sample_data))\n",
    "print(\"Percentage of fraud transactions: \", len(under_sample_data[under_sample_data.Admitted == 1])/len(under_sample_data))\n",
    "print(\"Total number of transactions in resampled data: \", len(under_sample_data))\n",
    "\n",
    "count_classes = pd.value_counts(under_sample_data.Admitted, sort = True).sort_index()\n",
    "count_classes.plot(kind = 'bar')\n",
    "plt.title(\"Admitted class histogram\")\n",
    "plt.xlabel(\"Admitted\")\n",
    "plt.ylabel(\"Frequency\")"
   ]
  },
  {
   "cell_type": "markdown",
   "metadata": {},
   "source": [
    "#### 对数据进行切分，划分为训练集和测试集"
   ]
  },
  {
   "cell_type": "code",
   "execution_count": 9,
   "metadata": {
    "ExecuteTime": {
     "end_time": "2019-09-25T07:30:51.946704Z",
     "start_time": "2019-09-25T07:30:51.007956Z"
    },
    "scrolled": true
   },
   "outputs": [
    {
     "name": "stdout",
     "output_type": "stream",
     "text": [
      "Number transactions train dataset:  8032\n",
      "Number transactions test dataset:  2678\n",
      "Total number of transactions:  10710\n",
      "\n",
      "Number transactions train dataset:  336\n",
      "Number transactions test dataset:  144\n",
      "Total number of transactions:  480\n"
     ]
    }
   ],
   "source": [
    "from sklearn.model_selection import train_test_split\n",
    "X = pdData.loc[:, pdData.columns != 'Admitted']\n",
    "y = pdData.loc[:, pdData.columns == 'Admitted']\n",
    "# Whole dataset\n",
    "X_train, X_test, y_train, y_test = train_test_split(X,y,test_size = 0.25, random_state = 0)\n",
    "print(\"Number transactions train dataset: \", len(X_train))\n",
    "print(\"Number transactions test dataset: \", len(X_test))\n",
    "print(\"Total number of transactions: \", len(X_train)+len(X_test))\n",
    "\n",
    "# Undersampled dataset\n",
    "# test_size=0.3 表示测试数据为30% 训练数据为70%， \n",
    "# random_state=0 为了复现或控制变量只有一个变化 每次随机切分的数据一样，抛出样本对数据的影响\n",
    "X_train_undersample, X_test_undersample, y_train_undersample, y_test_undersample = train_test_split(X_undersample,y_undersample,test_size = 0.25, random_state = 0)\n",
    "print(\"\")\n",
    "print(\"Number transactions train dataset: \", len(X_train_undersample))\n",
    "print(\"Number transactions test dataset: \", len(X_test_undersample))\n",
    "print(\"Total number of transactions: \", len(X_train_undersample)+len(X_test_undersample))"
   ]
  },
  {
   "cell_type": "markdown",
   "metadata": {},
   "source": [
    "#### 对训练集进行KFold切分，然后进行交叉验证，基于racall均值获得最优惩罚力度"
   ]
  },
  {
   "cell_type": "code",
   "execution_count": 9,
   "metadata": {
    "ExecuteTime": {
     "end_time": "2019-09-25T01:48:15.567355Z",
     "start_time": "2019-09-25T01:48:14.700349Z"
    }
   },
   "outputs": [],
   "source": [
    "#Recall = TP/(TP+FN)\n",
    "from sklearn.linear_model import LogisticRegression\n",
    "# cross_val_score 交叉验证评估结果\n",
    "# KFold 用于做训练集的切分，可以切分成任意份数\n",
    "from sklearn.model_selection import KFold, cross_val_score\n",
    "from sklearn.metrics import confusion_matrix,recall_score,classification_report"
   ]
  },
  {
   "cell_type": "code",
   "execution_count": 10,
   "metadata": {
    "ExecuteTime": {
     "end_time": "2019-09-25T01:48:15.675066Z",
     "start_time": "2019-09-25T01:48:15.665046Z"
    }
   },
   "outputs": [],
   "source": [
    "def printing_Kfold_scores(x_train_data,y_train_data):\n",
    "    # 使用 KFold 将数据切分成5部分\n",
    "    # n_splits：表示划分几等份\n",
    "    # shuffle：在每次划分时，是否进行洗牌\n",
    "    \n",
    "    fold = KFold(n_splits=5, shuffle=False)\n",
    "#     get_n_splits(X=None, y=None, groups=None) 获取参数n_splits的值\n",
    "#     fold.get_n_splits(list)\n",
    "#     fold = KFold(len(y_train_data),n_splits=5,shuffle=False) \n",
    "    \n",
    "    # Different C parameters\n",
    "    c_param_range = [0.01,0.1,1,10,100]\n",
    "\n",
    "    results_table = pd.DataFrame(index = range(len(c_param_range),2), columns = ['C_parameter','Mean recall score'])\n",
    "    results_table['C_parameter'] = c_param_range\n",
    "\n",
    "    # the k-fold will give 2 lists: train_indices = indices[0], test_indices = indices[1]\n",
    "    j = 0\n",
    "    for c_param in c_param_range:\n",
    "        print('-------------------------------------------')\n",
    "        print('C parameter: ', c_param)\n",
    "        print('-------------------------------------------')\n",
    "        print('')\n",
    "\n",
    "        recall_accs = []\n",
    "        # split(X, y=None, groups=None)：将数据集划分成训练集和测试集，返回索引生成器\n",
    "        for iteration, indices in enumerate(fold.split(x_train_data),start=1):\n",
    "\n",
    "            # 实例化逻辑回归对象，使用L1进行惩罚 惩罚力度分别为 [0.01,0.1,1,10,100]\n",
    "            lr = LogisticRegression(C = c_param, penalty = 'l1')\n",
    "\n",
    "            # fit 训练\n",
    "            lr.fit(x_train_data.iloc[indices[0],:],y_train_data.iloc[indices[0],:].values.ravel())\n",
    "\n",
    "            # 预测验证数据\n",
    "            y_pred_undersample = lr.predict(x_train_data.iloc[indices[1],:].values)\n",
    "\n",
    "            # 计算召回率\n",
    "            recall_acc = recall_score(y_train_data.iloc[indices[1],:].values,y_pred_undersample)\n",
    "            recall_accs.append(recall_acc)\n",
    "            print('Iteration ', iteration,': recall score = ', recall_acc)\n",
    "\n",
    "        # The mean value of those recall scores is the metric we want to save and get hold of.\n",
    "        results_table.loc[j,'Mean recall score'] = np.mean(recall_accs)\n",
    "        j += 1\n",
    "        print('')\n",
    "        print('Mean recall score ', np.mean(recall_accs))\n",
    "        print('')\n",
    "    \n",
    "    print(results_table)\n",
    "    results_table['Mean recall score']=results_table['Mean recall score'].astype('float64')\n",
    "    best_c = results_table.loc[results_table['Mean recall score'].idxmax()]['C_parameter']\n",
    "    \n",
    "    # Finally, we can check which C parameter is the best amongst the chosen.\n",
    "    print('*********************************************************************************')\n",
    "    print('Best model to choose from cross validation is with C parameter = ', best_c)\n",
    "    print('*********************************************************************************')\n",
    "    \n",
    "    return best_c"
   ]
  },
  {
   "cell_type": "code",
   "execution_count": 11,
   "metadata": {
    "ExecuteTime": {
     "end_time": "2019-09-25T01:48:18.955182Z",
     "start_time": "2019-09-25T01:48:18.771190Z"
    },
    "scrolled": true
   },
   "outputs": [
    {
     "name": "stdout",
     "output_type": "stream",
     "text": [
      "-------------------------------------------\n",
      "C parameter:  0.01\n",
      "-------------------------------------------\n",
      "\n",
      "Iteration  1 : recall score =  0.0\n",
      "Iteration  2 : recall score =  0.0\n",
      "Iteration  3 : recall score =  0.0\n",
      "Iteration  4 : recall score =  0.0\n",
      "Iteration  5 : recall score =  0.0\n",
      "\n",
      "Mean recall score  0.0\n",
      "\n",
      "-------------------------------------------\n",
      "C parameter:  0.1\n",
      "-------------------------------------------\n",
      "\n",
      "Iteration  1 : recall score =  0.8529411764705882\n",
      "Iteration  2 : recall score =  0.9117647058823529\n",
      "Iteration  3 : recall score =  0.90625\n",
      "Iteration  4 : recall score =  0.8235294117647058\n",
      "Iteration  5 : recall score =  0.9393939393939394\n",
      "\n",
      "Mean recall score  0.8867758467023172\n",
      "\n",
      "-------------------------------------------\n",
      "C parameter:  1\n",
      "-------------------------------------------\n",
      "\n",
      "Iteration  1 : recall score =  0.7058823529411765\n",
      "Iteration  2 : recall score =  0.8529411764705882\n",
      "Iteration  3 : recall score =  0.84375\n",
      "Iteration  4 : recall score =  0.6764705882352942\n",
      "Iteration  5 : recall score =  0.8181818181818182\n",
      "\n",
      "Mean recall score  0.7794451871657755\n",
      "\n",
      "-------------------------------------------\n",
      "C parameter:  10\n",
      "-------------------------------------------\n",
      "\n",
      "Iteration  1 : recall score =  0.7352941176470589\n",
      "Iteration  2 : recall score =  0.8529411764705882\n",
      "Iteration  3 : recall score =  0.8125\n",
      "Iteration  4 : recall score =  0.6764705882352942\n",
      "Iteration  5 : recall score =  0.7878787878787878\n",
      "\n",
      "Mean recall score  0.7730169340463459\n",
      "\n",
      "-------------------------------------------\n",
      "C parameter:  100\n",
      "-------------------------------------------\n",
      "\n",
      "Iteration  1 : recall score =  0.7058823529411765\n",
      "Iteration  2 : recall score =  0.8529411764705882\n",
      "Iteration  3 : recall score =  0.8125\n",
      "Iteration  4 : recall score =  0.7058823529411765\n",
      "Iteration  5 : recall score =  0.7878787878787878\n",
      "\n",
      "Mean recall score  0.7730169340463459\n",
      "\n",
      "   C_parameter Mean recall score\n",
      "0         0.01                 0\n",
      "1         0.10          0.886776\n",
      "2         1.00          0.779445\n",
      "3        10.00          0.773017\n",
      "4       100.00          0.773017\n",
      "*********************************************************************************\n",
      "Best model to choose from cross validation is with C parameter =  0.1\n",
      "*********************************************************************************\n"
     ]
    },
    {
     "name": "stderr",
     "output_type": "stream",
     "text": [
      "/Users/hiCore/miniconda3/envs/python3.7.3_dev/lib/python3.7/site-packages/sklearn/linear_model/logistic.py:433: FutureWarning: Default solver will be changed to 'lbfgs' in 0.22. Specify a solver to silence this warning.\n",
      "  FutureWarning)\n",
      "/Users/hiCore/miniconda3/envs/python3.7.3_dev/lib/python3.7/site-packages/sklearn/linear_model/logistic.py:433: FutureWarning: Default solver will be changed to 'lbfgs' in 0.22. Specify a solver to silence this warning.\n",
      "  FutureWarning)\n",
      "/Users/hiCore/miniconda3/envs/python3.7.3_dev/lib/python3.7/site-packages/sklearn/linear_model/logistic.py:433: FutureWarning: Default solver will be changed to 'lbfgs' in 0.22. Specify a solver to silence this warning.\n",
      "  FutureWarning)\n",
      "/Users/hiCore/miniconda3/envs/python3.7.3_dev/lib/python3.7/site-packages/sklearn/linear_model/logistic.py:433: FutureWarning: Default solver will be changed to 'lbfgs' in 0.22. Specify a solver to silence this warning.\n",
      "  FutureWarning)\n",
      "/Users/hiCore/miniconda3/envs/python3.7.3_dev/lib/python3.7/site-packages/sklearn/linear_model/logistic.py:433: FutureWarning: Default solver will be changed to 'lbfgs' in 0.22. Specify a solver to silence this warning.\n",
      "  FutureWarning)\n",
      "/Users/hiCore/miniconda3/envs/python3.7.3_dev/lib/python3.7/site-packages/sklearn/linear_model/logistic.py:433: FutureWarning: Default solver will be changed to 'lbfgs' in 0.22. Specify a solver to silence this warning.\n",
      "  FutureWarning)\n",
      "/Users/hiCore/miniconda3/envs/python3.7.3_dev/lib/python3.7/site-packages/sklearn/linear_model/logistic.py:433: FutureWarning: Default solver will be changed to 'lbfgs' in 0.22. Specify a solver to silence this warning.\n",
      "  FutureWarning)\n",
      "/Users/hiCore/miniconda3/envs/python3.7.3_dev/lib/python3.7/site-packages/sklearn/linear_model/logistic.py:433: FutureWarning: Default solver will be changed to 'lbfgs' in 0.22. Specify a solver to silence this warning.\n",
      "  FutureWarning)\n",
      "/Users/hiCore/miniconda3/envs/python3.7.3_dev/lib/python3.7/site-packages/sklearn/linear_model/logistic.py:433: FutureWarning: Default solver will be changed to 'lbfgs' in 0.22. Specify a solver to silence this warning.\n",
      "  FutureWarning)\n",
      "/Users/hiCore/miniconda3/envs/python3.7.3_dev/lib/python3.7/site-packages/sklearn/linear_model/logistic.py:433: FutureWarning: Default solver will be changed to 'lbfgs' in 0.22. Specify a solver to silence this warning.\n",
      "  FutureWarning)\n",
      "/Users/hiCore/miniconda3/envs/python3.7.3_dev/lib/python3.7/site-packages/sklearn/linear_model/logistic.py:433: FutureWarning: Default solver will be changed to 'lbfgs' in 0.22. Specify a solver to silence this warning.\n",
      "  FutureWarning)\n",
      "/Users/hiCore/miniconda3/envs/python3.7.3_dev/lib/python3.7/site-packages/sklearn/linear_model/logistic.py:433: FutureWarning: Default solver will be changed to 'lbfgs' in 0.22. Specify a solver to silence this warning.\n",
      "  FutureWarning)\n",
      "/Users/hiCore/miniconda3/envs/python3.7.3_dev/lib/python3.7/site-packages/sklearn/linear_model/logistic.py:433: FutureWarning: Default solver will be changed to 'lbfgs' in 0.22. Specify a solver to silence this warning.\n",
      "  FutureWarning)\n",
      "/Users/hiCore/miniconda3/envs/python3.7.3_dev/lib/python3.7/site-packages/sklearn/linear_model/logistic.py:433: FutureWarning: Default solver will be changed to 'lbfgs' in 0.22. Specify a solver to silence this warning.\n",
      "  FutureWarning)\n",
      "/Users/hiCore/miniconda3/envs/python3.7.3_dev/lib/python3.7/site-packages/sklearn/linear_model/logistic.py:433: FutureWarning: Default solver will be changed to 'lbfgs' in 0.22. Specify a solver to silence this warning.\n",
      "  FutureWarning)\n",
      "/Users/hiCore/miniconda3/envs/python3.7.3_dev/lib/python3.7/site-packages/sklearn/linear_model/logistic.py:433: FutureWarning: Default solver will be changed to 'lbfgs' in 0.22. Specify a solver to silence this warning.\n",
      "  FutureWarning)\n",
      "/Users/hiCore/miniconda3/envs/python3.7.3_dev/lib/python3.7/site-packages/sklearn/linear_model/logistic.py:433: FutureWarning: Default solver will be changed to 'lbfgs' in 0.22. Specify a solver to silence this warning.\n",
      "  FutureWarning)\n",
      "/Users/hiCore/miniconda3/envs/python3.7.3_dev/lib/python3.7/site-packages/sklearn/linear_model/logistic.py:433: FutureWarning: Default solver will be changed to 'lbfgs' in 0.22. Specify a solver to silence this warning.\n",
      "  FutureWarning)\n",
      "/Users/hiCore/miniconda3/envs/python3.7.3_dev/lib/python3.7/site-packages/sklearn/linear_model/logistic.py:433: FutureWarning: Default solver will be changed to 'lbfgs' in 0.22. Specify a solver to silence this warning.\n",
      "  FutureWarning)\n",
      "/Users/hiCore/miniconda3/envs/python3.7.3_dev/lib/python3.7/site-packages/sklearn/linear_model/logistic.py:433: FutureWarning: Default solver will be changed to 'lbfgs' in 0.22. Specify a solver to silence this warning.\n",
      "  FutureWarning)\n",
      "/Users/hiCore/miniconda3/envs/python3.7.3_dev/lib/python3.7/site-packages/sklearn/linear_model/logistic.py:433: FutureWarning: Default solver will be changed to 'lbfgs' in 0.22. Specify a solver to silence this warning.\n",
      "  FutureWarning)\n",
      "/Users/hiCore/miniconda3/envs/python3.7.3_dev/lib/python3.7/site-packages/sklearn/linear_model/logistic.py:433: FutureWarning: Default solver will be changed to 'lbfgs' in 0.22. Specify a solver to silence this warning.\n",
      "  FutureWarning)\n",
      "/Users/hiCore/miniconda3/envs/python3.7.3_dev/lib/python3.7/site-packages/sklearn/linear_model/logistic.py:433: FutureWarning: Default solver will be changed to 'lbfgs' in 0.22. Specify a solver to silence this warning.\n",
      "  FutureWarning)\n",
      "/Users/hiCore/miniconda3/envs/python3.7.3_dev/lib/python3.7/site-packages/sklearn/linear_model/logistic.py:433: FutureWarning: Default solver will be changed to 'lbfgs' in 0.22. Specify a solver to silence this warning.\n",
      "  FutureWarning)\n",
      "/Users/hiCore/miniconda3/envs/python3.7.3_dev/lib/python3.7/site-packages/sklearn/linear_model/logistic.py:433: FutureWarning: Default solver will be changed to 'lbfgs' in 0.22. Specify a solver to silence this warning.\n",
      "  FutureWarning)\n"
     ]
    }
   ],
   "source": [
    "best_c = printing_Kfold_scores(X_train_undersample,y_train_undersample)"
   ]
  },
  {
   "cell_type": "markdown",
   "metadata": {
    "heading_collapsed": true
   },
   "source": [
    "#### 计算recall值及打印混淆矩阵中间方法"
   ]
  },
  {
   "cell_type": "code",
   "execution_count": 12,
   "metadata": {
    "ExecuteTime": {
     "end_time": "2019-09-25T01:48:25.811665Z",
     "start_time": "2019-09-25T01:48:25.804290Z"
    },
    "hidden": true
   },
   "outputs": [],
   "source": [
    "def plot_confusion_matrix(cm, classes,\n",
    "                          title='Confusion matrix',\n",
    "                          cmap=plt.cm.Blues):\n",
    "    \"\"\"\n",
    "    This function prints and plots the confusion matrix.\n",
    "    \"\"\"\n",
    "    plt.imshow(cm, interpolation='nearest', cmap=cmap)\n",
    "    plt.title(title)\n",
    "    plt.colorbar()\n",
    "    tick_marks = np.arange(len(classes))\n",
    "    plt.xticks(tick_marks, classes, rotation=0)\n",
    "    plt.yticks(tick_marks, classes)\n",
    "\n",
    "    thresh = cm.max() / 2.\n",
    "    for i, j in itertools.product(range(cm.shape[0]), range(cm.shape[1])):\n",
    "        plt.text(j, i, cm[i, j],\n",
    "                 horizontalalignment=\"center\",\n",
    "                 color=\"white\" if cm[i, j] > thresh else \"black\")\n",
    "\n",
    "    plt.tight_layout()\n",
    "    plt.ylabel('True label')\n",
    "    plt.xlabel('Predicted label')"
   ]
  },
  {
   "cell_type": "code",
   "execution_count": null,
   "metadata": {
    "hidden": true
   },
   "outputs": [],
   "source": [
    "def calculate_recall_and_plot_confusion_matrix(best_c, fit_features, fit_labels, predict_features, actual_labels):\n",
    "    lr = LogisticRegression(C = best_c, penalty = 'l1')\n",
    "    lr.fit(fit_features,fit_labels.values.ravel())\n",
    "    y_pred = lr.predict(predict_features.values)\n",
    "\n",
    "    # Compute confusion matrix\n",
    "    cnf_matrix = confusion_matrix(actual_labels,y_pred)\n",
    "    np.set_printoptions(precision=2)\n",
    "\n",
    "    print(\"Recall metric in the testing dataset: \", cnf_matrix[1,1]/(cnf_matrix[1,0]+cnf_matrix[1,1]))\n",
    "\n",
    "    # Plot non-normalized confusion matrix\n",
    "    class_names = [0,1]\n",
    "    plt.figure()\n",
    "    plot_confusion_matrix(cnf_matrix\n",
    "                          , classes=class_names\n",
    "                          , title='Confusion matrix')\n",
    "    plt.show()"
   ]
  },
  {
   "cell_type": "markdown",
   "metadata": {
    "heading_collapsed": true
   },
   "source": [
    "#### 对下采样数据集上进行预测"
   ]
  },
  {
   "cell_type": "code",
   "execution_count": 13,
   "metadata": {
    "ExecuteTime": {
     "end_time": "2019-09-25T01:48:33.444256Z",
     "start_time": "2019-09-25T01:48:33.251500Z"
    },
    "hidden": true,
    "scrolled": true
   },
   "outputs": [
    {
     "name": "stdout",
     "output_type": "stream",
     "text": [
      "Recall metric in the testing dataset:  0.8493150684931506\n"
     ]
    },
    {
     "name": "stderr",
     "output_type": "stream",
     "text": [
      "/Users/hiCore/miniconda3/envs/python3.7.3_dev/lib/python3.7/site-packages/sklearn/linear_model/logistic.py:433: FutureWarning: Default solver will be changed to 'lbfgs' in 0.22. Specify a solver to silence this warning.\n",
      "  FutureWarning)\n"
     ]
    },
    {
     "data": {
      "image/png": "[encoded data removed]",
      "text/plain": [
       "<Figure size 432x288 with 2 Axes>"
      ]
     },
     "metadata": {
      "needs_background": "light"
     },
     "output_type": "display_data"
    }
   ],
   "source": [
    "calculate_recall_and_plot_confusion_matrix(best_c, X_train_undersample, y_train_undersample, X_test_undersample, y_test_undersample)"
   ]
  },
  {
   "cell_type": "markdown",
   "metadata": {
    "heading_collapsed": true
   },
   "source": [
    "#### 在全部数据上进行预测"
   ]
  },
  {
   "cell_type": "code",
   "execution_count": null,
   "metadata": {
    "hidden": true
   },
   "outputs": [],
   "source": [
    "calculate_recall_and_plot_confusion_matrix(best_c, X_train_undersample, y_train_undersample, X, y)"
   ]
  },
  {
   "cell_type": "markdown",
   "metadata": {
    "heading_collapsed": true
   },
   "source": [
    "#### 在测试数据集上进行预测"
   ]
  },
  {
   "cell_type": "code",
   "execution_count": 14,
   "metadata": {
    "ExecuteTime": {
     "end_time": "2019-09-25T01:48:38.132223Z",
     "start_time": "2019-09-25T01:48:37.939169Z"
    },
    "hidden": true,
    "scrolled": true
   },
   "outputs": [
    {
     "name": "stdout",
     "output_type": "stream",
     "text": [
      "Recall metric in the testing dataset:  0.8309859154929577\n"
     ]
    },
    {
     "name": "stderr",
     "output_type": "stream",
     "text": [
      "/Users/hiCore/miniconda3/envs/python3.7.3_dev/lib/python3.7/site-packages/sklearn/linear_model/logistic.py:433: FutureWarning: Default solver will be changed to 'lbfgs' in 0.22. Specify a solver to silence this warning.\n",
      "  FutureWarning)\n"
     ]
    },
    {
     "data": {
      "image/png": "[encoded data removed]",
      "text/plain": [
       "<Figure size 432x288 with 2 Axes>"
      ]
     },
     "metadata": {
      "needs_background": "light"
     },
     "output_type": "display_data"
    }
   ],
   "source": [
    "calculate_recall_and_plot_confusion_matrix(best_c, X_train_undersample, y_train_undersample, X_test, y_test)"
   ]
  },
  {
   "cell_type": "markdown",
   "metadata": {
    "heading_collapsed": true
   },
   "source": [
    "#### 在测试数据集上不同的逻辑回归阈值下racall值的变化"
   ]
  },
  {
   "cell_type": "code",
   "execution_count": 15,
   "metadata": {
    "ExecuteTime": {
     "end_time": "2019-09-25T01:48:43.416497Z",
     "start_time": "2019-09-25T01:48:41.283339Z"
    },
    "hidden": true
   },
   "outputs": [
    {
     "name": "stderr",
     "output_type": "stream",
     "text": [
      "/Users/hiCore/miniconda3/envs/python3.7.3_dev/lib/python3.7/site-packages/sklearn/linear_model/logistic.py:433: FutureWarning: Default solver will be changed to 'lbfgs' in 0.22. Specify a solver to silence this warning.\n",
      "  FutureWarning)\n"
     ]
    },
    {
     "name": "stdout",
     "output_type": "stream",
     "text": [
      "Recall metric in the testing dataset:  1.0\n",
      "Recall metric in the testing dataset:  1.0\n",
      "Recall metric in the testing dataset:  1.0\n",
      "Recall metric in the testing dataset:  0.9863013698630136\n",
      "Recall metric in the testing dataset:  0.8493150684931506\n",
      "Recall metric in the testing dataset:  0.4383561643835616\n",
      "Recall metric in the testing dataset:  0.0\n",
      "Recall metric in the testing dataset:  0.0\n",
      "Recall metric in the testing dataset:  0.0\n"
     ]
    },
    {
     "data": {
      "image/png": "[encoded data removed]",
      "text/plain": [
       "<Figure size 720x720 with 18 Axes>"
      ]
     },
     "metadata": {
      "needs_background": "light"
     },
     "output_type": "display_data"
    }
   ],
   "source": [
    "# 基于下采样的不同逻辑回归阈值对结果的影响\n",
    "lr = LogisticRegression(C = best_c, penalty = 'l1')\n",
    "lr.fit(X_train_undersample,y_train_undersample.values.ravel())\n",
    "y_pred_undersample_proba = lr.predict_proba(X_test_undersample.values)\n",
    "\n",
    "thresholds = [0.1,0.2,0.3,0.4,0.5,0.6,0.7,0.8,0.9]\n",
    "\n",
    "plt.figure(figsize=(10,10))\n",
    "\n",
    "j = 1\n",
    "for i in thresholds:\n",
    "    y_test_predictions_high_recall = y_pred_undersample_proba[:,1] > i\n",
    "    \n",
    "    plt.subplot(3,3,j)\n",
    "    j += 1\n",
    "    \n",
    "    # Compute confusion matrix\n",
    "    cnf_matrix = confusion_matrix(y_test_undersample,y_test_predictions_high_recall)\n",
    "    np.set_printoptions(precision=2)\n",
    "\n",
    "    print(\"Recall metric in the testing dataset: \", cnf_matrix[1,1]/(cnf_matrix[1,0]+cnf_matrix[1,1]))\n",
    "\n",
    "    # Plot non-normalized confusion matrix\n",
    "    class_names = [0,1]\n",
    "    plot_confusion_matrix(cnf_matrix\n",
    "                          , classes=class_names\n",
    "                          , title='Threshold >= %s'%i) "
   ]
  },
  {
   "cell_type": "code",
   "execution_count": null,
   "metadata": {
    "hidden": true
   },
   "outputs": [],
   "source": []
  }
 ],
 "metadata": {
  "kernelspec": {
   "display_name": "Python [conda env:python3.7.3_dev] *",
   "language": "python",
   "name": "conda-env-python3.7.3_dev-py"
  },
  "language_info": {
   "codemirror_mode": {
    "name": "ipython",
    "version": 3
   },
   "file_extension": ".py",
   "mimetype": "text/x-python",
   "name": "python",
   "nbconvert_exporter": "python",
   "pygments_lexer": "ipython3",
   "version": "3.7.3"
  },
  "varInspector": {
   "cols": {
    "lenName": 16,
    "lenType": 16,
    "lenVar": 40
   },
   "kernels_config": {
    "python": {
     "delete_cmd_postfix": "",
     "delete_cmd_prefix": "del ",
     "library": "var_list.py",
     "varRefreshCmd": "print(var_dic_list())"
    },
    "r": {
     "delete_cmd_postfix": ") ",
     "delete_cmd_prefix": "rm(",
     "library": "var_list.r",
     "varRefreshCmd": "cat(var_dic_list()) "
    }
   },
   "types_to_exclude": [
    "module",
    "function",
    "builtin_function_or_method",
    "instance",
    "_Feature"
   ],
   "window_display": false
  }
 },
 "nbformat": 4,
 "nbformat_minor": 2
}
