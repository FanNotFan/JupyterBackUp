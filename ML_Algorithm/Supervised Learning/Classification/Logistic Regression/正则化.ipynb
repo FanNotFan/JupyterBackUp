{
 "cells": [
  {
   "cell_type": "markdown",
   "metadata": {},
   "source": [
    "#### 重要参数penalty&C"
   ]
  },
  {
   "cell_type": "markdown",
   "metadata": {
    "execution": {
     "iopub.execute_input": "2021-02-02T11:07:00.780035Z",
     "iopub.status.busy": "2021-02-02T11:07:00.779480Z",
     "iopub.status.idle": "2021-02-02T11:07:00.788902Z",
     "shell.execute_reply": "2021-02-02T11:07:00.787243Z",
     "shell.execute_reply.started": "2021-02-02T11:07:00.779896Z"
    }
   },
   "source": [
    "正则化是用来防止模型过拟合的过程，常用的有L1正则化和L2正则化两种选项，分别通过在损失函数后加上参数向量seta的L1范式和L2范式的倍数来实现。这个增加的范式，被称为“正则项”，也被称为\"惩罚项\"\n",
    "\n",
    "##### penalty\n",
    "可以输入\"l1\"或\"l2\"来指定使用哪一种正则化方式，不填写默认\"l2\"。\n",
    "注意，若选择\"l1\"正则化，参数solver仅能够使用求解方式”liblinear\"和\"saga“，若使用“l2”正则化，参数solver中所有的求解方式都可以使用。\n",
    "\n",
    "##### C\n",
    "C正则化强度的倒数，必须是一个大于0的浮点数，不填写默认1.0，即默认正则项与损失函数的比值是1：1。C越小，损失函数会越小，模型对损失函数的惩罚越重，正则化的效力越强，参数会逐渐被压缩得越来越小"
   ]
  },
  {
   "cell_type": "code",
   "execution_count": null,
   "metadata": {},
   "outputs": [],
   "source": []
  }
 ],
 "metadata": {
  "kernelspec": {
   "display_name": "Python [conda env:python3.7.3_dev] *",
   "language": "python",
   "name": "conda-env-python3.7.3_dev-py"
  },
  "language_info": {
   "codemirror_mode": {
    "name": "ipython",
    "version": 3
   },
   "file_extension": ".py",
   "mimetype": "text/x-python",
   "name": "python",
   "nbconvert_exporter": "python",
   "pygments_lexer": "ipython3",
   "version": "3.7.3"
  },
  "widgets": {
   "application/vnd.jupyter.widget-state+json": {
    "state": {},
    "version_major": 2,
    "version_minor": 0
   }
  }
 },
 "nbformat": 4,
 "nbformat_minor": 4
}
