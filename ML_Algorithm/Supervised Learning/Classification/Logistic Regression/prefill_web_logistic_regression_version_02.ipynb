{
 "cells": [
  {
   "cell_type": "markdown",
   "metadata": {},
   "source": [
    "### 使用逻辑回归来评估页面分割好坏\n",
    "#### The Data\n",
    "我们建立一个回归模型，来评估我们页面切割方式是否够好"
   ]
  },
  {
   "cell_type": "code",
   "execution_count": 1,
   "metadata": {
    "ExecuteTime": {
     "end_time": "2019-09-24T06:40:59.976207Z",
     "start_time": "2019-09-24T06:40:58.529132Z"
    }
   },
   "outputs": [],
   "source": [
    "FILE_NAME = 'result_20190921.xlsx'\n",
    "SHEET_NAME = 'Sheet1'\n",
    "import numpy as np\n",
    "import pandas as pd\n",
    "import matplotlib.pyplot as plt\n",
    "%matplotlib inline"
   ]
  },
  {
   "cell_type": "code",
   "execution_count": 2,
   "metadata": {
    "ExecuteTime": {
     "end_time": "2019-09-24T06:41:04.043586Z",
     "start_time": "2019-09-24T06:41:01.722634Z"
    }
   },
   "outputs": [
    {
     "data": {
      "text/html": [
       "<div>\n",
       "<style scoped>\n",
       "    .dataframe tbody tr th:only-of-type {\n",
       "        vertical-align: middle;\n",
       "    }\n",
       "\n",
       "    .dataframe tbody tr th {\n",
       "        vertical-align: top;\n",
       "    }\n",
       "\n",
       "    .dataframe thead th {\n",
       "        text-align: right;\n",
       "    }\n",
       "</style>\n",
       "<table border=\"1\" class=\"dataframe\">\n",
       "  <thead>\n",
       "    <tr style=\"text-align: right;\">\n",
       "      <th></th>\n",
       "      <th>URL</th>\n",
       "      <th>Xpath</th>\n",
       "      <th>Completeness</th>\n",
       "      <th>ActualCompleteness</th>\n",
       "      <th>Purity</th>\n",
       "      <th>CompletenessGain</th>\n",
       "      <th>NumberOfRooms</th>\n",
       "      <th>RoomClass</th>\n",
       "      <th>RoomType</th>\n",
       "      <th>RoomSize</th>\n",
       "      <th>BedType</th>\n",
       "      <th>Wheelchair</th>\n",
       "      <th>Smoking</th>\n",
       "      <th>View</th>\n",
       "      <th>ExtraAttributes</th>\n",
       "      <th>Score</th>\n",
       "      <th>Admitted</th>\n",
       "    </tr>\n",
       "  </thead>\n",
       "  <tbody>\n",
       "    <tr>\n",
       "      <th>0</th>\n",
       "      <td>https://www.oyorooms.com/id/40374-oyo-rooms-oy...</td>\n",
       "      <td>/html</td>\n",
       "      <td>5.0</td>\n",
       "      <td>0.83</td>\n",
       "      <td>0.0</td>\n",
       "      <td>0.0</td>\n",
       "      <td>0.1</td>\n",
       "      <td>Standard</td>\n",
       "      <td>Double Room</td>\n",
       "      <td>187 sqft</td>\n",
       "      <td>Double</td>\n",
       "      <td>0.0</td>\n",
       "      <td>unknown</td>\n",
       "      <td>View</td>\n",
       "      <td>ac,tv,wifi</td>\n",
       "      <td>0.93</td>\n",
       "      <td>0.0</td>\n",
       "    </tr>\n",
       "    <tr>\n",
       "      <th>1</th>\n",
       "      <td>https://www.oyorooms.com/id/40374-oyo-rooms-oy...</td>\n",
       "      <td>/html/body</td>\n",
       "      <td>5.0</td>\n",
       "      <td>0.83</td>\n",
       "      <td>0.0</td>\n",
       "      <td>0.0</td>\n",
       "      <td>0.1</td>\n",
       "      <td>Standard</td>\n",
       "      <td>Double Room</td>\n",
       "      <td>187 sqft</td>\n",
       "      <td>Double</td>\n",
       "      <td>0.0</td>\n",
       "      <td>unknown</td>\n",
       "      <td>View</td>\n",
       "      <td>ac,tv,wifi</td>\n",
       "      <td>0.93</td>\n",
       "      <td>0.0</td>\n",
       "    </tr>\n",
       "    <tr>\n",
       "      <th>2</th>\n",
       "      <td>https://www.oyorooms.com/id/40374-oyo-rooms-oy...</td>\n",
       "      <td>/html/body/div[2]</td>\n",
       "      <td>5.0</td>\n",
       "      <td>0.83</td>\n",
       "      <td>0.0</td>\n",
       "      <td>0.0</td>\n",
       "      <td>0.1</td>\n",
       "      <td>Standard</td>\n",
       "      <td>Double Room</td>\n",
       "      <td>187 sqft</td>\n",
       "      <td>Double</td>\n",
       "      <td>0.0</td>\n",
       "      <td>unknown</td>\n",
       "      <td>View</td>\n",
       "      <td>ac,tv,wifi</td>\n",
       "      <td>0.93</td>\n",
       "      <td>0.0</td>\n",
       "    </tr>\n",
       "    <tr>\n",
       "      <th>3</th>\n",
       "      <td>https://www.oyorooms.com/id/40374-oyo-rooms-oy...</td>\n",
       "      <td>/html/body/div[2]/div</td>\n",
       "      <td>5.0</td>\n",
       "      <td>0.83</td>\n",
       "      <td>0.0</td>\n",
       "      <td>0.0</td>\n",
       "      <td>0.1</td>\n",
       "      <td>Standard</td>\n",
       "      <td>Double Room</td>\n",
       "      <td>187 sqft</td>\n",
       "      <td>Double</td>\n",
       "      <td>0.0</td>\n",
       "      <td>unknown</td>\n",
       "      <td>View</td>\n",
       "      <td>ac,tv,wifi</td>\n",
       "      <td>0.93</td>\n",
       "      <td>0.0</td>\n",
       "    </tr>\n",
       "    <tr>\n",
       "      <th>4</th>\n",
       "      <td>https://www.oyorooms.com/id/40374-oyo-rooms-oy...</td>\n",
       "      <td>/html/body/div[2]/div/div[3]</td>\n",
       "      <td>5.0</td>\n",
       "      <td>0.83</td>\n",
       "      <td>0.0</td>\n",
       "      <td>0.0</td>\n",
       "      <td>0.1</td>\n",
       "      <td>Standard</td>\n",
       "      <td>Double Room</td>\n",
       "      <td>187 sqft</td>\n",
       "      <td>Double</td>\n",
       "      <td>0.0</td>\n",
       "      <td>unknown</td>\n",
       "      <td>View</td>\n",
       "      <td>ac,tv,wifi</td>\n",
       "      <td>0.93</td>\n",
       "      <td>0.0</td>\n",
       "    </tr>\n",
       "  </tbody>\n",
       "</table>\n",
       "</div>"
      ],
      "text/plain": [
       "                                                 URL  \\\n",
       "0  https://www.oyorooms.com/id/40374-oyo-rooms-oy...   \n",
       "1  https://www.oyorooms.com/id/40374-oyo-rooms-oy...   \n",
       "2  https://www.oyorooms.com/id/40374-oyo-rooms-oy...   \n",
       "3  https://www.oyorooms.com/id/40374-oyo-rooms-oy...   \n",
       "4  https://www.oyorooms.com/id/40374-oyo-rooms-oy...   \n",
       "\n",
       "                          Xpath  Completeness  ActualCompleteness  Purity  \\\n",
       "0                         /html           5.0                0.83     0.0   \n",
       "1                    /html/body           5.0                0.83     0.0   \n",
       "2             /html/body/div[2]           5.0                0.83     0.0   \n",
       "3         /html/body/div[2]/div           5.0                0.83     0.0   \n",
       "4  /html/body/div[2]/div/div[3]           5.0                0.83     0.0   \n",
       "\n",
       "   CompletenessGain  NumberOfRooms RoomClass     RoomType  RoomSize BedType  \\\n",
       "0               0.0            0.1  Standard  Double Room  187 sqft  Double   \n",
       "1               0.0            0.1  Standard  Double Room  187 sqft  Double   \n",
       "2               0.0            0.1  Standard  Double Room  187 sqft  Double   \n",
       "3               0.0            0.1  Standard  Double Room  187 sqft  Double   \n",
       "4               0.0            0.1  Standard  Double Room  187 sqft  Double   \n",
       "\n",
       "   Wheelchair  Smoking  View ExtraAttributes  Score  Admitted  \n",
       "0         0.0  unknown  View      ac,tv,wifi   0.93       0.0  \n",
       "1         0.0  unknown  View      ac,tv,wifi   0.93       0.0  \n",
       "2         0.0  unknown  View      ac,tv,wifi   0.93       0.0  \n",
       "3         0.0  unknown  View      ac,tv,wifi   0.93       0.0  \n",
       "4         0.0  unknown  View      ac,tv,wifi   0.93       0.0  "
      ]
     },
     "execution_count": 2,
     "metadata": {},
     "output_type": "execute_result"
    }
   ],
   "source": [
    "import os\n",
    "path = 'data' + os.sep + FILE_NAME\n",
    "pdData = pd.read_excel(path, sheet_name=SHEET_NAME)\n",
    "pdData.head()"
   ]
  },
  {
   "cell_type": "code",
   "execution_count": 3,
   "metadata": {
    "ExecuteTime": {
     "end_time": "2019-09-24T06:41:04.659405Z",
     "start_time": "2019-09-24T06:41:04.655219Z"
    }
   },
   "outputs": [
    {
     "data": {
      "text/plain": [
       "(10726, 17)"
      ]
     },
     "execution_count": 3,
     "metadata": {},
     "output_type": "execute_result"
    }
   ],
   "source": [
    "pdData.shape"
   ]
  },
  {
   "cell_type": "code",
   "execution_count": 4,
   "metadata": {
    "ExecuteTime": {
     "end_time": "2019-09-24T06:41:05.904689Z",
     "start_time": "2019-09-24T06:41:05.886567Z"
    }
   },
   "outputs": [
    {
     "data": {
      "text/plain": [
       "(10710, 5)"
      ]
     },
     "execution_count": 4,
     "metadata": {},
     "output_type": "execute_result"
    }
   ],
   "source": [
    "# 数据预处理\n",
    "pdData = pdData.dropna(axis = 0,how='any')\n",
    "pdData = pdData.drop(['URL', 'Xpath', 'Completeness', 'RoomClass', 'RoomType', 'RoomSize', 'BedType', 'Wheelchair', 'Smoking', 'View', 'ExtraAttributes', 'Score'], axis=1)\n",
    "pdData.shape"
   ]
  },
  {
   "cell_type": "code",
   "execution_count": 5,
   "metadata": {
    "ExecuteTime": {
     "end_time": "2019-09-24T06:41:07.052017Z",
     "start_time": "2019-09-24T06:41:07.039892Z"
    }
   },
   "outputs": [
    {
     "data": {
      "text/html": [
       "<div>\n",
       "<style scoped>\n",
       "    .dataframe tbody tr th:only-of-type {\n",
       "        vertical-align: middle;\n",
       "    }\n",
       "\n",
       "    .dataframe tbody tr th {\n",
       "        vertical-align: top;\n",
       "    }\n",
       "\n",
       "    .dataframe thead th {\n",
       "        text-align: right;\n",
       "    }\n",
       "</style>\n",
       "<table border=\"1\" class=\"dataframe\">\n",
       "  <thead>\n",
       "    <tr style=\"text-align: right;\">\n",
       "      <th></th>\n",
       "      <th>ActualCompleteness</th>\n",
       "      <th>Purity</th>\n",
       "      <th>CompletenessGain</th>\n",
       "      <th>NumberOfRooms</th>\n",
       "      <th>Admitted</th>\n",
       "    </tr>\n",
       "  </thead>\n",
       "  <tbody>\n",
       "    <tr>\n",
       "      <th>0</th>\n",
       "      <td>0.83</td>\n",
       "      <td>0.0</td>\n",
       "      <td>0.0</td>\n",
       "      <td>0.1</td>\n",
       "      <td>0.0</td>\n",
       "    </tr>\n",
       "    <tr>\n",
       "      <th>1</th>\n",
       "      <td>0.83</td>\n",
       "      <td>0.0</td>\n",
       "      <td>0.0</td>\n",
       "      <td>0.1</td>\n",
       "      <td>0.0</td>\n",
       "    </tr>\n",
       "    <tr>\n",
       "      <th>2</th>\n",
       "      <td>0.83</td>\n",
       "      <td>0.0</td>\n",
       "      <td>0.0</td>\n",
       "      <td>0.1</td>\n",
       "      <td>0.0</td>\n",
       "    </tr>\n",
       "    <tr>\n",
       "      <th>3</th>\n",
       "      <td>0.83</td>\n",
       "      <td>0.0</td>\n",
       "      <td>0.0</td>\n",
       "      <td>0.1</td>\n",
       "      <td>0.0</td>\n",
       "    </tr>\n",
       "    <tr>\n",
       "      <th>4</th>\n",
       "      <td>0.83</td>\n",
       "      <td>0.0</td>\n",
       "      <td>0.0</td>\n",
       "      <td>0.1</td>\n",
       "      <td>0.0</td>\n",
       "    </tr>\n",
       "  </tbody>\n",
       "</table>\n",
       "</div>"
      ],
      "text/plain": [
       "   ActualCompleteness  Purity  CompletenessGain  NumberOfRooms  Admitted\n",
       "0                0.83     0.0               0.0            0.1       0.0\n",
       "1                0.83     0.0               0.0            0.1       0.0\n",
       "2                0.83     0.0               0.0            0.1       0.0\n",
       "3                0.83     0.0               0.0            0.1       0.0\n",
       "4                0.83     0.0               0.0            0.1       0.0"
      ]
     },
     "execution_count": 5,
     "metadata": {},
     "output_type": "execute_result"
    }
   ],
   "source": [
    "pdData.head(5)"
   ]
  },
  {
   "cell_type": "markdown",
   "metadata": {
    "ExecuteTime": {
     "end_time": "2019-09-16T07:21:29.738934Z",
     "start_time": "2019-09-16T07:21:29.736417Z"
    }
   },
   "source": [
    "## The logistic regression"
   ]
  },
  {
   "cell_type": "markdown",
   "metadata": {},
   "source": [
    "目标：建立分类器（求解出三个参数 $\\theta_0         \\theta_1         \\theta_2 $）\n",
    "\n",
    "\n",
    "设定阈值，根据阈值判断录取结果\n",
    "\n",
    "### 要完成的模块\n",
    "-  `sigmoid` : 映射到概率的函数\n",
    "\n",
    "-  `model` : 返回预测结果值\n",
    "\n",
    "-  `cost` : 根据参数计算损失\n",
    "\n",
    "-  `gradient` : 计算每个参数的梯度方向\n",
    "\n",
    "-  `descent` : 进行参数更新\n",
    "\n",
    "-  `accuracy`: 计算精度"
   ]
  },
  {
   "cell_type": "markdown",
   "metadata": {
    "ExecuteTime": {
     "end_time": "2019-09-16T07:19:55.097121Z",
     "start_time": "2019-09-16T07:19:55.091949Z"
    }
   },
   "source": [
    "### sigmoid 函数\n",
    "\n",
    "$$g(z) = \\frac{ 1 }{ 1 + e^{-z} }$$"
   ]
  },
  {
   "cell_type": "code",
   "execution_count": 6,
   "metadata": {
    "ExecuteTime": {
     "end_time": "2019-09-23T06:59:16.356741Z",
     "start_time": "2019-09-23T06:59:16.353684Z"
    }
   },
   "outputs": [],
   "source": [
    "def sigmoid(z):\n",
    "    return 1 / (1 + np.exp(-z))"
   ]
  },
  {
   "cell_type": "markdown",
   "metadata": {},
   "source": [
    "### Sigmoid\n",
    "* $g:\\mathbb{R} \\to [0,1]$\n",
    "* $g(0)=0.5$\n",
    "* $g(- \\infty)=0$\n",
    "* $g(+ \\infty)=1$"
   ]
  },
  {
   "cell_type": "code",
   "execution_count": 7,
   "metadata": {
    "ExecuteTime": {
     "end_time": "2019-09-23T06:59:19.243977Z",
     "start_time": "2019-09-23T06:59:19.240647Z"
    }
   },
   "outputs": [],
   "source": [
    "def model(X, theta):\n",
    "    return sigmoid(np.dot(X, theta.T))"
   ]
  },
  {
   "cell_type": "markdown",
   "metadata": {},
   "source": [
    "$$\n",
    "\\begin{array}{ccc}\n",
    "\\begin{pmatrix}1 & x_{1} & x_{2} & x_{3} & x_{4} \\end{pmatrix} & \\times & \\begin{pmatrix}\n",
    "\\theta_{0}\\\\\n",
    "\\theta_{1}\\\\\n",
    "\\theta_{3}\\\\\n",
    "\\theta_{4}\\\\\n",
    "\\theta_{5}\n",
    "\\end{pmatrix}\\end{array}=\\theta_{0}+\\theta_{1}x_{1}+\\theta_{2}x_{2}+\\theta_{3}x_{3}+\\theta_{4}x_{4}\n",
    "$$"
   ]
  },
  {
   "cell_type": "code",
   "execution_count": 8,
   "metadata": {
    "ExecuteTime": {
     "end_time": "2019-09-23T06:59:23.557099Z",
     "start_time": "2019-09-23T06:59:23.550724Z"
    }
   },
   "outputs": [
    {
     "name": "stderr",
     "output_type": "stream",
     "text": [
      "/Users/hiCore/miniconda3/envs/python3.7.3_dev/lib/python3.7/site-packages/ipykernel_launcher.py:6: FutureWarning: Method .as_matrix will be removed in a future version. Use .values instead.\n",
      "  \n"
     ]
    }
   ],
   "source": [
    "# 在第一列插入一个常数项1\n",
    "pdData.insert(0, 'Ones', 1)\n",
    "\n",
    "# set X (training data) and y (target variable)\n",
    "# 将pandas的DataFrame 转 Numpy Array\n",
    "orig_data = pdData.as_matrix()\n",
    "cols = orig_data.shape[1]\n",
    "X = orig_data[:,0:cols-1]\n",
    "y = orig_data[:,cols-1:cols]\n",
    "\n",
    "# initalize the parameter array theta\n",
    "theta = np.zeros([1, 5])"
   ]
  },
  {
   "cell_type": "code",
   "execution_count": 9,
   "metadata": {
    "ExecuteTime": {
     "end_time": "2019-09-23T06:59:27.063824Z",
     "start_time": "2019-09-23T06:59:27.059589Z"
    },
    "collapsed": true
   },
   "outputs": [
    {
     "data": {
      "text/plain": [
       "array([[1.  , 0.83, 0.  , 0.  , 0.1 ],\n",
       "       [1.  , 0.83, 0.  , 0.  , 0.1 ],\n",
       "       [1.  , 0.83, 0.  , 0.  , 0.1 ],\n",
       "       [1.  , 0.83, 0.  , 0.  , 0.1 ],\n",
       "       [1.  , 0.83, 0.  , 0.  , 0.1 ]])"
      ]
     },
     "execution_count": 9,
     "metadata": {},
     "output_type": "execute_result"
    }
   ],
   "source": [
    "X[:5]"
   ]
  },
  {
   "cell_type": "code",
   "execution_count": 10,
   "metadata": {
    "ExecuteTime": {
     "end_time": "2019-09-23T06:59:33.278422Z",
     "start_time": "2019-09-23T06:59:33.274225Z"
    },
    "collapsed": true
   },
   "outputs": [
    {
     "data": {
      "text/plain": [
       "array([[0.],\n",
       "       [0.],\n",
       "       [0.],\n",
       "       [0.],\n",
       "       [0.]])"
      ]
     },
     "execution_count": 10,
     "metadata": {},
     "output_type": "execute_result"
    }
   ],
   "source": [
    "y[:5]"
   ]
  },
  {
   "cell_type": "code",
   "execution_count": 11,
   "metadata": {
    "ExecuteTime": {
     "end_time": "2019-09-23T06:59:50.525647Z",
     "start_time": "2019-09-23T06:59:50.521277Z"
    }
   },
   "outputs": [
    {
     "data": {
      "text/plain": [
       "array([[0., 0., 0., 0., 0.]])"
      ]
     },
     "execution_count": 11,
     "metadata": {},
     "output_type": "execute_result"
    }
   ],
   "source": [
    "theta"
   ]
  },
  {
   "cell_type": "code",
   "execution_count": 12,
   "metadata": {
    "ExecuteTime": {
     "end_time": "2019-09-23T06:59:55.358674Z",
     "start_time": "2019-09-23T06:59:55.354063Z"
    }
   },
   "outputs": [
    {
     "data": {
      "text/plain": [
       "((10710, 5), (10710, 1), (1, 5))"
      ]
     },
     "execution_count": 12,
     "metadata": {},
     "output_type": "execute_result"
    }
   ],
   "source": [
    "X.shape, y.shape, theta.shape"
   ]
  },
  {
   "cell_type": "markdown",
   "metadata": {
    "ExecuteTime": {
     "end_time": "2019-09-16T08:30:19.689774Z",
     "start_time": "2019-09-16T08:30:19.684516Z"
    }
   },
   "source": [
    "### 损失函数\n",
    "将对数似然函数去负号\n",
    "\n",
    "$$\n",
    "D(h_\\theta(x), y) = -y\\log(h_\\theta(x)) - (1-y)\\log(1-h_\\theta(x))\n",
    "$$\n",
    "求平均损失\n",
    "$$\n",
    "J(\\theta)=\\frac{1}{n}\\sum_{i=1}^{n} D(h_\\theta(x_i), y_i)\n",
    "$$"
   ]
  },
  {
   "cell_type": "code",
   "execution_count": 13,
   "metadata": {
    "ExecuteTime": {
     "end_time": "2019-09-23T07:00:06.726424Z",
     "start_time": "2019-09-23T07:00:06.721997Z"
    }
   },
   "outputs": [],
   "source": [
    "def cost(X, y, theta):\n",
    "    left = np.multiply(-y, np.log(model(X, theta)))\n",
    "    right = np.multiply(1 - y, np.log(1 - model(X, theta)))\n",
    "    return np.sum(left - right) / (len(X))"
   ]
  },
  {
   "cell_type": "code",
   "execution_count": 14,
   "metadata": {
    "ExecuteTime": {
     "end_time": "2019-09-23T07:00:09.112577Z",
     "start_time": "2019-09-23T07:00:09.106885Z"
    }
   },
   "outputs": [
    {
     "data": {
      "text/plain": [
       "0.6931471805599453"
      ]
     },
     "execution_count": 14,
     "metadata": {},
     "output_type": "execute_result"
    }
   ],
   "source": [
    "cost(X, y, theta)"
   ]
  },
  {
   "cell_type": "markdown",
   "metadata": {},
   "source": [
    "### 计算梯度\n",
    "\n",
    "\n",
    "$$\n",
    "\\frac{\\partial J}{\\partial \\theta_j}=-\\frac{1}{m}\\sum_{i=1}^n (y_i - h_\\theta (x_i))x_{ij}\n",
    "$$"
   ]
  },
  {
   "cell_type": "code",
   "execution_count": 15,
   "metadata": {
    "ExecuteTime": {
     "end_time": "2019-09-23T07:00:13.739607Z",
     "start_time": "2019-09-23T07:00:13.735209Z"
    }
   },
   "outputs": [],
   "source": [
    "def gradient(X, y, theta):\n",
    "    # 梯度 站位\n",
    "    grad = np.zeros(theta.shape)\n",
    "    error = (model(X, theta)- y).ravel()\n",
    "    for j in range(len(theta.ravel())): #for each parmeter\n",
    "        term = np.multiply(error, X[:,j])\n",
    "        grad[0, j] = np.sum(term) / len(X)\n",
    "    \n",
    "    return grad"
   ]
  },
  {
   "cell_type": "markdown",
   "metadata": {},
   "source": [
    "### Gradient descent"
   ]
  },
  {
   "cell_type": "markdown",
   "metadata": {
    "ExecuteTime": {
     "end_time": "2019-09-20T09:35:00.053926Z",
     "start_time": "2019-09-20T09:34:59.788327Z"
    }
   },
   "source": [
    "比较3中不同梯度下降方法\n",
    "\n",
    "- 批量梯度下降（容易得到最优解，但每次考虑所有样本，速度很慢）\n",
    "- 随机梯度下降（每次找一个样本，迭代速度快，但不一定每次都朝着收敛的方向）\n",
    "- 小批量梯度下降（每次更新选择一小部分数据来算，实用）"
   ]
  },
  {
   "cell_type": "code",
   "execution_count": 16,
   "metadata": {
    "ExecuteTime": {
     "end_time": "2019-09-23T07:00:19.231326Z",
     "start_time": "2019-09-23T07:00:19.226841Z"
    }
   },
   "outputs": [],
   "source": [
    "STOP_ITER = 0\n",
    "# 当没有损失或损失很小时停止\n",
    "STOP_COST = 1\n",
    "# 当梯度很小时停止\n",
    "STOP_GRAD = 2\n",
    "\n",
    "def stopCriterion(type, value, threshold):\n",
    "    #设定三种不同的停止策略\n",
    "    if type == STOP_ITER:        return value > threshold\n",
    "    elif type == STOP_COST:      return abs(value[-1]-value[-2]) < threshold\n",
    "    elif type == STOP_GRAD:      return np.linalg.norm(value) < threshold"
   ]
  },
  {
   "cell_type": "code",
   "execution_count": 17,
   "metadata": {
    "ExecuteTime": {
     "end_time": "2019-09-23T07:00:21.667942Z",
     "start_time": "2019-09-23T07:00:21.663801Z"
    }
   },
   "outputs": [],
   "source": [
    "# 数据进行洗牌，对数据进行打乱\n",
    "import numpy.random\n",
    "#洗牌\n",
    "def shuffleData(data):\n",
    "    np.random.shuffle(data)\n",
    "    cols = data.shape[1]\n",
    "    X = data[:, 0:cols-1]\n",
    "    y = data[:, cols-1:]\n",
    "    return X, y"
   ]
  },
  {
   "cell_type": "code",
   "execution_count": 18,
   "metadata": {
    "ExecuteTime": {
     "end_time": "2019-09-23T07:00:23.672285Z",
     "start_time": "2019-09-23T07:00:23.663518Z"
    }
   },
   "outputs": [],
   "source": [
    "import time\n",
    "\n",
    "def descent(data, theta, batchSize, stopType, thresh, alpha):\n",
    "    #梯度下降求解\n",
    "    init_time = time.time()\n",
    "    i = 0 # 迭代次数\n",
    "    k = 0 # batch\n",
    "    X, y = shuffleData(data)\n",
    "    grad = np.zeros(theta.shape) # 计算的梯度\n",
    "    costs = [cost(X, y, theta)] # 损失值\n",
    "\n",
    "    \n",
    "    while True:\n",
    "        grad = gradient(X[k:k+batchSize], y[k:k+batchSize], theta)\n",
    "        k += batchSize #取batch数量个数据\n",
    "        if k >= n: \n",
    "            k = 0 \n",
    "            X, y = shuffleData(data) #重新洗牌\n",
    "        theta = theta - alpha*grad # 参数更新\n",
    "        costs.append(cost(X, y, theta)) # 计算新的损失\n",
    "        i += 1 \n",
    "\n",
    "        if stopType == STOP_ITER:       value = i\n",
    "        elif stopType == STOP_COST:     value = costs\n",
    "        elif stopType == STOP_GRAD:     value = grad\n",
    "        if stopCriterion(stopType, value, thresh): break\n",
    "    \n",
    "    return theta, i-1, costs, grad, time.time() - init_time"
   ]
  },
  {
   "cell_type": "code",
   "execution_count": 19,
   "metadata": {
    "ExecuteTime": {
     "end_time": "2019-09-23T07:00:25.152620Z",
     "start_time": "2019-09-23T07:00:25.143677Z"
    }
   },
   "outputs": [],
   "source": [
    "# batchSize 如果指定成1，就是随机梯度下降， 如果指定成总样本数，就是梯度下降  如果指定成 1-总样本数之间则是mini batch梯度下降\n",
    "# stopType 是停止策略\n",
    "# thresh 是阈值\n",
    "# alpha 是学习率\n",
    "def runExpe(data, theta, batchSize, stopType, thresh, alpha):\n",
    "    #import pdb; pdb.set_trace();\n",
    "    theta, iter, costs, grad, dur = descent(data, theta, batchSize, stopType, thresh, alpha)\n",
    "    name = \"Original\" if (data[:,1]>2).sum() > 1 else \"Scaled\"\n",
    "    name += \" data - learning rate: {} - \".format(alpha)\n",
    "    if batchSize==n: strDescType = \"Gradient\"\n",
    "    elif batchSize==1:  strDescType = \"Stochastic\"\n",
    "    else: strDescType = \"Mini-batch ({})\".format(batchSize)\n",
    "    name += strDescType + \" descent - Stop: \"\n",
    "    if stopType == STOP_ITER: strStop = \"{} iterations\".format(thresh)\n",
    "    elif stopType == STOP_COST: strStop = \"costs change < {}\".format(thresh)\n",
    "    else: strStop = \"gradient norm < {}\".format(thresh)\n",
    "    name += strStop\n",
    "    print (\"***{}\\nTheta: {} - Iter: {} - Last cost: {:03.2f} - Duration: {:03.2f}s\".format(\n",
    "        name, theta, iter, costs[-1], dur))\n",
    "    fig, ax = plt.subplots(figsize=(12,4))\n",
    "    ax.plot(np.arange(len(costs)), costs, 'r')\n",
    "    ax.set_xlabel('Iterations')\n",
    "    ax.set_ylabel('Cost')\n",
    "    ax.set_title(name.upper() + ' - Error vs. Iteration')\n",
    "    return theta"
   ]
  },
  {
   "cell_type": "markdown",
   "metadata": {},
   "source": [
    "### 不同的停止策略"
   ]
  },
  {
   "cell_type": "code",
   "execution_count": 20,
   "metadata": {
    "ExecuteTime": {
     "end_time": "2019-09-23T06:12:50.537523Z",
     "start_time": "2019-09-23T06:12:50.535253Z"
    }
   },
   "outputs": [],
   "source": [
    "#### 设定迭代次数"
   ]
  },
  {
   "cell_type": "code",
   "execution_count": 23,
   "metadata": {
    "ExecuteTime": {
     "end_time": "2019-09-23T06:27:38.672603Z",
     "start_time": "2019-09-23T06:26:37.046439Z"
    }
   },
   "outputs": [
    {
     "name": "stdout",
     "output_type": "stream",
     "text": [
      "***Scaled data - learning rate: 1e-06 - Gradient descent - Stop: 5000 iterations\n",
      "Theta: [[-0.00238578 -0.0015026  -0.00102879 -0.00025491 -0.00101057]] - Iter: 5000 - Last cost: 0.69 - Duration: 61.40s\n"
     ]
    },
    {
     "data": {
      "text/plain": [
       "array([[-0.00238578, -0.0015026 , -0.00102879, -0.00025491, -0.00101057]])"
      ]
     },
     "execution_count": 23,
     "metadata": {},
     "output_type": "execute_result"
    },
    {
     "data": {
      "image/png": "[encoded data removed]",
      "text/plain": [
       "<Figure size 864x288 with 1 Axes>"
      ]
     },
     "metadata": {
      "needs_background": "light"
     },
     "output_type": "display_data"
    }
   ],
   "source": [
    "#选择的梯度下降方法是基于所有样本的\n",
    "n=len(X)\n",
    "theta = runExpe(orig_data, theta, n, STOP_ITER, thresh=5000, alpha=0.000001)"
   ]
  },
  {
   "cell_type": "markdown",
   "metadata": {
    "ExecuteTime": {
     "end_time": "2019-09-23T06:26:24.776501Z",
     "start_time": "2019-09-23T06:26:24.772372Z"
    }
   },
   "source": [
    "#### 根据损失值停止"
   ]
  },
  {
   "cell_type": "markdown",
   "metadata": {
    "ExecuteTime": {
     "end_time": "2019-09-23T06:29:46.609176Z",
     "start_time": "2019-09-23T06:29:46.605430Z"
    }
   },
   "source": [
    "设定阈值 1E-6, 差不多需要17 500次迭代 "
   ]
  },
  {
   "cell_type": "code",
   "execution_count": 21,
   "metadata": {
    "ExecuteTime": {
     "end_time": "2019-09-23T07:04:49.761423Z",
     "start_time": "2019-09-23T07:00:55.808859Z"
    }
   },
   "outputs": [
    {
     "name": "stdout",
     "output_type": "stream",
     "text": [
      "***Scaled data - learning rate: 0.001 - Gradient descent - Stop: costs change < 1e-06\n",
      "Theta: [[-1.77761761 -1.10767237 -0.5782684  -0.08959902 -0.66568096]] - Iter: 18237 - Last cost: 0.12 - Duration: 233.71s\n"
     ]
    },
    {
     "data": {
      "text/plain": [
       "array([[-1.77761761, -1.10767237, -0.5782684 , -0.08959902, -0.66568096]])"
      ]
     },
     "execution_count": 21,
     "metadata": {},
     "output_type": "execute_result"
    },
    {
     "data": {
      "image/png": "[encoded data removed]",
      "text/plain": [
       "<Figure size 864x288 with 1 Axes>"
      ]
     },
     "metadata": {
      "needs_background": "light"
     },
     "output_type": "display_data"
    }
   ],
   "source": [
    "n=len(X)\n",
    "theta = runExpe(orig_data, theta, n, STOP_COST, thresh=0.000001, alpha=0.001)"
   ]
  },
  {
   "cell_type": "markdown",
   "metadata": {
    "ExecuteTime": {
     "end_time": "2019-09-23T06:43:13.410577Z",
     "start_time": "2019-09-23T06:43:13.408395Z"
    }
   },
   "source": [
    "## 精度"
   ]
  },
  {
   "cell_type": "code",
   "execution_count": 22,
   "metadata": {
    "ExecuteTime": {
     "end_time": "2019-09-23T07:08:43.871914Z",
     "start_time": "2019-09-23T07:08:43.868677Z"
    }
   },
   "outputs": [],
   "source": [
    "#设定阈值\n",
    "def predict(X, theta):\n",
    "    return [1 if x >= 0.5 else 0 for x in model(X, theta)]"
   ]
  },
  {
   "cell_type": "code",
   "execution_count": 52,
   "metadata": {
    "ExecuteTime": {
     "end_time": "2019-09-23T09:10:30.812486Z",
     "start_time": "2019-09-23T09:10:30.781765Z"
    }
   },
   "outputs": [
    {
     "name": "stdout",
     "output_type": "stream",
     "text": [
      "accuracy = 97.75910364145658%\n"
     ]
    }
   ],
   "source": [
    "theta = np.array([[6.39, 4.66, 3.75, -1.07]])\n",
    "from sklearn import preprocessing as pp\n",
    "import numpy as np\n",
    "scaled_data = orig_data.copy()\n",
    "scaled_X = scaled_data[:, :5]\n",
    "y = scaled_data[:, 5]\n",
    "predictions = predict(scaled_X, theta)\n",
    "correct = [\n",
    "    1 if ((a == 1 and b == 1) or (a == 0 and b == 0)) else 0\n",
    "    for (a, b) in zip(predictions, y)\n",
    "]\n",
    "accuracy = (sum(map(int, correct)) / len(correct))\n",
    "print('accuracy = {0}%'.format(accuracy * 100))"
   ]
  }
 ],
 "metadata": {
  "kernelspec": {
   "display_name": "Python [conda env:python3.7.3_dev] *",
   "language": "python",
   "name": "conda-env-python3.7.3_dev-py"
  },
  "language_info": {
   "codemirror_mode": {
    "name": "ipython",
    "version": 3
   },
   "file_extension": ".py",
   "mimetype": "text/x-python",
   "name": "python",
   "nbconvert_exporter": "python",
   "pygments_lexer": "ipython3",
   "version": "3.7.3"
  },
  "varInspector": {
   "cols": {
    "lenName": 16,
    "lenType": 16,
    "lenVar": 40
   },
   "kernels_config": {
    "python": {
     "delete_cmd_postfix": "",
     "delete_cmd_prefix": "del ",
     "library": "var_list.py",
     "varRefreshCmd": "print(var_dic_list())"
    },
    "r": {
     "delete_cmd_postfix": ") ",
     "delete_cmd_prefix": "rm(",
     "library": "var_list.r",
     "varRefreshCmd": "cat(var_dic_list()) "
    }
   },
   "types_to_exclude": [
    "module",
    "function",
    "builtin_function_or_method",
    "instance",
    "_Feature"
   ],
   "window_display": false
  }
 },
 "nbformat": 4,
 "nbformat_minor": 2
}
