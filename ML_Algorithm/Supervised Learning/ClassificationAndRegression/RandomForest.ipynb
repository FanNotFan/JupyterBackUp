{
 "cells": [
  {
   "cell_type": "code",
   "execution_count": 1,
   "metadata": {
    "execution": {
     "iopub.execute_input": "2021-01-04T09:25:21.423930Z",
     "iopub.status.busy": "2021-01-04T09:25:21.423511Z",
     "iopub.status.idle": "2021-01-04T09:25:21.787927Z",
     "shell.execute_reply": "2021-01-04T09:25:21.787366Z",
     "shell.execute_reply.started": "2021-01-04T09:25:21.423847Z"
    }
   },
   "outputs": [],
   "source": [
    "%matplotlib inline\n",
    "from sklearn.tree import DecisionTreeClassifier\n",
    "from sklearn.ensemble import RandomForestClassifier\n",
    "from sklearn.datasets import load_wine"
   ]
  },
  {
   "cell_type": "code",
   "execution_count": 2,
   "metadata": {
    "execution": {
     "iopub.execute_input": "2021-01-04T09:27:22.809256Z",
     "iopub.status.busy": "2021-01-04T09:27:22.808967Z",
     "iopub.status.idle": "2021-01-04T09:27:22.821272Z",
     "shell.execute_reply": "2021-01-04T09:27:22.820472Z",
     "shell.execute_reply.started": "2021-01-04T09:27:22.809227Z"
    }
   },
   "outputs": [],
   "source": [
    "wine = load_wine()"
   ]
  },
  {
   "cell_type": "markdown",
   "metadata": {},
   "source": [
    "#### 划分训练集和测试集的模块"
   ]
  },
  {
   "cell_type": "code",
   "execution_count": 3,
   "metadata": {
    "execution": {
     "iopub.execute_input": "2021-01-04T09:31:57.262623Z",
     "iopub.status.busy": "2021-01-04T09:31:57.262015Z",
     "iopub.status.idle": "2021-01-04T09:31:57.268181Z",
     "shell.execute_reply": "2021-01-04T09:31:57.267280Z",
     "shell.execute_reply.started": "2021-01-04T09:31:57.262568Z"
    }
   },
   "outputs": [],
   "source": [
    "from sklearn.model_selection import train_test_split\n",
    "X_train, X_test, Y_train, Y_test = train_test_split(wine.data, wine.target,test_size=0.3)"
   ]
  },
  {
   "cell_type": "code",
   "execution_count": 5,
   "metadata": {
    "execution": {
     "iopub.execute_input": "2021-01-04T09:36:42.311258Z",
     "iopub.status.busy": "2021-01-04T09:36:42.310950Z",
     "iopub.status.idle": "2021-01-04T09:36:42.342708Z",
     "shell.execute_reply": "2021-01-04T09:36:42.341820Z",
     "shell.execute_reply.started": "2021-01-04T09:36:42.311227Z"
    }
   },
   "outputs": [
    {
     "name": "stderr",
     "output_type": "stream",
     "text": [
      "/Users/hiCore/miniconda3/envs/python3.7.3_dev/lib/python3.7/site-packages/sklearn/ensemble/forest.py:245: FutureWarning: The default value of n_estimators will change from 10 in version 0.20 to 100 in 0.22.\n",
      "  \"10 in version 0.20 to 100 in 0.22.\", FutureWarning)\n"
     ]
    }
   ],
   "source": [
    "clf = DecisionTreeClassifier(random_state=0)\n",
    "rfc = RandomForestClassifier(random_state=0)\n",
    "\n",
    "clf = clf.fit(X_train,Y_train)\n",
    "rfc = rfc.fit(X_train,Y_train)\n",
    "\n",
    "score_c = clf.score(X_test,Y_test)\n",
    "score_r = rfc.score(X_test,Y_test)"
   ]
  },
  {
   "cell_type": "code",
   "execution_count": 6,
   "metadata": {
    "execution": {
     "iopub.execute_input": "2021-01-04T09:36:46.435270Z",
     "iopub.status.busy": "2021-01-04T09:36:46.435042Z",
     "iopub.status.idle": "2021-01-04T09:36:46.441581Z",
     "shell.execute_reply": "2021-01-04T09:36:46.440270Z",
     "shell.execute_reply.started": "2021-01-04T09:36:46.435247Z"
    }
   },
   "outputs": [
    {
     "name": "stdout",
     "output_type": "stream",
     "text": [
      "DeciseionTree:0.8888888888888888 RandomFroest:0.9629629629629629\n"
     ]
    }
   ],
   "source": [
    "print(\"DeciseionTree:{}\".format(score_c)\n",
    "     ,\"RandomFroest:{}\".format(score_r))"
   ]
  },
  {
   "cell_type": "code",
   "execution_count": null,
   "metadata": {},
   "outputs": [],
   "source": []
  }
 ],
 "metadata": {
  "kernelspec": {
   "display_name": "Python [conda env:python3.7.3_dev] *",
   "language": "python",
   "name": "conda-env-python3.7.3_dev-py"
  },
  "language_info": {
   "codemirror_mode": {
    "name": "ipython",
    "version": 3
   },
   "file_extension": ".py",
   "mimetype": "text/x-python",
   "name": "python",
   "nbconvert_exporter": "python",
   "pygments_lexer": "ipython3",
   "version": "3.7.3"
  },
  "widgets": {
   "application/vnd.jupyter.widget-state+json": {
    "state": {},
    "version_major": 2,
    "version_minor": 0
   }
  }
 },
 "nbformat": 4,
 "nbformat_minor": 4
}
