{
 "cells": [
  {
   "cell_type": "markdown",
   "metadata": {},
   "source": [
    "#### 教程地址\n",
    "https://blog.csdn.net/kingsure001/article/details/107758632"
   ]
  },
  {
   "cell_type": "markdown",
   "metadata": {},
   "source": [
    "### 案例一:高维数据可视化\n",
    "#### 应用鸢尾花数据集"
   ]
  },
  {
   "cell_type": "code",
   "execution_count": 1,
   "metadata": {
    "execution": {
     "iopub.execute_input": "2021-01-27T08:14:29.304433Z",
     "iopub.status.busy": "2021-01-27T08:14:29.303946Z",
     "iopub.status.idle": "2021-01-27T08:14:30.778949Z",
     "shell.execute_reply": "2021-01-27T08:14:30.778320Z",
     "shell.execute_reply.started": "2021-01-27T08:14:29.304300Z"
    }
   },
   "outputs": [
    {
     "data": {
      "text/plain": [
       "((150, 4), (150,))"
      ]
     },
     "execution_count": 1,
     "metadata": {},
     "output_type": "execute_result"
    }
   ],
   "source": [
    "import matplotlib.pyplot as plt\n",
    "from sklearn.datasets import load_iris\n",
    "from sklearn.decomposition import PCA\n",
    "iris=load_iris()\n",
    "X=iris.data\n",
    "y=iris.target\n",
    "X.shape,y.shape"
   ]
  },
  {
   "cell_type": "code",
   "execution_count": 2,
   "metadata": {
    "execution": {
     "iopub.execute_input": "2021-01-27T08:14:35.993386Z",
     "iopub.status.busy": "2021-01-27T08:14:35.992522Z",
     "iopub.status.idle": "2021-01-27T08:14:36.377949Z",
     "shell.execute_reply": "2021-01-27T08:14:36.377304Z",
     "shell.execute_reply.started": "2021-01-27T08:14:35.993328Z"
    }
   },
   "outputs": [
    {
     "data": {
      "text/html": [
       "<div>\n",
       "<style scoped>\n",
       "    .dataframe tbody tr th:only-of-type {\n",
       "        vertical-align: middle;\n",
       "    }\n",
       "\n",
       "    .dataframe tbody tr th {\n",
       "        vertical-align: top;\n",
       "    }\n",
       "\n",
       "    .dataframe thead th {\n",
       "        text-align: right;\n",
       "    }\n",
       "</style>\n",
       "<table border=\"1\" class=\"dataframe\">\n",
       "  <thead>\n",
       "    <tr style=\"text-align: right;\">\n",
       "      <th></th>\n",
       "      <th>0</th>\n",
       "      <th>1</th>\n",
       "      <th>2</th>\n",
       "      <th>3</th>\n",
       "    </tr>\n",
       "  </thead>\n",
       "  <tbody>\n",
       "    <tr>\n",
       "      <th>0</th>\n",
       "      <td>5.1</td>\n",
       "      <td>3.5</td>\n",
       "      <td>1.4</td>\n",
       "      <td>0.2</td>\n",
       "    </tr>\n",
       "    <tr>\n",
       "      <th>1</th>\n",
       "      <td>4.9</td>\n",
       "      <td>3.0</td>\n",
       "      <td>1.4</td>\n",
       "      <td>0.2</td>\n",
       "    </tr>\n",
       "    <tr>\n",
       "      <th>2</th>\n",
       "      <td>4.7</td>\n",
       "      <td>3.2</td>\n",
       "      <td>1.3</td>\n",
       "      <td>0.2</td>\n",
       "    </tr>\n",
       "    <tr>\n",
       "      <th>3</th>\n",
       "      <td>4.6</td>\n",
       "      <td>3.1</td>\n",
       "      <td>1.5</td>\n",
       "      <td>0.2</td>\n",
       "    </tr>\n",
       "    <tr>\n",
       "      <th>4</th>\n",
       "      <td>5.0</td>\n",
       "      <td>3.6</td>\n",
       "      <td>1.4</td>\n",
       "      <td>0.2</td>\n",
       "    </tr>\n",
       "    <tr>\n",
       "      <th>5</th>\n",
       "      <td>5.4</td>\n",
       "      <td>3.9</td>\n",
       "      <td>1.7</td>\n",
       "      <td>0.4</td>\n",
       "    </tr>\n",
       "    <tr>\n",
       "      <th>6</th>\n",
       "      <td>4.6</td>\n",
       "      <td>3.4</td>\n",
       "      <td>1.4</td>\n",
       "      <td>0.3</td>\n",
       "    </tr>\n",
       "    <tr>\n",
       "      <th>7</th>\n",
       "      <td>5.0</td>\n",
       "      <td>3.4</td>\n",
       "      <td>1.5</td>\n",
       "      <td>0.2</td>\n",
       "    </tr>\n",
       "    <tr>\n",
       "      <th>8</th>\n",
       "      <td>4.4</td>\n",
       "      <td>2.9</td>\n",
       "      <td>1.4</td>\n",
       "      <td>0.2</td>\n",
       "    </tr>\n",
       "    <tr>\n",
       "      <th>9</th>\n",
       "      <td>4.9</td>\n",
       "      <td>3.1</td>\n",
       "      <td>1.5</td>\n",
       "      <td>0.1</td>\n",
       "    </tr>\n",
       "  </tbody>\n",
       "</table>\n",
       "</div>"
      ],
      "text/plain": [
       "     0    1    2    3\n",
       "0  5.1  3.5  1.4  0.2\n",
       "1  4.9  3.0  1.4  0.2\n",
       "2  4.7  3.2  1.3  0.2\n",
       "3  4.6  3.1  1.5  0.2\n",
       "4  5.0  3.6  1.4  0.2\n",
       "5  5.4  3.9  1.7  0.4\n",
       "6  4.6  3.4  1.4  0.3\n",
       "7  5.0  3.4  1.5  0.2\n",
       "8  4.4  2.9  1.4  0.2\n",
       "9  4.9  3.1  1.5  0.1"
      ]
     },
     "execution_count": 2,
     "metadata": {},
     "output_type": "execute_result"
    }
   ],
   "source": [
    "import pandas as pd\n",
    "pd_X = pd.DataFrame(X)\n",
    "pd_X.head(10)"
   ]
  },
  {
   "cell_type": "code",
   "execution_count": 3,
   "metadata": {
    "execution": {
     "iopub.execute_input": "2021-01-27T06:03:34.837724Z",
     "iopub.status.busy": "2021-01-27T06:03:34.837223Z",
     "iopub.status.idle": "2021-01-27T06:03:34.845256Z",
     "shell.execute_reply": "2021-01-27T06:03:34.844086Z",
     "shell.execute_reply.started": "2021-01-27T06:03:34.837684Z"
    }
   },
   "outputs": [
    {
     "data": {
      "text/plain": [
       "array([0, 0, 0, 0, 0, 0, 0, 0, 0, 0, 0, 0, 0, 0, 0, 0, 0, 0, 0, 0, 0, 0,\n",
       "       0, 0, 0, 0, 0, 0, 0, 0, 0, 0, 0, 0, 0, 0, 0, 0, 0, 0, 0, 0, 0, 0,\n",
       "       0, 0, 0, 0, 0, 0, 1, 1, 1, 1, 1, 1, 1, 1, 1, 1, 1, 1, 1, 1, 1, 1,\n",
       "       1, 1, 1, 1, 1, 1, 1, 1, 1, 1, 1, 1, 1, 1, 1, 1, 1, 1, 1, 1, 1, 1,\n",
       "       1, 1, 1, 1, 1, 1, 1, 1, 1, 1, 1, 1, 2, 2, 2, 2, 2, 2, 2, 2, 2, 2,\n",
       "       2, 2, 2, 2, 2, 2, 2, 2, 2, 2, 2, 2, 2, 2, 2, 2, 2, 2, 2, 2, 2, 2,\n",
       "       2, 2, 2, 2, 2, 2, 2, 2, 2, 2, 2, 2, 2, 2, 2, 2, 2, 2])"
      ]
     },
     "execution_count": 3,
     "metadata": {},
     "output_type": "execute_result"
    }
   ],
   "source": [
    "y"
   ]
  },
  {
   "cell_type": "markdown",
   "metadata": {},
   "source": [
    "#### 建模"
   ]
  },
  {
   "cell_type": "code",
   "execution_count": 3,
   "metadata": {
    "execution": {
     "iopub.execute_input": "2021-01-27T08:14:37.971496Z",
     "iopub.status.busy": "2021-01-27T08:14:37.971027Z",
     "iopub.status.idle": "2021-01-27T08:14:37.979883Z",
     "shell.execute_reply": "2021-01-27T08:14:37.979019Z",
     "shell.execute_reply.started": "2021-01-27T08:14:37.971458Z"
    }
   },
   "outputs": [
    {
     "data": {
      "text/plain": [
       "(150, 2)"
      ]
     },
     "execution_count": 3,
     "metadata": {},
     "output_type": "execute_result"
    }
   ],
   "source": [
    "#调用pca\n",
    "pca = PCA(n_components=2) #实例化\n",
    "pca = pca.fit(X) #拟合模型\n",
    "X_dr = pca.transform(X) #获取新矩阵\n",
    "#X_dr=PCA(n_components=2).fit_transform(X)\n",
    "X_dr.shape#降维2维了 #(150, 2)"
   ]
  },
  {
   "cell_type": "code",
   "execution_count": 4,
   "metadata": {
    "execution": {
     "iopub.execute_input": "2021-01-27T08:14:42.868509Z",
     "iopub.status.busy": "2021-01-27T08:14:42.868204Z",
     "iopub.status.idle": "2021-01-27T08:14:42.877987Z",
     "shell.execute_reply": "2021-01-27T08:14:42.877219Z",
     "shell.execute_reply.started": "2021-01-27T08:14:42.868478Z"
    }
   },
   "outputs": [
    {
     "data": {
      "text/plain": [
       "array([[-2.68412563,  0.31939725],\n",
       "       [-2.71414169, -0.17700123],\n",
       "       [-2.88899057, -0.14494943],\n",
       "       [-2.74534286, -0.31829898],\n",
       "       [-2.72871654,  0.32675451],\n",
       "       [-2.28085963,  0.74133045],\n",
       "       [-2.82053775, -0.08946138],\n",
       "       [-2.62614497,  0.16338496],\n",
       "       [-2.88638273, -0.57831175],\n",
       "       [-2.6727558 , -0.11377425],\n",
       "       [-2.50694709,  0.6450689 ],\n",
       "       [-2.61275523,  0.01472994],\n",
       "       [-2.78610927, -0.235112  ],\n",
       "       [-3.22380374, -0.51139459],\n",
       "       [-2.64475039,  1.17876464],\n",
       "       [-2.38603903,  1.33806233],\n",
       "       [-2.62352788,  0.81067951],\n",
       "       [-2.64829671,  0.31184914],\n",
       "       [-2.19982032,  0.87283904],\n",
       "       [-2.5879864 ,  0.51356031],\n",
       "       [-2.31025622,  0.39134594],\n",
       "       [-2.54370523,  0.43299606],\n",
       "       [-3.21593942,  0.13346807],\n",
       "       [-2.30273318,  0.09870885],\n",
       "       [-2.35575405, -0.03728186],\n",
       "       [-2.50666891, -0.14601688],\n",
       "       [-2.46882007,  0.13095149],\n",
       "       [-2.56231991,  0.36771886],\n",
       "       [-2.63953472,  0.31203998],\n",
       "       [-2.63198939, -0.19696122],\n",
       "       [-2.58739848, -0.20431849],\n",
       "       [-2.4099325 ,  0.41092426],\n",
       "       [-2.64886233,  0.81336382],\n",
       "       [-2.59873675,  1.09314576],\n",
       "       [-2.63692688, -0.12132235],\n",
       "       [-2.86624165,  0.06936447],\n",
       "       [-2.62523805,  0.59937002],\n",
       "       [-2.80068412,  0.26864374],\n",
       "       [-2.98050204, -0.48795834],\n",
       "       [-2.59000631,  0.22904384],\n",
       "       [-2.77010243,  0.26352753],\n",
       "       [-2.84936871, -0.94096057],\n",
       "       [-2.99740655, -0.34192606],\n",
       "       [-2.40561449,  0.18887143],\n",
       "       [-2.20948924,  0.43666314],\n",
       "       [-2.71445143, -0.2502082 ],\n",
       "       [-2.53814826,  0.50377114],\n",
       "       [-2.83946217, -0.22794557],\n",
       "       [-2.54308575,  0.57941002],\n",
       "       [-2.70335978,  0.10770608],\n",
       "       [ 1.28482569,  0.68516047],\n",
       "       [ 0.93248853,  0.31833364],\n",
       "       [ 1.46430232,  0.50426282],\n",
       "       [ 0.18331772, -0.82795901],\n",
       "       [ 1.08810326,  0.07459068],\n",
       "       [ 0.64166908, -0.41824687],\n",
       "       [ 1.09506066,  0.28346827],\n",
       "       [-0.74912267, -1.00489096],\n",
       "       [ 1.04413183,  0.2283619 ],\n",
       "       [-0.0087454 , -0.72308191],\n",
       "       [-0.50784088, -1.26597119],\n",
       "       [ 0.51169856, -0.10398124],\n",
       "       [ 0.26497651, -0.55003646],\n",
       "       [ 0.98493451, -0.12481785],\n",
       "       [-0.17392537, -0.25485421],\n",
       "       [ 0.92786078,  0.46717949],\n",
       "       [ 0.66028376, -0.35296967],\n",
       "       [ 0.23610499, -0.33361077],\n",
       "       [ 0.94473373, -0.54314555],\n",
       "       [ 0.04522698, -0.58383438],\n",
       "       [ 1.11628318, -0.08461685],\n",
       "       [ 0.35788842, -0.06892503],\n",
       "       [ 1.29818388, -0.32778731],\n",
       "       [ 0.92172892, -0.18273779],\n",
       "       [ 0.71485333,  0.14905594],\n",
       "       [ 0.90017437,  0.32850447],\n",
       "       [ 1.33202444,  0.24444088],\n",
       "       [ 1.55780216,  0.26749545],\n",
       "       [ 0.81329065, -0.1633503 ],\n",
       "       [-0.30558378, -0.36826219],\n",
       "       [-0.06812649, -0.70517213],\n",
       "       [-0.18962247, -0.68028676],\n",
       "       [ 0.13642871, -0.31403244],\n",
       "       [ 1.38002644, -0.42095429],\n",
       "       [ 0.58800644, -0.48428742],\n",
       "       [ 0.80685831,  0.19418231],\n",
       "       [ 1.22069088,  0.40761959],\n",
       "       [ 0.81509524, -0.37203706],\n",
       "       [ 0.24595768, -0.2685244 ],\n",
       "       [ 0.16641322, -0.68192672],\n",
       "       [ 0.46480029, -0.67071154],\n",
       "       [ 0.8908152 , -0.03446444],\n",
       "       [ 0.23054802, -0.40438585],\n",
       "       [-0.70453176, -1.01224823],\n",
       "       [ 0.35698149, -0.50491009],\n",
       "       [ 0.33193448, -0.21265468],\n",
       "       [ 0.37621565, -0.29321893],\n",
       "       [ 0.64257601,  0.01773819],\n",
       "       [-0.90646986, -0.75609337],\n",
       "       [ 0.29900084, -0.34889781],\n",
       "       [ 2.53119273, -0.00984911],\n",
       "       [ 1.41523588, -0.57491635],\n",
       "       [ 2.61667602,  0.34390315],\n",
       "       [ 1.97153105, -0.1797279 ],\n",
       "       [ 2.35000592, -0.04026095],\n",
       "       [ 3.39703874,  0.55083667],\n",
       "       [ 0.52123224, -1.19275873],\n",
       "       [ 2.93258707,  0.3555    ],\n",
       "       [ 2.32122882, -0.2438315 ],\n",
       "       [ 2.91675097,  0.78279195],\n",
       "       [ 1.66177415,  0.24222841],\n",
       "       [ 1.80340195, -0.21563762],\n",
       "       [ 2.1655918 ,  0.21627559],\n",
       "       [ 1.34616358, -0.77681835],\n",
       "       [ 1.58592822, -0.53964071],\n",
       "       [ 1.90445637,  0.11925069],\n",
       "       [ 1.94968906,  0.04194326],\n",
       "       [ 3.48705536,  1.17573933],\n",
       "       [ 3.79564542,  0.25732297],\n",
       "       [ 1.30079171, -0.76114964],\n",
       "       [ 2.42781791,  0.37819601],\n",
       "       [ 1.19900111, -0.60609153],\n",
       "       [ 3.49992004,  0.4606741 ],\n",
       "       [ 1.38876613, -0.20439933],\n",
       "       [ 2.2754305 ,  0.33499061],\n",
       "       [ 2.61409047,  0.56090136],\n",
       "       [ 1.25850816, -0.17970479],\n",
       "       [ 1.29113206, -0.11666865],\n",
       "       [ 2.12360872, -0.20972948],\n",
       "       [ 2.38800302,  0.4646398 ],\n",
       "       [ 2.84167278,  0.37526917],\n",
       "       [ 3.23067366,  1.37416509],\n",
       "       [ 2.15943764, -0.21727758],\n",
       "       [ 1.44416124, -0.14341341],\n",
       "       [ 1.78129481, -0.49990168],\n",
       "       [ 3.07649993,  0.68808568],\n",
       "       [ 2.14424331,  0.1400642 ],\n",
       "       [ 1.90509815,  0.04930053],\n",
       "       [ 1.16932634, -0.16499026],\n",
       "       [ 2.10761114,  0.37228787],\n",
       "       [ 2.31415471,  0.18365128],\n",
       "       [ 1.9222678 ,  0.40920347],\n",
       "       [ 1.41523588, -0.57491635],\n",
       "       [ 2.56301338,  0.2778626 ],\n",
       "       [ 2.41874618,  0.3047982 ],\n",
       "       [ 1.94410979,  0.1875323 ],\n",
       "       [ 1.52716661, -0.37531698],\n",
       "       [ 1.76434572,  0.07885885],\n",
       "       [ 1.90094161,  0.11662796],\n",
       "       [ 1.39018886, -0.28266094]])"
      ]
     },
     "execution_count": 4,
     "metadata": {},
     "output_type": "execute_result"
    }
   ],
   "source": [
    "X_dr"
   ]
  },
  {
   "cell_type": "code",
   "execution_count": 5,
   "metadata": {
    "execution": {
     "iopub.execute_input": "2021-01-27T08:14:49.673044Z",
     "iopub.status.busy": "2021-01-27T08:14:49.672765Z",
     "iopub.status.idle": "2021-01-27T08:14:49.678959Z",
     "shell.execute_reply": "2021-01-27T08:14:49.678146Z",
     "shell.execute_reply.started": "2021-01-27T08:14:49.673015Z"
    }
   },
   "outputs": [
    {
     "data": {
      "text/plain": [
       "array([-2.68412563, -2.71414169, -2.88899057, -2.74534286, -2.72871654,\n",
       "       -2.28085963, -2.82053775, -2.62614497, -2.88638273, -2.6727558 ,\n",
       "       -2.50694709, -2.61275523, -2.78610927, -3.22380374, -2.64475039,\n",
       "       -2.38603903, -2.62352788, -2.64829671, -2.19982032, -2.5879864 ,\n",
       "       -2.31025622, -2.54370523, -3.21593942, -2.30273318, -2.35575405,\n",
       "       -2.50666891, -2.46882007, -2.56231991, -2.63953472, -2.63198939,\n",
       "       -2.58739848, -2.4099325 , -2.64886233, -2.59873675, -2.63692688,\n",
       "       -2.86624165, -2.62523805, -2.80068412, -2.98050204, -2.59000631,\n",
       "       -2.77010243, -2.84936871, -2.99740655, -2.40561449, -2.20948924,\n",
       "       -2.71445143, -2.53814826, -2.83946217, -2.54308575, -2.70335978])"
      ]
     },
     "execution_count": 5,
     "metadata": {},
     "output_type": "execute_result"
    }
   ],
   "source": [
    "X_dr[y==0,0] #布尔索引，y==0代表第一个标签，0代表第一个特征（0列）"
   ]
  },
  {
   "cell_type": "code",
   "execution_count": 7,
   "metadata": {
    "execution": {
     "iopub.execute_input": "2021-01-27T06:20:41.769740Z",
     "iopub.status.busy": "2021-01-27T06:20:41.769314Z",
     "iopub.status.idle": "2021-01-27T06:20:42.111389Z",
     "shell.execute_reply": "2021-01-27T06:20:42.110451Z",
     "shell.execute_reply.started": "2021-01-27T06:20:41.769697Z"
    }
   },
   "outputs": [
    {
     "data": {
      "image/png": "[encoded data removed]",
      "text/plain": [
       "<Figure size 432x288 with 1 Axes>"
      ]
     },
     "metadata": {
      "needs_background": "light"
     },
     "output_type": "display_data"
    }
   ],
   "source": [
    "plt.figure()\n",
    "plt.scatter(X_dr[y==0, 0], X_dr[y==0, 1],c='red',label=iris.target_names[0])\n",
    "plt.scatter(X_dr[y==1, 0], X_dr[y==1, 1], c=\"black\", label=iris.target_names[1])\n",
    "plt.scatter(X_dr[y==2, 0], X_dr[y==2, 1], c=\"orange\", label=iris.target_names[2])\n",
    "plt.legend()\n",
    "plt.title('PCA of IRIS dataset')\n",
    "plt.show()"
   ]
  },
  {
   "cell_type": "markdown",
   "metadata": {},
   "source": [
    "#### 选择最好的n_components：累积可解释方差贡献率曲线"
   ]
  },
  {
   "cell_type": "markdown",
   "metadata": {},
   "source": [
    "当参数components中不填写任何值，则默认返回min(X.shape)个特征，没有减少特征的个数，不会使用这种输入方式。但我们却可以使用这种输入方式来画出累计可解释方差贡献率曲线，以此选择最好的n_components的整数取值。\n",
    "累积可解释方差贡献率曲线是一条以降维后保留的特征个数为横坐标，降维后新特征矩阵捕捉到的可解释方差贡献率为纵坐标的曲线，能够帮助我们决定n_components最好的取值"
   ]
  },
  {
   "cell_type": "markdown",
   "metadata": {
    "execution": {
     "iopub.execute_input": "2021-01-27T07:34:05.970356Z",
     "iopub.status.busy": "2021-01-27T07:34:05.970124Z",
     "iopub.status.idle": "2021-01-27T07:34:06.227838Z",
     "shell.execute_reply": "2021-01-27T07:34:06.227193Z",
     "shell.execute_reply.started": "2021-01-27T07:34:05.970333Z"
    }
   },
   "source": [
    "'''\n",
    "pca.explained_variance_#c查看降维后每个新特征向量所带信息量大小（可解释性方差）\n",
    "pca.explained_variance_ratio_ #查看降维后每个新特征向量所占信息量占原始信息百分比\n",
    "pca.explained_variance_ratio_ .sum()# 查看降维后每个新特征向量所占信息量占原始信息百分比的总和\n",
    "'''\n",
    "import numpy as np\n",
    "pca_line = PCA().fit(X)\n",
    "plt.plot([1,2,3,4],np.cumsum(pca_line.explained_variance_ratio_))#np.cumsum分别取前i项的和\n",
    "plt.xticks([1,2,3,4]) #这是为了限制坐标轴显示为整数[1,2,3,4]\n",
    "plt.xlabel(\"number of components after dimension reduction\")\n",
    "plt.ylabel(\"cumulative explained variance ratio\")\n",
    "plt.show()"
   ]
  },
  {
   "cell_type": "markdown",
   "metadata": {
    "execution": {
     "iopub.execute_input": "2021-01-27T07:39:56.965276Z",
     "iopub.status.busy": "2021-01-27T07:39:56.965016Z",
     "iopub.status.idle": "2021-01-27T07:39:56.968450Z",
     "shell.execute_reply": "2021-01-27T07:39:56.967687Z",
     "shell.execute_reply.started": "2021-01-27T07:39:56.965250Z"
    }
   },
   "source": [
    "#### 最大似然估计自选超参数\n",
    "输入“mle”作为n_components的参数输入，就可以调用这种方法\n",
    "注意：这种方法计算量较大，如果数据十分大，可能会崩"
   ]
  },
  {
   "cell_type": "code",
   "execution_count": 6,
   "metadata": {
    "execution": {
     "iopub.execute_input": "2021-01-27T09:01:41.066728Z",
     "iopub.status.busy": "2021-01-27T09:01:41.066420Z",
     "iopub.status.idle": "2021-01-27T09:01:41.077854Z",
     "shell.execute_reply": "2021-01-27T09:01:41.076506Z",
     "shell.execute_reply.started": "2021-01-27T09:01:41.066696Z"
    }
   },
   "outputs": [
    {
     "name": "stdout",
     "output_type": "stream",
     "text": [
      "(150, 3)\n",
      "3\n"
     ]
    },
    {
     "data": {
      "text/plain": [
       "0.9947878161267247"
      ]
     },
     "execution_count": 6,
     "metadata": {},
     "output_type": "execute_result"
    }
   ],
   "source": [
    "pca_mle = PCA(n_components=\"mle\")\n",
    "pca_mle = pca_mle.fit(X)\n",
    "X_mle = pca_mle.transform(X)\n",
    "print(X_mle.shape)\n",
    "print(X_mle.shape[1])\n",
    "#可以发现，mle为我们自动选择了3个特征\n",
    "\n",
    "pca_mle.explained_variance_ratio_.sum()\n",
    "#得到了比设定2个特征时更高的信息含量，对于鸢尾花这个很小的数据集来说，3个特征对应这么高的信息含量，并不需要去纠结于只保留2个特征，毕竟三个特征也可以可视化"
   ]
  },
  {
   "cell_type": "code",
   "execution_count": 26,
   "metadata": {
    "execution": {
     "iopub.execute_input": "2021-01-27T09:32:49.420060Z",
     "iopub.status.busy": "2021-01-27T09:32:49.419681Z",
     "iopub.status.idle": "2021-01-27T09:32:49.690115Z",
     "shell.execute_reply": "2021-01-27T09:32:49.688895Z",
     "shell.execute_reply.started": "2021-01-27T09:32:49.420023Z"
    }
   },
   "outputs": [
    {
     "data": {
      "image/png": "[encoded data removed]",
      "text/plain": [
       "<Figure size 432x288 with 1 Axes>"
      ]
     },
     "metadata": {
      "needs_background": "light"
     },
     "output_type": "display_data"
    }
   ],
   "source": [
    "import numpy as np\n",
    "import matplotlib.pyplot as plt\n",
    "from mpl_toolkits.mplot3d import Axes3D\n",
    "# %matplotlib notebook\n",
    "%matplotlib inline\n",
    "# %matplotlib widget\n",
    "\n",
    "x1, y1, z1 = X_mle[y==0, 0], X_mle[y==0, 1], X_mle[y==0, 2]\n",
    "x2, y2, z2 = X_mle[y==1, 0], X_mle[y==1, 1], X_mle[y==1, 2]\n",
    "x3, y3, z3 = X_mle[y==2, 0], X_mle[y==2, 1], X_mle[y==2, 2]\n",
    "ax = plt.subplot(111, projection='3d')  # 创建一个三维的绘图工程\n",
    "#  将数据点分成三部分画，在颜色上有区分度\n",
    "ax.scatter(x1, y1, z1, c='y')  # 绘制数据点\n",
    "ax.scatter(x2, y2, z2, c='r')\n",
    "ax.scatter(x3, y3, z3, c='g')\n",
    "\n",
    "ax.set_zlabel('Z')  # 坐标轴\n",
    "ax.set_ylabel('Y')\n",
    "ax.set_xlabel('X')\n",
    "plt.show()"
   ]
  },
  {
   "cell_type": "markdown",
   "metadata": {},
   "source": [
    "重要参数svd_solver：\n",
    "“auto” 通常选用\n",
    "\n",
    "“full” 适用数据量比较居中，计算时间充足的情况\n",
    "\n",
    "“arpack” 适合特征矩阵稀疏\n",
    "\n",
    "“randomized” 适合特征矩阵巨大，计算量大"
   ]
  },
  {
   "cell_type": "markdown",
   "metadata": {
    "execution": {
     "iopub.execute_input": "2021-01-27T09:42:41.863851Z",
     "iopub.status.busy": "2021-01-27T09:42:41.863534Z",
     "iopub.status.idle": "2021-01-27T09:42:41.879156Z",
     "shell.execute_reply": "2021-01-27T09:42:41.877928Z",
     "shell.execute_reply.started": "2021-01-27T09:42:41.863820Z"
    }
   },
   "source": [
    "#### 按信息量占比选超参数\n",
    "输入[0-1]的浮点数，表示总解释性方差占比大于指定百分比,即是说希望保存多少的信息量"
   ]
  },
  {
   "cell_type": "code",
   "execution_count": 28,
   "metadata": {
    "execution": {
     "iopub.execute_input": "2021-01-27T09:47:10.105345Z",
     "iopub.status.busy": "2021-01-27T09:47:10.105034Z",
     "iopub.status.idle": "2021-01-27T09:47:10.118471Z",
     "shell.execute_reply": "2021-01-27T09:47:10.117641Z",
     "shell.execute_reply.started": "2021-01-27T09:47:10.105315Z"
    }
   },
   "outputs": [
    {
     "name": "stdout",
     "output_type": "stream",
     "text": [
      "(150, 2)\n",
      "2\n"
     ]
    },
    {
     "data": {
      "text/plain": [
       "0.977685206318795"
      ]
     },
     "execution_count": 28,
     "metadata": {},
     "output_type": "execute_result"
    }
   ],
   "source": [
    "pca_mle = PCA(n_components=0.97, svd_solver=\"full\")\n",
    "pca_mle = pca_mle.fit(X)\n",
    "X_mle = pca_mle.transform(X)\n",
    "print(X_mle.shape)\n",
    "print(X_mle.shape[1])\n",
    "#可以发现，mle为我们自动选择了3个特征\n",
    "\n",
    "pca_mle.explained_variance_ratio_.sum()"
   ]
  },
  {
   "cell_type": "code",
   "execution_count": null,
   "metadata": {},
   "outputs": [],
   "source": []
  }
 ],
 "metadata": {
  "kernelspec": {
   "display_name": "Python [conda env:python3.7.3_dev] *",
   "language": "python",
   "name": "conda-env-python3.7.3_dev-py"
  },
  "language_info": {
   "codemirror_mode": {
    "name": "ipython",
    "version": 3
   },
   "file_extension": ".py",
   "mimetype": "text/x-python",
   "name": "python",
   "nbconvert_exporter": "python",
   "pygments_lexer": "ipython3",
   "version": "3.7.3"
  },
  "widgets": {
   "application/vnd.jupyter.widget-state+json": {
    "state": {},
    "version_major": 2,
    "version_minor": 0
   }
  }
 },
 "nbformat": 4,
 "nbformat_minor": 4
}
