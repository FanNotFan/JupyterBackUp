{
 "cells": [
  {
   "cell_type": "code",
   "execution_count": 1,
   "metadata": {
    "execution": {
     "iopub.execute_input": "2021-01-05T03:38:16.760072Z",
     "iopub.status.busy": "2021-01-05T03:38:16.759757Z",
     "iopub.status.idle": "2021-01-05T03:38:17.539941Z",
     "shell.execute_reply": "2021-01-05T03:38:17.539137Z",
     "shell.execute_reply.started": "2021-01-05T03:38:16.760002Z"
    }
   },
   "outputs": [],
   "source": [
    "from sklearn.preprocessing import StandardScaler"
   ]
  },
  {
   "cell_type": "code",
   "execution_count": 2,
   "metadata": {
    "execution": {
     "iopub.execute_input": "2021-01-05T03:39:03.411868Z",
     "iopub.status.busy": "2021-01-05T03:39:03.411573Z",
     "iopub.status.idle": "2021-01-05T03:39:03.434041Z",
     "shell.execute_reply": "2021-01-05T03:39:03.432171Z",
     "shell.execute_reply.started": "2021-01-05T03:39:03.411836Z"
    }
   },
   "outputs": [
    {
     "data": {
      "text/plain": [
       "StandardScaler(copy=True, with_mean=True, with_std=True)"
      ]
     },
     "execution_count": 2,
     "metadata": {},
     "output_type": "execute_result"
    }
   ],
   "source": [
    "data=[[-1,2],[-0.5,6],[0,10],[1,18]]\n",
    "scaler = StandardScaler()\n",
    "scaler.fit(data) #fit本质生成均值和方差"
   ]
  },
  {
   "cell_type": "code",
   "execution_count": 3,
   "metadata": {
    "execution": {
     "iopub.execute_input": "2021-01-05T03:39:06.277336Z",
     "iopub.status.busy": "2021-01-05T03:39:06.276394Z",
     "iopub.status.idle": "2021-01-05T03:39:06.292601Z",
     "shell.execute_reply": "2021-01-05T03:39:06.282933Z",
     "shell.execute_reply.started": "2021-01-05T03:39:06.277263Z"
    }
   },
   "outputs": [
    {
     "name": "stdout",
     "output_type": "stream",
     "text": [
      "[-0.125  9.   ]\n",
      "[ 0.546875 35.      ]\n"
     ]
    }
   ],
   "source": [
    "print(scaler.mean_) #查看均值的属性mean_\n",
    "print(scaler.var_) #查看方差的属性var_"
   ]
  },
  {
   "cell_type": "code",
   "execution_count": 4,
   "metadata": {
    "execution": {
     "iopub.execute_input": "2021-01-05T03:39:37.639493Z",
     "iopub.status.busy": "2021-01-05T03:39:37.639237Z",
     "iopub.status.idle": "2021-01-05T03:39:37.644866Z",
     "shell.execute_reply": "2021-01-05T03:39:37.643972Z",
     "shell.execute_reply.started": "2021-01-05T03:39:37.639467Z"
    }
   },
   "outputs": [
    {
     "name": "stdout",
     "output_type": "stream",
     "text": [
      "0.0\n",
      "1.0\n"
     ]
    }
   ],
   "source": [
    "x_std = scaler.transform(data)\n",
    "\n",
    "print(x_std.mean()) #导出的结果是一个数组，用mean()查看均值\n",
    "print(x_std.var())  #用std()查看方差"
   ]
  },
  {
   "cell_type": "markdown",
   "metadata": {},
   "source": [
    "#### 一步达成"
   ]
  },
  {
   "cell_type": "code",
   "execution_count": 5,
   "metadata": {
    "execution": {
     "iopub.execute_input": "2021-01-05T03:40:10.041497Z",
     "iopub.status.busy": "2021-01-05T03:40:10.041144Z",
     "iopub.status.idle": "2021-01-05T03:40:10.047270Z",
     "shell.execute_reply": "2021-01-05T03:40:10.045932Z",
     "shell.execute_reply.started": "2021-01-05T03:40:10.041462Z"
    }
   },
   "outputs": [
    {
     "name": "stdout",
     "output_type": "stream",
     "text": [
      "[[-1.18321596 -1.18321596]\n",
      " [-0.50709255 -0.50709255]\n",
      " [ 0.16903085  0.16903085]\n",
      " [ 1.52127766  1.52127766]]\n"
     ]
    }
   ],
   "source": [
    "print(scaler.fit_transform(data))"
   ]
  },
  {
   "cell_type": "markdown",
   "metadata": {
    "execution": {
     "iopub.execute_input": "2021-01-05T03:40:26.679020Z",
     "iopub.status.busy": "2021-01-05T03:40:26.678596Z",
     "iopub.status.idle": "2021-01-05T03:40:26.682493Z",
     "shell.execute_reply": "2021-01-05T03:40:26.681467Z",
     "shell.execute_reply.started": "2021-01-05T03:40:26.678957Z"
    }
   },
   "source": [
    "### 逆标准化"
   ]
  },
  {
   "cell_type": "code",
   "execution_count": 7,
   "metadata": {
    "execution": {
     "iopub.execute_input": "2021-01-05T03:40:34.545870Z",
     "iopub.status.busy": "2021-01-05T03:40:34.545592Z",
     "iopub.status.idle": "2021-01-05T03:40:34.552984Z",
     "shell.execute_reply": "2021-01-05T03:40:34.551591Z",
     "shell.execute_reply.started": "2021-01-05T03:40:34.545843Z"
    }
   },
   "outputs": [
    {
     "name": "stdout",
     "output_type": "stream",
     "text": [
      "[[-1.   2. ]\n",
      " [-0.5  6. ]\n",
      " [ 0.  10. ]\n",
      " [ 1.  18. ]]\n"
     ]
    }
   ],
   "source": [
    "print(scaler.inverse_transform(x_std))"
   ]
  },
  {
   "cell_type": "code",
   "execution_count": null,
   "metadata": {},
   "outputs": [],
   "source": []
  }
 ],
 "metadata": {
  "kernelspec": {
   "display_name": "Python [conda env:python3.7.3_dev] *",
   "language": "python",
   "name": "conda-env-python3.7.3_dev-py"
  },
  "language_info": {
   "codemirror_mode": {
    "name": "ipython",
    "version": 3
   },
   "file_extension": ".py",
   "mimetype": "text/x-python",
   "name": "python",
   "nbconvert_exporter": "python",
   "pygments_lexer": "ipython3",
   "version": "3.7.3"
  },
  "widgets": {
   "application/vnd.jupyter.widget-state+json": {
    "state": {},
    "version_major": 2,
    "version_minor": 0
   }
  }
 },
 "nbformat": 4,
 "nbformat_minor": 4
}
