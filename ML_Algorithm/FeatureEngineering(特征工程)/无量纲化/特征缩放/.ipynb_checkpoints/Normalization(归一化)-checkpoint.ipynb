{
 "cells": [
  {
   "cell_type": "markdown",
   "metadata": {
    "execution": {
     "iopub.execute_input": "2021-01-05T03:11:55.376240Z",
     "iopub.status.busy": "2021-01-05T03:11:55.375996Z",
     "iopub.status.idle": "2021-01-05T03:11:55.381165Z",
     "shell.execute_reply": "2021-01-05T03:11:55.379739Z",
     "shell.execute_reply.started": "2021-01-05T03:11:55.376214Z"
    }
   },
   "source": [
    "frac{x - \\mu}{\\sigma}"
   ]
  },
  {
   "cell_type": "markdown",
   "metadata": {
    "execution": {
     "iopub.execute_input": "2021-01-05T02:50:43.996800Z",
     "iopub.status.busy": "2021-01-05T02:50:43.996246Z",
     "iopub.status.idle": "2021-01-05T02:50:44.009088Z",
     "shell.execute_reply": "2021-01-05T02:50:44.007614Z",
     "shell.execute_reply.started": "2021-01-05T02:50:43.996741Z"
    }
   },
   "source": [
    "线性归一化和均值归一化计算公式教程地址:\n",
    "https://blog.csdn.net/bitcarmanlee/article/details/51353016X"
   ]
  },
  {
   "cell_type": "code",
   "execution_count": 11,
   "metadata": {
    "execution": {
     "iopub.execute_input": "2021-01-05T03:01:50.648024Z",
     "iopub.status.busy": "2021-01-05T03:01:50.647739Z",
     "iopub.status.idle": "2021-01-05T03:01:50.651926Z",
     "shell.execute_reply": "2021-01-05T03:01:50.650743Z",
     "shell.execute_reply.started": "2021-01-05T03:01:50.647995Z"
    }
   },
   "outputs": [],
   "source": [
    "from sklearn.preprocessing import MinMaxScaler\n",
    "import pandas as pd"
   ]
  },
  {
   "cell_type": "code",
   "execution_count": 2,
   "metadata": {
    "execution": {
     "iopub.execute_input": "2021-01-05T02:41:25.216364Z",
     "iopub.status.busy": "2021-01-05T02:41:25.216120Z",
     "iopub.status.idle": "2021-01-05T02:41:25.228058Z",
     "shell.execute_reply": "2021-01-05T02:41:25.227122Z",
     "shell.execute_reply.started": "2021-01-05T02:41:25.216341Z"
    }
   },
   "outputs": [
    {
     "name": "stdout",
     "output_type": "stream",
     "text": [
      "     0   1\n",
      "0 -1.0   2\n",
      "1 -0.5   6\n",
      "2  0.0  10\n",
      "3  1.0  18\n"
     ]
    }
   ],
   "source": [
    "data = [[-1, 2], [-0.5, 6], [0, 10], [1, 18]]\n",
    "print(pd.DataFrame(data))"
   ]
  },
  {
   "cell_type": "markdown",
   "metadata": {},
   "source": [
    "#### 分布归一化"
   ]
  },
  {
   "cell_type": "code",
   "execution_count": 3,
   "metadata": {
    "execution": {
     "iopub.execute_input": "2021-01-05T02:42:15.112013Z",
     "iopub.status.busy": "2021-01-05T02:42:15.111738Z",
     "iopub.status.idle": "2021-01-05T02:42:15.120166Z",
     "shell.execute_reply": "2021-01-05T02:42:15.118624Z",
     "shell.execute_reply.started": "2021-01-05T02:42:15.111983Z"
    }
   },
   "outputs": [
    {
     "name": "stdout",
     "output_type": "stream",
     "text": [
      "      0     1\n",
      "0  0.00  0.00\n",
      "1  0.25  0.25\n",
      "2  0.50  0.50\n",
      "3  1.00  1.00\n"
     ]
    }
   ],
   "source": [
    "scaler = MinMaxScaler()\n",
    "scaler = scaler.fit(data)  # 本质生成 max(x) 和 min(x)\n",
    "result = scaler.transform(data)\n",
    "print(pd.DataFrame(result))"
   ]
  },
  {
   "cell_type": "markdown",
   "metadata": {},
   "source": [
    "#### 一步归一化"
   ]
  },
  {
   "cell_type": "code",
   "execution_count": 4,
   "metadata": {
    "execution": {
     "iopub.execute_input": "2021-01-05T02:44:07.102849Z",
     "iopub.status.busy": "2021-01-05T02:44:07.102550Z",
     "iopub.status.idle": "2021-01-05T02:44:07.110942Z",
     "shell.execute_reply": "2021-01-05T02:44:07.109851Z",
     "shell.execute_reply.started": "2021-01-05T02:44:07.102819Z"
    }
   },
   "outputs": [
    {
     "name": "stdout",
     "output_type": "stream",
     "text": [
      "      0     1\n",
      "0  0.00  0.00\n",
      "1  0.25  0.25\n",
      "2  0.50  0.50\n",
      "3  1.00  1.00\n"
     ]
    }
   ],
   "source": [
    "result2 = scaler.fit_transform(data)\n",
    "print(pd.DataFrame(result2))"
   ]
  },
  {
   "cell_type": "markdown",
   "metadata": {
    "execution": {
     "iopub.execute_input": "2021-01-05T02:44:29.645855Z",
     "iopub.status.busy": "2021-01-05T02:44:29.645583Z",
     "iopub.status.idle": "2021-01-05T02:44:29.650229Z",
     "shell.execute_reply": "2021-01-05T02:44:29.648914Z",
     "shell.execute_reply.started": "2021-01-05T02:44:29.645828Z"
    }
   },
   "source": [
    "### 归一化到 5-10 之间"
   ]
  },
  {
   "cell_type": "code",
   "execution_count": 6,
   "metadata": {
    "execution": {
     "iopub.execute_input": "2021-01-05T02:44:38.811169Z",
     "iopub.status.busy": "2021-01-05T02:44:38.810891Z",
     "iopub.status.idle": "2021-01-05T02:44:38.819365Z",
     "shell.execute_reply": "2021-01-05T02:44:38.818118Z",
     "shell.execute_reply.started": "2021-01-05T02:44:38.811140Z"
    }
   },
   "outputs": [
    {
     "name": "stdout",
     "output_type": "stream",
     "text": [
      "       0      1\n",
      "0   5.00   5.00\n",
      "1   6.25   6.25\n",
      "2   7.50   7.50\n",
      "3  10.00  10.00\n",
      "\n"
     ]
    }
   ],
   "source": [
    "data2 = [[-1, 2], [-0.5, 6], [0, 10], [1, 18]]\n",
    "scaler2 = MinMaxScaler(feature_range=[5, 10])\n",
    "result3 = scaler2.fit_transform(data2)\n",
    "print(pd.DataFrame(result3))\n",
    "print()"
   ]
  },
  {
   "cell_type": "markdown",
   "metadata": {},
   "source": [
    "当数据量太大 fit无法计算 报错 使用partial_fit()接口"
   ]
  },
  {
   "cell_type": "code",
   "execution_count": null,
   "metadata": {},
   "outputs": [],
   "source": []
  }
 ],
 "metadata": {
  "kernelspec": {
   "display_name": "Python [conda env:python3.7.3_dev] *",
   "language": "python",
   "name": "conda-env-python3.7.3_dev-py"
  },
  "language_info": {
   "codemirror_mode": {
    "name": "ipython",
    "version": 3
   },
   "file_extension": ".py",
   "mimetype": "text/x-python",
   "name": "python",
   "nbconvert_exporter": "python",
   "pygments_lexer": "ipython3",
   "version": "3.7.3"
  },
  "widgets": {
   "application/vnd.jupyter.widget-state+json": {
    "state": {},
    "version_major": 2,
    "version_minor": 0
   }
  }
 },
 "nbformat": 4,
 "nbformat_minor": 4
}
