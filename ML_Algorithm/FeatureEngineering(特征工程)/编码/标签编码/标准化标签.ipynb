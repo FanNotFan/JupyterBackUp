{
 "cells": [
  {
   "cell_type": "code",
   "execution_count": 1,
   "metadata": {
    "execution": {
     "iopub.execute_input": "2021-01-05T05:44:38.538135Z",
     "iopub.status.busy": "2021-01-05T05:44:38.537739Z",
     "iopub.status.idle": "2021-01-05T05:44:39.259484Z",
     "shell.execute_reply": "2021-01-05T05:44:39.258832Z",
     "shell.execute_reply.started": "2021-01-05T05:44:38.538058Z"
    }
   },
   "outputs": [],
   "source": [
    "from sklearn import preprocessing"
   ]
  },
  {
   "cell_type": "code",
   "execution_count": 2,
   "metadata": {
    "execution": {
     "iopub.execute_input": "2021-01-05T05:44:50.932185Z",
     "iopub.status.busy": "2021-01-05T05:44:50.931905Z",
     "iopub.status.idle": "2021-01-05T05:44:50.948189Z",
     "shell.execute_reply": "2021-01-05T05:44:50.947339Z",
     "shell.execute_reply.started": "2021-01-05T05:44:50.932155Z"
    }
   },
   "outputs": [
    {
     "data": {
      "text/plain": [
       "LabelEncoder()"
      ]
     },
     "execution_count": 2,
     "metadata": {},
     "output_type": "execute_result"
    }
   ],
   "source": [
    "le = preprocessing.LabelEncoder()\n",
    "le.fit([1,2,2,6,3])"
   ]
  },
  {
   "cell_type": "code",
   "execution_count": 3,
   "metadata": {
    "execution": {
     "iopub.execute_input": "2021-01-05T05:45:25.484399Z",
     "iopub.status.busy": "2021-01-05T05:45:25.484117Z",
     "iopub.status.idle": "2021-01-05T05:45:25.491797Z",
     "shell.execute_reply": "2021-01-05T05:45:25.490677Z",
     "shell.execute_reply.started": "2021-01-05T05:45:25.484371Z"
    }
   },
   "outputs": [
    {
     "data": {
      "text/plain": [
       "array([1, 2, 3, 6])"
      ]
     },
     "execution_count": 3,
     "metadata": {},
     "output_type": "execute_result"
    }
   ],
   "source": [
    "le.classes_"
   ]
  },
  {
   "cell_type": "markdown",
   "metadata": {},
   "source": [
    "#### 非数字型标签值标准化"
   ]
  },
  {
   "cell_type": "code",
   "execution_count": 4,
   "metadata": {
    "execution": {
     "iopub.execute_input": "2021-01-05T05:47:22.624082Z",
     "iopub.status.busy": "2021-01-05T05:47:22.623823Z",
     "iopub.status.idle": "2021-01-05T05:47:22.633583Z",
     "shell.execute_reply": "2021-01-05T05:47:22.632533Z",
     "shell.execute_reply.started": "2021-01-05T05:47:22.624056Z"
    }
   },
   "outputs": [
    {
     "name": "stdout",
     "output_type": "stream",
     "text": [
      "标签个数:['amsterdam' 'paris' 'tokyo']\n",
      "标签值标准化:[2 2 1]\n",
      "标准化标签值反转:['tokyo' 'tokyo' 'paris']\n"
     ]
    }
   ],
   "source": [
    "from sklearn import preprocessing\n",
    "le =preprocessing.LabelEncoder()\n",
    "le.fit([\"paris\", \"paris\", \"tokyo\", \"amsterdam\"])\n",
    "print('属性.classes_查看标签中究竟有多少类别:%s'% le.classes_)\n",
    "print('标签值标准化:%s' % le.transform([\"tokyo\", \"tokyo\", \"paris\"]))\n",
    "print('标准化标签值反转:%s' % le.inverse_transform([2, 2, 1]))"
   ]
  },
  {
   "cell_type": "code",
   "execution_count": null,
   "metadata": {},
   "outputs": [],
   "source": []
  }
 ],
 "metadata": {
  "kernelspec": {
   "display_name": "Python [conda env:python3.7.3_dev] *",
   "language": "python",
   "name": "conda-env-python3.7.3_dev-py"
  },
  "language_info": {
   "codemirror_mode": {
    "name": "ipython",
    "version": 3
   },
   "file_extension": ".py",
   "mimetype": "text/x-python",
   "name": "python",
   "nbconvert_exporter": "python",
   "pygments_lexer": "ipython3",
   "version": "3.7.3"
  },
  "widgets": {
   "application/vnd.jupyter.widget-state+json": {
    "state": {},
    "version_major": 2,
    "version_minor": 0
   }
  }
 },
 "nbformat": 4,
 "nbformat_minor": 4
}
