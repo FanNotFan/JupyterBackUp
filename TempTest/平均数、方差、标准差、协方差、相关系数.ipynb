{
 "cells": [
  {
   "cell_type": "code",
   "execution_count": 1,
   "metadata": {},
   "outputs": [
    {
     "name": "stdout",
     "output_type": "stream",
     "text": [
      "3.5 2.4\n",
      "3.5 2.9760000000000004\n",
      "1.8708286933869707 1.725108692227826\n",
      "协方差 3.06\n",
      "pearson相关系数 0.9481366640102854\n"
     ]
    }
   ],
   "source": [
    "import pandas as pd\n",
    "import numpy as np\n",
    "x=pd.Series([1,2,3,4,5,6])\n",
    "y=pd.Series([0.3,0.9,2.7,2,3.5,5])\n",
    "print(x.mean(),y.mean()) # 平均值\n",
    "print(x.var(),y.var())   # 方差\n",
    "print(x.std(),y.std())   # 标准差\n",
    "print(\"协方差\",x.cov(y))  # 协方差"
   ]
  },
  {
   "cell_type": "markdown",
   "metadata": {},
   "source": [
    "pearson相关系数：度量两变量x和y之间的线性关系，样本协方差除以x的标准差与y的标准差的乘积\n",
    "pearson：Pearson相关系数来衡量两个数据集合是否在一条线上面，即针对线性数据的相关系数计算，针对非线性数据便会有误差。\n",
    "公式：​$$r_{x y}=\\frac{s_{x y}}{s_{x} s_{y}}$$\n",
    "\n",
    "其中， $$r_{x y}$$为样本相关系数； $$s_{x y}$$为样本协方差； $$s_{x}$$为x的样本标准差； $$s_{y}$$为y的样本标准差；\n",
    "\n",
    "数据：x,y都是随机变量，双变量正态分布，在求pearson相关系数后，通常用t检验方法进行pearson相关系数检验，而t检验是基于数据呈正态分布的假设的；实验数据之间的差距不能太大。"
   ]
  },
  {
   "cell_type": "code",
   "execution_count": null,
   "metadata": {},
   "outputs": [],
   "source": [
    "print(\"pearson相关系数\",x.corr(y,method=\"pearson\")) # pearson相关系数"
   ]
  },
  {
   "cell_type": "markdown",
   "metadata": {},
   "source": [
    "spearman：非线性的，非正太分析的数据的相关系数\n",
    "spearman相关系数，称为秩相关系数\n",
    "主要用于计算不服从正态分布的数据、原始等级数据、一侧开口数据、总体分布类型未知的数据；\n",
    "\n",
    "公式：​$$r_{s}=1-\\frac{6 \\sum_{i=1}^{n} d_{i}^{2}}{n\\left(n^{2}-1\\right)}$$\n",
    "\n",
    "其中，n为样本中观测值的个数； $$ x_{i}$$为对于第一个变量的第i个观测值的秩；$$ y_{i}$$ 为对于第二个变量的第i个观测值的秩；$$ d_{i}=x_{i}-y_{i}$$ 。"
   ]
  },
  {
   "cell_type": "code",
   "execution_count": 3,
   "metadata": {},
   "outputs": [
    {
     "data": {
      "text/plain": [
       "0.942857142857143"
      ]
     },
     "execution_count": 3,
     "metadata": {},
     "output_type": "execute_result"
    }
   ],
   "source": [
    "x.corr(y,method=\"spearman\")"
   ]
  },
  {
   "cell_type": "markdown",
   "metadata": {},
   "source": [
    "kendall相关系数\n",
    "kendall：用于反映分类变量相关性的指标，即针对无序序列的相关系数，非正太分布的数据\n",
    "\n",
    "表示等级变量相关程度的一种方法，定义：n个同类的统计对象按特定属性排序，其他属性通常是乱序的。同序对和异序对之差与总对数(n*(n-1)/2) 的比值定义为kendall秩相关系数。\n",
    "\n",
    "公式：​ $$\\tau=\\frac{2 P}{\\frac{1}{2} n(n-1)}-1=\\frac{4 P}{n(n-1)}-1$$\n",
    "\n",
    "其中，n是数据样本量，P为两个变量值排列大小关系一致的统计对象对数。kendall stau系数性质：\n",
    "\n",
    "如果两个变量排名是相同的，系数为1，两个变量正相关；\n",
    "如果两个变量排名完全相反，系数为-1 ，两个变量负相关；\n",
    "\n",
    "如果排名是完全独立的，系数为0；"
   ]
  },
  {
   "cell_type": "code",
   "execution_count": 6,
   "metadata": {},
   "outputs": [
    {
     "data": {
      "text/plain": [
       "0.8666666666666666"
      ]
     },
     "execution_count": 6,
     "metadata": {},
     "output_type": "execute_result"
    }
   ],
   "source": [
    "x.corr(y,method=\"kendall\")"
   ]
  },
  {
   "cell_type": "code",
   "execution_count": null,
   "metadata": {},
   "outputs": [],
   "source": []
  }
 ],
 "metadata": {
  "kernelspec": {
   "display_name": "Python [conda env:python3.7.3_dev] *",
   "language": "python",
   "name": "conda-env-python3.7.3_dev-py"
  },
  "language_info": {
   "codemirror_mode": {
    "name": "ipython",
    "version": 3
   },
   "file_extension": ".py",
   "mimetype": "text/x-python",
   "name": "python",
   "nbconvert_exporter": "python",
   "pygments_lexer": "ipython3",
   "version": "3.7.3"
  }
 },
 "nbformat": 4,
 "nbformat_minor": 4
}
