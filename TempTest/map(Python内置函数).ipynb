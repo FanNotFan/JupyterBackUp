{
 "cells": [
  {
   "cell_type": "code",
   "execution_count": 2,
   "metadata": {
    "execution": {
     "iopub.execute_input": "2021-01-06T11:06:15.270567Z",
     "iopub.status.busy": "2021-01-06T11:06:15.270182Z",
     "iopub.status.idle": "2021-01-06T11:06:15.279058Z",
     "shell.execute_reply": "2021-01-06T11:06:15.277886Z",
     "shell.execute_reply.started": "2021-01-06T11:06:15.270529Z"
    }
   },
   "outputs": [
    {
     "name": "stdout",
     "output_type": "stream",
     "text": [
      "21\n"
     ]
    }
   ],
   "source": [
    "'''reduce'''\n",
    "from functools import reduce                # 3.x 版本须引入\n",
    "def sum(x,y):\n",
    "    return x+y\n",
    "l = [1,2,3,4,5,6]\n",
    "l = reduce(sum,l)\n",
    "print(l)"
   ]
  },
  {
   "cell_type": "code",
   "execution_count": 3,
   "metadata": {
    "execution": {
     "iopub.execute_input": "2021-01-06T11:06:25.362462Z",
     "iopub.status.busy": "2021-01-06T11:06:25.362135Z",
     "iopub.status.idle": "2021-01-06T11:06:25.368171Z",
     "shell.execute_reply": "2021-01-06T11:06:25.367171Z",
     "shell.execute_reply.started": "2021-01-06T11:06:25.362405Z"
    }
   },
   "outputs": [
    {
     "name": "stdout",
     "output_type": "stream",
     "text": [
      "21\n",
      "Help on built-in function reduce in module _functools:\n",
      "\n",
      "reduce(...)\n",
      "    reduce(function, sequence[, initial]) -> value\n",
      "    \n",
      "    Apply a function of two arguments cumulatively to the items of a sequence,\n",
      "    from left to right, so as to reduce the sequence to a single value.\n",
      "    For example, reduce(lambda x, y: x+y, [1, 2, 3, 4, 5]) calculates\n",
      "    ((((1+2)+3)+4)+5).  If initial is present, it is placed before the items\n",
      "    of the sequence in the calculation, and serves as a default when the\n",
      "    sequence is empty.\n",
      "\n"
     ]
    }
   ],
   "source": [
    "l = [1,2,3,4,5,6]\n",
    "l = reduce(lambda x,y:x+y,l)                # 结合lambda\n",
    "print(l)\n",
    "help(reduce)                                # 查看 reduce 帮助"
   ]
  },
  {
   "cell_type": "code",
   "execution_count": null,
   "metadata": {},
   "outputs": [],
   "source": []
  }
 ],
 "metadata": {
  "kernelspec": {
   "display_name": "Python [conda env:python3.7.3_dev] *",
   "language": "python",
   "name": "conda-env-python3.7.3_dev-py"
  },
  "language_info": {
   "codemirror_mode": {
    "name": "ipython",
    "version": 3
   },
   "file_extension": ".py",
   "mimetype": "text/x-python",
   "name": "python",
   "nbconvert_exporter": "python",
   "pygments_lexer": "ipython3",
   "version": "3.7.3"
  },
  "widgets": {
   "application/vnd.jupyter.widget-state+json": {
    "state": {},
    "version_major": 2,
    "version_minor": 0
   }
  }
 },
 "nbformat": 4,
 "nbformat_minor": 4
}
