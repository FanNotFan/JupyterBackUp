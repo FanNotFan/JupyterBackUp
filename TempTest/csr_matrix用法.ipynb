{
 "cells": [
  {
   "cell_type": "markdown",
   "metadata": {},
   "source": [
    "定义行和列及数据,csr_matrix默认对未填充的位置置为0"
   ]
  },
  {
   "cell_type": "code",
   "execution_count": 1,
   "metadata": {
    "execution": {
     "iopub.execute_input": "2020-12-21T11:48:12.120141Z",
     "iopub.status.busy": "2020-12-21T11:48:12.119798Z",
     "iopub.status.idle": "2020-12-21T11:48:12.410510Z",
     "shell.execute_reply": "2020-12-21T11:48:12.409401Z",
     "shell.execute_reply.started": "2020-12-21T11:48:12.120062Z"
    }
   },
   "outputs": [
    {
     "name": "stdout",
     "output_type": "stream",
     "text": [
      "  (0, 0)\t1\n",
      "  (0, 1)\t0\n",
      "  (0, 2)\t1\n",
      "  (1, 0)\t0\n",
      "  (1, 1)\t1\n",
      "  (1, 2)\t1\n",
      "  (2, 0)\t1\n",
      "  (2, 1)\t1\n",
      "  (2, 2)\t0\n"
     ]
    }
   ],
   "source": [
    "from scipy.sparse import csr_matrix\n",
    "row = [0, 0, 0, 1, 1, 1, 2, 2, 2]    # 行指标\n",
    "col = [0, 1, 2, 0, 1, 2, 0, 1, 2]    # 列指标\n",
    "data = [1, 0, 1, 0, 1, 1, 1, 1, 0]   # 在行指标列指标下的数字\n",
    "team = csr_matrix((data, (row, col)), shape=(3, 3))\n",
    "print(team)"
   ]
  },
  {
   "cell_type": "code",
   "execution_count": 2,
   "metadata": {
    "execution": {
     "iopub.execute_input": "2020-12-21T11:48:14.162200Z",
     "iopub.status.busy": "2020-12-21T11:48:14.161973Z",
     "iopub.status.idle": "2020-12-21T11:48:14.166530Z",
     "shell.execute_reply": "2020-12-21T11:48:14.165669Z",
     "shell.execute_reply.started": "2020-12-21T11:48:14.162178Z"
    }
   },
   "outputs": [
    {
     "name": "stdout",
     "output_type": "stream",
     "text": [
      "[[1 0 1]\n",
      " [0 1 1]\n",
      " [1 1 0]]\n"
     ]
    }
   ],
   "source": [
    "print(team.todense())                #todense()与toarray()的效果一样，都是将矩阵输出.\n",
    "#print(team.toarray())"
   ]
  },
  {
   "cell_type": "code",
   "execution_count": 3,
   "metadata": {
    "execution": {
     "iopub.execute_input": "2020-12-21T11:48:16.511797Z",
     "iopub.status.busy": "2020-12-21T11:48:16.511491Z",
     "iopub.status.idle": "2020-12-21T11:48:16.516526Z",
     "shell.execute_reply": "2020-12-21T11:48:16.515738Z",
     "shell.execute_reply.started": "2020-12-21T11:48:16.511769Z"
    }
   },
   "outputs": [
    {
     "name": "stdout",
     "output_type": "stream",
     "text": [
      "[[1 0 1]\n",
      " [0 1 1]\n",
      " [1 1 0]]\n"
     ]
    }
   ],
   "source": [
    "print(team.toarray())"
   ]
  },
  {
   "cell_type": "code",
   "execution_count": null,
   "metadata": {},
   "outputs": [],
   "source": []
  }
 ],
 "metadata": {
  "kernelspec": {
   "display_name": "Python [conda env:python3.7.3_dev] *",
   "language": "python",
   "name": "conda-env-python3.7.3_dev-py"
  },
  "language_info": {
   "codemirror_mode": {
    "name": "ipython",
    "version": 3
   },
   "file_extension": ".py",
   "mimetype": "text/x-python",
   "name": "python",
   "nbconvert_exporter": "python",
   "pygments_lexer": "ipython3",
   "version": "3.7.3"
  },
  "widgets": {
   "application/vnd.jupyter.widget-state+json": {
    "state": {},
    "version_major": 2,
    "version_minor": 0
   }
  }
 },
 "nbformat": 4,
 "nbformat_minor": 4
}
