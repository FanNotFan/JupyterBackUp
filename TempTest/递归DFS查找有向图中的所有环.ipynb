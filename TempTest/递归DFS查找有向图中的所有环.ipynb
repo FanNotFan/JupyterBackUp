{
 "cells": [
  {
   "cell_type": "code",
   "execution_count": 12,
   "metadata": {
    "execution": {
     "iopub.execute_input": "2021-02-02T02:41:42.709719Z",
     "iopub.status.busy": "2021-02-02T02:41:42.709468Z",
     "iopub.status.idle": "2021-02-02T02:41:42.720250Z",
     "shell.execute_reply": "2021-02-02T02:41:42.719226Z",
     "shell.execute_reply.started": "2021-02-02T02:41:42.709693Z"
    }
   },
   "outputs": [
    {
     "name": "stdout",
     "output_type": "stream",
     "text": [
      "4 2 5 \n",
      "1 3 4 2 5 6 0 \n",
      "2 5 6 0 \n",
      "2 5 6 \n"
     ]
    }
   ],
   "source": [
    "child_graph = {\"0\": \"1#2\", \"1\": \"3\", \"2\": \"5\", \"3\": \"4\",\n",
    "                \"4\": \"2\", \"5\": \"4#6\", \"6\": \"0#2\"}\n",
    "\n",
    "visited = []\n",
    "trace = []\n",
    "has_circle = False\n",
    "\n",
    "\n",
    "def dfs(node_index):\n",
    "    global has_circle\n",
    "    if (node_index in visited):\n",
    "        if (node_index in trace):\n",
    "            has_circle = True\n",
    "            trace_index = trace.index(node_index)\n",
    "            for i in range(trace_index, len(trace)):\n",
    "                print(trace[i] + ' ', end='')\n",
    "            print('\\n', end='')\n",
    "            return\n",
    "        return\n",
    "\n",
    "    visited.append(node_index)\n",
    "    trace.append(node_index)\n",
    "\n",
    "    if(node_index != ''):\n",
    "        children = child_graph[node_index].split('#')\n",
    "        for child in children:\n",
    "            dfs(child)\n",
    "    trace.pop()\n",
    "\n",
    "\n",
    "dfs(\"1\")\n",
    "if(has_circle == False):\n",
    "    print(\"No Cycle.\")"
   ]
  },
  {
   "cell_type": "code",
   "execution_count": null,
   "metadata": {},
   "outputs": [],
   "source": []
  }
 ],
 "metadata": {
  "kernelspec": {
   "display_name": "Python [conda env:python3.7.3_dev] *",
   "language": "python",
   "name": "conda-env-python3.7.3_dev-py"
  },
  "language_info": {
   "codemirror_mode": {
    "name": "ipython",
    "version": 3
   },
   "file_extension": ".py",
   "mimetype": "text/x-python",
   "name": "python",
   "nbconvert_exporter": "python",
   "pygments_lexer": "ipython3",
   "version": "3.7.3"
  },
  "widgets": {
   "application/vnd.jupyter.widget-state+json": {
    "state": {},
    "version_major": 2,
    "version_minor": 0
   }
  }
 },
 "nbformat": 4,
 "nbformat_minor": 4
}
