{
 "cells": [
  {
   "cell_type": "code",
   "execution_count": 1,
   "metadata": {
    "execution": {
     "iopub.execute_input": "2021-01-06T11:16:50.363057Z",
     "iopub.status.busy": "2021-01-06T11:16:50.362720Z",
     "iopub.status.idle": "2021-01-06T11:16:50.376637Z",
     "shell.execute_reply": "2021-01-06T11:16:50.375801Z",
     "shell.execute_reply.started": "2021-01-06T11:16:50.362982Z"
    }
   },
   "outputs": [
    {
     "data": {
      "text/plain": [
       "['a', 'b', 'c']"
      ]
     },
     "execution_count": 1,
     "metadata": {},
     "output_type": "execute_result"
    }
   ],
   "source": [
    "#  对字符串的每个字母排序\n",
    "sorted(\"abc\")"
   ]
  },
  {
   "cell_type": "code",
   "execution_count": 2,
   "metadata": {
    "execution": {
     "iopub.execute_input": "2021-01-06T11:16:51.224829Z",
     "iopub.status.busy": "2021-01-06T11:16:51.224525Z",
     "iopub.status.idle": "2021-01-06T11:16:51.230289Z",
     "shell.execute_reply": "2021-01-06T11:16:51.229420Z",
     "shell.execute_reply.started": "2021-01-06T11:16:51.224799Z"
    }
   },
   "outputs": [
    {
     "data": {
      "text/plain": [
       "['a', 'b', 'c']"
      ]
     },
     "execution_count": 2,
     "metadata": {},
     "output_type": "execute_result"
    }
   ],
   "source": [
    "# 按字母排序\n",
    "sorted([\"b\", \"c\", \"a\"])"
   ]
  },
  {
   "cell_type": "code",
   "execution_count": 3,
   "metadata": {
    "execution": {
     "iopub.execute_input": "2021-01-06T11:16:51.958555Z",
     "iopub.status.busy": "2021-01-06T11:16:51.958294Z",
     "iopub.status.idle": "2021-01-06T11:16:51.964547Z",
     "shell.execute_reply": "2021-01-06T11:16:51.963616Z",
     "shell.execute_reply.started": "2021-01-06T11:16:51.958528Z"
    }
   },
   "outputs": [
    {
     "data": {
      "text/plain": [
       "['c', 'b', 'a']"
      ]
     },
     "execution_count": 3,
     "metadata": {},
     "output_type": "execute_result"
    }
   ],
   "source": [
    "sorted([\"b\", \"c\", \"a\"], reverse=True)"
   ]
  },
  {
   "cell_type": "code",
   "execution_count": 4,
   "metadata": {
    "execution": {
     "iopub.execute_input": "2021-01-06T11:16:52.498066Z",
     "iopub.status.busy": "2021-01-06T11:16:52.497814Z",
     "iopub.status.idle": "2021-01-06T11:16:52.503861Z",
     "shell.execute_reply": "2021-01-06T11:16:52.502615Z",
     "shell.execute_reply.started": "2021-01-06T11:16:52.498041Z"
    }
   },
   "outputs": [
    {
     "data": {
      "text/plain": [
       "[1, 2, 3]"
      ]
     },
     "execution_count": 4,
     "metadata": {},
     "output_type": "execute_result"
    }
   ],
   "source": [
    "# dict 按 key 排序，输出 key 列表\n",
    "dic = {1:\"b\", 3:\"a\", 2:\"c\"}\n",
    "sorted(dic)"
   ]
  },
  {
   "cell_type": "code",
   "execution_count": 5,
   "metadata": {
    "execution": {
     "iopub.execute_input": "2021-01-06T11:16:52.926281Z",
     "iopub.status.busy": "2021-01-06T11:16:52.925940Z",
     "iopub.status.idle": "2021-01-06T11:16:52.931840Z",
     "shell.execute_reply": "2021-01-06T11:16:52.930943Z",
     "shell.execute_reply.started": "2021-01-06T11:16:52.926250Z"
    }
   },
   "outputs": [
    {
     "data": {
      "text/plain": [
       "[3, 1, 2]"
      ]
     },
     "execution_count": 5,
     "metadata": {},
     "output_type": "execute_result"
    }
   ],
   "source": [
    "# dict 按 value 排序，输出 key 列表\n",
    "sorted(dic, key=lambda k : dic[k])"
   ]
  },
  {
   "cell_type": "code",
   "execution_count": 6,
   "metadata": {
    "execution": {
     "iopub.execute_input": "2021-01-06T11:16:53.422761Z",
     "iopub.status.busy": "2021-01-06T11:16:53.422511Z",
     "iopub.status.idle": "2021-01-06T11:16:53.429202Z",
     "shell.execute_reply": "2021-01-06T11:16:53.428282Z",
     "shell.execute_reply.started": "2021-01-06T11:16:53.422735Z"
    }
   },
   "outputs": [
    {
     "data": {
      "text/plain": [
       "[[1, 2, 3], [1, 2, 4], [2, 1, 1]]"
      ]
     },
     "execution_count": 6,
     "metadata": {},
     "output_type": "execute_result"
    }
   ],
   "source": [
    "# list 嵌套 list\n",
    "lis = [[1, 2, 3], [1, 2, 4], [2, 1, 1]]\n",
    "sorted(lis)"
   ]
  },
  {
   "cell_type": "code",
   "execution_count": 7,
   "metadata": {
    "execution": {
     "iopub.execute_input": "2021-01-06T11:16:53.826003Z",
     "iopub.status.busy": "2021-01-06T11:16:53.825688Z",
     "iopub.status.idle": "2021-01-06T11:16:53.832906Z",
     "shell.execute_reply": "2021-01-06T11:16:53.832052Z",
     "shell.execute_reply.started": "2021-01-06T11:16:53.825947Z"
    }
   },
   "outputs": [
    {
     "data": {
      "text/plain": [
       "[{'name': '李四', 'score': 8},\n",
       " {'name': '张三', 'score': 10},\n",
       " {'name': '王五', 'score': 11}]"
      ]
     },
     "execution_count": 7,
     "metadata": {},
     "output_type": "execute_result"
    }
   ],
   "source": [
    "# list 嵌套 dict\n",
    "lis = [{\"name\" : \"张三\", \"score\" : 10}, {\"name\": \"李四\", \"score\" : 8}, \n",
    "          {\"name\": \"王五\", \"score\" : 11}]\n",
    "sorted(lis, key=lambda x : x[\"score\"])"
   ]
  },
  {
   "cell_type": "code",
   "execution_count": null,
   "metadata": {},
   "outputs": [],
   "source": []
  }
 ],
 "metadata": {
  "kernelspec": {
   "display_name": "Python [conda env:python3.7.3_dev] *",
   "language": "python",
   "name": "conda-env-python3.7.3_dev-py"
  },
  "language_info": {
   "codemirror_mode": {
    "name": "ipython",
    "version": 3
   },
   "file_extension": ".py",
   "mimetype": "text/x-python",
   "name": "python",
   "nbconvert_exporter": "python",
   "pygments_lexer": "ipython3",
   "version": "3.7.3"
  },
  "widgets": {
   "application/vnd.jupyter.widget-state+json": {
    "state": {},
    "version_major": 2,
    "version_minor": 0
   }
  }
 },
 "nbformat": 4,
 "nbformat_minor": 4
}
