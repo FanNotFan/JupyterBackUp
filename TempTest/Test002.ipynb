{
 "cells": [
  {
   "cell_type": "code",
   "execution_count": 27,
   "metadata": {},
   "outputs": [],
   "source": [
    "import math\n",
    "import numpy as np\n",
    "import pandas as pd\n",
    "from pandas import Series"
   ]
  },
  {
   "cell_type": "code",
   "execution_count": 28,
   "metadata": {},
   "outputs": [],
   "source": [
    "def read_from_csv(filename : str):\n",
    "    meta_price_data = pd.read_csv(filename)\n",
    "    return meta_price_data"
   ]
  },
  {
   "cell_type": "code",
   "execution_count": 30,
   "metadata": {},
   "outputs": [
    {
     "name": "stdout",
     "output_type": "stream",
     "text": [
      "672\n",
      "0       301\n",
      "1       331\n",
      "2       271\n",
      "3       442\n",
      "4       298\n",
      "5       398\n",
      "6       301\n",
      "7       331\n",
      "8       442\n",
      "9       271\n",
      "10      298\n",
      "11      398\n",
      "12      301\n",
      "13      331\n",
      "14      442\n",
      "15      271\n",
      "16      298\n",
      "17      398\n",
      "18      301\n",
      "19      331\n",
      "20      442\n",
      "21      271\n",
      "22      298\n",
      "23      398\n",
      "24      301\n",
      "25      331\n",
      "26      442\n",
      "27      271\n",
      "28      298\n",
      "29      398\n",
      "       ... \n",
      "642     448\n",
      "643     475\n",
      "644    1263\n",
      "645     675\n",
      "646     459\n",
      "647     459\n",
      "648     413\n",
      "649     547\n",
      "650     459\n",
      "651     608\n",
      "652     459\n",
      "653     608\n",
      "654     413\n",
      "655     547\n",
      "656     459\n",
      "657     608\n",
      "658     413\n",
      "659     547\n",
      "660     459\n",
      "661     608\n",
      "662     413\n",
      "663     547\n",
      "664     459\n",
      "665     608\n",
      "666     413\n",
      "667     547\n",
      "668     459\n",
      "669     608\n",
      "670     413\n",
      "671     547\n",
      "Name: price, Length: 672, dtype: int64\n",
      "2.614945708769339\n"
     ]
    }
   ],
   "source": [
    "price_data = pd.read_csv('../DataAnalysis/price.csv')\n",
    "print(len(price_data))\n",
    "price_data.head(10)\n",
    "price = price_data['price']\n",
    "\n",
    "def data_process(origin_items):\n",
    "    return Series(map(lambda x: math.log(x,10), origin_items))\n",
    "print(price)\n",
    "print(data_process(price).mean())"
   ]
  },
  {
   "cell_type": "code",
   "execution_count": null,
   "metadata": {},
   "outputs": [],
   "source": []
  }
 ],
 "metadata": {
  "kernelspec": {
   "display_name": "Python [conda env:python3.7.3_dev] *",
   "language": "python",
   "name": "conda-env-python3.7.3_dev-py"
  },
  "language_info": {
   "codemirror_mode": {
    "name": "ipython",
    "version": 3
   },
   "file_extension": ".py",
   "mimetype": "text/x-python",
   "name": "python",
   "nbconvert_exporter": "python",
   "pygments_lexer": "ipython3",
   "version": "3.7.3"
  }
 },
 "nbformat": 4,
 "nbformat_minor": 2
}
