{
 "cells": [
  {
   "cell_type": "code",
   "execution_count": 1,
   "metadata": {
    "execution": {
     "iopub.execute_input": "2021-02-05T01:30:26.572315Z",
     "iopub.status.busy": "2021-02-05T01:30:26.571479Z",
     "iopub.status.idle": "2021-02-05T01:30:27.996690Z",
     "shell.execute_reply": "2021-02-05T01:30:27.994870Z",
     "shell.execute_reply.started": "2021-02-05T01:30:26.572278Z"
    }
   },
   "outputs": [],
   "source": [
    "import networkx as nx\n",
    "import numpy as np"
   ]
  },
  {
   "cell_type": "code",
   "execution_count": 2,
   "metadata": {
    "execution": {
     "iopub.execute_input": "2021-02-05T01:30:28.522276Z",
     "iopub.status.busy": "2021-02-05T01:30:28.522052Z",
     "iopub.status.idle": "2021-02-05T01:30:28.529627Z",
     "shell.execute_reply": "2021-02-05T01:30:28.525224Z",
     "shell.execute_reply.started": "2021-02-05T01:30:28.522229Z"
    }
   },
   "outputs": [
    {
     "name": "stdout",
     "output_type": "stream",
     "text": [
      "[[0.66670819 0.81723271]\n",
      " [0.08499181 0.60981623]\n",
      " [0.32096499 0.59702833]\n",
      " [0.32154452 0.42277902]\n",
      " [0.71350799 0.87451038]\n",
      " [0.76698651 0.36880446]\n",
      " [0.04247795 0.81470749]\n",
      " [0.3902908  0.65287868]\n",
      " [0.96690574 0.82051121]\n",
      " [0.15016821 0.71721299]]\n"
     ]
    }
   ],
   "source": [
    "pos = np.random.rand(10, 2) #coordinates, (x, y) for 10 nodes\n",
    "print(pos)"
   ]
  },
  {
   "cell_type": "code",
   "execution_count": 10,
   "metadata": {
    "execution": {
     "iopub.execute_input": "2021-02-05T02:51:55.668834Z",
     "iopub.status.busy": "2021-02-05T02:51:55.668676Z",
     "iopub.status.idle": "2021-02-05T02:51:55.674469Z",
     "shell.execute_reply": "2021-02-05T02:51:55.674321Z",
     "shell.execute_reply.started": "2021-02-05T02:51:55.668800Z"
    }
   },
   "outputs": [
    {
     "name": "stderr",
     "output_type": "stream",
     "text": [
      "/Users/hiCore/miniconda3/envs/python3.7.3_dev/bin/xpython:1: DeprecationWarning: This function is deprecated. Please call randint(0, 9 + 1) instead\n"
     ]
    },
    {
     "name": "stdout",
     "output_type": "stream",
     "text": [
      "[(9, 2), (8, 1), (8, 9), (5, 3), (1, 4), (1, 5), (9, 4), (5, 8)]\n",
      "(8, 1)\n"
     ]
    }
   ],
   "source": [
    "connect = [tuple(np.random.random_integers(0, 9, size=(2))) for x in range(8)] #random connections\n",
    "print(connect)\n",
    "print(connect[1])"
   ]
  },
  {
   "cell_type": "code",
   "execution_count": 7,
   "metadata": {
    "execution": {
     "iopub.execute_input": "2021-02-05T01:31:09.646073Z",
     "iopub.status.busy": "2021-02-05T01:31:09.646015Z",
     "iopub.status.idle": "2021-02-05T01:31:09.647008Z",
     "shell.execute_reply": "2021-02-05T01:31:09.646904Z",
     "shell.execute_reply.started": "2021-02-05T01:31:09.646060Z"
    }
   },
   "outputs": [],
   "source": [
    "#creation of the graph\n",
    "graph = nx.Graph()\n",
    "#adding nodes/connections in the graph\n",
    "for node in range(len(pos)):\n",
    "    graph.add_node(node)\n",
    "graph.add_edges_from(connect)"
   ]
  },
  {
   "cell_type": "code",
   "execution_count": 8,
   "metadata": {
    "execution": {
     "iopub.execute_input": "2021-02-05T01:31:16.741358Z",
     "iopub.status.busy": "2021-02-05T01:31:16.741191Z",
     "iopub.status.idle": "2021-02-05T01:31:16.772531Z",
     "shell.execute_reply": "2021-02-05T01:31:16.772388Z",
     "shell.execute_reply.started": "2021-02-05T01:31:16.741323Z"
    }
   },
   "outputs": [],
   "source": [
    "#plot of the nodes using the (x,y) pairs as coordinates\n",
    "nx.draw(graph, [(x,y) for x,y in pos], node_size=50)"
   ]
  },
  {
   "cell_type": "code",
   "execution_count": 9,
   "metadata": {
    "execution": {
     "iopub.execute_input": "2021-02-05T01:31:18.358941Z",
     "iopub.status.busy": "2021-02-05T01:31:18.358794Z",
     "iopub.status.idle": "2021-02-05T01:31:32.806598Z",
     "shell.execute_reply": "2021-02-05T01:31:32.806491Z",
     "shell.execute_reply.started": "2021-02-05T01:31:18.358915Z"
    }
   },
   "outputs": [],
   "source": [
    "import matplotlib.pyplot as plt\n",
    "plt.pause(0)"
   ]
  },
  {
   "cell_type": "code",
   "execution_count": null,
   "metadata": {},
   "outputs": [],
   "source": []
  }
 ],
 "metadata": {
  "kernelspec": {
   "display_name": "Python [conda env:python3.7.3_dev] *",
   "language": "python",
   "name": "conda-env-python3.7.3_dev-xpython"
  },
  "language_info": {
   "file_extension": ".py",
   "mimetype": "text/x-python",
   "name": "python",
   "version": "3.7.9"
  },
  "widgets": {
   "application/vnd.jupyter.widget-state+json": {
    "state": {},
    "version_major": 2,
    "version_minor": 0
   }
  }
 },
 "nbformat": 4,
 "nbformat_minor": 4
}
