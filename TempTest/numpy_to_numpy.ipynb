{
 "cells": [
  {
   "cell_type": "code",
   "execution_count": 1,
   "metadata": {
    "execution": {
     "iopub.execute_input": "2020-12-21T11:50:15.237227Z",
     "iopub.status.busy": "2020-12-21T11:50:15.236653Z",
     "iopub.status.idle": "2020-12-21T11:50:15.887494Z",
     "shell.execute_reply": "2020-12-21T11:50:15.886958Z",
     "shell.execute_reply.started": "2020-12-21T11:50:15.237044Z"
    }
   },
   "outputs": [],
   "source": [
    "import pandas as pd\n",
    "import numpy as np"
   ]
  },
  {
   "cell_type": "code",
   "execution_count": 2,
   "metadata": {
    "execution": {
     "iopub.execute_input": "2020-12-21T11:50:17.392108Z",
     "iopub.status.busy": "2020-12-21T11:50:17.391580Z",
     "iopub.status.idle": "2020-12-21T11:50:17.417333Z",
     "shell.execute_reply": "2020-12-21T11:50:17.416343Z",
     "shell.execute_reply.started": "2020-12-21T11:50:17.392045Z"
    }
   },
   "outputs": [
    {
     "name": "stdout",
     "output_type": "stream",
     "text": [
      "   A  B  C\n",
      "0  1  5  1\n",
      "1  2  6  1\n",
      "2  3  7  1\n",
      "3  4  8  1\n"
     ]
    }
   ],
   "source": [
    "df=pd.DataFrame({\"A\":[1,2,3,4],\"B\":[5,6,7,8],\"C\":[1,1,1,1]})\n",
    "print(df)"
   ]
  },
  {
   "cell_type": "code",
   "execution_count": 6,
   "metadata": {
    "execution": {
     "iopub.execute_input": "2020-12-21T11:52:34.129405Z",
     "iopub.status.busy": "2020-12-21T11:52:34.128429Z",
     "iopub.status.idle": "2020-12-21T11:52:34.137366Z",
     "shell.execute_reply": "2020-12-21T11:52:34.135537Z",
     "shell.execute_reply.started": "2020-12-21T11:52:34.129336Z"
    }
   },
   "outputs": [
    {
     "name": "stdout",
     "output_type": "stream",
     "text": [
      "[[1 5 1]\n",
      " [2 6 1]\n",
      " [3 7 1]\n",
      " [4 8 1]]\n"
     ]
    }
   ],
   "source": [
    "dn = df.to_numpy()\n",
    "print(dn)"
   ]
  },
  {
   "cell_type": "code",
   "execution_count": 7,
   "metadata": {
    "execution": {
     "iopub.execute_input": "2020-12-21T11:52:40.169902Z",
     "iopub.status.busy": "2020-12-21T11:52:40.169581Z",
     "iopub.status.idle": "2020-12-21T11:52:40.176630Z",
     "shell.execute_reply": "2020-12-21T11:52:40.175487Z",
     "shell.execute_reply.started": "2020-12-21T11:52:40.169868Z"
    }
   },
   "outputs": [
    {
     "data": {
      "text/plain": [
       "numpy.ndarray"
      ]
     },
     "execution_count": 7,
     "metadata": {},
     "output_type": "execute_result"
    }
   ],
   "source": [
    "type(dn)"
   ]
  },
  {
   "cell_type": "code",
   "execution_count": 9,
   "metadata": {
    "execution": {
     "iopub.execute_input": "2020-12-21T11:53:44.799137Z",
     "iopub.status.busy": "2020-12-21T11:53:44.798865Z",
     "iopub.status.idle": "2020-12-21T11:53:44.804060Z",
     "shell.execute_reply": "2020-12-21T11:53:44.802754Z",
     "shell.execute_reply.started": "2020-12-21T11:53:44.799109Z"
    }
   },
   "outputs": [
    {
     "name": "stdout",
     "output_type": "stream",
     "text": [
      "[[1, 5, 1], [2, 6, 1], [3, 7, 1], [4, 8, 1]]\n"
     ]
    }
   ],
   "source": [
    "print(dn.tolist())"
   ]
  },
  {
   "cell_type": "code",
   "execution_count": 11,
   "metadata": {
    "execution": {
     "iopub.execute_input": "2020-12-21T11:55:12.348537Z",
     "iopub.status.busy": "2020-12-21T11:55:12.348146Z",
     "iopub.status.idle": "2020-12-21T11:55:12.354719Z",
     "shell.execute_reply": "2020-12-21T11:55:12.353172Z",
     "shell.execute_reply.started": "2020-12-21T11:55:12.348496Z"
    }
   },
   "outputs": [
    {
     "name": "stdout",
     "output_type": "stream",
     "text": [
      "[[1 5 1 2 6 1 3 7 1 4 8 1]]\n"
     ]
    }
   ],
   "source": [
    "print(dn.reshape(1,-1))"
   ]
  },
  {
   "cell_type": "code",
   "execution_count": 12,
   "metadata": {
    "execution": {
     "iopub.execute_input": "2020-12-21T11:55:27.273490Z",
     "iopub.status.busy": "2020-12-21T11:55:27.273013Z",
     "iopub.status.idle": "2020-12-21T11:55:27.279068Z",
     "shell.execute_reply": "2020-12-21T11:55:27.278083Z",
     "shell.execute_reply.started": "2020-12-21T11:55:27.273436Z"
    }
   },
   "outputs": [
    {
     "name": "stdout",
     "output_type": "stream",
     "text": [
      "[[1]\n",
      " [5]\n",
      " [1]\n",
      " [2]\n",
      " [6]\n",
      " [1]\n",
      " [3]\n",
      " [7]\n",
      " [1]\n",
      " [4]\n",
      " [8]\n",
      " [1]]\n"
     ]
    }
   ],
   "source": [
    "print(dn.reshape(-1,1))"
   ]
  },
  {
   "cell_type": "code",
   "execution_count": 15,
   "metadata": {
    "execution": {
     "iopub.execute_input": "2020-12-22T02:16:50.625917Z",
     "iopub.status.busy": "2020-12-22T02:16:50.625443Z",
     "iopub.status.idle": "2020-12-22T02:16:50.636798Z",
     "shell.execute_reply": "2020-12-22T02:16:50.635489Z",
     "shell.execute_reply.started": "2020-12-22T02:16:50.625870Z"
    }
   },
   "outputs": [
    {
     "name": "stdout",
     "output_type": "stream",
     "text": [
      "   A  C\n",
      "B      \n",
      "5  1  1\n",
      "6  2  1\n",
      "7  3  1\n",
      "8  4  1\n"
     ]
    }
   ],
   "source": [
    "df = df.set_index(\"B\")\n",
    "print(df)"
   ]
  }
 ],
 "metadata": {
  "kernelspec": {
   "display_name": "Python [conda env:python3.7.3_dev] *",
   "language": "python",
   "name": "conda-env-python3.7.3_dev-py"
  },
  "language_info": {
   "codemirror_mode": {
    "name": "ipython",
    "version": 3
   },
   "file_extension": ".py",
   "mimetype": "text/x-python",
   "name": "python",
   "nbconvert_exporter": "python",
   "pygments_lexer": "ipython3",
   "version": "3.7.3"
  },
  "widgets": {
   "application/vnd.jupyter.widget-state+json": {
    "state": {},
    "version_major": 2,
    "version_minor": 0
   }
  }
 },
 "nbformat": 4,
 "nbformat_minor": 4
}
