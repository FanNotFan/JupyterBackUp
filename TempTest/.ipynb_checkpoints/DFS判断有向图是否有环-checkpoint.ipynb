{
 "cells": [
  {
   "cell_type": "code",
   "execution_count": 13,
   "metadata": {
    "execution": {
     "iopub.execute_input": "2021-02-02T03:12:15.199972Z",
     "iopub.status.busy": "2021-02-02T03:12:15.199717Z",
     "iopub.status.idle": "2021-02-02T03:12:15.209789Z",
     "shell.execute_reply": "2021-02-02T03:12:15.208429Z",
     "shell.execute_reply.started": "2021-02-02T03:12:15.199941Z"
    }
   },
   "outputs": [
    {
     "name": "stdout",
     "output_type": "stream",
     "text": [
      "False\n"
     ]
    }
   ],
   "source": [
    "trace = []\n",
    "visited = []\n",
    "has_circle = False\n",
    "\n",
    "def dfs(G,i,color):\n",
    "    r = len(G)\n",
    "    color[i] = -1\n",
    "    has_circle = False\n",
    "    for j in range(r):\t# 遍历当前节点i的所有邻居节点\n",
    "        if G[i][j]:\n",
    "            if color[j] == -1:\n",
    "                has_circle = True\n",
    "            elif color[j] == 0:\n",
    "                has_circle = dfs(G,j,color)\n",
    "    color[i] = 1\n",
    "    return has_circle\n",
    "\n",
    "def findcircle(G):\n",
    "    # color = 0 该节点暂未访问\n",
    "    # color = -1 该节点访问了一次\n",
    "    # color = 1 该节点的所有孩子节点都已访问,就不会再对它做DFS了\n",
    "    r = len(G)\n",
    "    color = [0] * r\n",
    "    has_circle = True\n",
    "    for i in range(r):\t# 遍历所有的节点\n",
    "        if color[i] == 0:\n",
    "            has_circle = dfs(G,i,color)\n",
    "            if has_circle == False:\n",
    "                break\n",
    "    return has_circle\n",
    "\n",
    "G = [[False,True,False],[False,False,True],[True,False,False]]  #这里的1说明行index对应的节点指向列index对应的节点，对角线处为0\n",
    "# G = [[False,False,False,True,False],[True,False,False,False,False],[False,False,False,True,True],[False,False,False,False,False],[False,True,False,False,False]]\n",
    "has_circle = findcircle(G)\n",
    "print(has_circle)\n"
   ]
  },
  {
   "cell_type": "code",
   "execution_count": null,
   "metadata": {},
   "outputs": [],
   "source": []
  }
 ],
 "metadata": {
  "kernelspec": {
   "display_name": "Python [conda env:python3.7.3_dev] *",
   "language": "python",
   "name": "conda-env-python3.7.3_dev-py"
  },
  "language_info": {
   "codemirror_mode": {
    "name": "ipython",
    "version": 3
   },
   "file_extension": ".py",
   "mimetype": "text/x-python",
   "name": "python",
   "nbconvert_exporter": "python",
   "pygments_lexer": "ipython3",
   "version": "3.7.3"
  },
  "widgets": {
   "application/vnd.jupyter.widget-state+json": {
    "state": {},
    "version_major": 2,
    "version_minor": 0
   }
  }
 },
 "nbformat": 4,
 "nbformat_minor": 4
}
