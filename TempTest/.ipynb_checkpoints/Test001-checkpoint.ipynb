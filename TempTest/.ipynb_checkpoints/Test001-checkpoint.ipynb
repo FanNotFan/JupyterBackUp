{
 "cells": [
  {
   "cell_type": "code",
   "execution_count": 1,
   "metadata": {
    "execution": {
     "iopub.execute_input": "2021-01-19T09:11:27.921040Z",
     "iopub.status.busy": "2021-01-19T09:11:27.920557Z",
     "iopub.status.idle": "2021-01-19T09:11:28.811929Z",
     "shell.execute_reply": "2021-01-19T09:11:28.810972Z",
     "shell.execute_reply.started": "2021-01-19T09:11:27.920925Z"
    }
   },
   "outputs": [],
   "source": [
    "from scipy.stats import normaltest \n",
    "import numpy as np  \n",
    "import pylab as p "
   ]
  },
  {
   "cell_type": "code",
   "execution_count": 14,
   "metadata": {},
   "outputs": [],
   "source": [
    "x1 = np.linspace( -5, 5, 1000 ) \n",
    "# print(x1)"
   ]
  },
  {
   "cell_type": "code",
   "execution_count": 15,
   "metadata": {},
   "outputs": [
    {
     "name": "stdout",
     "output_type": "stream",
     "text": [
      "0.0\n"
     ]
    }
   ],
   "source": [
    "mean = x1.mean()\n",
    "print(mean)"
   ]
  },
  {
   "cell_type": "code",
   "execution_count": 16,
   "metadata": {},
   "outputs": [
    {
     "name": "stdout",
     "output_type": "stream",
     "text": [
      "2.8896395421142094\n"
     ]
    }
   ],
   "source": [
    "std = x1.std()\n",
    "print(std)"
   ]
  },
  {
   "cell_type": "code",
   "execution_count": 18,
   "metadata": {},
   "outputs": [],
   "source": [
    "y1 = np.exp(-((x1 - mean)**2) / (2* std**2)) / (std * np.sqrt(2*np.pi))\n",
    "# 1./(np.sqrt(2.*np.pi)) * np.exp( -.5*(x1)**2  ) "
   ]
  },
  {
   "cell_type": "code",
   "execution_count": 19,
   "metadata": {},
   "outputs": [
    {
     "data": {
      "text/plain": [
       "[<matplotlib.lines.Line2D at 0x128d6f400>]"
      ]
     },
     "execution_count": 19,
     "metadata": {},
     "output_type": "execute_result"
    },
    {
     "data": {
      "image/png": "[encoded data removed]",
      "text/plain": [
       "<Figure size 432x288 with 1 Axes>"
      ]
     },
     "metadata": {
      "needs_background": "light"
     },
     "output_type": "display_data"
    }
   ],
   "source": [
    "p.plot(x1, y1, '.') "
   ]
  },
  {
   "cell_type": "code",
   "execution_count": 21,
   "metadata": {},
   "outputs": [
    {
     "name": "stdout",
     "output_type": "stream",
     "text": [
      "\n",
      "Normal test for given data :\n",
      " NormaltestResult(statistic=735.9510709183106, pvalue=1.5497279817611015e-160)\n"
     ]
    }
   ],
   "source": [
    "print( '\\nNormal test for given data :\\n', normaltest(x1)) "
   ]
  },
  {
   "cell_type": "code",
   "execution_count": 11,
   "metadata": {
    "execution": {
     "iopub.execute_input": "2021-01-19T09:19:12.229509Z",
     "iopub.status.busy": "2021-01-19T09:19:12.229045Z",
     "iopub.status.idle": "2021-01-19T09:19:12.237220Z",
     "shell.execute_reply": "2021-01-19T09:19:12.235952Z",
     "shell.execute_reply.started": "2021-01-19T09:19:12.229458Z"
    }
   },
   "outputs": [],
   "source": [
    "from pandas import DataFrame\n",
    "from scipy.sparse import csgraph\n",
    "from scipy.sparse import csr_matrix\n",
    "x=[a for a in range(2)]\n",
    "def y_x(x):\n",
    "    return 2*x**2+4\n",
    "y=[y_x(i) for i in x]\n",
    "data=DataFrame({'x':x,'y':y})"
   ]
  },
  {
   "cell_type": "code",
   "execution_count": 12,
   "metadata": {
    "execution": {
     "iopub.execute_input": "2021-01-19T09:19:17.114778Z",
     "iopub.status.busy": "2021-01-19T09:19:17.114214Z",
     "iopub.status.idle": "2021-01-19T09:19:17.127886Z",
     "shell.execute_reply": "2021-01-19T09:19:17.127049Z",
     "shell.execute_reply.started": "2021-01-19T09:19:17.114736Z"
    }
   },
   "outputs": [
    {
     "data": {
      "text/html": [
       "<div>\n",
       "<style scoped>\n",
       "    .dataframe tbody tr th:only-of-type {\n",
       "        vertical-align: middle;\n",
       "    }\n",
       "\n",
       "    .dataframe tbody tr th {\n",
       "        vertical-align: top;\n",
       "    }\n",
       "\n",
       "    .dataframe thead th {\n",
       "        text-align: right;\n",
       "    }\n",
       "</style>\n",
       "<table border=\"1\" class=\"dataframe\">\n",
       "  <thead>\n",
       "    <tr style=\"text-align: right;\">\n",
       "      <th></th>\n",
       "      <th>x</th>\n",
       "      <th>y</th>\n",
       "    </tr>\n",
       "  </thead>\n",
       "  <tbody>\n",
       "    <tr>\n",
       "      <th>0</th>\n",
       "      <td>False</td>\n",
       "      <td>True</td>\n",
       "    </tr>\n",
       "    <tr>\n",
       "      <th>1</th>\n",
       "      <td>False</td>\n",
       "      <td>True</td>\n",
       "    </tr>\n",
       "    <tr>\n",
       "      <th>2</th>\n",
       "      <td>False</td>\n",
       "      <td>True</td>\n",
       "    </tr>\n",
       "    <tr>\n",
       "      <th>3</th>\n",
       "      <td>True</td>\n",
       "      <td>True</td>\n",
       "    </tr>\n",
       "    <tr>\n",
       "      <th>4</th>\n",
       "      <td>True</td>\n",
       "      <td>True</td>\n",
       "    </tr>\n",
       "    <tr>\n",
       "      <th>5</th>\n",
       "      <td>True</td>\n",
       "      <td>True</td>\n",
       "    </tr>\n",
       "    <tr>\n",
       "      <th>6</th>\n",
       "      <td>True</td>\n",
       "      <td>True</td>\n",
       "    </tr>\n",
       "    <tr>\n",
       "      <th>7</th>\n",
       "      <td>True</td>\n",
       "      <td>True</td>\n",
       "    </tr>\n",
       "    <tr>\n",
       "      <th>8</th>\n",
       "      <td>True</td>\n",
       "      <td>True</td>\n",
       "    </tr>\n",
       "    <tr>\n",
       "      <th>9</th>\n",
       "      <td>True</td>\n",
       "      <td>True</td>\n",
       "    </tr>\n",
       "  </tbody>\n",
       "</table>\n",
       "</div>"
      ],
      "text/plain": [
       "       x     y\n",
       "0  False  True\n",
       "1  False  True\n",
       "2  False  True\n",
       "3   True  True\n",
       "4   True  True\n",
       "5   True  True\n",
       "6   True  True\n",
       "7   True  True\n",
       "8   True  True\n",
       "9   True  True"
      ]
     },
     "execution_count": 12,
     "metadata": {},
     "output_type": "execute_result"
    }
   ],
   "source": [
    "data>2"
   ]
  },
  {
   "cell_type": "code",
   "execution_count": 13,
   "metadata": {
    "execution": {
     "iopub.execute_input": "2021-01-19T09:19:21.290984Z",
     "iopub.status.busy": "2021-01-19T09:19:21.290420Z",
     "iopub.status.idle": "2021-01-19T09:19:21.298090Z",
     "shell.execute_reply": "2021-01-19T09:19:21.297351Z",
     "shell.execute_reply.started": "2021-01-19T09:19:21.290940Z"
    }
   },
   "outputs": [],
   "source": [
    "graph = csr_matrix(data>2)"
   ]
  },
  {
   "cell_type": "code",
   "execution_count": 21,
   "metadata": {
    "execution": {
     "iopub.execute_input": "2021-01-19T09:23:10.045124Z",
     "iopub.status.busy": "2021-01-19T09:23:10.044757Z",
     "iopub.status.idle": "2021-01-19T09:23:10.051746Z",
     "shell.execute_reply": "2021-01-19T09:23:10.050351Z",
     "shell.execute_reply.started": "2021-01-19T09:23:10.045088Z"
    }
   },
   "outputs": [
    {
     "data": {
      "text/plain": [
       "<10x2 sparse matrix of type '<class 'numpy.bool_'>'\n",
       "\twith 17 stored elements in Compressed Sparse Row format>"
      ]
     },
     "execution_count": 21,
     "metadata": {},
     "output_type": "execute_result"
    }
   ],
   "source": [
    "graph"
   ]
  },
  {
   "cell_type": "code",
   "execution_count": 20,
   "metadata": {
    "execution": {
     "iopub.execute_input": "2021-01-19T09:22:21.530537Z",
     "iopub.status.busy": "2021-01-19T09:22:21.530132Z",
     "iopub.status.idle": "2021-01-19T09:22:21.552891Z",
     "shell.execute_reply": "2021-01-19T09:22:21.551468Z",
     "shell.execute_reply.started": "2021-01-19T09:22:21.530485Z"
    }
   },
   "outputs": [
    {
     "ename": "ValueError",
     "evalue": "compressed-sparse graph must be shape (N, N)",
     "output_type": "error",
     "traceback": [
      "\u001b[0;31m---------------------------------------------------------------------------\u001b[0m",
      "\u001b[0;31mValueError\u001b[0m                                Traceback (most recent call last)",
      "\u001b[0;32m<ipython-input-20-cbcc73def02d>\u001b[0m in \u001b[0;36m<module>\u001b[0;34m\u001b[0m\n\u001b[0;32m----> 1\u001b[0;31m \u001b[0mn\u001b[0m\u001b[0;34m,\u001b[0m \u001b[0mlabels\u001b[0m \u001b[0;34m=\u001b[0m \u001b[0mcsgraph\u001b[0m\u001b[0;34m.\u001b[0m\u001b[0mconnected_components\u001b[0m\u001b[0;34m(\u001b[0m\u001b[0mgraph\u001b[0m\u001b[0;34m)\u001b[0m\u001b[0;34m\u001b[0m\u001b[0;34m\u001b[0m\u001b[0m\n\u001b[0m",
      "\u001b[0;32m_traversal.pyx\u001b[0m in \u001b[0;36mscipy.sparse.csgraph._traversal.connected_components\u001b[0;34m()\u001b[0m\n",
      "\u001b[0;32m~/miniconda3/envs/python3.7.3_dev/lib/python3.7/site-packages/scipy/sparse/csgraph/_validation.py\u001b[0m in \u001b[0;36mvalidate_graph\u001b[0;34m(csgraph, directed, dtype, csr_output, dense_output, copy_if_dense, copy_if_sparse, null_value_in, null_value_out, infinity_null, nan_null)\u001b[0m\n\u001b[1;32m     52\u001b[0m \u001b[0;34m\u001b[0m\u001b[0m\n\u001b[1;32m     53\u001b[0m     \u001b[0;32mif\u001b[0m \u001b[0mcsgraph\u001b[0m\u001b[0;34m.\u001b[0m\u001b[0mshape\u001b[0m\u001b[0;34m[\u001b[0m\u001b[0;36m0\u001b[0m\u001b[0;34m]\u001b[0m \u001b[0;34m!=\u001b[0m \u001b[0mcsgraph\u001b[0m\u001b[0;34m.\u001b[0m\u001b[0mshape\u001b[0m\u001b[0;34m[\u001b[0m\u001b[0;36m1\u001b[0m\u001b[0;34m]\u001b[0m\u001b[0;34m:\u001b[0m\u001b[0;34m\u001b[0m\u001b[0;34m\u001b[0m\u001b[0m\n\u001b[0;32m---> 54\u001b[0;31m         \u001b[0;32mraise\u001b[0m \u001b[0mValueError\u001b[0m\u001b[0;34m(\u001b[0m\u001b[0;34m\"compressed-sparse graph must be shape (N, N)\"\u001b[0m\u001b[0;34m)\u001b[0m\u001b[0;34m\u001b[0m\u001b[0;34m\u001b[0m\u001b[0m\n\u001b[0m\u001b[1;32m     55\u001b[0m \u001b[0;34m\u001b[0m\u001b[0m\n\u001b[1;32m     56\u001b[0m     \u001b[0;32mreturn\u001b[0m \u001b[0mcsgraph\u001b[0m\u001b[0;34m\u001b[0m\u001b[0;34m\u001b[0m\u001b[0m\n",
      "\u001b[0;31mValueError\u001b[0m: compressed-sparse graph must be shape (N, N)"
     ]
    }
   ],
   "source": [
    "n, labels = csgraph.connected_components(graph)"
   ]
  },
  {
   "cell_type": "code",
   "execution_count": null,
   "metadata": {},
   "outputs": [],
   "source": []
  }
 ],
 "metadata": {
  "kernelspec": {
   "display_name": "Python [conda env:python3.7.3_dev] *",
   "language": "python",
   "name": "conda-env-python3.7.3_dev-py"
  },
  "language_info": {
   "codemirror_mode": {
    "name": "ipython",
    "version": 3
   },
   "file_extension": ".py",
   "mimetype": "text/x-python",
   "name": "python",
   "nbconvert_exporter": "python",
   "pygments_lexer": "ipython3",
   "version": "3.7.3"
  },
  "widgets": {
   "application/vnd.jupyter.widget-state+json": {
    "state": {},
    "version_major": 2,
    "version_minor": 0
   }
  }
 },
 "nbformat": 4,
 "nbformat_minor": 4
}
