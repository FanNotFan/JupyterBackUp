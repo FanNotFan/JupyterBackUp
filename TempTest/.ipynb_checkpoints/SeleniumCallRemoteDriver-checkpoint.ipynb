{
 "cells": [
  {
   "cell_type": "code",
   "execution_count": 1,
   "metadata": {},
   "outputs": [],
   "source": [
    "from selenium import webdriver\n",
    "from selenium.webdriver.common.desired_capabilities import DesiredCapabilities"
   ]
  },
  {
   "cell_type": "code",
   "execution_count": 4,
   "metadata": {},
   "outputs": [],
   "source": [
    "target_website_url = 'https://intoli.com/blog/not-possible-to-block-chrome-headless/chrome-headless-test.html'\n",
    "# target_website_url = 'https://www.hyatt.com/shop/seagh?rooms=1&adults=1&location=seattle%2C%20washington%2C%20united%20states&checkinDate=2019-08-01&checkoutDate=2019-08-02&kids=0&rate=Standard'\n",
    "options = webdriver.ChromeOptions()\n",
    "options.add_argument('--disable-gpu')  # 谷歌文档提到需要加上这个属性来规避bug\n",
    "options.add_argument('blink-settings=imagesEnabled=false')  # 不加载图片, 提升速度\n",
    "options.add_experimental_option('excludeSwitches', ['enable-automation', \"ignore-certificate-errors\"])"
   ]
  },
  {
   "cell_type": "code",
   "execution_count": 5,
   "metadata": {},
   "outputs": [],
   "source": [
    "driver = webdriver.Remote(\n",
    "    command_executor='http://10.184.144.20:4444/wd/hub', \n",
    "    desired_capabilities=webdriver.DesiredCapabilities.CHROME, \n",
    "    options=options)\n"
   ]
  },
  {
   "cell_type": "code",
   "execution_count": 6,
   "metadata": {},
   "outputs": [],
   "source": [
    "driver.get(target_website_url);"
   ]
  },
  {
   "cell_type": "code",
   "execution_count": 7,
   "metadata": {},
   "outputs": [
    {
     "name": "stdout",
     "output_type": "stream",
     "text": [
      "<html lang=\"en\"><head>\n",
      "    <title>Chrome Headless Detection (Round II)</title>\n",
      "    <style>\n",
      "      td:last-child {\n",
      "        background-color: #c8d86d;\n",
      "        max-width:300px;\n",
      "        word-wrap:break-word;\n",
      "      }\n",
      "      td.failed {\n",
      "        background-color: #f45159;\n",
      "      }\n",
      "      table, th, td {\n",
      "        border: 1px solid black;\n",
      "      }\n",
      "      span.age {\n",
      "        float: right;\n",
      "        margin-left: 40px;\n",
      "        margin-right: 10px;\n",
      "      }\n",
      "    </style>\n",
      "  </head>\n",
      "  <body>\n",
      "    <table>\n",
      "      <tbody><tr>\n",
      "        <th>Test Name</th>\n",
      "        <th>Result</th>\n",
      "      </tr>\n",
      "      <tr>\n",
      "        <td>User Agent <span class=\"age\">(Old)</span></td>\n",
      "        <td class=\"result passed\" id=\"user-agent-result\">Mozilla/5.0 (Windows NT 6.3; Win64; x64) AppleWebKit/537.36 (KHTML, like Gecko) Chrome/75.0.3770.142 Safari/537.36</td>\n",
      "      </tr>\n",
      "      <tr>\n",
      "        <td>WebDriver <span class=\"age\">(New)</span></td>\n",
      "        <td class=\"result passed\" id=\"webdriver-result\">missing (passed)</td>\n",
      "      </tr>\n",
      "      <tr>\n",
      "        <td>Chrome <span class=\"age\">(New)</span></td>\n",
      "        <td class=\"result passed\" id=\"chrome-result\">present (passed)</td>\n",
      "      </tr>\n",
      "      <tr>\n",
      "        <td>Permissions <span class=\"age\">(New)</span></td>\n",
      "        <td class=\"result passed\" id=\"permissions-result\">prompt</td>\n",
      "      </tr>\n",
      "      <tr>\n",
      "        <td>Plugins Length <span class=\"age\">(Old)</span></td>\n",
      "        <td class=\"result passed\" id=\"plugins-length-result\">3</td>\n",
      "      </tr>\n",
      "      <tr>\n",
      "        <td>Languages <span class=\"age\">(Old)</span></td>\n",
      "        <td class=\"result passed\" id=\"languages-result\">en-US,en</td>\n",
      "      </tr>\n",
      "    </tbody></table>\n",
      "    <script src=\"chrome-headless-test.js\"></script>\n",
      "  \n",
      "\n",
      "</body></html>\n"
     ]
    }
   ],
   "source": [
    "print(driver.page_source)"
   ]
  },
  {
   "cell_type": "code",
   "execution_count": 8,
   "metadata": {},
   "outputs": [],
   "source": [
    "driver.close()"
   ]
  },
  {
   "cell_type": "code",
   "execution_count": null,
   "metadata": {},
   "outputs": [],
   "source": []
  }
 ],
 "metadata": {
  "kernelspec": {
   "display_name": "Python [conda env:python3.7.3_dev] *",
   "language": "python",
   "name": "conda-env-python3.7.3_dev-py"
  },
  "language_info": {
   "codemirror_mode": {
    "name": "ipython",
    "version": 3
   },
   "file_extension": ".py",
   "mimetype": "text/x-python",
   "name": "python",
   "nbconvert_exporter": "python",
   "pygments_lexer": "ipython3",
   "version": "3.7.3"
  }
 },
 "nbformat": 4,
 "nbformat_minor": 2
}
