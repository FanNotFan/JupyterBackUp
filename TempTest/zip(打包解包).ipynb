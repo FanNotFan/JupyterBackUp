{
 "cells": [
  {
   "cell_type": "code",
   "execution_count": 1,
   "metadata": {
    "execution": {
     "iopub.execute_input": "2021-01-06T11:11:11.507058Z",
     "iopub.status.busy": "2021-01-06T11:11:11.506655Z",
     "iopub.status.idle": "2021-01-06T11:11:11.519702Z",
     "shell.execute_reply": "2021-01-06T11:11:11.518824Z",
     "shell.execute_reply.started": "2021-01-06T11:11:11.506969Z"
    }
   },
   "outputs": [
    {
     "data": {
      "text/plain": [
       "[(1, 1), (2, 2), (3, 3)]"
      ]
     },
     "execution_count": 1,
     "metadata": {},
     "output_type": "execute_result"
    }
   ],
   "source": [
    "list(zip([1, 2, 3], [1, 2, 3]))"
   ]
  },
  {
   "cell_type": "code",
   "execution_count": 2,
   "metadata": {
    "execution": {
     "iopub.execute_input": "2021-01-06T11:11:24.550717Z",
     "iopub.status.busy": "2021-01-06T11:11:24.550397Z",
     "iopub.status.idle": "2021-01-06T11:11:24.556869Z",
     "shell.execute_reply": "2021-01-06T11:11:24.555994Z",
     "shell.execute_reply.started": "2021-01-06T11:11:24.550684Z"
    }
   },
   "outputs": [
    {
     "data": {
      "text/plain": [
       "[(1, 1), (2, 2), (3, 3)]"
      ]
     },
     "execution_count": 2,
     "metadata": {},
     "output_type": "execute_result"
    }
   ],
   "source": [
    "list(zip([1, 2, 3, 4], [1, 2, 3]))"
   ]
  },
  {
   "cell_type": "code",
   "execution_count": 3,
   "metadata": {
    "execution": {
     "iopub.execute_input": "2021-01-06T11:11:43.564042Z",
     "iopub.status.busy": "2021-01-06T11:11:43.563761Z",
     "iopub.status.idle": "2021-01-06T11:11:43.570358Z",
     "shell.execute_reply": "2021-01-06T11:11:43.569490Z",
     "shell.execute_reply.started": "2021-01-06T11:11:43.564012Z"
    }
   },
   "outputs": [
    {
     "data": {
      "text/plain": [
       "[(1, 2, 3), (1, 2, 3)]"
      ]
     },
     "execution_count": 3,
     "metadata": {},
     "output_type": "execute_result"
    }
   ],
   "source": [
    "# 使用 * 可以解包\n",
    "list(zip(*[(1, 1), (2, 2), (3, 3)]))"
   ]
  },
  {
   "cell_type": "code",
   "execution_count": 4,
   "metadata": {
    "execution": {
     "iopub.execute_input": "2021-01-06T11:12:29.175204Z",
     "iopub.status.busy": "2021-01-06T11:12:29.174940Z",
     "iopub.status.idle": "2021-01-06T11:12:29.181181Z",
     "shell.execute_reply": "2021-01-06T11:12:29.179958Z",
     "shell.execute_reply.started": "2021-01-06T11:12:29.175176Z"
    }
   },
   "outputs": [
    {
     "data": {
      "text/plain": [
       "{1: 'a', 2: 'b', 3: 'c'}"
      ]
     },
     "execution_count": 4,
     "metadata": {},
     "output_type": "execute_result"
    }
   ],
   "source": [
    "# 使用 zip 构造 map\n",
    "key = [1, 2, 3]\n",
    "value = [\"a\", \"b\", \"c\"]\n",
    "dict(zip(key, value))"
   ]
  },
  {
   "cell_type": "code",
   "execution_count": null,
   "metadata": {},
   "outputs": [],
   "source": []
  }
 ],
 "metadata": {
  "kernelspec": {
   "display_name": "Python [conda env:python3.7.3_dev] *",
   "language": "python",
   "name": "conda-env-python3.7.3_dev-py"
  },
  "language_info": {
   "codemirror_mode": {
    "name": "ipython",
    "version": 3
   },
   "file_extension": ".py",
   "mimetype": "text/x-python",
   "name": "python",
   "nbconvert_exporter": "python",
   "pygments_lexer": "ipython3",
   "version": "3.7.3"
  },
  "widgets": {
   "application/vnd.jupyter.widget-state+json": {
    "state": {},
    "version_major": 2,
    "version_minor": 0
   }
  }
 },
 "nbformat": 4,
 "nbformat_minor": 4
}
