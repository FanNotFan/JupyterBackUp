{
 "cells": [
  {
   "cell_type": "code",
   "execution_count": 1,
   "metadata": {},
   "outputs": [],
   "source": [
    "import pandas as pd\n",
    "import numpy as np"
   ]
  },
  {
   "cell_type": "markdown",
   "metadata": {},
   "source": [
    "#### if-then"
   ]
  },
  {
   "cell_type": "code",
   "execution_count": 17,
   "metadata": {},
   "outputs": [
    {
     "name": "stdout",
     "output_type": "stream",
     "text": [
      "   A  B  C\n",
      "0  1  5  1\n",
      "1  2  6  1\n",
      "2  3  7  1\n",
      "3  4  8  1\n",
      "   A  B  C\n",
      "0  1  5  1\n",
      "1  2 -1  1\n",
      "2  3 -1  1\n",
      "3  4 -1  1\n"
     ]
    },
    {
     "name": "stderr",
     "output_type": "stream",
     "text": [
      "/Users/hiCore/miniconda3/envs/python3.7.3_dev/lib/python3.7/site-packages/ipykernel_launcher.py:3: DeprecationWarning: \n",
      ".ix is deprecated. Please use\n",
      ".loc for label based indexing or\n",
      ".iloc for positional indexing\n",
      "\n",
      "See the documentation here:\n",
      "http://pandas.pydata.org/pandas-docs/stable/indexing.html#ix-indexer-is-deprecated\n",
      "  This is separate from the ipykernel package so we can avoid doing imports until\n"
     ]
    }
   ],
   "source": [
    "df=pd.DataFrame({\"A\":[1,2,3,4],\"B\":[5,6,7,8],\"C\":[1,1,1,1]})\n",
    "print(df)\n",
    "df.ix[df.A>1,'B']= -1\n",
    "print(df)"
   ]
  },
  {
   "cell_type": "code",
   "execution_count": 6,
   "metadata": {},
   "outputs": [
    {
     "name": "stdout",
     "output_type": "stream",
     "text": [
      "0    1\n",
      "1    2\n",
      "2    3\n",
      "3    4\n",
      "Name: A, dtype: int64\n"
     ]
    }
   ],
   "source": [
    "df=pd.DataFrame({\"A\":[1,2,3,4],\"B\":[5,6,7,8],\"C\":[1,1,1,1]})\n",
    "print(df.A)"
   ]
  },
  {
   "cell_type": "markdown",
   "metadata": {},
   "source": [
    "#### # np.where(条件，then，else)"
   ]
  },
  {
   "cell_type": "code",
   "execution_count": 7,
   "metadata": {},
   "outputs": [
    {
     "name": "stdout",
     "output_type": "stream",
     "text": [
      "   A  B  C  then\n",
      "0  1  5  1     1\n",
      "1  2  6  1     1\n",
      "2  3  7  1     0\n",
      "3  4  8  1     0\n"
     ]
    }
   ],
   "source": [
    "df[\"then\"]=np.where(df.A<3,1,0)\n",
    "print(df)"
   ]
  },
  {
   "cell_type": "code",
   "execution_count": 9,
   "metadata": {},
   "outputs": [
    {
     "name": "stdout",
     "output_type": "stream",
     "text": [
      "   A  B  C\n",
      "1  2  6  1\n",
      "2  3  7  1\n",
      "3  4  8  1\n"
     ]
    }
   ],
   "source": [
    "df=pd.DataFrame({\"A\":[1,2,3,4],\"B\":[5,6,7,8],\"C\":[1,1,1,1]})\n",
    "df=df[df.A>=2]\n",
    "print(df)"
   ]
  },
  {
   "cell_type": "markdown",
   "metadata": {},
   "source": [
    "#### 使用.loc[]"
   ]
  },
  {
   "cell_type": "code",
   "execution_count": 10,
   "metadata": {},
   "outputs": [
    {
     "name": "stdout",
     "output_type": "stream",
     "text": [
      "   A  B  C\n",
      "2  3  7  1\n",
      "3  4  8  1\n"
     ]
    }
   ],
   "source": [
    "df=pd.DataFrame({\"A\":[1,2,3,4],\"B\":[5,6,7,8],\"C\":[1,1,1,1]})\n",
    "df=df.loc[df.A>2]\n",
    "print(df)"
   ]
  },
  {
   "cell_type": "markdown",
   "metadata": {},
   "source": [
    "#### groupby使用 -列出动物中weight最大的对应size"
   ]
  },
  {
   "cell_type": "code",
   "execution_count": 14,
   "metadata": {},
   "outputs": [
    {
     "name": "stdout",
     "output_type": "stream",
     "text": [
      "  animal size  weight  adult\n",
      "0    cat    S       8  False\n",
      "1    dog    S      10  False\n",
      "2    cat    M      11  False\n",
      "3   fish    M       1  False\n",
      "4    dog    M      20  False\n",
      "5    cat    L      12   True\n",
      "6    cat    L      12   True\n",
      "animal\n",
      "cat     L\n",
      "dog     M\n",
      "fish    M\n",
      "dtype: object\n"
     ]
    }
   ],
   "source": [
    "df = pd.DataFrame({'animal': 'cat dog cat fish dog cat cat'.split(),\n",
    "                  'size': list('SSMMMLL'),\n",
    "                  'weight': [8, 10, 11, 1, 20, 12, 12],\n",
    "                  'adult' : [False] * 5 + [True] * 2});\n",
    "print(group.head(10))\n",
    "group=df.groupby(\"animal\").apply(lambda subf: subf['size'][subf['weight'].idxmax()])\n",
    "print(group.head(10))"
   ]
  },
  {
   "cell_type": "markdown",
   "metadata": {},
   "source": [
    "#### 使用get_group 取出其中一分组"
   ]
  },
  {
   "cell_type": "code",
   "execution_count": 16,
   "metadata": {},
   "outputs": [
    {
     "name": "stdout",
     "output_type": "stream",
     "text": [
      "  animal size  weight  adult\n",
      "0    cat    S       8  False\n",
      "2    cat    M      11  False\n",
      "5    cat    L      12   True\n",
      "6    cat    L      12   True\n"
     ]
    }
   ],
   "source": [
    "df = pd.DataFrame({'animal': 'cat dog cat fish dog cat cat'.split(),\n",
    "                  'size': list('SSMMMLL'),\n",
    "                  'weight': [8, 10, 11, 1, 20, 12, 12],\n",
    "                  'adult' : [False] * 5 + [True] * 2});\n",
    "\n",
    "group=df.groupby(\"animal\")\n",
    "cat=group.get_group(\"cat\")\n",
    "print(cat)"
   ]
  },
  {
   "cell_type": "code",
   "execution_count": 21,
   "metadata": {},
   "outputs": [
    {
     "name": "stdout",
     "output_type": "stream",
     "text": [
      "          0         1         2         3         4\n",
      "0  0.436325  0.802963  0.212670  0.665718  0.215579\n",
      "1  0.243735  0.746093  0.823071  0.461089  0.969768\n",
      "2  0.966381  0.585458  0.180703  0.737538  0.141267\n",
      "3  0.917633  0.506023  0.773206  0.388878  0.753289\n",
      "4  0.509772  0.401127  0.094418  0.852634  0.658038\n",
      "5  0.901943  0.951358  0.437489  0.019497  0.765368\n",
      "6  0.677136  0.678305  0.712543  0.298265  0.991524\n",
      "7  0.937264  0.808409  0.681568  0.437206  0.228949\n",
      "8  0.196001  0.964929  0.732944  0.056004  0.043836\n",
      "9  0.928016  0.376740  0.887736  0.283048  0.620714\n",
      "<class 'pandas.core.frame.DataFrame'>\n",
      "RangeIndex: 100 entries, 0 to 99\n",
      "Data columns (total 5 columns):\n",
      "0    100 non-null float64\n",
      "1    100 non-null float64\n",
      "2    100 non-null float64\n",
      "3    100 non-null float64\n",
      "4    100 non-null float64\n",
      "dtypes: float64(5)\n",
      "memory usage: 4.0 KB\n",
      "None\n",
      "          0         1         2         3         4\n",
      "0  1.000000 -0.120740  0.026459  0.205028  0.032025\n",
      "1 -0.120740  1.000000 -0.034664 -0.158439 -0.103529\n",
      "2  0.026459 -0.034664  1.000000 -0.017278  0.037418\n",
      "3  0.205028 -0.158439 -0.017278  1.000000  0.023992\n",
      "4  0.032025 -0.103529  0.037418  0.023992  1.000000\n"
     ]
    }
   ],
   "source": [
    "df = pd.DataFrame(np.random.random(size=(100, 5)))\n",
    "print(df.head(10))\n",
    "print(df.info())\n",
    "corr_mat = df.corr()\n",
    "print(corr_mat)"
   ]
  },
  {
   "cell_type": "code",
   "execution_count": null,
   "metadata": {},
   "outputs": [],
   "source": [
    "np.random()"
   ]
  }
 ],
 "metadata": {
  "kernelspec": {
   "display_name": "Python [conda env:python3.7.3_dev] *",
   "language": "python",
   "name": "conda-env-python3.7.3_dev-py"
  },
  "language_info": {
   "codemirror_mode": {
    "name": "ipython",
    "version": 3
   },
   "file_extension": ".py",
   "mimetype": "text/x-python",
   "name": "python",
   "nbconvert_exporter": "python",
   "pygments_lexer": "ipython3",
   "version": "3.7.3"
  }
 },
 "nbformat": 4,
 "nbformat_minor": 4
}
