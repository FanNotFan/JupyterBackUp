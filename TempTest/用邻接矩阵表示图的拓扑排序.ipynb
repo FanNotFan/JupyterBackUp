{
 "cells": [
  {
   "cell_type": "code",
   "execution_count": 2,
   "metadata": {
    "execution": {
     "iopub.execute_input": "2021-02-02T02:24:37.659079Z",
     "iopub.status.busy": "2021-02-02T02:24:37.658847Z",
     "iopub.status.idle": "2021-02-02T02:24:37.672292Z",
     "shell.execute_reply": "2021-02-02T02:24:37.670551Z",
     "shell.execute_reply.started": "2021-02-02T02:24:37.659055Z"
    }
   },
   "outputs": [
    {
     "name": "stdout",
     "output_type": "stream",
     "text": [
      "[[0 1 0 0 0 1 1 0 0 0 0 0 0]\n",
      " [0 0 0 0 0 0 0 0 0 0 0 0 0]\n",
      " [1 0 0 1 0 0 0 0 0 0 0 0 0]\n",
      " [0 0 0 0 0 1 0 0 0 0 0 0 0]\n",
      " [0 0 0 0 0 0 0 0 0 0 0 0 0]\n",
      " [0 0 0 0 1 0 0 0 0 0 0 0 0]\n",
      " [0 0 0 0 1 0 0 0 0 1 0 0 0]\n",
      " [0 0 0 0 0 0 1 0 0 0 0 0 0]\n",
      " [0 0 0 0 0 0 0 1 0 0 0 0 0]\n",
      " [0 0 0 0 0 0 0 0 0 0 1 1 1]\n",
      " [0 0 0 0 0 0 0 0 0 0 0 0 0]\n",
      " [0 0 0 0 0 0 0 0 0 0 0 0 1]\n",
      " [0 0 0 0 0 0 0 0 0 0 0 0 0]]\n",
      "[2, 8, 0, 3, 7, 1, 5, 6, 4, 9, 10, 11, 12]\n"
     ]
    }
   ],
   "source": [
    "import numpy as np\n",
    "\n",
    "\n",
    "def topological_sort(g):\n",
    "    n = len(g)\n",
    "    # 获取所有入度为0的结点\n",
    "    q = []\n",
    "    for j in range(n):\n",
    "        flag = True\n",
    "        for i in range(n):\n",
    "            if g[i][j] == 1:\n",
    "                flag = False\n",
    "                break\n",
    "        if flag:\n",
    "            q.insert(0, j)\n",
    "\n",
    "    li = []  # 记录结果\n",
    "    while len(q) > 0:\n",
    "        # p出队，把从p出度的数据置为0\n",
    "        p = q.pop()\n",
    "        li.append(p)\n",
    "        for i in range(n):\n",
    "            if g[p][i] == 1:\n",
    "                g[p][i] = 0  # 去掉连通\n",
    "                # 如果结点i的入度为0则入队结点i\n",
    "                in_degree_count = 0\n",
    "                for u in g:\n",
    "                    if u[i] == 1:\n",
    "                        in_degree_count += 1\n",
    "                if in_degree_count == 0:\n",
    "                    q.insert(0, i)\n",
    "\n",
    "    return li\n",
    "\n",
    "\n",
    "if __name__ == '__main__':\n",
    "    # 用邻接矩阵表示图\n",
    "    # 初始化图的数据，连通的标记为1\n",
    "    g = np.zeros(shape=(13, 13), dtype='int')\n",
    "    # g[i][j] = 1 表示 i -> j\n",
    "    g[0][1] = g[0][5] = g[0][6] = 1\n",
    "    g[2][0] = g[2][3] = 1\n",
    "    g[3][5] = 1\n",
    "    g[5][4] = 1\n",
    "    g[6][4] = g[6][9] = 1\n",
    "    g[7][6] = 1\n",
    "    g[8][7] = 1\n",
    "    g[9][10] = g[9][11] = g[9][12] = 1\n",
    "    g[11][12] = 1\n",
    "    print(g)\n",
    "    result = topological_sort(g)\n",
    "    print(result)"
   ]
  },
  {
   "cell_type": "code",
   "execution_count": null,
   "metadata": {},
   "outputs": [],
   "source": []
  }
 ],
 "metadata": {
  "kernelspec": {
   "display_name": "Python [conda env:python3.7.3_dev] *",
   "language": "python",
   "name": "conda-env-python3.7.3_dev-py"
  },
  "language_info": {
   "codemirror_mode": {
    "name": "ipython",
    "version": 3
   },
   "file_extension": ".py",
   "mimetype": "text/x-python",
   "name": "python",
   "nbconvert_exporter": "python",
   "pygments_lexer": "ipython3",
   "version": "3.7.3"
  },
  "widgets": {
   "application/vnd.jupyter.widget-state+json": {
    "state": {},
    "version_major": 2,
    "version_minor": 0
   }
  }
 },
 "nbformat": 4,
 "nbformat_minor": 4
}
