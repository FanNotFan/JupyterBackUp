{
 "cells": [
  {
   "cell_type": "code",
   "execution_count": 1,
   "metadata": {
    "execution": {
     "iopub.execute_input": "2021-01-06T11:02:55.401369Z",
     "iopub.status.busy": "2021-01-06T11:02:55.401042Z",
     "iopub.status.idle": "2021-01-06T11:02:55.406517Z",
     "shell.execute_reply": "2021-01-06T11:02:55.405110Z",
     "shell.execute_reply.started": "2021-01-06T11:02:55.401292Z"
    }
   },
   "outputs": [],
   "source": [
    "def is_Even(i):\n",
    "    if(i%2==0):\n",
    "        return True\n",
    "    else:\n",
    "        return False"
   ]
  },
  {
   "cell_type": "code",
   "execution_count": 3,
   "metadata": {
    "execution": {
     "iopub.execute_input": "2021-01-06T11:03:19.841407Z",
     "iopub.status.busy": "2021-01-06T11:03:19.841076Z",
     "iopub.status.idle": "2021-01-06T11:03:19.846631Z",
     "shell.execute_reply": "2021-01-06T11:03:19.845889Z",
     "shell.execute_reply.started": "2021-01-06T11:03:19.841377Z"
    }
   },
   "outputs": [
    {
     "name": "stdout",
     "output_type": "stream",
     "text": [
      "<filter object at 0x7fa0f57d46d8>\n"
     ]
    }
   ],
   "source": [
    "l = [1, 2, 3, 4, 5, 6, 7, 8, 9, 10]\n",
    "l = filter(is_Even, l)\n",
    "print(l) "
   ]
  },
  {
   "cell_type": "code",
   "execution_count": 4,
   "metadata": {
    "execution": {
     "iopub.execute_input": "2021-01-06T11:03:34.393971Z",
     "iopub.status.busy": "2021-01-06T11:03:34.393684Z",
     "iopub.status.idle": "2021-01-06T11:03:34.398918Z",
     "shell.execute_reply": "2021-01-06T11:03:34.397822Z",
     "shell.execute_reply.started": "2021-01-06T11:03:34.393939Z"
    }
   },
   "outputs": [
    {
     "name": "stdout",
     "output_type": "stream",
     "text": [
      "[2, 4, 6, 8, 10]\n"
     ]
    }
   ],
   "source": [
    "l = list(l)                               # 3.x 须做类型转换\n",
    "print(l)"
   ]
  },
  {
   "cell_type": "code",
   "execution_count": 5,
   "metadata": {
    "execution": {
     "iopub.execute_input": "2021-01-06T11:04:16.137529Z",
     "iopub.status.busy": "2021-01-06T11:04:16.137048Z",
     "iopub.status.idle": "2021-01-06T11:04:16.145897Z",
     "shell.execute_reply": "2021-01-06T11:04:16.144749Z",
     "shell.execute_reply.started": "2021-01-06T11:04:16.137486Z"
    }
   },
   "outputs": [
    {
     "name": "stdout",
     "output_type": "stream",
     "text": [
      "[2, 4, 6, 8, 10]\n"
     ]
    }
   ],
   "source": [
    "l = [1, 2, 3, 4, 5, 6, 7, 8, 9, 10]\n",
    "l = list(filter(lambda x : x%2==0, l))    # 结合lambda\n",
    "print(l)"
   ]
  },
  {
   "cell_type": "code",
   "execution_count": null,
   "metadata": {},
   "outputs": [],
   "source": []
  }
 ],
 "metadata": {
  "kernelspec": {
   "display_name": "Python [conda env:python3.7.3_dev] *",
   "language": "python",
   "name": "conda-env-python3.7.3_dev-py"
  },
  "language_info": {
   "codemirror_mode": {
    "name": "ipython",
    "version": 3
   },
   "file_extension": ".py",
   "mimetype": "text/x-python",
   "name": "python",
   "nbconvert_exporter": "python",
   "pygments_lexer": "ipython3",
   "version": "3.7.3"
  },
  "widgets": {
   "application/vnd.jupyter.widget-state+json": {
    "state": {},
    "version_major": 2,
    "version_minor": 0
   }
  }
 },
 "nbformat": 4,
 "nbformat_minor": 4
}
