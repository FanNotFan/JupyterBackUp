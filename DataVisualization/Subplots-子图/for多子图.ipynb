{
 "cells": [
  {
   "cell_type": "code",
   "execution_count": 18,
   "metadata": {
    "execution": {
     "iopub.execute_input": "2021-01-21T05:54:09.629752Z",
     "iopub.status.busy": "2021-01-21T05:54:09.629240Z",
     "iopub.status.idle": "2021-01-21T05:54:09.648181Z",
     "shell.execute_reply": "2021-01-21T05:54:09.647372Z",
     "shell.execute_reply.started": "2021-01-21T05:54:09.629628Z"
    }
   },
   "outputs": [
    {
     "data": {
      "text/plain": [
       "<logging.Formatter at 0x7fe719f9f0f0>"
      ]
     },
     "execution_count": 18,
     "metadata": {},
     "output_type": "execute_result"
    }
   ],
   "source": [
    "import math\n",
    "import logging\n",
    "import numpy as np\n",
    "import pandas as pd\n",
    "import matplotlib.pyplot as plt\n",
    "logger = logging.getLogger()\n",
    "logging.disable(logging.DEBUG);\n",
    "logging.Formatter('[%(asctime)s] [%(levelname)s] %(message)s', '%Y-%m-%d %H:%M:%S')"
   ]
  },
  {
   "cell_type": "markdown",
   "metadata": {},
   "source": [
    "### 假设数据总大小为20的数据"
   ]
  },
  {
   "cell_type": "code",
   "execution_count": 19,
   "metadata": {
    "execution": {
     "iopub.execute_input": "2021-01-21T05:54:11.953606Z",
     "iopub.status.busy": "2021-01-21T05:54:11.952738Z",
     "iopub.status.idle": "2021-01-21T05:54:11.967079Z",
     "shell.execute_reply": "2021-01-21T05:54:11.966202Z",
     "shell.execute_reply.started": "2021-01-21T05:54:11.953515Z"
    }
   },
   "outputs": [],
   "source": [
    "df_row_size = 10\n",
    "df_column_size = 3\n",
    "df = pd.DataFrame(np.arange(df_row_size*df_column_size).reshape((df_row_size,df_column_size)),index=np.arange(df_row_size),columns=np.arange(df_column_size))"
   ]
  },
  {
   "cell_type": "code",
   "execution_count": 44,
   "metadata": {
    "execution": {
     "iopub.execute_input": "2021-01-21T06:02:04.708772Z",
     "iopub.status.busy": "2021-01-21T06:02:04.708323Z",
     "iopub.status.idle": "2021-01-21T06:02:04.713623Z",
     "shell.execute_reply": "2021-01-21T06:02:04.712552Z",
     "shell.execute_reply.started": "2021-01-21T06:02:04.708681Z"
    }
   },
   "outputs": [],
   "source": [
    "data_length = len(df)\n",
    "column_size = math.ceil((data_length-1) ** 0.5)\n",
    "row_size = math.ceil((data_length-1) / column_size)"
   ]
  },
  {
   "cell_type": "code",
   "execution_count": 45,
   "metadata": {
    "execution": {
     "iopub.execute_input": "2021-01-21T06:02:16.835453Z",
     "iopub.status.busy": "2021-01-21T06:02:16.835033Z",
     "iopub.status.idle": "2021-01-21T06:02:16.841891Z",
     "shell.execute_reply": "2021-01-21T06:02:16.840921Z",
     "shell.execute_reply.started": "2021-01-21T06:02:16.835387Z"
    }
   },
   "outputs": [
    {
     "data": {
      "text/plain": [
       "10"
      ]
     },
     "execution_count": 45,
     "metadata": {},
     "output_type": "execute_result"
    }
   ],
   "source": [
    "X = df[:0]\n",
    "data_length"
   ]
  },
  {
   "cell_type": "code",
   "execution_count": null,
   "metadata": {},
   "outputs": [],
   "source": [
    "fig, axes = plt.subplots(row_size, column_size, figsize=(20, 30))\n",
    "# 设置图片间距\n",
    "plt.subplots_adjust(left=0.125, bottom=0.04, right=0.9, top=1, hspace=0.1, wspace=0.1)\n",
    "# 设置主标题\n",
    "fig.suptitle('Title:{}'.format(\"subplots\"))\n",
    "# 生成文件位置\n",
    "PATTERN_ATTRIBUTE_OUTPUT_FOLDER = './'"
   ]
  },
  {
   "cell_type": "code",
   "execution_count": null,
   "metadata": {},
   "outputs": [],
   "source": [
    "X = df[0:]\n",
    "for i in range(row_size):\n",
    "    logger.debug(\"left compare length: {}\".format(data_length - count))\n",
    "    for j in range(0, column_size):\n",
    "        count += 1\n",
    "        if count >= data_length:\n",
    "            continue\n",
    "        # 设置子标题\n",
    "        y = df[0:]\n",
    "        axes[i][j].set_title('subTitle:{}'.format(\"subTitle\"))\n",
    "        axes[i][j].scatter(X, y, color='blue', s=10)\n",
    "        axes[i][j].plot(X, pred_y, color='green', linewidth=1)\n",
    "        axes[i][j].plot(adjust_X, predic_y, color='red', linewidth=1)\n",
    "plt.savefig(\"{}{}_linear_result.jpg\".format(PATTERN_ATTRIBUTE_OUTPUT_FOLDER,\"id\"), format='jpg',\n",
    "                    dpi=300)"
   ]
  },
  {
   "cell_type": "code",
   "execution_count": null,
   "metadata": {},
   "outputs": [],
   "source": []
  }
 ],
 "metadata": {
  "kernelspec": {
   "display_name": "Python [conda env:python3.7.3_dev] *",
   "language": "python",
   "name": "conda-env-python3.7.3_dev-py"
  },
  "language_info": {
   "codemirror_mode": {
    "name": "ipython",
    "version": 3
   },
   "file_extension": ".py",
   "mimetype": "text/x-python",
   "name": "python",
   "nbconvert_exporter": "python",
   "pygments_lexer": "ipython3",
   "version": "3.7.3"
  },
  "widgets": {
   "application/vnd.jupyter.widget-state+json": {
    "state": {},
    "version_major": 2,
    "version_minor": 0
   }
  }
 },
 "nbformat": 4,
 "nbformat_minor": 4
}
