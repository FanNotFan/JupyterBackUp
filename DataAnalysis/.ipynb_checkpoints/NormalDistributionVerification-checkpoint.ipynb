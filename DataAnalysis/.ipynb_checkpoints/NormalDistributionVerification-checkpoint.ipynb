{
 "cells": [
  {
   "cell_type": "code",
   "execution_count": 1,
   "metadata": {},
   "outputs": [],
   "source": [
    "# https://blog.csdn.net/QimaoRyan/article/details/72861387\n",
    "# https://www.itcodemonkey.com/article/12348.html\n",
    "import scipy.stats as stats\n",
    "import numpy as np\n",
    "import pandas as pd\n",
    "import pymysql\n",
    "import pymysql.cursors\n",
    "import seaborn as sns\n",
    "import matplotlib as mpl\n",
    "import matplotlib.pyplot as plt\n",
    "import matplotlib.mlab as mlab\n",
    "from pandas import Series, DataFrame"
   ]
  },
  {
   "cell_type": "code",
   "execution_count": 2,
   "metadata": {},
   "outputs": [],
   "source": [
    "def read_from_csv(filename : str):\n",
    "    meta_price_data = pd.read_csv(filename)\n",
    "    return meta_price_data\n",
    "\n",
    "def price_per_night(x, y):\n",
    "    return x / y\n",
    "\n",
    "# 去除退款、房间大于1000美元的房价\n",
    "def data_preprocess_range(price_data, minnum: int, maxnum: int):\n",
    "#     print(len(price_data))\n",
    "    price_data = price_data[(1<=price_data['RM_NIGHT_CNT']) & (price_data['RM_CNT']==1) & (minnum<price_data['BASE_PRICE_AMT_USD']) & (price_data['BASE_PRICE_AMT_USD']<maxnum)]\n",
    "#     print(len(price_data))\n",
    "    price_data['BASE_PRICE_AMT_USD'] = price_data.apply(lambda row: price_per_night(row['BASE_PRICE_AMT_USD'], row['RM_NIGHT_CNT']), axis=1)\n",
    "    return price_data['BASE_PRICE_AMT_USD']\n",
    "\n",
    "# 对价格进行取对数计算\n",
    "def data_preprocess_log(price: Series):\n",
    "    return Series(map(lambda x: np.log2(x+1), price))"
   ]
  },
  {
   "cell_type": "code",
   "execution_count": 4,
   "metadata": {},
   "outputs": [],
   "source": [
    "# 4. scipy.stats.normaltest\n",
    "def scipy_stats_normaltest(price_data):\n",
    "    k2, p = stats.normaltest(price_data)\n",
    "    alpha = 1e-3\n",
    "    print(p)\n",
    "    if p < alpha:\n",
    "        print(\"The null hypothesis can be rejected\")\n",
    "    else:\n",
    "        print(\"The null hypothesis cannot be rejected\")"
   ]
  },
  {
   "cell_type": "code",
   "execution_count": 5,
   "metadata": {},
   "outputs": [],
   "source": [
    "# 3. Anderson-Darling test\n",
    "def scipy_stats_anderson(price_data):\n",
    "    stats.anderson (price_data)"
   ]
  },
  {
   "cell_type": "code",
   "execution_count": 6,
   "metadata": {},
   "outputs": [],
   "source": [
    "# 2. scipy.stats.kstest\n",
    "# rvs - 待检验数据，可以是字符串、数组；\n",
    "# cdf - 需要设置的检验，这里设置为 norm，也就是正态性检验；\n",
    "# alternative - 设置单双尾检验，默认为 two-sided\n",
    "def scipy_stats_kstest(price_data):\n",
    "    w , p_value = stats.kstest (rvs = price_data, cdf = 'norm', args = (), N = 20, alternative ='two-sided', mode ='approx')\n",
    "    print(w)\n",
    "    print(p_value)"
   ]
  },
  {
   "cell_type": "code",
   "execution_count": 7,
   "metadata": {},
   "outputs": [],
   "source": [
    "def scipy_stats_shapiro(price_data):\n",
    "    w,p_value = stats.shapiro(price_data)\n",
    "    print(w)\n",
    "    print(p_value)"
   ]
  },
  {
   "cell_type": "code",
   "execution_count": 3,
   "metadata": {},
   "outputs": [
    {
     "name": "stderr",
     "output_type": "stream",
     "text": [
      "/Users/hiCore/miniconda3/envs/python3.7.3_dev/lib/python3.7/site-packages/ipykernel_launcher.py:13: SettingWithCopyWarning: \n",
      "A value is trying to be set on a copy of a slice from a DataFrame.\n",
      "Try using .loc[row_indexer,col_indexer] = value instead\n",
      "\n",
      "See the caveats in the documentation: http://pandas.pydata.org/pandas-docs/stable/indexing.html#indexing-view-versus-copy\n",
      "  del sys.path[0]\n"
     ]
    },
    {
     "ename": "NameError",
     "evalue": "name 'scipy_stats_normaltest' is not defined",
     "output_type": "error",
     "traceback": [
      "\u001b[0;31m---------------------------------------------------------------------------\u001b[0m",
      "\u001b[0;31mNameError\u001b[0m                                 Traceback (most recent call last)",
      "\u001b[0;32m<ipython-input-3-ca198a5a2a9d>\u001b[0m in \u001b[0;36m<module>\u001b[0;34m\u001b[0m\n\u001b[1;32m      4\u001b[0m     \u001b[0mprice_data\u001b[0m \u001b[0;34m=\u001b[0m \u001b[0mdata_preprocess_range\u001b[0m\u001b[0;34m(\u001b[0m\u001b[0mmeta_price_data\u001b[0m\u001b[0;34m,\u001b[0m \u001b[0mminnum\u001b[0m\u001b[0;34m,\u001b[0m \u001b[0mmaxnum\u001b[0m\u001b[0;34m)\u001b[0m\u001b[0;34m\u001b[0m\u001b[0;34m\u001b[0m\u001b[0m\n\u001b[1;32m      5\u001b[0m     \u001b[0mprice_data\u001b[0m \u001b[0;34m=\u001b[0m \u001b[0mdata_preprocess_log\u001b[0m\u001b[0;34m(\u001b[0m\u001b[0mprice_data\u001b[0m\u001b[0;34m)\u001b[0m\u001b[0;34m\u001b[0m\u001b[0;34m\u001b[0m\u001b[0m\n\u001b[0;32m----> 6\u001b[0;31m     \u001b[0mscipy_stats_normaltest\u001b[0m\u001b[0;34m(\u001b[0m\u001b[0mprice_data\u001b[0m\u001b[0;34m)\u001b[0m\u001b[0;34m\u001b[0m\u001b[0;34m\u001b[0m\u001b[0m\n\u001b[0m",
      "\u001b[0;31mNameError\u001b[0m: name 'scipy_stats_normaltest' is not defined"
     ]
    }
   ],
   "source": [
    "if __name__==\"__main__\":\n",
    "    minnum, maxnum = 0, 1000\n",
    "    meta_price_data = read_from_csv(\"trans_fact_201901.csv\")\n",
    "    price_data = data_preprocess_range(meta_price_data, minnum, maxnum)\n",
    "    price_data = data_preprocess_log(price_data)\n",
    "    "
   ]
  },
  {
   "cell_type": "code",
   "execution_count": 7,
   "metadata": {},
   "outputs": [],
   "source": [
    "mean = price_data.mean()\n",
    "# 标准差\n",
    "std = price_data.std()\n",
    "\n",
    "# x的范围为 (0-3000，以1为单位,需x根据范围调试\n",
    "x = np.arange(3, 10, 1)\n",
    "\n",
    "# x数对应的概率密度\n",
    "# y = normfun(x, mean, std)\n",
    "y = stats.norm.pdf(x, mean, std)"
   ]
  },
  {
   "cell_type": "code",
   "execution_count": 10,
   "metadata": {},
   "outputs": [
    {
     "name": "stdout",
     "output_type": "stream",
     "text": [
      "0.0\n",
      "The null hypothesis can be rejected\n"
     ]
    }
   ],
   "source": [
    "scipy_stats_normaltest(price_data)"
   ]
  },
  {
   "cell_type": "code",
   "execution_count": 8,
   "metadata": {},
   "outputs": [
    {
     "name": "stdout",
     "output_type": "stream",
     "text": [
      "[2.73617599e-05 2.74594525e-03 6.41910929e-02 3.49536648e-01\n",
      " 4.43348981e-01 1.30988680e-01 9.01481594e-03]\n"
     ]
    }
   ],
   "source": [
    "print(y)"
   ]
  },
  {
   "cell_type": "code",
   "execution_count": null,
   "metadata": {},
   "outputs": [],
   "source": []
  }
 ],
 "metadata": {
  "kernelspec": {
   "display_name": "Python [conda env:python3.7.3_dev] *",
   "language": "python",
   "name": "conda-env-python3.7.3_dev-py"
  },
  "language_info": {
   "codemirror_mode": {
    "name": "ipython",
    "version": 3
   },
   "file_extension": ".py",
   "mimetype": "text/x-python",
   "name": "python",
   "nbconvert_exporter": "python",
   "pygments_lexer": "ipython3",
   "version": "3.7.3"
  }
 },
 "nbformat": 4,
 "nbformat_minor": 2
}
