{
 "cells": [
  {
   "cell_type": "code",
   "execution_count": 1,
   "metadata": {},
   "outputs": [],
   "source": [
    "import scipy.stats as stats\n",
    "import numpy as np\n",
    "import pandas as pd\n",
    "import pymysql\n",
    "import pymysql.cursors\n",
    "import seaborn as sns\n",
    "import matplotlib as mpl\n",
    "import matplotlib.pyplot as plt\n",
    "import matplotlib.mlab as mlab"
   ]
  },
  {
   "cell_type": "code",
   "execution_count": 2,
   "metadata": {},
   "outputs": [],
   "source": [
    "%matplotlib inline\n",
    "#为了使画出来的图支持 retina格式\n",
    "%config InlineBackend.figure_format = 'retina'"
   ]
  },
  {
   "cell_type": "code",
   "execution_count": 3,
   "metadata": {},
   "outputs": [],
   "source": [
    "def connectToDB():\n",
    "    return pymysql.connect(\n",
    "        host='rtm-db.cmguqnu4wehw.us-west-2.rds.amazonaws.com', \n",
    "        port=3306, user='rtmtest', \n",
    "        passwd='rtmtest123', \n",
    "        db='hotel_price_db', \n",
    "        charset=\"utf8\", \n",
    "        use_unicode=True\n",
    "    )"
   ]
  },
  {
   "cell_type": "code",
   "execution_count": 4,
   "metadata": {},
   "outputs": [],
   "source": [
    "def getHotelPricesInDB(cnx):\n",
    "    cursor = cnx.cursor()\n",
    "    cursor.execute(\"SELECT le_hotel_price FROM lesaintsul_info\")\n",
    "    results = cursor.fetchall()\n",
    "    # Here we de-tuple the results into a list\n",
    "    list_result = []\n",
    "    for i in range(0, len(results)):\n",
    "        temp = results[i][0].replace(',','')\n",
    "        list_result.append(int(temp))\n",
    "#         results[i] = results[i][0]\n",
    "    return list_result"
   ]
  },
  {
   "cell_type": "code",
   "execution_count": 5,
   "metadata": {},
   "outputs": [],
   "source": [
    "def save_to_csv(content: list):\n",
    "    #字典中的key值即为csv中列名\n",
    "    dataframe = pd.DataFrame({'price':content})\n",
    "\n",
    "    #将DataFrame存储为csv,index表示是否显示行名，default=True\n",
    "    dataframe.to_csv(\"price.csv\",index=False,sep=',')"
   ]
  },
  {
   "cell_type": "code",
   "execution_count": 6,
   "metadata": {},
   "outputs": [],
   "source": [
    "def readDB_and_save_to_csv():\n",
    "    cnx = connectToDB()\n",
    "    hotelPrices = getHotelPricesInDB(cnx)\n",
    "    # print(hotelPrices)\n",
    "    save_to_csv(hotelPrices)"
   ]
  },
  {
   "cell_type": "code",
   "execution_count": 3,
   "metadata": {},
   "outputs": [],
   "source": [
    "# normfun正态分布函数，mu: 均值，sigma:标准差，pdf:概率密度函数，np.exp():概率密度函数公式\n",
    "# https://zh.wikipedia.org/wiki/%E6%AD%A3%E6%80%81%E5%88%86%E5%B8%83\n",
    "def normfun(x, mu, sigma):\n",
    "#     pdf = np.random.normal(loc=mu, scale=sigma, size=None)\n",
    "    pdf = np.exp(-((x - mu)**2) / (2* sigma**2)) / (sigma * np.sqrt(2*np.pi))\n",
    "    return pdf"
   ]
  },
  {
   "cell_type": "code",
   "execution_count": 16,
   "metadata": {},
   "outputs": [],
   "source": [
    "def draw_normal_distribution_read_test():\n",
    "    price_data = pd.read_csv('price.csv')\n",
    "    print(len(price_data))\n",
    "    price_data.head(10)\n",
    "    price = price_data['price']\n",
    "    mean = price.mean()\n",
    "    print(\"均值mean=\"+str(mean))\n",
    "    # 标准差\n",
    "    std = price.std()\n",
    "    print(\"标准差std=\"+str(std))\n",
    "    # x的范围为-100, 1400，以1为单位,需x根据范围调试\n",
    "    x = np.arange(price.min(), price.max(),1)\n",
    "\n",
    "    # x数对应的概率密度\n",
    "#     y = normfun(x, mean, std)\n",
    "    y = stats.norm.pdf(x, mean, std)\n",
    "\n",
    "    # 参数,颜色，线宽\n",
    "    plt.plot(x,y, color='g',linewidth = 3)\n",
    "\n",
    "    #数据，数组，颜色，颜色深浅，组宽，显示频率\n",
    "    plt.hist(price, bins='auto', color = 'r',alpha=0.5,rwidth= 0.9, normed=True)\n",
    "\n",
    "    plt.title('Price distribution')\n",
    "    plt.xlabel('Price score')\n",
    "    plt.ylabel('Probability')\n",
    "    plt.show()"
   ]
  },
  {
   "cell_type": "code",
   "execution_count": 3,
   "metadata": {},
   "outputs": [],
   "source": [
    "def read_from_csv(filename : str):\n",
    "    meta_price_data = pd.read_csv(filename)\n",
    "    return meta_price_data"
   ]
  },
  {
   "cell_type": "code",
   "execution_count": 9,
   "metadata": {},
   "outputs": [],
   "source": [
    "# 去除退款、房间大于1000美元的房价\n",
    "def data_preprocess(price_data, minnum: int, maxnum: int):\n",
    "    price_data = price_data[(minnum<price_data['BASE_PRICE_AMT_USD']) & (price_data['BASE_PRICE_AMT_USD']<=maxnum)]\n",
    "    return price_data"
   ]
  },
  {
   "cell_type": "code",
   "execution_count": 5,
   "metadata": {},
   "outputs": [],
   "source": [
    "def draw_normal_distribution_read_prod(price_data, minnum: int, maxnum: int):\n",
    "    price = price_data['BASE_PRICE_AMT_USD']\n",
    "    mean = price.mean()\n",
    "    # 标准差\n",
    "    std = price.std()\n",
    "    \n",
    "    # x的范围为 (0-3000，以1为单位,需x根据范围调试\n",
    "    x = np.arange(minnum, maxnum, 1)\n",
    "\n",
    "    # x数对应的概率密度\n",
    "    # y = normfun(x, mean, std)\n",
    "    y = stats.norm.pdf(x, mean, std)\n",
    "\n",
    "    # 参数, 颜色，线宽\n",
    "    l1, = plt.plot(x, y, 'g--', linewidth = 3)\n",
    "\n",
    "    sns.set_palette(\"hls\") \n",
    "    mpl.rc(\"figure\", figsize=(6,4)) \n",
    "    sns.distplot(price, bins=20, kde_kws={\"color\":\"red\", \"lw\":3 }, hist_kws={ \"color\": \"b\" }) \n",
    "    \n",
    "    #数据，数组，颜色，颜色深浅，组宽，显示频率\n",
    "    (counts, bins, patch) = plt.hist(price, bins=20, color = 'blue',alpha=0.5,rwidth= 0.8, normed=True)\n",
    "#     print(counts)\n",
    "#     print(bins)\n",
    "#     print(patch)\n",
    "    plt.title(r'Price Histogram : $\\mu={0}$,$\\sigma={1}$'.format(mean, std))\n",
    "    plt.xlabel('Price score')\n",
    "    plt.ylabel('Probability')\n",
    "    \n",
    "    # 设置legend\n",
    "    # 在绘制时设置lable, 逗号是必须的\n",
    "    \n",
    "    plt.legend(handles = [l1], labels = ['Normal Distribution'], loc = 'best')\n",
    "    plt.show()"
   ]
  },
  {
   "cell_type": "code",
   "execution_count": 17,
   "metadata": {},
   "outputs": [],
   "source": [
    "def draw_normal_distribution_read():\n",
    "    price_data = pd.read_csv('trans_fact_201901.csv')\n",
    "#     print(len(price_data))\n",
    "#     print(price_data.head(10))\n",
    "#     price = price_data['BASE_PRICE_AMT_USD']\n",
    "#     print(temp.head(10))\n",
    "#     price = price_data['BASE_PRICE_AMT_USD']\n",
    "#     print(price.head(10))\n",
    "#     print(price.max())\n",
    "#     print(price.min())\n",
    "    \n",
    "    price_data = data_preprocess(meta_price_data, 4000, 4000000) # 1.857144 - 2.190203 3.63078 4.26449\n",
    "    print(len(price_data))\n",
    "    "
   ]
  },
  {
   "cell_type": "code",
   "execution_count": 18,
   "metadata": {},
   "outputs": [
    {
     "name": "stdout",
     "output_type": "stream",
     "text": [
      "26449\n"
     ]
    }
   ],
   "source": [
    "if __name__ == '__main__':\n",
    "    minnum, maxnum = 0, 3000\n",
    "    meta_price_data = read_from_csv(\"trans_fact_201901.csv\")\n",
    "    price_data = data_preprocess(meta_price_data, minnum, maxnum)\n",
    "    draw_normal_distribution_read_prod(price_data)\n",
    "    \n",
    "    # draw_normal_distribution_read()\n",
    "    # draw_normal_distribution_read_test()"
   ]
  },
  {
   "cell_type": "code",
   "execution_count": null,
   "metadata": {},
   "outputs": [],
   "source": []
  }
 ],
 "metadata": {
  "kernelspec": {
   "display_name": "Python [conda env:python3.7.3_dev] *",
   "language": "python",
   "name": "conda-env-python3.7.3_dev-py"
  },
  "language_info": {
   "codemirror_mode": {
    "name": "ipython",
    "version": 3
   },
   "file_extension": ".py",
   "mimetype": "text/x-python",
   "name": "python",
   "nbconvert_exporter": "python",
   "pygments_lexer": "ipython3",
   "version": "3.7.3"
  }
 },
 "nbformat": 4,
 "nbformat_minor": 2
}
