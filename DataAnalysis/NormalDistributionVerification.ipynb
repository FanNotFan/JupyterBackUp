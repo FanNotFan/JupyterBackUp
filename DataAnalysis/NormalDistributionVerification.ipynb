{
 "cells": [
  {
   "cell_type": "code",
   "execution_count": 1,
   "metadata": {},
   "outputs": [],
   "source": [
    "# https://blog.csdn.net/QimaoRyan/article/details/72861387\n",
    "# https://www.itcodemonkey.com/article/12348.html\n",
    "import scipy.stats as stats\n",
    "import pandas as pd\n",
    "import numpy as np"
   ]
  },
  {
   "cell_type": "code",
   "execution_count": 2,
   "metadata": {},
   "outputs": [],
   "source": [
    "def read_from_csv(filename : str):\n",
    "    price_data = pd.read_csv(filename)\n",
    "    nd_price_data = np.array(price_data)\n",
    "    return price_data, nd_price_data"
   ]
  },
  {
   "cell_type": "code",
   "execution_count": 3,
   "metadata": {},
   "outputs": [],
   "source": [
    "# 去除退款、房间大于1000美元的房价\n",
    "def data_preprocess(price_data):\n",
    "    price_data = price_data[(0<price_data['BASE_PRICE_AMT_USD']) & (price_data['BASE_PRICE_AMT_USD']<=1000)]\n",
    "    return price_data"
   ]
  },
  {
   "cell_type": "code",
   "execution_count": 4,
   "metadata": {},
   "outputs": [],
   "source": [
    "# 4. scipy.stats.normaltest\n",
    "def scipy_stats_normaltest(price_data):\n",
    "    k2, p = stats.normaltest(price_data)\n",
    "    alpha = 1e-3\n",
    "    print(p)\n",
    "    if p < alpha:\n",
    "        print(\"The null hypothesis can be rejected\")\n",
    "    else:\n",
    "        print(\"The null hypothesis cannot be rejected\")"
   ]
  },
  {
   "cell_type": "code",
   "execution_count": 5,
   "metadata": {},
   "outputs": [],
   "source": [
    "# 3. Anderson-Darling test\n",
    "def scipy_stats_anderson(price_data):\n",
    "    stats.anderson (price_data)"
   ]
  },
  {
   "cell_type": "code",
   "execution_count": 6,
   "metadata": {},
   "outputs": [],
   "source": [
    "# 2. scipy.stats.kstest\n",
    "# rvs - 待检验数据，可以是字符串、数组；\n",
    "# cdf - 需要设置的检验，这里设置为 norm，也就是正态性检验；\n",
    "# alternative - 设置单双尾检验，默认为 two-sided\n",
    "def scipy_stats_kstest(price_data):\n",
    "    w , p_value = stats.kstest (rvs = price_data, cdf = 'norm', args = (), N = 20, alternative ='two-sided', mode ='approx')\n",
    "    print(w)\n",
    "    print(p_value)"
   ]
  },
  {
   "cell_type": "code",
   "execution_count": 7,
   "metadata": {},
   "outputs": [],
   "source": [
    "def scipy_stats_shapiro(price_data):\n",
    "    w,p_value = stats.shapiro(price_data)\n",
    "    print(w)\n",
    "    print(p_value)"
   ]
  },
  {
   "cell_type": "code",
   "execution_count": null,
   "metadata": {},
   "outputs": [],
   "source": [
    "if __name__==\"__main__\":\n",
    "    price_data, nd_price_data = read_from_csv(\"trans_fact_201901.csv\")\n",
    "    price_data = data_preprocess(price_data)\n",
    "    scipy_stats_normaltest(price_data)"
   ]
  },
  {
   "cell_type": "code",
   "execution_count": null,
   "metadata": {},
   "outputs": [],
   "source": []
  }
 ],
 "metadata": {
  "kernelspec": {
   "display_name": "Python [conda env:python3.7.3_dev] *",
   "language": "python",
   "name": "conda-env-python3.7.3_dev-py"
  },
  "language_info": {
   "codemirror_mode": {
    "name": "ipython",
    "version": 3
   },
   "file_extension": ".py",
   "mimetype": "text/x-python",
   "name": "python",
   "nbconvert_exporter": "python",
   "pygments_lexer": "ipython3",
   "version": "3.7.3"
  }
 },
 "nbformat": 4,
 "nbformat_minor": 2
}
