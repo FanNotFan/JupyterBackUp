{
 "cells": [
  {
   "cell_type": "code",
   "execution_count": 1,
   "metadata": {},
   "outputs": [],
   "source": [
    "# https://blog.csdn.net/QimaoRyan/article/details/72861387\n",
    "# https://www.itcodemonkey.com/article/12348.html\n",
    "import scipy.stats as stats\n",
    "import numpy as np\n",
    "import pandas as pd\n",
    "import pymysql\n",
    "import pymysql.cursors\n",
    "import seaborn as sns\n",
    "import matplotlib as mpl\n",
    "import matplotlib.pyplot as plt\n",
    "import matplotlib.mlab as mlab\n",
    "from pandas import Series, DataFrame"
   ]
  },
  {
   "cell_type": "code",
   "execution_count": 2,
   "metadata": {},
   "outputs": [],
   "source": [
    "def read_from_csv(filename : str):\n",
    "    meta_price_data = pd.read_csv(filename)\n",
    "    return meta_price_data\n",
    "\n",
    "def price_per_night(x, y):\n",
    "    return x / y\n",
    "\n",
    "# 去除退款、房间大于1000美元的房价\n",
    "def data_preprocess_range(price_data, minnum: int, maxnum: int):\n",
    "#     print(len(price_data))\n",
    "    price_data = price_data[(1<=price_data['RM_NIGHT_CNT']) & (price_data['RM_CNT']==1) & (minnum<price_data['BASE_PRICE_AMT_USD']) & (price_data['BASE_PRICE_AMT_USD']<maxnum)]\n",
    "#     print(len(price_data))\n",
    "    price_data['BASE_PRICE_AMT_USD'] = price_data.apply(lambda row: price_per_night(row['BASE_PRICE_AMT_USD'], row['RM_NIGHT_CNT']), axis=1)\n",
    "    return price_data['BASE_PRICE_AMT_USD']\n",
    "\n",
    "# 对价格进行取对数计算\n",
    "def data_preprocess_log(price: Series):\n",
    "    return Series(map(lambda x: np.log2(x+1), price))"
   ]
  },
  {
   "cell_type": "code",
   "execution_count": 4,
   "metadata": {},
   "outputs": [],
   "source": [
    "# 4. scipy.stats.normaltest\n",
    "def scipy_stats_normaltest(price_data):\n",
    "    k2, p = stats.normaltest(price_data)\n",
    "    alpha = 1e-3\n",
    "    print(p)\n",
    "    if p < alpha:\n",
    "        print(\"The null hypothesis can be rejected\")\n",
    "    else:\n",
    "        print(\"The null hypothesis cannot be rejected\")"
   ]
  },
  {
   "cell_type": "code",
   "execution_count": 5,
   "metadata": {},
   "outputs": [],
   "source": [
    "# 3. Anderson-Darling test\n",
    "def scipy_stats_anderson(price_data):\n",
    "    stats.anderson (price_data)"
   ]
  },
  {
   "cell_type": "code",
   "execution_count": 6,
   "metadata": {},
   "outputs": [],
   "source": [
    "# 2. scipy.stats.kstest\n",
    "# rvs - 待检验数据，可以是字符串、数组；\n",
    "# cdf - 需要设置的检验，这里设置为 norm，也就是正态性检验；\n",
    "# alternative - 设置单双尾检验，默认为 two-sided\n",
    "def scipy_stats_kstest(price_data):\n",
    "    w , p_value = stats.kstest (rvs = price_data, cdf = 'norm', args = (), N = 20, alternative ='two-sided', mode ='approx')\n",
    "    print(w)\n",
    "    print(p_value)"
   ]
  },
  {
   "cell_type": "code",
   "execution_count": 7,
   "metadata": {},
   "outputs": [],
   "source": [
    "def scipy_stats_shapiro(price_data):\n",
    "    w,p_value = stats.shapiro(price_data)\n",
    "    print(w)\n",
    "    print(p_value)"
   ]
  },
  {
   "cell_type": "code",
   "execution_count": 3,
   "metadata": {},
   "outputs": [
    {
     "name": "stderr",
     "output_type": "stream",
     "text": [
      "/Users/hiCore/miniconda3/envs/python3.7.3_dev/lib/python3.7/site-packages/ipykernel_launcher.py:13: SettingWithCopyWarning: \n",
      "A value is trying to be set on a copy of a slice from a DataFrame.\n",
      "Try using .loc[row_indexer,col_indexer] = value instead\n",
      "\n",
      "See the caveats in the documentation: http://pandas.pydata.org/pandas-docs/stable/indexing.html#indexing-view-versus-copy\n",
      "  del sys.path[0]\n"
     ]
    },
    {
     "ename": "NameError",
     "evalue": "name 'scipy_stats_normaltest' is not defined",
     "output_type": "error",
     "traceback": [
      "\u001b[0;31m---------------------------------------------------------------------------\u001b[0m",
      "\u001b[0;31mNameError\u001b[0m                                 Traceback (most recent call last)",
      "\u001b[0;32m<ipython-input-3-ca198a5a2a9d>\u001b[0m in \u001b[0;36m<module>\u001b[0;34m\u001b[0m\n\u001b[1;32m      4\u001b[0m     \u001b[0mprice_data\u001b[0m \u001b[0;34m=\u001b[0m \u001b[0mdata_preprocess_range\u001b[0m\u001b[0;34m(\u001b[0m\u001b[0mmeta_price_data\u001b[0m\u001b[0;34m,\u001b[0m \u001b[0mminnum\u001b[0m\u001b[0;34m,\u001b[0m \u001b[0mmaxnum\u001b[0m\u001b[0;34m)\u001b[0m\u001b[0;34m\u001b[0m\u001b[0;34m\u001b[0m\u001b[0m\n\u001b[1;32m      5\u001b[0m     \u001b[0mprice_data\u001b[0m \u001b[0;34m=\u001b[0m \u001b[0mdata_preprocess_log\u001b[0m\u001b[0;34m(\u001b[0m\u001b[0mprice_data\u001b[0m\u001b[0;34m)\u001b[0m\u001b[0;34m\u001b[0m\u001b[0;34m\u001b[0m\u001b[0m\n\u001b[0;32m----> 6\u001b[0;31m     \u001b[0mscipy_stats_normaltest\u001b[0m\u001b[0;34m(\u001b[0m\u001b[0mprice_data\u001b[0m\u001b[0;34m)\u001b[0m\u001b[0;34m\u001b[0m\u001b[0;34m\u001b[0m\u001b[0m\n\u001b[0m",
      "\u001b[0;31mNameError\u001b[0m: name 'scipy_stats_normaltest' is not defined"
     ]
    }
   ],
   "source": [
    "if __name__==\"__main__\":\n",
    "    minnum, maxnum = 0, 1000\n",
    "    meta_price_data = read_from_csv(\"trans_fact_201901.csv\")\n",
    "    price_data = data_preprocess_range(meta_price_data, minnum, maxnum)\n",
    "    price_data = data_preprocess_log(price_data)"
   ]
  },
  {
   "cell_type": "code",
   "execution_count": 11,
   "metadata": {},
   "outputs": [],
   "source": [
    "price_data = Series(filter(lambda x: 10>x>3, price_data))"
   ]
  },
  {
   "cell_type": "code",
   "execution_count": 12,
   "metadata": {
    "scrolled": true
   },
   "outputs": [
    {
     "name": "stdout",
     "output_type": "stream",
     "text": [
      "0           6.430620\n",
      "1           7.105909\n",
      "2           7.495557\n",
      "3           6.048868\n",
      "4           6.791423\n",
      "5           6.387170\n",
      "6           7.098960\n",
      "7           6.754888\n",
      "8           5.714015\n",
      "9           9.228819\n",
      "10          6.721221\n",
      "11          6.400794\n",
      "12          6.257388\n",
      "13          7.887312\n",
      "14          6.009437\n",
      "15          6.963936\n",
      "16          6.020125\n",
      "17          6.122457\n",
      "18          6.496548\n",
      "19          6.507636\n",
      "20          6.637610\n",
      "21          6.563768\n",
      "22          7.714246\n",
      "23          6.767560\n",
      "24          7.814422\n",
      "25          6.854893\n",
      "26          7.285402\n",
      "27          5.872829\n",
      "28          6.046161\n",
      "29          7.238405\n",
      "              ...   \n",
      "15670339    7.845490\n",
      "15670340    6.321928\n",
      "15670341    5.615263\n",
      "15670342    8.340904\n",
      "15670343    6.151023\n",
      "15670344    7.228819\n",
      "15670345    6.042789\n",
      "15670346    5.496290\n",
      "15670347    6.480557\n",
      "15670348    4.417103\n",
      "15670349    8.377167\n",
      "15670350    6.828327\n",
      "15670351    6.906891\n",
      "15670352    6.135453\n",
      "15670353    6.190722\n",
      "15670354    6.862870\n",
      "15670355    5.962038\n",
      "15670356    7.351028\n",
      "15670357    7.305606\n",
      "15670358    5.955476\n",
      "15670359    6.491853\n",
      "15670360    5.851499\n",
      "15670361    5.687453\n",
      "15670362    7.814422\n",
      "15670363    5.584963\n",
      "15670364    5.418173\n",
      "15670365    6.731998\n",
      "15670366    7.472813\n",
      "15670367    6.643712\n",
      "15670368    6.149544\n",
      "Length: 15670369, dtype: float64\n"
     ]
    }
   ],
   "source": [
    "print(price_data)"
   ]
  },
  {
   "cell_type": "code",
   "execution_count": 14,
   "metadata": {},
   "outputs": [
    {
     "data": {
      "text/plain": [
       "(array([0.00169982, 0.00344269, 0.00767549, 0.01468453, 0.02475322,\n",
       "        0.04406861, 0.08609355, 0.1855032 , 0.32239175, 0.43749146,\n",
       "        0.53405946, 0.47960653, 0.33336594, 0.20989187, 0.11037285,\n",
       "        0.04944433, 0.01812063, 0.00535172, 0.00187092, 0.00077013]),\n",
       " array([3.00001803, 3.34837014, 3.69672224, 4.04507434, 4.39342644,\n",
       "        4.74177854, 5.09013065, 5.43848275, 5.78683485, 6.13518695,\n",
       "        6.48353905, 6.83189116, 7.18024326, 7.52859536, 7.87694746,\n",
       "        8.22529956, 8.57365166, 8.92200377, 9.27035587, 9.61870797,\n",
       "        9.96706007]),\n",
       " <a list of 20 Patch objects>)"
      ]
     },
     "execution_count": 14,
     "metadata": {},
     "output_type": "execute_result"
    },
    {
     "data": {
      "image/png": "[encoded data removed]",
      "text/plain": [
       "<Figure size 432x288 with 1 Axes>"
      ]
     },
     "metadata": {
      "needs_background": "light"
     },
     "output_type": "display_data"
    }
   ],
   "source": [
    "plt.hist(price_data, bins=20, color = 'blue',alpha=0.5,rwidth= 0.8, density=True)"
   ]
  },
  {
   "cell_type": "code",
   "execution_count": 13,
   "metadata": {},
   "outputs": [
    {
     "name": "stdout",
     "output_type": "stream",
     "text": [
      "0.0\n",
      "The null hypothesis can be rejected\n"
     ]
    }
   ],
   "source": [
    "scipy_stats_normaltest(price_data)"
   ]
  },
  {
   "cell_type": "code",
   "execution_count": 7,
   "metadata": {},
   "outputs": [],
   "source": [
    "\n",
    "mean = price_data.mean()\n",
    "# 标准差\n",
    "std = price_data.std()\n",
    "\n",
    "# x的范围为 (0-3000，以1为单位,需x根据范围调试\n",
    "x = np.arange(3, 10, 1)\n",
    "\n",
    "# x数对应的概率密度\n",
    "# y = normfun(x, mean, std)\n",
    "y = stats.norm.pdf(x, mean, std)"
   ]
  },
  {
   "cell_type": "code",
   "execution_count": 10,
   "metadata": {},
   "outputs": [
    {
     "name": "stdout",
     "output_type": "stream",
     "text": [
      "0.0\n",
      "The null hypothesis can be rejected\n"
     ]
    }
   ],
   "source": [
    "scipy_stats_normaltest(price_data)"
   ]
  },
  {
   "cell_type": "code",
   "execution_count": 8,
   "metadata": {},
   "outputs": [
    {
     "name": "stdout",
     "output_type": "stream",
     "text": [
      "[2.73617599e-05 2.74594525e-03 6.41910929e-02 3.49536648e-01\n",
      " 4.43348981e-01 1.30988680e-01 9.01481594e-03]\n"
     ]
    }
   ],
   "source": [
    "print(y)"
   ]
  },
  {
   "cell_type": "code",
   "execution_count": null,
   "metadata": {},
   "outputs": [],
   "source": []
  }
 ],
 "metadata": {
  "kernelspec": {
   "display_name": "Python [conda env:python3.7.3_dev] *",
   "language": "python",
   "name": "conda-env-python3.7.3_dev-py"
  },
  "language_info": {
   "codemirror_mode": {
    "name": "ipython",
    "version": 3
   },
   "file_extension": ".py",
   "mimetype": "text/x-python",
   "name": "python",
   "nbconvert_exporter": "python",
   "pygments_lexer": "ipython3",
   "version": "3.7.3"
  }
 },
 "nbformat": 4,
 "nbformat_minor": 2
}
