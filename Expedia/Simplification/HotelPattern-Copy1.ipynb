{
 "cells": [
  {
   "cell_type": "code",
   "execution_count": 2,
   "metadata": {
    "execution": {
     "iopub.execute_input": "2021-01-29T10:06:12.433455Z",
     "iopub.status.busy": "2021-01-29T10:06:12.433364Z",
     "iopub.status.idle": "2021-01-29T10:06:14.529457Z",
     "shell.execute_reply": "2021-01-29T10:06:14.529352Z",
     "shell.execute_reply.started": "2021-01-29T10:06:12.433442Z"
    }
   },
   "outputs": [],
   "source": [
    "import re\n",
    "import pandas as pd\n",
    "import numpy as np\n",
    "from sklearn.preprocessing import MultiLabelBinarizer\n",
    "from sklearn.preprocessing import MinMaxScaler\n",
    "from sklearn.preprocessing import StandardScaler\n",
    "from sklearn.cluster import DBSCAN\n",
    "import scipy.spatial.distance as dis\n",
    "from scipy.ndimage import filters\n",
    "from scipy.sparse import csgraph\n",
    "from scipy.sparse import csr_matrix\n",
    "from scipy import stats\n",
    "import matplotlib.pyplot as plt, seaborn\n",
    "from io import StringIO\n",
    "import cProfile\n",
    "import os\n",
    "import logging\n",
    "import glob"
   ]
  },
  {
   "cell_type": "code",
   "execution_count": 3,
   "metadata": {
    "execution": {
     "iopub.execute_input": "2021-01-29T10:06:20.852939Z",
     "iopub.status.busy": "2021-01-29T10:06:20.852840Z",
     "iopub.status.idle": "2021-01-29T10:07:18.952000Z",
     "shell.execute_reply": "2021-01-29T10:07:18.951670Z",
     "shell.execute_reply.started": "2021-01-29T10:06:20.852922Z"
    }
   },
   "outputs": [],
   "source": [
    "logger = logging.getLogger()\n",
    "#     CRITICAL\n",
    "#     ERROR\n",
    "#     WARNING\n",
    "#     INFO\n",
    "#     DEBUG\n",
    "logging.disable(logging.DEBUG);\n",
    "logging.Formatter('[%(asctime)s] [%(levelname)s] %(message)s', '%Y-%m-%d %H:%M:%S')\n",
    "\n",
    "DATAVERSION = 2\n",
    "HotelID = 16639\n",
    "RATEPLANLEVEL = 0\n",
    "LOS = 1\n",
    "PERSONCNT = 2\n",
    "\n",
    "# HOME_FOLDER = '/Users/xyao/Library/Mobile Documents/com~apple~CloudDocs/JupyterHome/Simplification/'\n",
    "HOME_FOLDER = './'\n",
    "INPUT_FOLDER2 = './Data{}/'.format(DATAVERSION)\n",
    "INPUT_FOLDER = './Data/'\n",
    "OUTPUT_FOLDER = './Result/MINE2/'\n",
    "os.chdir(HOME_FOLDER)\n",
    "\n",
    "Observes = ['CostAmt','PriceAmt','LARAmt','LARMarginAmt','LARTaxesAndFeesAmt']\n",
    "\n",
    "read_data_rt = pd.read_csv(INPUT_FOLDER+'dbo_RoomType_NoIdent.csv', encoding='utf-8', sep=',', engine='python', header=0).fillna(0)\n",
    "read_data_rt = read_data_rt[['SKUGroupID','RoomTypeID','ActiveStatusTypeID']]\n",
    "\n",
    "read_data_rt = read_data_rt.loc[read_data_rt['ActiveStatusTypeID']==2]\n",
    "\n",
    "read_data_rt.drop(['ActiveStatusTypeID'], axis=1, inplace=True)\n",
    "logger.debug(read_data_rt.head(10))\n",
    "read_data_rt = read_data_rt.loc[read_data_rt['SKUGroupID'].isin([HotelID])]\n",
    "\n",
    "read_data_rp = pd.read_csv(INPUT_FOLDER+'dbo_RatePlan_NoIdent.csv', sep=',', engine='python', header=0).fillna(0)\n",
    "read_data_rp = read_data_rp.loc[(read_data_rp['ActiveStatusTypeID']==2) \\\n",
    "                                & (read_data_rp['RoomTypeID'].isin(read_data_rt['RoomTypeID']))][['RatePlanID']]\n",
    "\n",
    "read_data = pd.read_csv(INPUT_FOLDER2+str(HotelID)+'_RatePlanLevelCostPrice.csv.zip', sep=',', engine='python', header=0).fillna(0)\n",
    "read_data = read_data.loc[read_data['RatePlanID'].isin(read_data_rp['RatePlanID'])]\n",
    "\n",
    "logger.debug(read_data)\n",
    "\n",
    "#     RatePlanID,StayDate,RatePlanLevel,PersonCnt,LengthOfStayDayCnt,ActiveStatusTypeID,\n",
    "#     RatePlanLevelCostPriceLogSeqNbr,CostAmt,PriceAmt,CostCode,ChangeRequestIDOld,\n",
    "#     SupplierUpdateDate,SupplierUpdateTPID,SupplierUpdateTUID,UpdateDate,SupplierLogSeqNbr,\n",
    "#     ChangeRequestID,LARAmt,LARMarginAmt,LARTaxesAndFeesAmt\n",
    "\n",
    "read_data.drop(['ActiveStatusTypeID','RatePlanLevelCostPriceLogSeqNbr','ChangeRequestIDOld'], axis=1, inplace=True)\n",
    "read_data.drop(['SupplierUpdateDate','SupplierUpdateTPID','SupplierUpdateTUID'], axis=1, inplace=True)\n",
    "read_data.drop(['UpdateDate','SupplierLogSeqNbr','ChangeRequestID'], axis=1, inplace=True)\n",
    "\n",
    "read_data=read_data.loc[(read_data['RatePlanLevel']==RATEPLANLEVEL) & (read_data['LengthOfStayDayCnt']==LOS) \n",
    "             & (read_data['PersonCnt']==PERSONCNT)]\n",
    "\n",
    "read_data.drop(['RatePlanLevel','LengthOfStayDayCnt','PersonCnt'], axis=1, inplace=True)\n",
    "\n",
    "df_cdist = pd.DataFrame()"
   ]
  },
  {
   "cell_type": "code",
   "execution_count": 6,
   "metadata": {
    "execution": {
     "iopub.execute_input": "2021-01-29T10:09:40.106179Z",
     "iopub.status.busy": "2021-01-29T10:09:40.106068Z",
     "iopub.status.idle": "2021-01-29T10:09:40.109844Z",
     "shell.execute_reply": "2021-01-29T10:09:40.109600Z",
     "shell.execute_reply.started": "2021-01-29T10:09:40.106163Z"
    }
   },
   "outputs": [
    {
     "ename": "SyntaxError",
     "evalue": "invalid syntax (<string>, line 1)",
     "output_type": "error",
     "traceback": [
      "\u001b[0;31m---------------------------------------------------------------------------\u001b[0m\n\u001b[0;31mSyntaxError\u001b[0m                               Traceback (most recent call last)",
      "File \u001b[0;34m/Users/hiCore/miniconda3/envs/python3.7.3_dev/lib/python3.7/ast.py\u001b[0m, in \u001b[0;32mparse\u001b[0m:\nLine \u001b[0;34m35\u001b[0m:    \u001b[34mreturn\u001b[39;49;00m \u001b[36mcompile\u001b[39;49;00m(source, filename, mode, PyCF_ONLY_AST)\n",
      "\u001b[0;31mSyntaxError\u001b[0m: invalid syntax (<string>, line 1)\n\u001b[0;31m---------------------------------------------------------------------------\u001b[0m"
     ]
    }
   ],
   "source": [
    "Observe = 'CostAmt':\n",
    "\n",
    "read_data['z_score']=stats.zscore(read_data[Observe])\n",
    "print(read_data.head(20))\n",
    "read_data=read_data.loc[read_data['z_score'].abs()<=3]\n",
    "read_data_gp = read_data[['StayDate',Observe,'RatePlanID']].groupby(['RatePlanID'],sort=False)\n",
    "df_corr = pd.DataFrame()\n",
    "\n",
    "for name, group in read_data_gp:\n",
    "    group.reset_index(drop=True,inplace=True)\n",
    "    df_corr[name]=group.set_index('StayDate')[Observe]\n",
    "\n",
    "# https://blog.csdn.net/walking_visitor/article/details/85128461\n",
    "# 默认使用 pearson 相关系数计算方法，但这种方式存在误判\n",
    "df_corr = df_corr.corr()\n",
    "np.fill_diagonal(df_corr.values, 0)\n",
    "\n",
    "#df_corr = df_corr.mask(df_corr<0.95)\n",
    "#plt.figure(figsize=(18, 7))\n",
    "#seaborn.heatmap(df_corr, center=0, annot=True, cmap='YlGnBu')\n",
    "\n",
    "graph = csr_matrix(df_corr >= 0.95)\n",
    "n, labels = csgraph.connected_components(graph)\n",
    "\n",
    "output_df = pd.DataFrame(columns=['GroupID', 'RatePlanID'])\n",
    "\n",
    "print ('{}/{}'.format(n,len(read_data_gp.ngroup())))"
   ]
  },
  {
   "cell_type": "code",
   "execution_count": null,
   "metadata": {},
   "outputs": [],
   "source": [
    "special_values = ['260281795','260281938','260282083','260282084','260281796']\n",
    "for i in range(n):\n",
    "\n",
    "    nodes = df_corr.index[np.where(labels==i)]\n",
    "\n",
    "    if(nodes.values.isin(special_values)):\n",
    "        read_data.loc[(read_data['RatePlanID'].isin(special_values))].groupby(['StayDate','RatePlanID']).sum()[Observe].unstack().plot(ax=ax)\n",
    "\n",
    "    df_cdist = df_cdist.append([[Observe,i,nodes.values]],ignore_index=True)\n",
    "\n",
    "    fig, ax = plt.subplots(figsize=(18,7))\n",
    "\n",
    "    read_data.loc[(read_data['RatePlanID'].isin(nodes))].groupby(['StayDate','RatePlanID']).sum()[Observe].unstack().plot(ax=ax)\n",
    "\n",
    "\n",
    "df_cdist.columns = ['Observe','GroupID','Group']\n",
    "\n",
    "df_cdist.to_csv('{}{}_patterngroup.csv'.format(OUTPUT_FOLDER,HotelID), index=False)\n",
    "\n",
    "plt.show()\n",
    "plt.close()"
   ]
  },
  {
   "cell_type": "code",
   "execution_count": null,
   "metadata": {},
   "outputs": [],
   "source": [
    "from sklearn import preprocessing\n",
    "from pandas.core.common import flatten\n",
    "\n",
    "XA = df_cdist.loc[df_cdist['Observe']=='CostAmt']['Group'].to_numpy()    \n",
    "\n",
    "for Observe in Observes:\n",
    "\n",
    "    if Observe=='CostAmt':\n",
    "        continue\n",
    "        \n",
    "    XB = df_cdist.loc[df_cdist['Observe']==Observe]['Group'].to_numpy()\n",
    "    \n",
    "    mlb = preprocessing.MultiLabelBinarizer()\n",
    "\n",
    "    mlb.fit([flatten(XA),flatten(XB)])\n",
    "\n",
    "    XA = mlb.transform(XA)\n",
    "    XB = mlb.transform(XB)\n",
    "\n",
    "    d = dis.cdist(XA, XB, 'cosine')\n",
    "\n",
    "    df = pd.DataFrame(d)\n",
    "    df = df.mask(df<0.5,0)\n",
    "    \n",
    "    print (Observe)\n",
    "    print (df)\n",
    "    \n",
    "    #plt.figure(figsize=(18, 7))\n",
    "    #seaborn.heatmap(df, center=0, annot=True, cmap='YlGnBu')\n",
    "    \n",
    "    XA = df_cdist.loc[df_cdist['Observe']=='CostAmt']['Group'].to_numpy()\n",
    "\n",
    "#plt.show()\n",
    "\n",
    "# print(mlb.inverse_transform(XA[0].reshape(1,-1)))\n",
    "# print(mlb.inverse_transform(XB[0].reshape(1,-1)))\n",
    "\n",
    "# print(mlb.inverse_transform(XA[1].reshape(1,-1)))\n",
    "# print(mlb.inverse_transform(XB[1].reshape(1,-1)))\n",
    "\n",
    "print(df)\n",
    "\n"
   ]
  },
  {
   "cell_type": "code",
   "execution_count": null,
   "metadata": {},
   "outputs": [],
   "source": []
  }
 ],
 "metadata": {
  "kernelspec": {
   "display_name": "Python [conda env:python3.7.3_dev] *",
   "language": "python",
   "name": "conda-env-python3.7.3_dev-xpython"
  },
  "language_info": {
   "file_extension": ".py",
   "mimetype": "text/x-python",
   "name": "python",
   "version": "3.7.9"
  },
  "toc-showcode": false,
  "toc-showmarkdowntxt": false,
  "widgets": {
   "application/vnd.jupyter.widget-state+json": {
    "state": {},
    "version_major": 2,
    "version_minor": 0
   }
  }
 },
 "nbformat": 4,
 "nbformat_minor": 4
}
