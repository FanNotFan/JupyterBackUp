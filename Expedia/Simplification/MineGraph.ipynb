{
 "cells": [
  {
   "cell_type": "code",
   "execution_count": 114,
   "metadata": {},
   "outputs": [],
   "source": [
    "import re\n",
    "import pandas as pd\n",
    "import numpy as np\n",
    "from sklearn.preprocessing import MultiLabelBinarizer\n",
    "from sklearn.preprocessing import MinMaxScaler\n",
    "from sklearn.preprocessing import StandardScaler\n",
    "import scipy.spatial.distance as dis\n",
    "from scipy.ndimage import filters\n",
    "import matplotlib.pyplot as plt\n",
    "from io import StringIO\n",
    "import cProfile\n",
    "import os\n",
    "import logging\n",
    "import glob"
   ]
  },
  {
   "cell_type": "code",
   "execution_count": 115,
   "metadata": {},
   "outputs": [],
   "source": [
    "def parsedetail(read_data_graph):\n",
    "# CostCodeDefault          SESEXP => LESEQK\n",
    "# CostCodeDefaultAgency    SESXR1 => LESEQY\n",
    "\n",
    "    i=0\n",
    "\n",
    "    for index, row in read_data_graph.iterrows():\n",
    "        detail = row['detail']\n",
    "        i1 = detail.count(\"CostCodeDefault\")\n",
    "        i2 = detail.count(os.linesep)+1\n",
    "        if i1==i2 :\n",
    "            i+=1\n",
    "            \n",
    "    df = read_data_graph['root']\n",
    "    df = df.append (read_data_graph['child'])\n",
    "    \n",
    "    return df.nunique(), i\n",
    "            "
   ]
  },
  {
   "cell_type": "code",
   "execution_count": 116,
   "metadata": {},
   "outputs": [
    {
     "name": "stdout",
     "output_type": "stream",
     "text": [
      "   SKUGroupID RoomTypeID  RatePlanCount  CodeCount\n",
      "0     6416530  202379601             13          4\n",
      "0    45976006  216150366             14          5\n",
      "0     1155964  200260215             14          3\n",
      "0      281536  216035394             15          6\n",
      "0      281536  216035384             15          6\n",
      "..        ...        ...            ...        ...\n",
      "0     6257605  201135599             12          2\n",
      "0     6257605  201135589             12          2\n",
      "0      281536  216035381             15          6\n",
      "0     6257605  200311359             12          2\n",
      "0       12079  200263013             22         14\n",
      "\n",
      "[269 rows x 4 columns]\n",
      "Sampled 15 Hotels, 269 Rooms, 4647 Rateplans\n",
      "Total 2106 (45.3%) RatePlan have code change only\n"
     ]
    }
   ],
   "source": [
    "def main():\n",
    "    \n",
    "    os.chdir(HOME_FOLDER)\n",
    "    extension = 'csv'\n",
    "    files = glob.glob(INPUT_FOLDER+'*.{}'.format(extension))\n",
    "    \n",
    "    logger.debug(files)\n",
    "    \n",
    "    rpt = pd.DataFrame()\n",
    "    \n",
    "    for file in files:\n",
    "        read_data_graph = pd.read_csv(file, encoding='utf-8', sep=',', engine='python', header=0).fillna(0)\n",
    "        ids = os.path.basename(file).split(\"_\")\n",
    "        i, j = parsedetail(read_data_graph)\n",
    "        saving2 = pd.DataFrame([[ids[0],ids[1],i,j]])\n",
    "        rpt = rpt.append(saving2)\n",
    "    \n",
    "    rpt.columns=['SKUGroupID','RoomTypeID','RatePlanCount','CodeCount']\n",
    " \n",
    "    top15 = rpt.groupby('SKUGroupID')['RatePlanCount'].sum().nlargest(15)\n",
    "    \n",
    "    rpt=rpt[rpt['SKUGroupID'].isin(top15.index)]\n",
    "    \n",
    "    print(rpt)\n",
    "    \n",
    "    print ('Sampled {} Hotels, {} Rooms, {} Rateplans'.format(rpt['SKUGroupID'].nunique(),rpt['RoomTypeID'].nunique(),rpt['RatePlanCount'].sum()))\n",
    "    print ('Total {} ({:.1%}) RatePlan have code change only'.format(rpt['CodeCount'].sum(),rpt['CodeCount'].sum()/rpt['RatePlanCount'].sum()))\n",
    "    \n",
    "    rpt.to_csv((OUTPUT_FOLDER+'stats.csv'))\n",
    "\n",
    "\n",
    "# end of main\n",
    "\n",
    "logger = logging.getLogger()\n",
    "#     CRITICAL\n",
    "#     ERROR\n",
    "#     WARNING\n",
    "#     INFO\n",
    "#     DEBUG\n",
    "logging.disable(logging.DEBUG);\n",
    "\n",
    "HOME_FOLDER = '/Users/xyao/Library/Mobile Documents/com~apple~CloudDocs/JupyterHome/Simplification/'\n",
    "INPUT_FOLDER = './Result/DAG/'\n",
    "OUTPUT_FOLDER = './Result/MINE/'\n",
    "\n",
    "if __name__ == '__main__':\n",
    "    main()"
   ]
  },
  {
   "cell_type": "code",
   "execution_count": null,
   "metadata": {},
   "outputs": [],
   "source": []
  }
 ],
 "metadata": {
  "kernelspec": {
   "display_name": "Python 3",
   "language": "python",
   "name": "python3"
  },
  "language_info": {
   "codemirror_mode": {
    "name": "ipython",
    "version": 3
   },
   "file_extension": ".py",
   "mimetype": "text/x-python",
   "name": "python",
   "nbconvert_exporter": "python",
   "pygments_lexer": "ipython3",
   "version": "3.8.2"
  }
 },
 "nbformat": 4,
 "nbformat_minor": 4
}
